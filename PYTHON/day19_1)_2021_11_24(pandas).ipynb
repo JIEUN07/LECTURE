{
  "nbformat": 4,
  "nbformat_minor": 0,
  "metadata": {
    "colab": {
      "name": "day19_1) 2021-11-24(pandas).ipynb",
      "provenance": [],
      "collapsed_sections": []
    },
    "kernelspec": {
      "name": "python3",
      "display_name": "Python 3"
    },
    "language_info": {
      "name": "python"
    }
  },
  "cells": [
    {
      "cell_type": "code",
      "metadata": {
        "id": "ERY9sRncfIRi"
      },
      "source": [
        "import numpy as np\n",
        "import pandas as pd"
      ],
      "execution_count": null,
      "outputs": []
    },
    {
      "cell_type": "markdown",
      "metadata": {
        "id": "HgTQqgN5gXaw"
      },
      "source": [
        "# 행 삭제"
      ]
    },
    {
      "cell_type": "code",
      "metadata": {
        "colab": {
          "base_uri": "https://localhost:8080/"
        },
        "id": "x6saiqnVfKfJ",
        "outputId": "279fee27-5455-410c-c400-8787673cae14"
      },
      "source": [
        "# 인덱스가 1인 행 삭제\n",
        "df = pd.DataFrame(\n",
        "    {\"AAA\":[4,5,6,7],\n",
        "     \"BBB\":[10,20,30,40],\n",
        "     \"CCC\":[100,50,-30,-50]})\n",
        "\n",
        "print(df)\n",
        "\n",
        "# 원데이터 프레임에 적용하기\n",
        "df.drop(1, inplace=True)\n",
        "\n",
        "# 복사후 새로운 데이터프레임에 적용하기\n",
        "new_df = df.drop(1)\n",
        "print(df)\n",
        "print(new_df)"
      ],
      "execution_count": null,
      "outputs": [
        {
          "output_type": "stream",
          "name": "stdout",
          "text": [
            "   AAA  BBB  CCC\n",
            "0    4   10  100\n",
            "1    5   20   50\n",
            "2    6   30  -30\n",
            "3    7   40  -50\n",
            "   AAA  BBB  CCC\n",
            "0    4   10  100\n",
            "1    5   20   50\n",
            "2    6   30  -30\n",
            "3    7   40  -50\n",
            "   AAA  BBB  CCC\n",
            "0    4   10  100\n",
            "2    6   30  -30\n",
            "3    7   40  -50\n"
          ]
        }
      ]
    },
    {
      "cell_type": "code",
      "metadata": {
        "id": "6Ruji2fIfKhh"
      },
      "source": [
        "# 인덱스가 1, 3 인 행 삭제\n",
        "df = pd.DataFrame(\n",
        "    {\"AAA\":[4,5,6,7],\n",
        "     \"BBB\":[10,20,30,40],\n",
        "     \"CCC\":[100,50,-30,-50]})\n",
        "\n",
        "df.drop([1,3], inplace=True)\n",
        "print(df)"
      ],
      "execution_count": null,
      "outputs": []
    },
    {
      "cell_type": "code",
      "metadata": {
        "colab": {
          "base_uri": "https://localhost:8080/"
        },
        "id": "TxsbyP4efKj6",
        "outputId": "ad002b37-e99c-433a-92a0-5eaac58eacea"
      },
      "source": [
        "# AAA 컬럼의 값이 짝수인 것의 인덱스 출력하기\n",
        "df = pd.DataFrame(\n",
        "    {\"AAA\":[4,5,6,7],\n",
        "     \"BBB\":[10,20,30,40],\n",
        "     \"CCC\":[100,50,-30,-50]})\n",
        "\n",
        "target_index = df.loc[df['AAA']%2==0].index\n",
        "print(target_index)\n",
        "df.drop(target_index, inplace = True)"
      ],
      "execution_count": null,
      "outputs": [
        {
          "output_type": "stream",
          "name": "stdout",
          "text": [
            "Int64Index([0, 2], dtype='int64')\n"
          ]
        }
      ]
    },
    {
      "cell_type": "code",
      "metadata": {
        "colab": {
          "base_uri": "https://localhost:8080/"
        },
        "id": "erHDk7N0fKma",
        "outputId": "b342eefd-cc2f-4921-a817-e12d371da981"
      },
      "source": [
        "# 이름이 비어있는 행 삭제하기\n",
        "# 공백 != null\n",
        "df = pd.DataFrame(\n",
        "    {\"AAA\":[\"철수\", \"영희\", \"tom\", \"\"],\n",
        "     \"BBB\":[10,20,30,40],\n",
        "     \"CCC\":[100,50,-30,-50]})\n",
        "print(df)\n",
        "print('='*15)\n",
        "\n",
        "target_index = df.loc[df['AAA']==''].index\n",
        "print(target_index)\n",
        "df.drop(target_index, inplace = True)\n",
        "print(df)"
      ],
      "execution_count": null,
      "outputs": [
        {
          "output_type": "stream",
          "name": "stdout",
          "text": [
            "   AAA  BBB  CCC\n",
            "0   철수   10  100\n",
            "1   영희   20   50\n",
            "2  tom   30  -30\n",
            "3        40  -50\n",
            "===============\n",
            "Int64Index([3], dtype='int64')\n",
            "   AAA  BBB  CCC\n",
            "0   철수   10  100\n",
            "1   영희   20   50\n",
            "2  tom   30  -30\n"
          ]
        }
      ]
    },
    {
      "cell_type": "code",
      "metadata": {
        "colab": {
          "base_uri": "https://localhost:8080/"
        },
        "id": "CC1ddVGKfKo5",
        "outputId": "fd96e948-000a-4120-9c8b-0aa79795c9dd"
      },
      "source": [
        "# sort\n",
        "df = pd.DataFrame(\n",
        "    {\"AAA\":[\"철수\", \"영희\", \"tom\", \"\"],\n",
        "     \"BBB\":[10,35,30,25],\n",
        "     \"CCC\":[100,50,-30,-50]})\n",
        "print(df)\n",
        "print('='*15)\n",
        "\n",
        "# sort된 새로운 데이터 프레임을 반환\n",
        "print(df.sort_values(by='BBB'))\n",
        "print(df)\n",
        "\n",
        "# 원 데이터프레임에 sort를 반환\n",
        "print(df.sort_values(by='BBB', inplace=True))"
      ],
      "execution_count": null,
      "outputs": [
        {
          "output_type": "stream",
          "name": "stdout",
          "text": [
            "   AAA  BBB  CCC\n",
            "0   철수   10  100\n",
            "1   영희   35   50\n",
            "2  tom   30  -30\n",
            "3        25  -50\n",
            "===============\n",
            "   AAA  BBB  CCC\n",
            "0   철수   10  100\n",
            "3        25  -50\n",
            "2  tom   30  -30\n",
            "1   영희   35   50\n",
            "   AAA  BBB  CCC\n",
            "0   철수   10  100\n",
            "1   영희   35   50\n",
            "2  tom   30  -30\n",
            "3        25  -50\n",
            "None\n"
          ]
        }
      ]
    },
    {
      "cell_type": "code",
      "metadata": {
        "colab": {
          "base_uri": "https://localhost:8080/"
        },
        "id": "9FY3zI9gfKrS",
        "outputId": "71647963-e139-4c2a-be8d-8bfaac7390dc"
      },
      "source": [
        "# sort를 여러행에 주기 (by = [리스트])\n",
        "df = pd.DataFrame(\n",
        "    {\"AAA\":[\"철수\", \"영희\", \"tom\", \"\"],\n",
        "     \"BBB\":[10,30,30,25],\n",
        "     \"CCC\":[100,50,-30,-50]})\n",
        "print(df)\n",
        "print('='*15)\n",
        "\n",
        "print(df.sort_values(by=['BBB','CCC'], inplace=True))\n",
        "print(df)"
      ],
      "execution_count": null,
      "outputs": [
        {
          "output_type": "stream",
          "name": "stdout",
          "text": [
            "   AAA  BBB  CCC\n",
            "0   철수   10  100\n",
            "1   영희   30   50\n",
            "2  tom   30  -30\n",
            "3        25  -50\n",
            "===============\n",
            "None\n",
            "   AAA  BBB  CCC\n",
            "0   철수   10  100\n",
            "3        25  -50\n",
            "2  tom   30  -30\n",
            "1   영희   30   50\n"
          ]
        }
      ]
    },
    {
      "cell_type": "code",
      "metadata": {
        "colab": {
          "base_uri": "https://localhost:8080/"
        },
        "id": "0HE0nt_BkrNQ",
        "outputId": "6bfae5d7-75b6-48f0-e7bc-83b31d8b9a4e"
      },
      "source": [
        "# CCC 컬럼의 절대값 출력하기\n",
        "df = pd.DataFrame(\n",
        "    {\"AAA\":[\"철수\", \"영희\", \"tom\", \"\"],\n",
        "     \"BBB\":[10,35,30,25],\n",
        "     \"CCC\":[100,50,-30,-50]})\n",
        "print(df)\n",
        "print('='*15)\n",
        "\n",
        "print(df.CCC.abs())\n",
        "# sort\n",
        "print(df.CCC.abs().sort_values())\n",
        "# 상위 3개 인덱스행 출력\n",
        "print(df.CCC.abs().sort_values().iloc[0:3])\n",
        "\n",
        "\n",
        "# 10과 CCC 컬럼의 차이 출력하기\n",
        "print((df.CCC-10).abs())\n",
        "# 위 결과 sort\n",
        "print((df.CCC-10).abs().sort_values())\n",
        "# 10과 가까운 순서의 인덱스 출력\n",
        "print((df.CCC-10).abs().sort_values().index)\n",
        "# CCC컬럼에서 10과 가까운 순서대로 출력된 데이터프레임\n",
        "print((df.loc[(df.CCC-10).abs().sort_values().index]))\n",
        "# 같은 결과\n",
        "print(df.loc[(df.CCC-10).abs().argsort()])"
      ],
      "execution_count": null,
      "outputs": [
        {
          "output_type": "stream",
          "name": "stdout",
          "text": [
            "   AAA  BBB  CCC\n",
            "0   철수   10  100\n",
            "1   영희   35   50\n",
            "2  tom   30  -30\n",
            "3        25  -50\n",
            "===============\n",
            "0    100\n",
            "1     50\n",
            "2     30\n",
            "3     50\n",
            "Name: CCC, dtype: int64\n",
            "2     30\n",
            "1     50\n",
            "3     50\n",
            "0    100\n",
            "Name: CCC, dtype: int64\n",
            "2    30\n",
            "1    50\n",
            "3    50\n",
            "Name: CCC, dtype: int64\n",
            "0    90\n",
            "1    40\n",
            "2    40\n",
            "3    60\n",
            "Name: CCC, dtype: int64\n",
            "1    40\n",
            "2    40\n",
            "3    60\n",
            "0    90\n",
            "Name: CCC, dtype: int64\n",
            "Int64Index([1, 2, 3, 0], dtype='int64')\n",
            "   AAA  BBB  CCC\n",
            "1   영희   35   50\n",
            "2  tom   30  -30\n",
            "3        25  -50\n",
            "0   철수   10  100\n",
            "   AAA  BBB  CCC\n",
            "1   영희   35   50\n",
            "2  tom   30  -30\n",
            "3        25  -50\n",
            "0   철수   10  100\n"
          ]
        }
      ]
    },
    {
      "cell_type": "code",
      "metadata": {
        "colab": {
          "base_uri": "https://localhost:8080/"
        },
        "id": "hGQc0yEgnWlv",
        "outputId": "8d9ad48b-f0e4-4d94-8c95-5a8942eef861"
      },
      "source": [
        "a = np.array([1,3,5,2,4])\n",
        "# arg~() 인덱스 출력\n",
        "print(np.argmax(a))\n",
        "print(np.argsort(a))"
      ],
      "execution_count": null,
      "outputs": [
        {
          "output_type": "stream",
          "name": "stdout",
          "text": [
            "2\n",
            "[0 3 1 4 2]\n"
          ]
        }
      ]
    },
    {
      "cell_type": "markdown",
      "metadata": {
        "id": "aFBUElOAsfgT"
      },
      "source": [
        "# category"
      ]
    },
    {
      "cell_type": "code",
      "metadata": {
        "colab": {
          "base_uri": "https://localhost:8080/"
        },
        "id": "EJ_4qIR7oELI",
        "outputId": "b1587cc8-fed6-4483-902f-eb5d79c972ad"
      },
      "source": [
        "df = pd.DataFrame(\n",
        "    {\"num\": [0,1,2,3,4,5,6,7,8,9],\n",
        "     \"name\": [\"A\",\"A\",\"B\",\"B\",\"C\",\"C\",\"A\",\"A\",\"B\",\"B\"]})\n",
        "print(df)\n",
        "print('='*15)\n",
        "\n",
        "# 새로운 name_category열 만들기\n",
        "# category는 처음 나오는 지정되어 나옴\n",
        "# df['name_category'] = df['name'].astype('category').cat.codes\n",
        "# print(df)\n",
        "# print(df.info())\n",
        "\n",
        "# 기존 열에 덮어씌우기\n",
        "df['name'] = df['name'].astype('category').cat.codes\n",
        "print(df)"
      ],
      "execution_count": null,
      "outputs": [
        {
          "output_type": "stream",
          "name": "stdout",
          "text": [
            "   num name\n",
            "0    0    A\n",
            "1    1    A\n",
            "2    2    B\n",
            "3    3    B\n",
            "4    4    C\n",
            "5    5    C\n",
            "6    6    A\n",
            "7    7    A\n",
            "8    8    B\n",
            "9    9    B\n",
            "===============\n",
            "   num  name\n",
            "0    0     0\n",
            "1    1     0\n",
            "2    2     1\n",
            "3    3     1\n",
            "4    4     2\n",
            "5    5     2\n",
            "6    6     0\n",
            "7    7     0\n",
            "8    8     1\n",
            "9    9     1\n"
          ]
        }
      ]
    },
    {
      "cell_type": "code",
      "metadata": {
        "colab": {
          "base_uri": "https://localhost:8080/"
        },
        "id": "vqs5vxBLoEOD",
        "outputId": "d4406237-94c5-4815-c700-9f38d98ea2bd"
      },
      "source": [
        "df = pd.DataFrame(\n",
        "    {\"num\": [0,1,2,3,4,5,6,7,8,9],\n",
        "     \"name\": [\"A\",\"A\",\"B\",\"B\",\"C\",\"C\",\"A\",\"A\",\"B\",\"B\"]})\n",
        "print(df)\n",
        "print('='*15)\n",
        "\n",
        "# 카테고리를 미리 지정한 뒤 새로운 열을 만들어줌\n",
        "categories = [\"C\",\"A\",\"B\"]\n",
        "df['name_category'] = pd.Categorical(df['name'],\n",
        "                                     categories = categories, ordered = True).codes\n",
        "print(df)"
      ],
      "execution_count": null,
      "outputs": [
        {
          "output_type": "stream",
          "name": "stdout",
          "text": [
            "   num name\n",
            "0    0    A\n",
            "1    1    A\n",
            "2    2    B\n",
            "3    3    B\n",
            "4    4    C\n",
            "5    5    C\n",
            "6    6    A\n",
            "7    7    A\n",
            "8    8    B\n",
            "9    9    B\n",
            "===============\n",
            "   num name  name_category\n",
            "0    0    A              1\n",
            "1    1    A              1\n",
            "2    2    B              2\n",
            "3    3    B              2\n",
            "4    4    C              0\n",
            "5    5    C              0\n",
            "6    6    A              1\n",
            "7    7    A              1\n",
            "8    8    B              2\n",
            "9    9    B              2\n"
          ]
        }
      ]
    },
    {
      "cell_type": "code",
      "metadata": {
        "colab": {
          "base_uri": "https://localhost:8080/"
        },
        "id": "oSRnWvXhoEQh",
        "outputId": "e016b347-1c27-4715-9896-802ea51de40f"
      },
      "source": [
        "df = pd.DataFrame(\n",
        "    {\"num\": [0,1,2,3,4,5,6,7,8,9],\n",
        "     \"name\": [\"A\",\"A\",\"B\",\"B\",\"C\",\"C\",\"A\",\"A\",\"B\",\"B\"]})\n",
        "print(df)\n",
        "print('='*15)\n",
        "\n",
        "# 지정한 카테고리에 없는 데이터가 있더라도 오류나지 않음\n",
        "# 순서(카테고리 이름)에만 영향을 줌\n",
        "categories = [\"D\",\"C\",\"A\",\"B\"]\n",
        "df['name_category'] = pd.Categorical(df['name'],\n",
        "                                     categories = categories, ordered = True).codes\n",
        "print(df)"
      ],
      "execution_count": null,
      "outputs": [
        {
          "output_type": "stream",
          "name": "stdout",
          "text": [
            "   num name\n",
            "0    0    A\n",
            "1    1    A\n",
            "2    2    B\n",
            "3    3    B\n",
            "4    4    C\n",
            "5    5    C\n",
            "6    6    A\n",
            "7    7    A\n",
            "8    8    B\n",
            "9    9    B\n",
            "===============\n",
            "   num name  name_category\n",
            "0    0    A              2\n",
            "1    1    A              2\n",
            "2    2    B              3\n",
            "3    3    B              3\n",
            "4    4    C              1\n",
            "5    5    C              1\n",
            "6    6    A              2\n",
            "7    7    A              2\n",
            "8    8    B              3\n",
            "9    9    B              3\n"
          ]
        }
      ]
    },
    {
      "cell_type": "code",
      "metadata": {
        "colab": {
          "base_uri": "https://localhost:8080/"
        },
        "id": "uWmSzRJjoES6",
        "outputId": "ba0162da-f624-48ab-8755-1db1013ab461"
      },
      "source": [
        "df = pd.DataFrame(\n",
        "    {\"num\": [0,1,2,3,4,5,6,7,8,9],\n",
        "     \"name\": [\"A\",\"A\",\"B\",\"B\",\"C\",\"C\",\"A\",\"A\",\"B\",\"B\"]})\n",
        "print(df)\n",
        "print('='*15)\n",
        "\n",
        "category_map = {\"B\":10, \"C\":11, \"A\":12, \"D\":13}\n",
        "df['name_category'] = df['name'].map(category_map)\n",
        "print(df)"
      ],
      "execution_count": null,
      "outputs": [
        {
          "output_type": "stream",
          "name": "stdout",
          "text": [
            "   num name\n",
            "0    0    A\n",
            "1    1    A\n",
            "2    2    B\n",
            "3    3    B\n",
            "4    4    C\n",
            "5    5    C\n",
            "6    6    A\n",
            "7    7    A\n",
            "8    8    B\n",
            "9    9    B\n",
            "===============\n",
            "   num name  name_category\n",
            "0    0    A             12\n",
            "1    1    A             12\n",
            "2    2    B             10\n",
            "3    3    B             10\n",
            "4    4    C             11\n",
            "5    5    C             11\n",
            "6    6    A             12\n",
            "7    7    A             12\n",
            "8    8    B             10\n",
            "9    9    B             10\n"
          ]
        }
      ]
    },
    {
      "cell_type": "markdown",
      "metadata": {
        "id": "61VCPR3FsmMK"
      },
      "source": [
        "# 결측치 확인\n",
        "- 값이 들어있지 않은 경우\n",
        "- np.nan => not a number"
      ]
    },
    {
      "cell_type": "code",
      "metadata": {
        "colab": {
          "base_uri": "https://localhost:8080/"
        },
        "id": "vcw403-AoEVa",
        "outputId": "9c610304-1413-4bc6-de08-4cd9e04054a8"
      },
      "source": [
        "df = pd.DataFrame([[np.nan, 2, np.nan, 0],\n",
        "                   [3, 4, np.nan, 1],\n",
        "                   [np.nan, np.nan, np.nan, 5],\n",
        "                   [np.nan, 3, np.nan, 4]],\n",
        "                  columns=list('ABCD'))\n",
        "print(df)\n",
        "print('='*20)\n",
        "\n",
        "# null값 확인 (T/F 반환)\n",
        "print(df.isnull())\n",
        "# 열 요약 (열 기준 T가 1개라도 있으면 T로 반환)\n",
        "print(df.isnull().any())\n",
        "\n",
        "print('='*20)\n",
        "# 전체 데이터프레임에서의 결측치확인\n",
        "print(df.isnull().any().any())"
      ],
      "execution_count": null,
      "outputs": [
        {
          "output_type": "stream",
          "name": "stdout",
          "text": [
            "     A    B   C  D\n",
            "0  NaN  2.0 NaN  0\n",
            "1  3.0  4.0 NaN  1\n",
            "2  NaN  NaN NaN  5\n",
            "3  NaN  3.0 NaN  4\n",
            "====================\n",
            "       A      B     C      D\n",
            "0   True  False  True  False\n",
            "1  False  False  True  False\n",
            "2   True   True  True  False\n",
            "3   True  False  True  False\n",
            "A     True\n",
            "B     True\n",
            "C     True\n",
            "D    False\n",
            "dtype: bool\n",
            "====================\n",
            "True\n"
          ]
        }
      ]
    },
    {
      "cell_type": "code",
      "metadata": {
        "colab": {
          "base_uri": "https://localhost:8080/"
        },
        "id": "lLKeG7axsomW",
        "outputId": "506b8b66-4dde-4ed7-fecf-6a1c6beed59b"
      },
      "source": [
        "df = pd.DataFrame([[np.nan, 2, np.nan, 0],\n",
        "                   [3, 4, np.nan, 1],\n",
        "                   [np.nan, np.nan, np.nan, 5],\n",
        "                   [np.nan, 3, np.nan, 4]],\n",
        "                  columns=list('ABCD'))\n",
        "print(df)\n",
        "print('='*20)\n",
        "\n",
        "# 각 열별 결측치 개수\n",
        "print(df.isnull().sum())\n",
        "# 전체 결측치의 개수\n",
        "print(df.isnull().sum().sum())\n",
        "# 결측치가 있는 열\n",
        "print(df.isnull().any())\n",
        "# 결측치가 있는 열의 개수\n",
        "print(df.isnull().any().sum())"
      ],
      "execution_count": null,
      "outputs": [
        {
          "output_type": "stream",
          "name": "stdout",
          "text": [
            "     A    B   C  D\n",
            "0  NaN  2.0 NaN  0\n",
            "1  3.0  4.0 NaN  1\n",
            "2  NaN  NaN NaN  5\n",
            "3  NaN  3.0 NaN  4\n",
            "====================\n",
            "A    3\n",
            "B    1\n",
            "C    4\n",
            "D    0\n",
            "dtype: int64\n",
            "8\n",
            "A     True\n",
            "B     True\n",
            "C     True\n",
            "D    False\n",
            "dtype: bool\n",
            "3\n"
          ]
        }
      ]
    },
    {
      "cell_type": "code",
      "metadata": {
        "colab": {
          "base_uri": "https://localhost:8080/"
        },
        "id": "sYvj5LPWsoqx",
        "outputId": "aeaeba99-608f-434b-a4c7-706137d5fdf5"
      },
      "source": [
        "df = pd.DataFrame([[np.nan, 2, np.nan, 0],\n",
        "                   [3, 4, np.nan, 1],\n",
        "                   [np.nan, np.nan, np.nan, 5],\n",
        "                   [np.nan, 3, np.nan, 4]],\n",
        "                  columns=list('ABCD'))\n",
        "print(df)\n",
        "print('='*20)\n",
        "\n",
        "# 각 열별 결측치의 개수\n",
        "print(df.isnull().sum())\n",
        "# 각 열별 결측치의 비율\n",
        "print(df.isnull().sum()/len(df))"
      ],
      "execution_count": null,
      "outputs": [
        {
          "output_type": "stream",
          "name": "stdout",
          "text": [
            "     A    B   C  D\n",
            "0  NaN  2.0 NaN  0\n",
            "1  3.0  4.0 NaN  1\n",
            "2  NaN  NaN NaN  5\n",
            "3  NaN  3.0 NaN  4\n",
            "====================\n",
            "A    3\n",
            "B    1\n",
            "C    4\n",
            "D    0\n",
            "dtype: int64\n",
            "A    0.75\n",
            "B    0.25\n",
            "C    1.00\n",
            "D    0.00\n",
            "dtype: float64\n"
          ]
        }
      ]
    },
    {
      "cell_type": "markdown",
      "metadata": {
        "id": "aVRTYfHGHVsH"
      },
      "source": [
        "다음 파일을 다운받고 결측치 비율확인하기\n",
        "- https://raw.githubusercontent.com/dhrim/MDC_2021/master/material/deep_learning/data/titanic.csv"
      ]
    },
    {
      "cell_type": "code",
      "metadata": {
        "colab": {
          "base_uri": "https://localhost:8080/"
        },
        "id": "NxMSY0g5sos9",
        "outputId": "3738d58a-b631-4f20-8f91-0477e031c29b"
      },
      "source": [
        "!wget https://raw.githubusercontent.com/dhrim/MDC_2021/master/material/deep_learning/data/titanic.csv"
      ],
      "execution_count": null,
      "outputs": [
        {
          "output_type": "stream",
          "name": "stdout",
          "text": [
            "--2021-11-24 04:04:51--  https://raw.githubusercontent.com/dhrim/MDC_2021/master/material/deep_learning/data/titanic.csv\n",
            "Resolving raw.githubusercontent.com (raw.githubusercontent.com)... 185.199.108.133, 185.199.110.133, 185.199.109.133, ...\n",
            "Connecting to raw.githubusercontent.com (raw.githubusercontent.com)|185.199.108.133|:443... connected.\n",
            "HTTP request sent, awaiting response... 200 OK\n",
            "Length: 61194 (60K) [text/plain]\n",
            "Saving to: ‘titanic.csv’\n",
            "\n",
            "\rtitanic.csv           0%[                    ]       0  --.-KB/s               \rtitanic.csv         100%[===================>]  59.76K  --.-KB/s    in 0.001s  \n",
            "\n",
            "2021-11-24 04:04:51 (92.6 MB/s) - ‘titanic.csv’ saved [61194/61194]\n",
            "\n"
          ]
        }
      ]
    },
    {
      "cell_type": "code",
      "metadata": {
        "colab": {
          "base_uri": "https://localhost:8080/"
        },
        "id": "TB4t_wXDoEaI",
        "outputId": "258ad827-3492-48fd-8a21-3c833056e5b7"
      },
      "source": [
        "data = pd.read_csv('titanic.csv')\n",
        "print(data)"
      ],
      "execution_count": null,
      "outputs": [
        {
          "output_type": "stream",
          "name": "stdout",
          "text": [
            "     PassengerId  Survived  Pclass  ...     Fare Cabin  Embarked\n",
            "0              1         0       3  ...   7.2500   NaN         S\n",
            "1              2         1       1  ...  71.2833   C85         C\n",
            "2              3         1       3  ...   7.9250   NaN         S\n",
            "3              4         1       1  ...  53.1000  C123         S\n",
            "4              5         0       3  ...   8.0500   NaN         S\n",
            "..           ...       ...     ...  ...      ...   ...       ...\n",
            "886          887         0       2  ...  13.0000   NaN         S\n",
            "887          888         1       1  ...  30.0000   B42         S\n",
            "888          889         0       3  ...  23.4500   NaN         S\n",
            "889          890         1       1  ...  30.0000  C148         C\n",
            "890          891         0       3  ...   7.7500   NaN         Q\n",
            "\n",
            "[891 rows x 12 columns]\n"
          ]
        }
      ]
    },
    {
      "cell_type": "code",
      "metadata": {
        "colab": {
          "base_uri": "https://localhost:8080/"
        },
        "id": "pXU5Fd2-oEck",
        "outputId": "091294ce-6da1-497a-abb0-2bf3da4ceec9"
      },
      "source": [
        "# 결측치 확인\n",
        "print(data.isnull())\n",
        "# 데이터 정보확인\n",
        "print(data.info())\n",
        "# 열별 결측치 개수 확인\n",
        "print(data.isnull().sum())\n",
        "# 결측치 비율\n",
        "print(data.isnull().sum()/len(data))"
      ],
      "execution_count": null,
      "outputs": [
        {
          "output_type": "stream",
          "name": "stdout",
          "text": [
            "     PassengerId  Survived  Pclass   Name  ...  Ticket   Fare  Cabin  Embarked\n",
            "0          False     False   False  False  ...   False  False   True     False\n",
            "1          False     False   False  False  ...   False  False  False     False\n",
            "2          False     False   False  False  ...   False  False   True     False\n",
            "3          False     False   False  False  ...   False  False  False     False\n",
            "4          False     False   False  False  ...   False  False   True     False\n",
            "..           ...       ...     ...    ...  ...     ...    ...    ...       ...\n",
            "886        False     False   False  False  ...   False  False   True     False\n",
            "887        False     False   False  False  ...   False  False  False     False\n",
            "888        False     False   False  False  ...   False  False   True     False\n",
            "889        False     False   False  False  ...   False  False  False     False\n",
            "890        False     False   False  False  ...   False  False   True     False\n",
            "\n",
            "[891 rows x 12 columns]\n",
            "<class 'pandas.core.frame.DataFrame'>\n",
            "RangeIndex: 891 entries, 0 to 890\n",
            "Data columns (total 12 columns):\n",
            " #   Column       Non-Null Count  Dtype  \n",
            "---  ------       --------------  -----  \n",
            " 0   PassengerId  891 non-null    int64  \n",
            " 1   Survived     891 non-null    int64  \n",
            " 2   Pclass       891 non-null    int64  \n",
            " 3   Name         891 non-null    object \n",
            " 4   Sex          891 non-null    object \n",
            " 5   Age          714 non-null    float64\n",
            " 6   SibSp        891 non-null    int64  \n",
            " 7   Parch        891 non-null    int64  \n",
            " 8   Ticket       891 non-null    object \n",
            " 9   Fare         891 non-null    float64\n",
            " 10  Cabin        204 non-null    object \n",
            " 11  Embarked     889 non-null    object \n",
            "dtypes: float64(2), int64(5), object(5)\n",
            "memory usage: 83.7+ KB\n",
            "None\n",
            "PassengerId      0\n",
            "Survived         0\n",
            "Pclass           0\n",
            "Name             0\n",
            "Sex              0\n",
            "Age            177\n",
            "SibSp            0\n",
            "Parch            0\n",
            "Ticket           0\n",
            "Fare             0\n",
            "Cabin          687\n",
            "Embarked         2\n",
            "dtype: int64\n",
            "PassengerId    0.000000\n",
            "Survived       0.000000\n",
            "Pclass         0.000000\n",
            "Name           0.000000\n",
            "Sex            0.000000\n",
            "Age            0.198653\n",
            "SibSp          0.000000\n",
            "Parch          0.000000\n",
            "Ticket         0.000000\n",
            "Fare           0.000000\n",
            "Cabin          0.771044\n",
            "Embarked       0.002245\n",
            "dtype: float64\n"
          ]
        }
      ]
    },
    {
      "cell_type": "code",
      "metadata": {
        "colab": {
          "base_uri": "https://localhost:8080/",
          "height": 254
        },
        "id": "fU1DKFv4JEZa",
        "outputId": "95486577-677f-4161-e7c5-15f44b565428"
      },
      "source": [
        "# T/F 반환\n",
        "data.Embarked.isnull()\n",
        "# T 데이터 확인\n",
        "data.loc[data.Embarked.isnull()]"
      ],
      "execution_count": null,
      "outputs": [
        {
          "output_type": "execute_result",
          "data": {
            "text/html": [
              "<div>\n",
              "<style scoped>\n",
              "    .dataframe tbody tr th:only-of-type {\n",
              "        vertical-align: middle;\n",
              "    }\n",
              "\n",
              "    .dataframe tbody tr th {\n",
              "        vertical-align: top;\n",
              "    }\n",
              "\n",
              "    .dataframe thead th {\n",
              "        text-align: right;\n",
              "    }\n",
              "</style>\n",
              "<table border=\"1\" class=\"dataframe\">\n",
              "  <thead>\n",
              "    <tr style=\"text-align: right;\">\n",
              "      <th></th>\n",
              "      <th>PassengerId</th>\n",
              "      <th>Survived</th>\n",
              "      <th>Pclass</th>\n",
              "      <th>Name</th>\n",
              "      <th>Sex</th>\n",
              "      <th>Age</th>\n",
              "      <th>SibSp</th>\n",
              "      <th>Parch</th>\n",
              "      <th>Ticket</th>\n",
              "      <th>Fare</th>\n",
              "      <th>Cabin</th>\n",
              "      <th>Embarked</th>\n",
              "    </tr>\n",
              "  </thead>\n",
              "  <tbody>\n",
              "    <tr>\n",
              "      <th>61</th>\n",
              "      <td>62</td>\n",
              "      <td>1</td>\n",
              "      <td>1</td>\n",
              "      <td>Icard, Miss. Amelie</td>\n",
              "      <td>female</td>\n",
              "      <td>38.0</td>\n",
              "      <td>0</td>\n",
              "      <td>0</td>\n",
              "      <td>113572</td>\n",
              "      <td>80.0</td>\n",
              "      <td>B28</td>\n",
              "      <td>NaN</td>\n",
              "    </tr>\n",
              "    <tr>\n",
              "      <th>829</th>\n",
              "      <td>830</td>\n",
              "      <td>1</td>\n",
              "      <td>1</td>\n",
              "      <td>Stone, Mrs. George Nelson (Martha Evelyn)</td>\n",
              "      <td>female</td>\n",
              "      <td>62.0</td>\n",
              "      <td>0</td>\n",
              "      <td>0</td>\n",
              "      <td>113572</td>\n",
              "      <td>80.0</td>\n",
              "      <td>B28</td>\n",
              "      <td>NaN</td>\n",
              "    </tr>\n",
              "  </tbody>\n",
              "</table>\n",
              "</div>"
            ],
            "text/plain": [
              "     PassengerId  Survived  Pclass  ...  Fare Cabin  Embarked\n",
              "61            62         1       1  ...  80.0   B28       NaN\n",
              "829          830         1       1  ...  80.0   B28       NaN\n",
              "\n",
              "[2 rows x 12 columns]"
            ]
          },
          "metadata": {},
          "execution_count": 93
        }
      ]
    },
    {
      "cell_type": "code",
      "metadata": {
        "colab": {
          "base_uri": "https://localhost:8080/"
        },
        "id": "3x9nP1RrJp9Q",
        "outputId": "074b1682-0aa3-4f3e-f679-299182123d78"
      },
      "source": [
        "data.drop(data.loc[data.Embarked.isnull()].index, inplace=True)\n",
        "data.info()\n",
        "print(data.isnull().sum())"
      ],
      "execution_count": null,
      "outputs": [
        {
          "output_type": "stream",
          "name": "stdout",
          "text": [
            "<class 'pandas.core.frame.DataFrame'>\n",
            "Int64Index: 889 entries, 0 to 890\n",
            "Data columns (total 12 columns):\n",
            " #   Column       Non-Null Count  Dtype  \n",
            "---  ------       --------------  -----  \n",
            " 0   PassengerId  889 non-null    int64  \n",
            " 1   Survived     889 non-null    int64  \n",
            " 2   Pclass       889 non-null    int64  \n",
            " 3   Name         889 non-null    object \n",
            " 4   Sex          889 non-null    object \n",
            " 5   Age          712 non-null    float64\n",
            " 6   SibSp        889 non-null    int64  \n",
            " 7   Parch        889 non-null    int64  \n",
            " 8   Ticket       889 non-null    object \n",
            " 9   Fare         889 non-null    float64\n",
            " 10  Cabin        202 non-null    object \n",
            " 11  Embarked     889 non-null    object \n",
            "dtypes: float64(2), int64(5), object(5)\n",
            "memory usage: 130.3+ KB\n",
            "PassengerId      0\n",
            "Survived         0\n",
            "Pclass           0\n",
            "Name             0\n",
            "Sex              0\n",
            "Age            177\n",
            "SibSp            0\n",
            "Parch            0\n",
            "Ticket           0\n",
            "Fare             0\n",
            "Cabin          687\n",
            "Embarked         0\n",
            "dtype: int64\n"
          ]
        }
      ]
    },
    {
      "cell_type": "markdown",
      "metadata": {
        "id": "vQ-_gGlUwVKZ"
      },
      "source": [
        "# 결측치 처리"
      ]
    },
    {
      "cell_type": "code",
      "metadata": {
        "colab": {
          "base_uri": "https://localhost:8080/"
        },
        "id": "v-81i1V2JqC3",
        "outputId": "bbe51d6b-d2a4-4956-feba-fc860679dc40"
      },
      "source": [
        "# 결측치 제거\n",
        "data.drop(data.loc[data.Age.isnull()].index, inplace=True)\n",
        "data.drop(data.loc[data.Cabin.isnull()].index, inplace=True)\n",
        "data.drop(data.loc[data.Embarked.isnull()].index, inplace=True)\n",
        "print(data.isnull().sum())"
      ],
      "execution_count": null,
      "outputs": [
        {
          "output_type": "stream",
          "name": "stdout",
          "text": [
            "PassengerId    0\n",
            "Survived       0\n",
            "Pclass         0\n",
            "Name           0\n",
            "Sex            0\n",
            "Age            0\n",
            "SibSp          0\n",
            "Parch          0\n",
            "Ticket         0\n",
            "Fare           0\n",
            "Cabin          0\n",
            "Embarked       0\n",
            "dtype: int64\n"
          ]
        }
      ]
    },
    {
      "cell_type": "code",
      "metadata": {
        "id": "FsIXj1hXLprU"
      },
      "source": [
        "# 결측치 제거 후 확인\n",
        "data.dropna(inplace=True)\n",
        "print(data.info())\n",
        "data.isnull.any().any()"
      ],
      "execution_count": null,
      "outputs": []
    },
    {
      "cell_type": "code",
      "metadata": {
        "colab": {
          "base_uri": "https://localhost:8080/"
        },
        "id": "PzyJ6Z4SJqFS",
        "outputId": "64b60ed5-0d1b-4a9e-ce8e-a3bff3dfa71a"
      },
      "source": [
        "data = pd.read_csv('titanic.csv')\n",
        "print(data.info())\n",
        "df.isnull().any().any()\n",
        "print()\n",
        "\n",
        "data.dropna(inplace=True)\n",
        "print(data.info())\n",
        "data.isnull().any().any()"
      ],
      "execution_count": null,
      "outputs": [
        {
          "output_type": "stream",
          "name": "stdout",
          "text": [
            "<class 'pandas.core.frame.DataFrame'>\n",
            "RangeIndex: 891 entries, 0 to 890\n",
            "Data columns (total 12 columns):\n",
            " #   Column       Non-Null Count  Dtype  \n",
            "---  ------       --------------  -----  \n",
            " 0   PassengerId  891 non-null    int64  \n",
            " 1   Survived     891 non-null    int64  \n",
            " 2   Pclass       891 non-null    int64  \n",
            " 3   Name         891 non-null    object \n",
            " 4   Sex          891 non-null    object \n",
            " 5   Age          714 non-null    float64\n",
            " 6   SibSp        891 non-null    int64  \n",
            " 7   Parch        891 non-null    int64  \n",
            " 8   Ticket       891 non-null    object \n",
            " 9   Fare         891 non-null    float64\n",
            " 10  Cabin        204 non-null    object \n",
            " 11  Embarked     889 non-null    object \n",
            "dtypes: float64(2), int64(5), object(5)\n",
            "memory usage: 83.7+ KB\n",
            "None\n",
            "\n",
            "<class 'pandas.core.frame.DataFrame'>\n",
            "Int64Index: 183 entries, 1 to 889\n",
            "Data columns (total 12 columns):\n",
            " #   Column       Non-Null Count  Dtype  \n",
            "---  ------       --------------  -----  \n",
            " 0   PassengerId  183 non-null    int64  \n",
            " 1   Survived     183 non-null    int64  \n",
            " 2   Pclass       183 non-null    int64  \n",
            " 3   Name         183 non-null    object \n",
            " 4   Sex          183 non-null    object \n",
            " 5   Age          183 non-null    float64\n",
            " 6   SibSp        183 non-null    int64  \n",
            " 7   Parch        183 non-null    int64  \n",
            " 8   Ticket       183 non-null    object \n",
            " 9   Fare         183 non-null    float64\n",
            " 10  Cabin        183 non-null    object \n",
            " 11  Embarked     183 non-null    object \n",
            "dtypes: float64(2), int64(5), object(5)\n",
            "memory usage: 18.6+ KB\n",
            "None\n"
          ]
        },
        {
          "output_type": "execute_result",
          "data": {
            "text/plain": [
              "False"
            ]
          },
          "metadata": {},
          "execution_count": 106
        }
      ]
    },
    {
      "cell_type": "code",
      "metadata": {
        "colab": {
          "base_uri": "https://localhost:8080/"
        },
        "id": "OP9NqJDtMM1X",
        "outputId": "5a4def85-4364-488d-dc99-94e992c37652"
      },
      "source": [
        "data = pd.read_csv('titanic.csv')\n",
        "print(data.isnull().any().any())"
      ],
      "execution_count": null,
      "outputs": [
        {
          "output_type": "stream",
          "name": "stdout",
          "text": [
            "True\n"
          ]
        }
      ]
    },
    {
      "cell_type": "code",
      "metadata": {
        "colab": {
          "base_uri": "https://localhost:8080/"
        },
        "id": "_n68OM9yMM30",
        "outputId": "c78a87e4-d1f2-4d54-ea6b-be54e4de4523"
      },
      "source": [
        "data.drop(columns = [\"Age\",\"Cabin\",\"Embarked\"], inplace=True)\n",
        "print(data.isnull().any().any())"
      ],
      "execution_count": null,
      "outputs": [
        {
          "output_type": "stream",
          "name": "stdout",
          "text": [
            "False\n"
          ]
        }
      ]
    },
    {
      "cell_type": "code",
      "metadata": {
        "colab": {
          "base_uri": "https://localhost:8080/"
        },
        "id": "D-VXv2k5MM6O",
        "outputId": "a8337122-1702-4e34-e784-80fb46965aae"
      },
      "source": [
        "# Age 결측치 0으로 채우기\n",
        "data = pd.read_csv('titanic.csv')\n",
        "data.loc[data.Age.isnull(), 'Age'] = 0\n",
        "\n",
        "data.isnull().sum()"
      ],
      "execution_count": null,
      "outputs": [
        {
          "output_type": "execute_result",
          "data": {
            "text/plain": [
              "PassengerId      0\n",
              "Survived         0\n",
              "Pclass           0\n",
              "Name             0\n",
              "Sex              0\n",
              "Age              0\n",
              "SibSp            0\n",
              "Parch            0\n",
              "Ticket           0\n",
              "Fare             0\n",
              "Cabin          687\n",
              "Embarked         2\n",
              "dtype: int64"
            ]
          },
          "metadata": {},
          "execution_count": 117
        }
      ]
    },
    {
      "cell_type": "code",
      "metadata": {
        "colab": {
          "base_uri": "https://localhost:8080/"
        },
        "id": "dhwNmMUlMM87",
        "outputId": "7da01e3c-83e9-4f3a-a009-7ff4b6fbfc92"
      },
      "source": [
        "# null이 아닌 Age의 평균\n",
        "data = pd.read_csv('titanic.csv')\n",
        "age_mean = data.loc[data.Age.notnull()].Age.mean()\n",
        "\n",
        "# Age의 null 값을 평균으로 채우기\n",
        "data.loc[data.Age.isnull(), \"Age\"] = age_mean\n",
        "data.isnull().sum()"
      ],
      "execution_count": null,
      "outputs": [
        {
          "output_type": "execute_result",
          "data": {
            "text/plain": [
              "PassengerId      0\n",
              "Survived         0\n",
              "Pclass           0\n",
              "Name             0\n",
              "Sex              0\n",
              "Age              0\n",
              "SibSp            0\n",
              "Parch            0\n",
              "Ticket           0\n",
              "Fare             0\n",
              "Cabin          687\n",
              "Embarked         2\n",
              "dtype: int64"
            ]
          },
          "metadata": {},
          "execution_count": 120
        }
      ]
    },
    {
      "cell_type": "markdown",
      "metadata": {
        "id": "HJ5LXLscPL2X"
      },
      "source": [
        "# 연습문제\n",
        "- Age : 평균으로 대체\n",
        "- Cabin : 컬럼 버리기\n",
        "- Embarked : 데이터 버리기"
      ]
    },
    {
      "cell_type": "code",
      "metadata": {
        "colab": {
          "base_uri": "https://localhost:8080/"
        },
        "id": "KbhcwG92PC8D",
        "outputId": "0af48da4-4989-4dcb-93ad-0ce82d4ce648"
      },
      "source": [
        "data = pd.read_csv('titanic.csv')\n",
        "\n",
        "age_mean = data.loc[data.Age.notnull()].Age.mean()\n",
        "data.loc[data.Age.isnull(), \"Age\"] = age_mean\n",
        "\n",
        "data.drop(columns=\"Cabin\", inplace=True)\n",
        "\n",
        "data.drop(data.loc[data.Embarked.isnull()].index, inplace=True)\n",
        "data.isnull().sum()"
      ],
      "execution_count": null,
      "outputs": [
        {
          "output_type": "execute_result",
          "data": {
            "text/plain": [
              "PassengerId    0\n",
              "Survived       0\n",
              "Pclass         0\n",
              "Name           0\n",
              "Sex            0\n",
              "Age            0\n",
              "SibSp          0\n",
              "Parch          0\n",
              "Ticket         0\n",
              "Fare           0\n",
              "Embarked       0\n",
              "dtype: int64"
            ]
          },
          "metadata": {},
          "execution_count": 124
        }
      ]
    },
    {
      "cell_type": "code",
      "metadata": {
        "colab": {
          "base_uri": "https://localhost:8080/"
        },
        "id": "r6wt8OwIPC_t",
        "outputId": "b7de1be8-8ae6-4ed5-ad03-5e8cb7e71203"
      },
      "source": [
        "# 결측치 처리결과 확인\n",
        "print(\"age_mean = \", data.Age.mean())\n",
        "print(\"len(data) = \", len(data))\n",
        "print(data.isnull().any().any())"
      ],
      "execution_count": null,
      "outputs": [
        {
          "output_type": "stream",
          "name": "stdout",
          "text": [
            "age_mean =  29.653446370674192\n",
            "len(data) =  889\n",
            "False\n"
          ]
        }
      ]
    },
    {
      "cell_type": "code",
      "metadata": {
        "colab": {
          "base_uri": "https://localhost:8080/"
        },
        "id": "dnSGf5AnPDCQ",
        "outputId": "8d6ddb87-e9a4-4f20-f6a2-863be2366948"
      },
      "source": [
        "data = pd.read_csv('titanic.csv')\n",
        "age_mean = data.loc[data.Age.notnull()].Age.mean()\n",
        "\n",
        "# 결측치 디폴트값 지정해 한번에 채우기\n",
        "default_value = {\"Age\":age_mean, \"Cabin\":\"UNKNOWN\", \"Embarked\":\"N\"}\n",
        "data.fillna(default_value, inplace=True)\n",
        "print(data.isnull().sum())"
      ],
      "execution_count": null,
      "outputs": [
        {
          "output_type": "stream",
          "name": "stdout",
          "text": [
            "PassengerId    0\n",
            "Survived       0\n",
            "Pclass         0\n",
            "Name           0\n",
            "Sex            0\n",
            "Age            0\n",
            "SibSp          0\n",
            "Parch          0\n",
            "Ticket         0\n",
            "Fare           0\n",
            "Cabin          0\n",
            "Embarked       0\n",
            "dtype: int64\n"
          ]
        }
      ]
    },
    {
      "cell_type": "code",
      "metadata": {
        "colab": {
          "base_uri": "https://localhost:8080/"
        },
        "id": "5i_bADTrPDEw",
        "outputId": "738ffb32-fa0e-4c6a-e7bc-8168ea8bcd6b"
      },
      "source": [
        "# 앞의 값으로 채우기\n",
        "df = pd.DataFrame([[np.nan, 2, np.nan, 0],\n",
        "                   [3, 4, np.nan, 1],\n",
        "                   [np.nan, np.nan, np.nan, 5],\n",
        "                   [np.nan, 3, np.nan, 4]],\n",
        "                  columns=list('ABCD'))\n",
        "print(df)\n",
        "\n",
        "df.fillna(method = \"ffill\", inplace=True)\n",
        "print(df)"
      ],
      "execution_count": null,
      "outputs": [
        {
          "output_type": "stream",
          "name": "stdout",
          "text": [
            "     A    B   C  D\n",
            "0  NaN  2.0 NaN  0\n",
            "1  3.0  4.0 NaN  1\n",
            "2  NaN  NaN NaN  5\n",
            "3  NaN  3.0 NaN  4\n",
            "     A    B   C  D\n",
            "0  NaN  2.0 NaN  0\n",
            "1  3.0  4.0 NaN  1\n",
            "2  3.0  4.0 NaN  5\n",
            "3  3.0  3.0 NaN  4\n",
            "     A    B   C  D\n",
            "0  3.0  2.0 NaN  0\n",
            "1  3.0  4.0 NaN  1\n",
            "2  3.0  4.0 NaN  5\n",
            "3  3.0  3.0 NaN  4\n"
          ]
        }
      ]
    },
    {
      "cell_type": "code",
      "metadata": {
        "colab": {
          "base_uri": "https://localhost:8080/"
        },
        "id": "JOxZL2ptPDHB",
        "outputId": "92b4ae54-4b99-4b28-df4e-041b5a230bb9"
      },
      "source": [
        "# 뒤의 값으로 채우기\n",
        "df = pd.DataFrame([[np.nan, 2, np.nan, 0],\n",
        "                   [3, 4, np.nan, 1],\n",
        "                   [np.nan, np.nan, np.nan, 5],\n",
        "                   [np.nan, 3, np.nan, 4]],\n",
        "                  columns=list('ABCD'))\n",
        "print(df)\n",
        "\n",
        "df.fillna(method = \"bfill\", inplace=True)\n",
        "print(df)"
      ],
      "execution_count": null,
      "outputs": [
        {
          "output_type": "stream",
          "name": "stdout",
          "text": [
            "     A    B   C  D\n",
            "0  NaN  2.0 NaN  0\n",
            "1  3.0  4.0 NaN  1\n",
            "2  NaN  NaN NaN  5\n",
            "3  NaN  3.0 NaN  4\n",
            "     A    B   C  D\n",
            "0  3.0  2.0 NaN  0\n",
            "1  3.0  4.0 NaN  1\n",
            "2  NaN  3.0 NaN  5\n",
            "3  NaN  3.0 NaN  4\n"
          ]
        }
      ]
    },
    {
      "cell_type": "markdown",
      "metadata": {
        "id": "0ffZKUxYX537"
      },
      "source": [
        "# 정규화\n",
        " - normalization\n",
        "- (data.Age - min)/(max - min)\n",
        "- (데이터 - 최솟값) = 0\n",
        "- (max - min) = 폭\n",
        "- 따라서 0~1이 나옴\n",
        "\n",
        "- standardization"
      ]
    },
    {
      "cell_type": "code",
      "metadata": {
        "colab": {
          "base_uri": "https://localhost:8080/"
        },
        "id": "r5RS-UmOPDJo",
        "outputId": "5f17fada-66a0-47a8-b9e5-a21d493039b9"
      },
      "source": [
        "data = pd.read_csv('titanic.csv')\n",
        "age_mean = data.loc[data.Age.notnull()].Age.mean()\n",
        "\n",
        "default_value = {\"Age\":age_mean, \"Cabin\":\"UNKNOWN\", \"Embarked\":\"N\"}\n",
        "data.fillna(default_value, inplace=True)\n",
        "print(data.isnull().sum())\n",
        "\n",
        "print(data.Age.max())\n",
        "print(data.Age.min())\n",
        "\n",
        "max = data.Age.max()\n",
        "min = data.Age.min()\n",
        "\n",
        "data['age_normalization'] = (data.Age - min)/(max - min)"
      ],
      "execution_count": null,
      "outputs": [
        {
          "output_type": "stream",
          "name": "stdout",
          "text": [
            "PassengerId    0\n",
            "Survived       0\n",
            "Pclass         0\n",
            "Name           0\n",
            "Sex            0\n",
            "Age            0\n",
            "SibSp          0\n",
            "Parch          0\n",
            "Ticket         0\n",
            "Fare           0\n",
            "Cabin          0\n",
            "Embarked       0\n",
            "dtype: int64\n",
            "80.0\n",
            "0.42\n"
          ]
        }
      ]
    },
    {
      "cell_type": "code",
      "metadata": {
        "colab": {
          "base_uri": "https://localhost:8080/",
          "height": 283
        },
        "id": "e0fyXwuPPDLr",
        "outputId": "cba4e272-533a-4070-a8bb-8e1df776e88c"
      },
      "source": [
        "data.age_normalization.hist()"
      ],
      "execution_count": null,
      "outputs": [
        {
          "output_type": "execute_result",
          "data": {
            "text/plain": [
              "<matplotlib.axes._subplots.AxesSubplot at 0x7f92e1ebd410>"
            ]
          },
          "metadata": {},
          "execution_count": 148
        },
        {
          "output_type": "display_data",
          "data": {
            "image/png": "[encoded data removed]",
            "text/plain": [
              "<Figure size 432x288 with 1 Axes>"
            ]
          },
          "metadata": {
            "needs_background": "light"
          }
        }
      ]
    },
    {
      "cell_type": "code",
      "metadata": {
        "id": "milDMgXaPDOO"
      },
      "source": [
        "data = pd.read_csv('titanic.csv')\n",
        "age_mean = data.loc[data.Age.notnull()].Age.mean()\n",
        "\n",
        "default_value = {\"Age\":age_mean, \"Cabin\":\"UNKNOWN\", \"Embarked\":\"N\"}\n",
        "data.fillna(default_value, inplace=True)\n",
        "\n",
        "mean = data.Age.mean()\n",
        "std = data.Age.std()\n",
        "\n",
        "data['age_standardization'] = (data.Age - mean) / std"
      ],
      "execution_count": null,
      "outputs": []
    },
    {
      "cell_type": "code",
      "metadata": {
        "colab": {
          "base_uri": "https://localhost:8080/",
          "height": 283
        },
        "id": "M-RzGG3zZr4Q",
        "outputId": "f99370c6-a1f1-4d0f-efa6-0c3429640db5"
      },
      "source": [
        "data.age_standardization.hist()"
      ],
      "execution_count": null,
      "outputs": [
        {
          "output_type": "execute_result",
          "data": {
            "text/plain": [
              "<matplotlib.axes._subplots.AxesSubplot at 0x7f92e182aa10>"
            ]
          },
          "metadata": {},
          "execution_count": 146
        },
        {
          "output_type": "display_data",
          "data": {
            "image/png": "[encoded data removed]",
            "text/plain": [
              "<Figure size 432x288 with 1 Axes>"
            ]
          },
          "metadata": {
            "needs_background": "light"
          }
        }
      ]
    },
    {
      "cell_type": "code",
      "metadata": {
        "colab": {
          "base_uri": "https://localhost:8080/"
        },
        "id": "QobKiuMVas_Q",
        "outputId": "8d21385b-5259-4f7e-cc49-c7a51514f491"
      },
      "source": [
        "df = pd.DataFrame({ \n",
        "        \"num\" : [ 0,1,2,3,4,5,6,7,8,9],\n",
        "        \"name\" : [\"A\", \"A\", \"B\", \"B\", \"C\", \"C\", \"A\", \"A\", \"B\", \"B\"]})\n",
        "# print(df)\n",
        "\n",
        "df['name_category'] = df['name'].astype('category').cat.codes\n",
        "print(df)\n",
        "\n",
        "# name 컬럼 삭제하기\n",
        "df.drop(columns = \"name\", inplace=True)\n",
        "print(df)\n",
        "\n",
        "a = df.to_numpy()\n",
        "print(a)"
      ],
      "execution_count": null,
      "outputs": [
        {
          "output_type": "stream",
          "name": "stdout",
          "text": [
            "   num name  name_category\n",
            "0    0    A              0\n",
            "1    1    A              0\n",
            "2    2    B              1\n",
            "3    3    B              1\n",
            "4    4    C              2\n",
            "5    5    C              2\n",
            "6    6    A              0\n",
            "7    7    A              0\n",
            "8    8    B              1\n",
            "9    9    B              1\n",
            "   num  name_category\n",
            "0    0              0\n",
            "1    1              0\n",
            "2    2              1\n",
            "3    3              1\n",
            "4    4              2\n",
            "5    5              2\n",
            "6    6              0\n",
            "7    7              0\n",
            "8    8              1\n",
            "9    9              1\n",
            "[[0 0]\n",
            " [1 0]\n",
            " [2 1]\n",
            " [3 1]\n",
            " [4 2]\n",
            " [5 2]\n",
            " [6 0]\n",
            " [7 0]\n",
            " [8 1]\n",
            " [9 1]]\n"
          ]
        }
      ]
    },
    {
      "cell_type": "markdown",
      "metadata": {
        "id": "cuEs9IcBd6eX"
      },
      "source": [
        "# 데이터 csv파일로 내보내기"
      ]
    },
    {
      "cell_type": "code",
      "metadata": {
        "id": "xwCAgAematBt"
      },
      "source": [
        "df.to_csv(\"my_data.csv\")"
      ],
      "execution_count": null,
      "outputs": []
    },
    {
      "cell_type": "code",
      "metadata": {
        "colab": {
          "base_uri": "https://localhost:8080/",
          "height": 206
        },
        "id": "qP3EBwapatEI",
        "outputId": "d182ce5f-db5a-46db-a0bf-78d6fa057847"
      },
      "source": [
        "new_df = pd.read_csv(\"my_data.csv\")\n",
        "new_df.head()"
      ],
      "execution_count": null,
      "outputs": [
        {
          "output_type": "execute_result",
          "data": {
            "text/html": [
              "<div>\n",
              "<style scoped>\n",
              "    .dataframe tbody tr th:only-of-type {\n",
              "        vertical-align: middle;\n",
              "    }\n",
              "\n",
              "    .dataframe tbody tr th {\n",
              "        vertical-align: top;\n",
              "    }\n",
              "\n",
              "    .dataframe thead th {\n",
              "        text-align: right;\n",
              "    }\n",
              "</style>\n",
              "<table border=\"1\" class=\"dataframe\">\n",
              "  <thead>\n",
              "    <tr style=\"text-align: right;\">\n",
              "      <th></th>\n",
              "      <th>Unnamed: 0</th>\n",
              "      <th>num</th>\n",
              "      <th>name_category</th>\n",
              "    </tr>\n",
              "  </thead>\n",
              "  <tbody>\n",
              "    <tr>\n",
              "      <th>0</th>\n",
              "      <td>0</td>\n",
              "      <td>0</td>\n",
              "      <td>0</td>\n",
              "    </tr>\n",
              "    <tr>\n",
              "      <th>1</th>\n",
              "      <td>1</td>\n",
              "      <td>1</td>\n",
              "      <td>0</td>\n",
              "    </tr>\n",
              "    <tr>\n",
              "      <th>2</th>\n",
              "      <td>2</td>\n",
              "      <td>2</td>\n",
              "      <td>1</td>\n",
              "    </tr>\n",
              "    <tr>\n",
              "      <th>3</th>\n",
              "      <td>3</td>\n",
              "      <td>3</td>\n",
              "      <td>1</td>\n",
              "    </tr>\n",
              "    <tr>\n",
              "      <th>4</th>\n",
              "      <td>4</td>\n",
              "      <td>4</td>\n",
              "      <td>2</td>\n",
              "    </tr>\n",
              "  </tbody>\n",
              "</table>\n",
              "</div>"
            ],
            "text/plain": [
              "   Unnamed: 0  num  name_category\n",
              "0           0    0              0\n",
              "1           1    1              0\n",
              "2           2    2              1\n",
              "3           3    3              1\n",
              "4           4    4              2"
            ]
          },
          "metadata": {},
          "execution_count": 155
        }
      ]
    },
    {
      "cell_type": "code",
      "metadata": {
        "colab": {
          "base_uri": "https://localhost:8080/"
        },
        "id": "wt99BOdmatGT",
        "outputId": "cfb41864-94e7-402a-c0a6-9f565613d72d"
      },
      "source": [
        "!wget https://github.com/bharathirajatut/sample-excel-dataset/raw/master/airline.xls"
      ],
      "execution_count": null,
      "outputs": [
        {
          "output_type": "stream",
          "name": "stdout",
          "text": [
            "--2021-11-24 05:37:25--  https://github.com/bharathirajatut/sample-excel-dataset/raw/master/airline.xls\n",
            "Resolving github.com (github.com)... 140.82.113.4\n",
            "Connecting to github.com (github.com)|140.82.113.4|:443... connected.\n",
            "HTTP request sent, awaiting response... 302 Found\n",
            "Location: https://raw.githubusercontent.com/bharathirajatut/sample-excel-dataset/master/airline.xls [following]\n",
            "--2021-11-24 05:37:25--  https://raw.githubusercontent.com/bharathirajatut/sample-excel-dataset/master/airline.xls\n",
            "Resolving raw.githubusercontent.com (raw.githubusercontent.com)... 185.199.108.133, 185.199.109.133, 185.199.110.133, ...\n",
            "Connecting to raw.githubusercontent.com (raw.githubusercontent.com)|185.199.108.133|:443... connected.\n",
            "HTTP request sent, awaiting response... 200 OK\n",
            "Length: 16384 (16K) [application/octet-stream]\n",
            "Saving to: ‘airline.xls’\n",
            "\n",
            "\rairline.xls           0%[                    ]       0  --.-KB/s               \rairline.xls         100%[===================>]  16.00K  --.-KB/s    in 0s      \n",
            "\n",
            "2021-11-24 05:37:25 (120 MB/s) - ‘airline.xls’ saved [16384/16384]\n",
            "\n"
          ]
        }
      ]
    },
    {
      "cell_type": "markdown",
      "metadata": {
        "id": "p9NkqBPUdhTz"
      },
      "source": [
        "# 엑셀 데이터 읽어오기"
      ]
    },
    {
      "cell_type": "code",
      "metadata": {
        "colab": {
          "base_uri": "https://localhost:8080/",
          "height": 206
        },
        "id": "tyWQ87_3cvDz",
        "outputId": "973ae3dc-d94d-4138-e6db-60449675c67f"
      },
      "source": [
        "df = pd.read_excel(\"airline.xls\")\n",
        "df.head()"
      ],
      "execution_count": null,
      "outputs": [
        {
          "output_type": "execute_result",
          "data": {
            "text/html": [
              "<div>\n",
              "<style scoped>\n",
              "    .dataframe tbody tr th:only-of-type {\n",
              "        vertical-align: middle;\n",
              "    }\n",
              "\n",
              "    .dataframe tbody tr th {\n",
              "        vertical-align: top;\n",
              "    }\n",
              "\n",
              "    .dataframe thead th {\n",
              "        text-align: right;\n",
              "    }\n",
              "</style>\n",
              "<table border=\"1\" class=\"dataframe\">\n",
              "  <thead>\n",
              "    <tr style=\"text-align: right;\">\n",
              "      <th></th>\n",
              "      <th>YEAR</th>\n",
              "      <th>Y</th>\n",
              "      <th>W</th>\n",
              "      <th>R</th>\n",
              "      <th>L</th>\n",
              "      <th>K</th>\n",
              "    </tr>\n",
              "  </thead>\n",
              "  <tbody>\n",
              "    <tr>\n",
              "      <th>0</th>\n",
              "      <td>1948</td>\n",
              "      <td>1.214</td>\n",
              "      <td>0.243</td>\n",
              "      <td>0.1454</td>\n",
              "      <td>1.415</td>\n",
              "      <td>0.612</td>\n",
              "    </tr>\n",
              "    <tr>\n",
              "      <th>1</th>\n",
              "      <td>1949</td>\n",
              "      <td>1.354</td>\n",
              "      <td>0.260</td>\n",
              "      <td>0.2181</td>\n",
              "      <td>1.384</td>\n",
              "      <td>0.559</td>\n",
              "    </tr>\n",
              "    <tr>\n",
              "      <th>2</th>\n",
              "      <td>1950</td>\n",
              "      <td>1.569</td>\n",
              "      <td>0.278</td>\n",
              "      <td>0.3157</td>\n",
              "      <td>1.388</td>\n",
              "      <td>0.573</td>\n",
              "    </tr>\n",
              "    <tr>\n",
              "      <th>3</th>\n",
              "      <td>1951</td>\n",
              "      <td>1.948</td>\n",
              "      <td>0.297</td>\n",
              "      <td>0.3940</td>\n",
              "      <td>1.550</td>\n",
              "      <td>0.564</td>\n",
              "    </tr>\n",
              "    <tr>\n",
              "      <th>4</th>\n",
              "      <td>1952</td>\n",
              "      <td>2.265</td>\n",
              "      <td>0.310</td>\n",
              "      <td>0.3559</td>\n",
              "      <td>1.802</td>\n",
              "      <td>0.574</td>\n",
              "    </tr>\n",
              "  </tbody>\n",
              "</table>\n",
              "</div>"
            ],
            "text/plain": [
              "   YEAR      Y      W       R      L      K\n",
              "0  1948  1.214  0.243  0.1454  1.415  0.612\n",
              "1  1949  1.354  0.260  0.2181  1.384  0.559\n",
              "2  1950  1.569  0.278  0.3157  1.388  0.573\n",
              "3  1951  1.948  0.297  0.3940  1.550  0.564\n",
              "4  1952  2.265  0.310  0.3559  1.802  0.574"
            ]
          },
          "metadata": {},
          "execution_count": 158
        }
      ]
    },
    {
      "cell_type": "markdown",
      "metadata": {
        "id": "-CvevqcJd3o8"
      },
      "source": [
        "# 데이터프레임 엑셀파일로 내보내기"
      ]
    },
    {
      "cell_type": "code",
      "metadata": {
        "id": "EAZUZJdlcvMS"
      },
      "source": [
        "df.to_excel(\"my_data.xls\")"
      ],
      "execution_count": null,
      "outputs": []
    },
    {
      "cell_type": "code",
      "metadata": {
        "id": "_0oJY9TgcvWC"
      },
      "source": [
        ""
      ],
      "execution_count": null,
      "outputs": []
    }
  ]
}