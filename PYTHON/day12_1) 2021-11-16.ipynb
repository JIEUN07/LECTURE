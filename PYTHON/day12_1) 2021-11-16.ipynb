{
 "cells": [
  {
   "cell_type": "markdown",
   "id": "684affa1",
   "metadata": {},
   "source": [
    "# LaTex문법"
   ]
  },
  {
   "cell_type": "markdown",
   "id": "1f2daec3",
   "metadata": {},
   "source": [
    "블록 방식\n",
    "$$ tex 수식이나 기호 $$\n",
    "\n",
    "인라인 방식\n",
    "$ tex 수식이나 기호 $"
   ]
  },
  {
   "cell_type": "markdown",
   "id": "fcf84bf3",
   "metadata": {},
   "source": [
    "그리스 문자"
   ]
  },
  {
   "cell_type": "markdown",
   "id": "8f1b279d",
   "metadata": {},
   "source": [
    "# 블록 방식\n",
    "$$ \\alpha \\beta \\gamma \\delta $$"
   ]
  },
  {
   "cell_type": "markdown",
   "id": "fa02aafb",
   "metadata": {},
   "source": [
    "$$ \\alpha \\beta \\gamma \\delta $$"
   ]
  },
  {
   "cell_type": "markdown",
   "id": "4a45f064",
   "metadata": {},
   "source": [
    "# 인라인 방식\n",
    "$ y = 2\\times x $"
   ]
  },
  {
   "cell_type": "markdown",
   "id": "e273c2f2",
   "metadata": {},
   "source": [
    "$ y = 2\\times x $"
   ]
  },
  {
   "cell_type": "markdown",
   "id": "a2c4230c",
   "metadata": {},
   "source": [
    "# 산술연산자\n",
    "$$ +, -, \\times, \\div $$"
   ]
  },
  {
   "cell_type": "markdown",
   "id": "11ff2f3d",
   "metadata": {},
   "source": [
    "$$ +, -, \\times, \\div $$"
   ]
  },
  {
   "cell_type": "markdown",
   "id": "230944a6",
   "metadata": {},
   "source": [
    "# 분수\n",
    "- \\quad 한칸 공백\n",
    "\n",
    "$$ \\frac{2}{4} \\quad or \\quad {2 \\over 4} $$"
   ]
  },
  {
   "cell_type": "markdown",
   "id": "4d6435fa",
   "metadata": {},
   "source": [
    "$$ \\frac{2}{4} \\quad or \\quad {2 \\over 4} $$"
   ]
  },
  {
   "cell_type": "markdown",
   "id": "44992103",
   "metadata": {},
   "source": [
    "# 근호\n",
    "$$ \\sqrt{2} $$"
   ]
  },
  {
   "cell_type": "markdown",
   "id": "26dee3d2",
   "metadata": {},
   "source": [
    "$$ \\sqrt{2} $$"
   ]
  },
  {
   "cell_type": "markdown",
   "id": "54e750c4",
   "metadata": {},
   "source": [
    "# 로그 \n",
    "$$ y=log_{a}{x} $$"
   ]
  },
  {
   "cell_type": "markdown",
   "id": "6c2d76b3",
   "metadata": {},
   "source": [
    "$$ y=log_{a}{x} $$"
   ]
  },
  {
   "cell_type": "markdown",
   "id": "385c3024",
   "metadata": {},
   "source": [
    "# 미분\n",
    "$$ x'$$"
   ]
  },
  {
   "cell_type": "markdown",
   "id": "042df757",
   "metadata": {},
   "source": [
    "$$ x'$$"
   ]
  },
  {
   "cell_type": "markdown",
   "id": "633c51c2",
   "metadata": {},
   "source": [
    "# 머신러닝\n",
    "$ y $  실제값   $\\quad\\hat{y}$ 예측값   $\\quad\\bar{y}$  평균값 "
   ]
  },
  {
   "cell_type": "markdown",
   "id": "5e42772a",
   "metadata": {},
   "source": [
    "$ y $  실제값   $\\quad\\hat{y}$ 예측값   $\\quad\\bar{y}$  평균값 "
   ]
  },
  {
   "cell_type": "code",
   "execution_count": null,
   "id": "29204025",
   "metadata": {},
   "outputs": [],
   "source": []
  },
  {
   "cell_type": "code",
   "execution_count": null,
   "id": "73f8d3c8",
   "metadata": {},
   "outputs": [],
   "source": []
  }
 ],
 "metadata": {
  "kernelspec": {
   "display_name": "Python 3",
   "language": "python",
   "name": "python3"
  },
  "language_info": {
   "codemirror_mode": {
    "name": "ipython",
    "version": 3
   },
   "file_extension": ".py",
   "mimetype": "text/x-python",
   "name": "python",
   "nbconvert_exporter": "python",
   "pygments_lexer": "ipython3",
   "version": "3.8.8"
  }
 },
 "nbformat": 4,
 "nbformat_minor": 5
}
