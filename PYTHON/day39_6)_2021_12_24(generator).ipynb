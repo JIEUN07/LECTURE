{
  "nbformat": 4,
  "nbformat_minor": 0,
  "metadata": {
    "colab": {
      "name": "day39_6) 2021-12-24(generator).ipynb",
      "provenance": [],
      "collapsed_sections": []
    },
    "kernelspec": {
      "name": "python3",
      "display_name": "Python 3"
    },
    "language_info": {
      "name": "python"
    }
  },
  "cells": [
    {
      "cell_type": "markdown",
      "source": [
        "# generator\n",
        "\n",
        "용량이 큰 파일을 나눠서 가져와서(index 기준) 학습\n",
        "\n",
        "index 셔플, 슬라이싱, 스플릿\n",
        "\n",
        "스플릿 기능이 중첩되면 오류나므로 'validation_split=0.1'는 제거 후 돌려야함"
      ],
      "metadata": {
        "id": "iIWY2Jjdad_A"
      }
    },
    {
      "cell_type": "code",
      "execution_count": 1,
      "metadata": {
        "id": "u6pEvmjf0Ptj"
      },
      "outputs": [],
      "source": [
        "import numpy as np\n",
        "import matplotlib.pyplot as plt\n",
        "\n",
        "import tensorflow as tf\n",
        "from tensorflow import keras\n",
        "from tensorflow.keras import optimizers\n",
        "from tensorflow.keras.layers import Input, Dense, Flatten\n",
        "\n",
        "import time"
      ]
    },
    {
      "cell_type": "markdown",
      "source": [
        "# 데이터 준비"
      ],
      "metadata": {
        "id": "_Lj1-kgG0hMy"
      }
    },
    {
      "cell_type": "code",
      "source": [
        "(raw_train_x, raw_train_y), (raw_test_x, raw_test_y) = tf.keras.datasets.mnist.load_data()"
      ],
      "metadata": {
        "id": "zQee0YqD0ekl",
        "colab": {
          "base_uri": "https://localhost:8080/"
        },
        "outputId": "bfba2720-aac4-4e63-e83d-b696fe2b2e03"
      },
      "execution_count": 2,
      "outputs": [
        {
          "output_type": "stream",
          "name": "stdout",
          "text": [
            "Downloading data from https://storage.googleapis.com/tensorflow/tf-keras-datasets/mnist.npz\n",
            "11493376/11490434 [==============================] - 0s 0us/step\n",
            "11501568/11490434 [==============================] - 0s 0us/step\n"
          ]
        }
      ]
    },
    {
      "cell_type": "code",
      "source": [
        "print(raw_train_x.shape)\n",
        "print(raw_train_y.shape)\n",
        "print(raw_test_x.shape)\n",
        "print(raw_test_y.shape)"
      ],
      "metadata": {
        "id": "FMlpv74-0enH",
        "colab": {
          "base_uri": "https://localhost:8080/"
        },
        "outputId": "feb3a6d1-1839-4f6f-de9a-1d9a90f97492"
      },
      "execution_count": 3,
      "outputs": [
        {
          "output_type": "stream",
          "name": "stdout",
          "text": [
            "(60000, 28, 28)\n",
            "(60000,)\n",
            "(10000, 28, 28)\n",
            "(10000,)\n"
          ]
        }
      ]
    },
    {
      "cell_type": "code",
      "source": [
        "i = int(len(raw_train_x)*0.8)\n",
        "raw_train_x, raw_valid_x = raw_train_x[:i], raw_train_x[i:]\n",
        "raw_train_y, raw_valid_y = raw_train_y[:i], raw_train_y[i:]"
      ],
      "metadata": {
        "id": "rhO_V9fv0epe"
      },
      "execution_count": 4,
      "outputs": []
    },
    {
      "cell_type": "code",
      "source": [
        "print(raw_train_x.shape)\n",
        "print(raw_train_y.shape)\n",
        "print(raw_valid_x.shape)\n",
        "print(raw_valid_y.shape)\n",
        "print(raw_test_x.shape)\n",
        "print(raw_test_y.shape)"
      ],
      "metadata": {
        "id": "reXR3apC0esM",
        "colab": {
          "base_uri": "https://localhost:8080/"
        },
        "outputId": "d714fc4e-9957-49bf-9af0-4ddad9329d92"
      },
      "execution_count": 5,
      "outputs": [
        {
          "output_type": "stream",
          "name": "stdout",
          "text": [
            "(48000, 28, 28)\n",
            "(48000,)\n",
            "(12000, 28, 28)\n",
            "(12000,)\n",
            "(10000, 28, 28)\n",
            "(10000,)\n"
          ]
        }
      ]
    },
    {
      "cell_type": "code",
      "source": [
        "import numpy as np\n",
        "import math\n",
        "from tensorflow.keras.utils import Sequence\n",
        "from abc import *\n",
        "import traceback\n",
        "\n",
        "BATCH_SIZE = 32\n",
        "\n",
        "class DataGenerator(Sequence):\n",
        "\n",
        "  def __init__(self, org_image, org_label, batch_size=BATCH_SIZE, shuffle=True):\n",
        "    self.org_image = org_image/255.\n",
        "    self.org_label = org_label\n",
        "    self.batch_size = batch_size\n",
        "    self.shuffle=shuffle\n",
        "    self.on_epoch_end()\n",
        "\n",
        "# __len__: 전체 데이터를 몇번 꺼낼수 있는지\n",
        "  def __len__(self):\n",
        "    return math.ceil(len(self.org_image) / self.batch_size)\n",
        "\n",
        "# __getitem__: 인덱스 섞어줌\n",
        "  def __getitem__(self, idx):\n",
        "    indices = self.indices[idx*self.batch_size:(idx+1)*self.batch_size]\n",
        "    batch_x = [self.org_image[i] for i in indices]\n",
        "    batch_y = [self.org_label[i] for i in indices]\n",
        "    return np.array(batch_x), np.array(batch_y)\n",
        "\n",
        "  def on_epoch_end(self):\n",
        "    self.indices = np.arange(len(self.org_image))\n",
        "    if self.shuffle == True:\n",
        "      np.random.shuffle(self.indices)"
      ],
      "metadata": {
        "id": "vh8Qdagy0eur"
      },
      "execution_count": 6,
      "outputs": []
    },
    {
      "cell_type": "code",
      "source": [
        "train_data_generator = DataGenerator(raw_train_x, raw_train_y)\n",
        "valid_data_generator = DataGenerator(raw_valid_x, raw_valid_y)\n",
        "test_data_generator = DataGenerator(raw_test_x, raw_test_y)"
      ],
      "metadata": {
        "id": "X9nzUAkZ0ezd"
      },
      "execution_count": 7,
      "outputs": []
    },
    {
      "cell_type": "code",
      "source": [
        "batch_x, batch_y = train_data_generator.__getitem__(0)\n",
        "\n",
        "print(batch_x.shape)\n",
        "print(batch_y.shape)\n",
        "\n",
        "plt.imshow(batch_x[0], cmap=plt.cm.binary)\n",
        "print(batch_y[0])"
      ],
      "metadata": {
        "id": "VAW5E7fJ0e1o",
        "colab": {
          "base_uri": "https://localhost:8080/",
          "height": 320
        },
        "outputId": "0879e509-9c7b-455d-af1c-ff8e8e0cc787"
      },
      "execution_count": 9,
      "outputs": [
        {
          "output_type": "stream",
          "name": "stdout",
          "text": [
            "(32, 28, 28)\n",
            "(32,)\n",
            "8\n"
          ]
        },
        {
          "output_type": "display_data",
          "data": {
            "image/png": "[encoded data removed]",
            "text/plain": [
              "<Figure size 432x288 with 1 Axes>"
            ]
          },
          "metadata": {
            "needs_background": "light"
          }
        }
      ]
    },
    {
      "cell_type": "code",
      "source": [
        "model = keras.Sequential()\n",
        "model.add(Input((28,28)))  # ADD\n",
        "model.add(Flatten())       # ADD\n",
        "model.add(Dense(10, activation='relu'))\n",
        "model.add(Dense(10, activation='relu'))\n",
        "model.add(Dense(10, activation='softmax'))\n",
        "\n",
        "model.compile(optimizer=\"adam\", loss=\"sparse_categorical_crossentropy\", metrics=[\"accuracy\"])\n",
        "model.summary()\n",
        "\n",
        "\n",
        "model.fit(train_data_generator, validation_data=valid_data_generator, epochs=5, verbose=1, batch_size=128)\n",
        "\n",
        "\n",
        "loss, acc = model.evaluate(test_data_generator)\n",
        "print(\"loss=\",loss)\n",
        "print(\"acc=\",acc)\n",
        "\n",
        "batch_x, batch_y = test_data_generator.__getitem__(0)\n",
        "y_ = model.predict(batch_x)\n",
        "predicted = np.argmax(y_, axis=1)\n",
        "\n",
        "print(predicted)\n",
        "\n",
        "y_ = model.predict(test_data_generator)"
      ],
      "metadata": {
        "id": "Est3KQRR2f7n",
        "colab": {
          "base_uri": "https://localhost:8080/"
        },
        "outputId": "f6f0ff18-376e-442f-8755-321ad0f98ff7"
      },
      "execution_count": 24,
      "outputs": [
        {
          "output_type": "stream",
          "name": "stdout",
          "text": [
            "Model: \"sequential_2\"\n",
            "_________________________________________________________________\n",
            " Layer (type)                Output Shape              Param #   \n",
            "=================================================================\n",
            " flatten_2 (Flatten)         (None, 784)               0         \n",
            "                                                                 \n",
            " dense_6 (Dense)             (None, 10)                7850      \n",
            "                                                                 \n",
            " dense_7 (Dense)             (None, 10)                110       \n",
            "                                                                 \n",
            " dense_8 (Dense)             (None, 10)                110       \n",
            "                                                                 \n",
            "=================================================================\n",
            "Total params: 8,070\n",
            "Trainable params: 8,070\n",
            "Non-trainable params: 0\n",
            "_________________________________________________________________\n",
            "Epoch 1/5\n",
            "1500/1500 [==============================] - 5s 3ms/step - loss: 0.7332 - accuracy: 0.7770 - val_loss: 0.3356 - val_accuracy: 0.9047\n",
            "Epoch 2/5\n",
            "1500/1500 [==============================] - 4s 3ms/step - loss: 0.3120 - accuracy: 0.9104 - val_loss: 0.2715 - val_accuracy: 0.9204\n",
            "Epoch 3/5\n",
            "1500/1500 [==============================] - 4s 3ms/step - loss: 0.2681 - accuracy: 0.9236 - val_loss: 0.2507 - val_accuracy: 0.9264\n",
            "Epoch 4/5\n",
            "1500/1500 [==============================] - 4s 3ms/step - loss: 0.2491 - accuracy: 0.9292 - val_loss: 0.2523 - val_accuracy: 0.9255\n",
            "Epoch 5/5\n",
            "1500/1500 [==============================] - 5s 3ms/step - loss: 0.2341 - accuracy: 0.9329 - val_loss: 0.2399 - val_accuracy: 0.9312\n",
            "313/313 [==============================] - 1s 2ms/step - loss: 0.2488 - accuracy: 0.9280\n",
            "loss= 0.24880920350551605\n",
            "acc= 0.9279999732971191\n",
            "[6 8 5 5 4 4 8 5 3 6 1 8 6 4 7 1 4 8 3 0 2 7 1 2 2 0 6 2 1 8 1 9]\n"
          ]
        }
      ]
    }
  ]
}