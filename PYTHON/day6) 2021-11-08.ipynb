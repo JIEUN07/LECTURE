{
 "cells": [
  {
   "cell_type": "code",
   "execution_count": 1,
   "id": "e3f413c4",
   "metadata": {},
   "outputs": [],
   "source": [
    "# 쥬피터에디터만 마크다운으로 디자인 할수있음"
   ]
  },
  {
   "cell_type": "markdown",
   "id": "7274ac43",
   "metadata": {},
   "source": [
    "# 변수함수"
   ]
  },
  {
   "cell_type": "code",
   "execution_count": 2,
   "id": "d51ec9c8",
   "metadata": {},
   "outputs": [
    {
     "data": {
      "text/plain": [
       "6"
      ]
     },
     "execution_count": 2,
     "metadata": {},
     "output_type": "execute_result"
    }
   ],
   "source": [
    "sum([1,2,3]) # 임시"
   ]
  },
  {
   "cell_type": "code",
   "execution_count": 3,
   "id": "9cf41551",
   "metadata": {},
   "outputs": [],
   "source": [
    "hap=sum([1,2,3]) # 지속 변수이름으로 계속 부를수있음"
   ]
  },
  {
   "cell_type": "code",
   "execution_count": 4,
   "id": "4ca518c1",
   "metadata": {},
   "outputs": [
    {
     "data": {
      "text/plain": [
       "6"
      ]
     },
     "execution_count": 4,
     "metadata": {},
     "output_type": "execute_result"
    }
   ],
   "source": [
    "hap"
   ]
  },
  {
   "cell_type": "code",
   "execution_count": 6,
   "id": "abc7e056",
   "metadata": {
    "scrolled": true
   },
   "outputs": [
    {
     "data": {
      "text/plain": [
       "type"
      ]
     },
     "execution_count": 6,
     "metadata": {},
     "output_type": "execute_result"
    }
   ],
   "source": [
    "type(type(hap))"
   ]
  },
  {
   "cell_type": "code",
   "execution_count": 7,
   "id": "6a269693",
   "metadata": {},
   "outputs": [
    {
     "name": "stdout",
     "output_type": "stream",
     "text": [
      "100 3\n"
     ]
    }
   ],
   "source": [
    "a = 100\n",
    "b=sum([1,2])\n",
    "print(a,b)"
   ]
  },
  {
   "cell_type": "code",
   "execution_count": 10,
   "id": "7155510d",
   "metadata": {},
   "outputs": [],
   "source": [
    "def myfun():\n",
    "    return 200 #대입문 함수, 200"
   ]
  },
  {
   "cell_type": "code",
   "execution_count": 12,
   "id": "671ed57f",
   "metadata": {},
   "outputs": [],
   "source": [
    "c=myfun()"
   ]
  },
  {
   "cell_type": "code",
   "execution_count": 13,
   "id": "ceb68fb3",
   "metadata": {},
   "outputs": [
    {
     "ename": "SyntaxError",
     "evalue": "cannot assign to function call (<ipython-input-13-cef6f0dca4b6>, line 1)",
     "output_type": "error",
     "traceback": [
      "\u001b[1;36m  File \u001b[1;32m\"<ipython-input-13-cef6f0dca4b6>\"\u001b[1;36m, line \u001b[1;32m1\u001b[0m\n\u001b[1;33m    myfun()= 300 # 괄호 있는 함수문은 괄호안에 값을 넣어줘야함\u001b[0m\n\u001b[1;37m    ^\u001b[0m\n\u001b[1;31mSyntaxError\u001b[0m\u001b[1;31m:\u001b[0m cannot assign to function call\n"
     ]
    }
   ],
   "source": [
    "myfun()= 300 # 괄호 있는 함수문은 괄호안에 값을 넣어줘야함"
   ]
  },
  {
   "cell_type": "markdown",
   "id": "2196dcc9",
   "metadata": {},
   "source": [
    "# 2.5 변수"
   ]
  },
  {
   "cell_type": "code",
   "execution_count": 15,
   "id": "a8d46a4c",
   "metadata": {},
   "outputs": [],
   "source": [
    "import keyword # 지시문"
   ]
  },
  {
   "cell_type": "code",
   "execution_count": 16,
   "id": "7e8371ba",
   "metadata": {},
   "outputs": [
    {
     "data": {
      "text/plain": [
       "['False',\n",
       " 'None',\n",
       " 'True',\n",
       " 'and',\n",
       " 'as',\n",
       " 'assert',\n",
       " 'async',\n",
       " 'await',\n",
       " 'break',\n",
       " 'class',\n",
       " 'continue',\n",
       " 'def',\n",
       " 'del',\n",
       " 'elif',\n",
       " 'else',\n",
       " 'except',\n",
       " 'finally',\n",
       " 'for',\n",
       " 'from',\n",
       " 'global',\n",
       " 'if',\n",
       " 'import',\n",
       " 'in',\n",
       " 'is',\n",
       " 'lambda',\n",
       " 'nonlocal',\n",
       " 'not',\n",
       " 'or',\n",
       " 'pass',\n",
       " 'raise',\n",
       " 'return',\n",
       " 'try',\n",
       " 'while',\n",
       " 'with',\n",
       " 'yield']"
      ]
     },
     "execution_count": 16,
     "metadata": {},
     "output_type": "execute_result"
    }
   ],
   "source": [
    "keyword.kwlist"
   ]
  },
  {
   "cell_type": "code",
   "execution_count": 17,
   "id": "d2f5b74d",
   "metadata": {},
   "outputs": [
    {
     "data": {
      "text/plain": [
       "35"
      ]
     },
     "execution_count": 17,
     "metadata": {},
     "output_type": "execute_result"
    }
   ],
   "source": [
    "len(keyword.kwlist)"
   ]
  },
  {
   "cell_type": "code",
   "execution_count": 18,
   "id": "73d02287",
   "metadata": {},
   "outputs": [
    {
     "name": "stdout",
     "output_type": "stream",
     "text": [
      "7\n"
     ]
    }
   ],
   "source": [
    "a=7\n",
    "print(a)"
   ]
  },
  {
   "cell_type": "code",
   "execution_count": 22,
   "id": "1b9176f8",
   "metadata": {},
   "outputs": [
    {
     "data": {
      "text/plain": [
       "(7, 8)"
      ]
     },
     "execution_count": 22,
     "metadata": {},
     "output_type": "execute_result"
    }
   ],
   "source": [
    "b = 8\n",
    "a,b"
   ]
  },
  {
   "cell_type": "code",
   "execution_count": 23,
   "id": "25412d54",
   "metadata": {},
   "outputs": [
    {
     "data": {
      "text/plain": [
       "(int, True, True)"
      ]
     },
     "execution_count": 23,
     "metadata": {},
     "output_type": "execute_result"
    }
   ],
   "source": [
    "type(7), type(7) == int, isinstance(7,int)"
   ]
  },
  {
   "cell_type": "code",
   "execution_count": 24,
   "id": "017d0cbf",
   "metadata": {},
   "outputs": [
    {
     "data": {
      "text/plain": [
       "(int, float, str)"
      ]
     },
     "execution_count": 24,
     "metadata": {},
     "output_type": "execute_result"
    }
   ],
   "source": [
    "type(a), type(99.9), type(\"abc\")"
   ]
  },
  {
   "cell_type": "markdown",
   "id": "3cba340d",
   "metadata": {},
   "source": [
    "## 복사"
   ]
  },
  {
   "cell_type": "code",
   "execution_count": 26,
   "id": "ba84d545",
   "metadata": {},
   "outputs": [
    {
     "data": {
      "text/plain": [
       "(29, 5)"
      ]
     },
     "execution_count": 26,
     "metadata": {},
     "output_type": "execute_result"
    }
   ],
   "source": [
    "x = 5\n",
    "y = x\n",
    "x = 29\n",
    "x, y"
   ]
  },
  {
   "cell_type": "markdown",
   "id": "152a834d",
   "metadata": {},
   "source": [
    "a = () {} [] # 무한대로 할당할수있음"
   ]
  },
  {
   "cell_type": "code",
   "execution_count": 28,
   "id": "0f268aa2",
   "metadata": {},
   "outputs": [
    {
     "data": {
      "text/plain": [
       "([2, 4, 6], [2, 4, 6])"
      ]
     },
     "execution_count": 28,
     "metadata": {},
     "output_type": "execute_result"
    }
   ],
   "source": [
    "a = [2,4,6]\n",
    "b = a\n",
    "a, b"
   ]
  },
  {
   "cell_type": "code",
   "execution_count": 29,
   "id": "e1daccc5",
   "metadata": {},
   "outputs": [
    {
     "data": {
      "text/plain": [
       "([99, 4, 6], [99, 4, 6])"
      ]
     },
     "execution_count": 29,
     "metadata": {},
     "output_type": "execute_result"
    }
   ],
   "source": [
    "a[0] = 99 # '='은 대입문이므로 값을 지정\n",
    "a, b "
   ]
  },
  {
   "cell_type": "code",
   "execution_count": 31,
   "id": "8d765d9c",
   "metadata": {},
   "outputs": [
    {
     "data": {
      "text/plain": [
       "(1761497684160, 1761497684160)"
      ]
     },
     "execution_count": 31,
     "metadata": {},
     "output_type": "execute_result"
    }
   ],
   "source": [
    "id(a), id(b)"
   ]
  },
  {
   "cell_type": "code",
   "execution_count": 32,
   "id": "ead175b6",
   "metadata": {},
   "outputs": [
    {
     "data": {
      "text/plain": [
       "(140730160196272, 140730160195504)"
      ]
     },
     "execution_count": 32,
     "metadata": {},
     "output_type": "execute_result"
    }
   ],
   "source": [
    "id(x), id(y)"
   ]
  },
  {
   "cell_type": "code",
   "execution_count": 33,
   "id": "f579daff",
   "metadata": {},
   "outputs": [
    {
     "data": {
      "text/plain": [
       "(140730160196272, 140730160195504)"
      ]
     },
     "execution_count": 33,
     "metadata": {},
     "output_type": "execute_result"
    }
   ],
   "source": [
    "id(x), id(y)"
   ]
  },
  {
   "cell_type": "code",
   "execution_count": 34,
   "id": "fe6446cb",
   "metadata": {},
   "outputs": [],
   "source": [
    "b = a[:]"
   ]
  },
  {
   "cell_type": "code",
   "execution_count": 35,
   "id": "0d1d7fcf",
   "metadata": {},
   "outputs": [
    {
     "data": {
      "text/plain": [
       "(1761497684160, 1761498084480)"
      ]
     },
     "execution_count": 35,
     "metadata": {},
     "output_type": "execute_result"
    }
   ],
   "source": [
    "id(a), id(b)"
   ]
  },
  {
   "cell_type": "code",
   "execution_count": 36,
   "id": "a793d974",
   "metadata": {},
   "outputs": [
    {
     "data": {
      "text/plain": [
       "([100, 4, 6], [99, 4, 6])"
      ]
     },
     "execution_count": 36,
     "metadata": {},
     "output_type": "execute_result"
    }
   ],
   "source": [
    "a[0] = 100\n",
    "a, b"
   ]
  },
  {
   "cell_type": "markdown",
   "id": "c074f431",
   "metadata": {},
   "source": [
    "# 2.11 좋은이름 naming convention"
   ]
  },
  {
   "cell_type": "markdown",
   "id": "cd762e60",
   "metadata": {},
   "source": [
    "number_of_loons = 0\n",
    "gaviidae_inventory = 0\n",
    "numm_loons = 0 # snaks\n",
    "numberdfFields = 0 #camel\n",
    "MyClass  # pascal # _를 사용하거나 대소문자 구분으로 이름생성"
   ]
  },
  {
   "cell_type": "markdown",
   "id": "808504f8",
   "metadata": {},
   "source": [
    "# 3.  숫자 p.75"
   ]
  },
  {
   "cell_type": "code",
   "execution_count": 38,
   "id": "779b79c5",
   "metadata": {},
   "outputs": [
    {
     "data": {
      "text/plain": [
       "(True, False, 42, 4, 145)"
      ]
     },
     "execution_count": 38,
     "metadata": {},
     "output_type": "execute_result"
    }
   ],
   "source": [
    "True, False, 42, 4, 145 # 사용자가 변수지정없이 사용한 값 -> 리터럴"
   ]
  },
  {
   "cell_type": "code",
   "execution_count": 39,
   "id": "2b363274",
   "metadata": {},
   "outputs": [
    {
     "data": {
      "text/plain": [
       "100"
      ]
     },
     "execution_count": 39,
     "metadata": {},
     "output_type": "execute_result"
    }
   ],
   "source": [
    "100"
   ]
  },
  {
   "cell_type": "code",
   "execution_count": 40,
   "id": "a05adb3b",
   "metadata": {},
   "outputs": [
    {
     "data": {
      "text/plain": [
       "(0, 0.0, False)"
      ]
     },
     "execution_count": 40,
     "metadata": {},
     "output_type": "execute_result"
    }
   ],
   "source": [
    "int(), float(), bool()"
   ]
  },
  {
   "cell_type": "code",
   "execution_count": 42,
   "id": "bb665ba1",
   "metadata": {},
   "outputs": [
    {
     "data": {
      "text/plain": [
       "(100, True, 100.5, True, False, False)"
      ]
     },
     "execution_count": 42,
     "metadata": {},
     "output_type": "execute_result"
    }
   ],
   "source": [
    "x = 100.5\n",
    "int(x), bool(x), float(x), bool(-45), bool(0), bool(0.0) # 0을 제외한 모든 숫자는 true 뜸 "
   ]
  },
  {
   "cell_type": "code",
   "execution_count": null,
   "id": "d56f1fd4",
   "metadata": {},
   "outputs": [],
   "source": [
    "5, 0, -100, +123, 05 # 숫자 0을 써서 시작하는거 안됨"
   ]
  },
  {
   "cell_type": "code",
   "execution_count": 44,
   "id": "ec8b0609",
   "metadata": {},
   "outputs": [
    {
     "data": {
      "text/plain": [
       "(1, 0, 0)"
      ]
     },
     "execution_count": 44,
     "metadata": {},
     "output_type": "execute_result"
    }
   ],
   "source": [
    "1,000,000 # ,를 튜플로 인식"
   ]
  },
  {
   "cell_type": "code",
   "execution_count": 45,
   "id": "18e3b8ca",
   "metadata": {},
   "outputs": [
    {
     "data": {
      "text/plain": [
       "(1, 0, 0, 1000000)"
      ]
     },
     "execution_count": 45,
     "metadata": {},
     "output_type": "execute_result"
    }
   ],
   "source": [
    "1,000,000, 1_000_000 # 숫자 표현해주고 싶으면 언더바 넣어줌"
   ]
  },
  {
   "cell_type": "code",
   "execution_count": 46,
   "id": "5fadabdc",
   "metadata": {},
   "outputs": [
    {
     "data": {
      "text/plain": [
       "(13, 80, 28, 3.5, 3, 1, 81)"
      ]
     },
     "execution_count": 46,
     "metadata": {},
     "output_type": "execute_result"
    }
   ],
   "source": [
    "5+8, 90-10, 4*7, 7/2, 7//2, 7%3, 3**4"
   ]
  },
  {
   "cell_type": "code",
   "execution_count": 47,
   "id": "52318748",
   "metadata": {},
   "outputs": [
    {
     "data": {
      "text/plain": [
       "19"
      ]
     },
     "execution_count": 47,
     "metadata": {},
     "output_type": "execute_result"
    }
   ],
   "source": [
    "5+8+3*2 # 연산자 우선순위 있음"
   ]
  },
  {
   "cell_type": "code",
   "execution_count": 48,
   "id": "2c6f9e93",
   "metadata": {},
   "outputs": [],
   "source": [
    "# 5/0 ??"
   ]
  },
  {
   "cell_type": "code",
   "execution_count": 49,
   "id": "fe021bac",
   "metadata": {},
   "outputs": [
    {
     "data": {
      "text/plain": [
       "92"
      ]
     },
     "execution_count": 49,
     "metadata": {},
     "output_type": "execute_result"
    }
   ],
   "source": [
    "a = 95\n",
    "a = a -3  # 자기자신 연산 가능\n",
    "a"
   ]
  },
  {
   "cell_type": "code",
   "execution_count": 50,
   "id": "11fa0517",
   "metadata": {},
   "outputs": [
    {
     "ename": "SyntaxError",
     "evalue": "invalid syntax (<ipython-input-50-0036fc6dba23>, line 1)",
     "output_type": "error",
     "traceback": [
      "\u001b[1;36m  File \u001b[1;32m\"<ipython-input-50-0036fc6dba23>\"\u001b[1;36m, line \u001b[1;32m1\u001b[0m\n\u001b[1;33m    a==3, a *=3 , a/=3, a +=3\u001b[0m\n\u001b[1;37m                   ^\u001b[0m\n\u001b[1;31mSyntaxError\u001b[0m\u001b[1;31m:\u001b[0m invalid syntax\n"
     ]
    }
   ],
   "source": [
    "a==3, a *=3 , a/=3, a +=3"
   ]
  },
  {
   "cell_type": "code",
   "execution_count": 52,
   "id": "1962804c",
   "metadata": {},
   "outputs": [
    {
     "data": {
      "text/plain": [
       "(2, 1)"
      ]
     },
     "execution_count": 52,
     "metadata": {},
     "output_type": "execute_result"
    }
   ],
   "source": [
    "divmod(9,4)"
   ]
  },
  {
   "cell_type": "markdown",
   "id": "f2847b6f",
   "metadata": {},
   "source": [
    "# 문자함수 p.86"
   ]
  },
  {
   "cell_type": "code",
   "execution_count": 55,
   "id": "64a1dc8d",
   "metadata": {},
   "outputs": [
    {
     "data": {
      "text/plain": [
       "(65, 'A', 'D')"
      ]
     },
     "execution_count": 55,
     "metadata": {},
     "output_type": "execute_result"
    }
   ],
   "source": [
    "ord('A'), chr(65), chr(ord('B')+2) # chr() 컹퓨터에 저장되어있던 숫자를 문자로 변환해줌"
   ]
  },
  {
   "cell_type": "code",
   "execution_count": 59,
   "id": "6ac19dd6",
   "metadata": {},
   "outputs": [
    {
     "data": {
      "text/plain": [
       "(44032, '갊')"
      ]
     },
     "execution_count": 59,
     "metadata": {},
     "output_type": "execute_result"
    }
   ],
   "source": [
    "ord('가'), chr(44032+10) # ord() 컴퓨터에 저장되어있던 숫자로 나옴"
   ]
  },
  {
   "cell_type": "code",
   "execution_count": 64,
   "id": "496d1554",
   "metadata": {},
   "outputs": [
    {
     "data": {
      "text/plain": [
       "0.0005"
      ]
     },
     "execution_count": 64,
     "metadata": {},
     "output_type": "execute_result"
    }
   ],
   "source": [
    "5e1 # 5*(10**1)\n",
    "5e-1 # 5*(10*-1)\n",
    "5e-4 # 5*(10*-4)\n",
    "float(5.0e-4)"
   ]
  },
  {
   "cell_type": "markdown",
   "id": "467d11f6",
   "metadata": {},
   "source": [
    "# 4.3 조건문  if elif else"
   ]
  },
  {
   "cell_type": "code",
   "execution_count": 65,
   "id": "c598d5b4",
   "metadata": {},
   "outputs": [],
   "source": [
    "# 파이썬은 문장 들여쓰기를 해아함"
   ]
  },
  {
   "cell_type": "code",
   "execution_count": 76,
   "id": "1e7c03a7",
   "metadata": {},
   "outputs": [
    {
     "name": "stdout",
     "output_type": "stream",
     "text": [
      "Wow!\n",
      "If문 탈출!\n"
     ]
    }
   ],
   "source": [
    "if True : \n",
    "    # TF나오는 조건문 작성\n",
    "    print(\"Wow!\")\n",
    "    \n",
    "# 끝내고 싶으면 들여쓰기 나가줌 \n",
    "else :\n",
    "    print(\"Woo!\")\n",
    "print(\"If문 탈출!\")\n"
   ]
  },
  {
   "cell_type": "markdown",
   "id": "57a46dca",
   "metadata": {},
   "source": [
    "==, !=, <, <=, >, >=, and, or, not"
   ]
  },
  {
   "cell_type": "code",
   "execution_count": 70,
   "id": "ad9c05ed",
   "metadata": {},
   "outputs": [
    {
     "data": {
      "text/plain": [
       "(False, True, False, False)"
      ]
     },
     "execution_count": 70,
     "metadata": {},
     "output_type": "execute_result"
    }
   ],
   "source": [
    "x=7\n",
    "x==5, x==7, x<5, x>10"
   ]
  },
  {
   "cell_type": "code",
   "execution_count": 71,
   "id": "1db55e9c",
   "metadata": {},
   "outputs": [
    {
     "data": {
      "text/plain": [
       "(True, True, True)"
      ]
     },
     "execution_count": 71,
     "metadata": {},
     "output_type": "execute_result"
    }
   ],
   "source": [
    "5<x and x<10, (5<x) and (x<10), (5<x) or not (x<10)"
   ]
  },
  {
   "cell_type": "code",
   "execution_count": 72,
   "id": "a1dcd91e",
   "metadata": {},
   "outputs": [
    {
     "data": {
      "text/plain": [
       "(False, False, False, False, False, False)"
      ]
     },
     "execution_count": 72,
     "metadata": {},
     "output_type": "execute_result"
    }
   ],
   "source": [
    "bool(None), bool(0), bool(''), bool([]), bool({}), bool(())"
   ]
  },
  {
   "cell_type": "code",
   "execution_count": 75,
   "id": "126a7b70",
   "metadata": {},
   "outputs": [
    {
     "data": {
      "text/plain": [
       "(True, True, True)"
      ]
     },
     "execution_count": 75,
     "metadata": {},
     "output_type": "execute_result"
    }
   ],
   "source": [
    "bool([0]), bool({0}), bool((0,0))"
   ]
  },
  {
   "cell_type": "markdown",
   "id": "607f6597",
   "metadata": {},
   "source": [
    "## membership operator in "
   ]
  },
  {
   "cell_type": "code",
   "execution_count": 78,
   "id": "38bc079c",
   "metadata": {},
   "outputs": [
    {
     "data": {
      "text/plain": [
       "(True, 2, \"I'm happy\")"
      ]
     },
     "execution_count": 78,
     "metadata": {},
     "output_type": "execute_result"
    }
   ],
   "source": [
    "'a' in 'aeiou', 1+1, \"I'm \"+\"happy\" # 괄호 안친 함수를 연산자(operator)라고 부름"
   ]
  },
  {
   "cell_type": "code",
   "execution_count": 79,
   "id": "02201dc4",
   "metadata": {},
   "outputs": [
    {
     "name": "stdout",
     "output_type": "stream",
     "text": [
      "a is a vowel\n"
     ]
    }
   ],
   "source": [
    "if 'a' in 'aeiou':\n",
    "    print('a', 'is a vowel')\n",
    "else :\n",
    "    print (\"포함 안되어 있음\")\n",
    "    "
   ]
  },
  {
   "cell_type": "code",
   "execution_count": 80,
   "id": "5a93d9cb",
   "metadata": {},
   "outputs": [
    {
     "data": {
      "text/plain": [
       "(['a', 'e', 'i', 'o', 'u'],\n",
       " {'a', 'e', 'i', 'o', 'u'},\n",
       " ('a', 'e', 'i', 'o', 'u'))"
      ]
     },
     "execution_count": 80,
     "metadata": {},
     "output_type": "execute_result"
    }
   ],
   "source": [
    "# [] {} () 함수로 넣어줄수있음\n",
    "list('aeiou'), set('aeiou'), tuple('aeiou')"
   ]
  },
  {
   "cell_type": "code",
   "execution_count": 81,
   "id": "0ee630d5",
   "metadata": {},
   "outputs": [
    {
     "data": {
      "text/plain": [
       "True"
      ]
     },
     "execution_count": 81,
     "metadata": {},
     "output_type": "execute_result"
    }
   ],
   "source": [
    "'a' in ['a', 'e', 'i', 'o', 'u'] #list"
   ]
  },
  {
   "cell_type": "code",
   "execution_count": 82,
   "id": "580ebfad",
   "metadata": {},
   "outputs": [
    {
     "data": {
      "text/plain": [
       "True"
      ]
     },
     "execution_count": 82,
     "metadata": {},
     "output_type": "execute_result"
    }
   ],
   "source": [
    "'a' in {'a', 'e', 'i', 'o', 'u'} #set"
   ]
  },
  {
   "cell_type": "code",
   "execution_count": 83,
   "id": "c6a52759",
   "metadata": {},
   "outputs": [
    {
     "data": {
      "text/plain": [
       "True"
      ]
     },
     "execution_count": 83,
     "metadata": {},
     "output_type": "execute_result"
    }
   ],
   "source": [
    "'a' in ('a', 'e', 'i', 'o', 'u') #tuple"
   ]
  },
  {
   "cell_type": "markdown",
   "id": "749c2d9e",
   "metadata": {},
   "source": [
    "## 5. 문자열"
   ]
  },
  {
   "cell_type": "code",
   "execution_count": 85,
   "id": "3ec50f15",
   "metadata": {},
   "outputs": [
    {
     "data": {
      "text/plain": [
       "('snap', 'snap')"
      ]
     },
     "execution_count": 85,
     "metadata": {},
     "output_type": "execute_result"
    }
   ],
   "source": [
    "\"snap\", 'snap' # 쌍따옴표 홀따옴표 구분없음"
   ]
  },
  {
   "cell_type": "code",
   "execution_count": 86,
   "id": "385ba874",
   "metadata": {},
   "outputs": [
    {
     "data": {
      "text/plain": [
       "'\"hi, bye\"'"
      ]
     },
     "execution_count": 86,
     "metadata": {},
     "output_type": "execute_result"
    }
   ],
   "source": [
    "'\"hi, bye\"' # 문자데이터로 안에 넣어주고 싶을때 쓰기위해 두개를 섞어씀\\"
   ]
  },
  {
   "cell_type": "code",
   "execution_count": 89,
   "id": "e265dd05",
   "metadata": {},
   "outputs": [],
   "source": [
    "sing = \"\"\"\n",
    "긴문장도 그대로 저장이 됨\n",
    "문자로 저장은 되지만 변수로 저장은 안되므로 임시데이터 (리터럴)\n",
    "주석문으로 쓰는 경우도 있음\n",
    "하지만 주석문은 아님 문자로 저장되기 때문\n",
    "\"\"\""
   ]
  },
  {
   "cell_type": "code",
   "execution_count": 90,
   "id": "02cbde6e",
   "metadata": {},
   "outputs": [
    {
     "name": "stdout",
     "output_type": "stream",
     "text": [
      "\n",
      "긴문장도 그대로 저장이 됨\n",
      "문자로 저장은 되지만 변수로 저장은 안되므로 임시데이터 (리터럴)\n",
      "주석문으로 쓰는 경우도 있음\n",
      "하지만 주석문은 아님 문자로 저장되기 때문\n",
      "\n"
     ]
    }
   ],
   "source": [
    "print(sing)"
   ]
  },
  {
   "cell_type": "code",
   "execution_count": 92,
   "id": "9c222a7c",
   "metadata": {},
   "outputs": [
    {
     "data": {
      "text/plain": [
       "('98.6', '0.0001', 'False')"
      ]
     },
     "execution_count": 92,
     "metadata": {},
     "output_type": "execute_result"
    }
   ],
   "source": [
    "str(98.6), str(1.0e-4), str(False)"
   ]
  },
  {
   "cell_type": "code",
   "execution_count": 93,
   "id": "1f919262",
   "metadata": {},
   "outputs": [
    {
     "ename": "SyntaxError",
     "evalue": "unexpected character after line continuation character (<ipython-input-93-21e7b76ca6d7>, line 1)",
     "output_type": "error",
     "traceback": [
      "\u001b[1;36m  File \u001b[1;32m\"<ipython-input-93-21e7b76ca6d7>\"\u001b[1;36m, line \u001b[1;32m1\u001b[0m\n\u001b[1;33m    \\n, \\t, \\', \\\"\u001b[0m\n\u001b[1;37m                  ^\u001b[0m\n\u001b[1;31mSyntaxError\u001b[0m\u001b[1;31m:\u001b[0m unexpected character after line continuation character\n"
     ]
    }
   ],
   "source": [
    "\\n, \\t, \\' # 줄바꿈"
   ]
  },
  {
   "cell_type": "code",
   "execution_count": 96,
   "id": "b5e5be4c",
   "metadata": {},
   "outputs": [
    {
     "data": {
      "text/plain": [
       "'Type \\\\n to get a new '"
      ]
     },
     "execution_count": 96,
     "metadata": {},
     "output_type": "execute_result"
    }
   ],
   "source": [
    "info=r'Type \\n to get a new '\n",
    "info"
   ]
  },
  {
   "cell_type": "code",
   "execution_count": 97,
   "id": "8a02f914",
   "metadata": {},
   "outputs": [
    {
     "name": "stdout",
     "output_type": "stream",
     "text": [
      "Type \\n to get a new \n"
     ]
    }
   ],
   "source": [
    "print(info)"
   ]
  },
  {
   "cell_type": "code",
   "execution_count": 98,
   "id": "a9269656",
   "metadata": {},
   "outputs": [
    {
     "data": {
      "text/plain": [
       "'그립다 말을 할까'"
      ]
     },
     "execution_count": 98,
     "metadata": {},
     "output_type": "execute_result"
    }
   ],
   "source": [
    "\"그립다 \"+ \"말을 할까\"\n",
    "\"그립다 \"\"말을 할까\""
   ]
  },
  {
   "cell_type": "code",
   "execution_count": 99,
   "id": "c41c6f65",
   "metadata": {},
   "outputs": [
    {
     "data": {
      "text/plain": [
       "'===================================================================================================='"
      ]
     },
     "execution_count": 99,
     "metadata": {},
     "output_type": "execute_result"
    }
   ],
   "source": [
    "\"=\"*100"
   ]
  },
  {
   "cell_type": "code",
   "execution_count": 100,
   "id": "dd8fade6",
   "metadata": {},
   "outputs": [
    {
     "data": {
      "text/plain": [
       "('====================', '--------------------')"
      ]
     },
     "execution_count": 100,
     "metadata": {},
     "output_type": "execute_result"
    }
   ],
   "source": [
    "\"=\"*20, 20*\"-\""
   ]
  },
  {
   "cell_type": "code",
   "execution_count": 101,
   "id": "d773c022",
   "metadata": {},
   "outputs": [],
   "source": [
    "letters = 'abcdefghijklmnopqrstuvwxyz'"
   ]
  },
  {
   "cell_type": "code",
   "execution_count": 108,
   "id": "3f6d1ad7",
   "metadata": {},
   "outputs": [
    {
     "data": {
      "text/plain": [
       "('a', 'z', 'y')"
      ]
     },
     "execution_count": 108,
     "metadata": {},
     "output_type": "execute_result"
    }
   ],
   "source": [
    "letters[0], letters[-1], letters[-2] #뒤부터 읽음"
   ]
  },
  {
   "cell_type": "code",
   "execution_count": 110,
   "id": "5b703a26",
   "metadata": {},
   "outputs": [
    {
     "data": {
      "text/plain": [
       "'defghijklmnopqrstuvwxy'"
      ]
     },
     "execution_count": 110,
     "metadata": {},
     "output_type": "execute_result"
    }
   ],
   "source": [
    "letters[3:-1]\n",
    "# 처음부터 마지막까지 (-1은 무조건 마지막을 나타냄)"
   ]
  },
  {
   "cell_type": "code",
   "execution_count": 113,
   "id": "0662e306",
   "metadata": {},
   "outputs": [
    {
     "data": {
      "text/plain": [
       "'acegikmoqsuwy'"
      ]
     },
     "execution_count": 113,
     "metadata": {},
     "output_type": "execute_result"
    }
   ],
   "source": [
    "letters[0::2] # 처음부터 두칸씩 떼고(step) 데이터 긁어옴 "
   ]
  },
  {
   "cell_type": "code",
   "execution_count": 116,
   "id": "49ead6ae",
   "metadata": {},
   "outputs": [
    {
     "data": {
      "text/plain": [
       "'zyxwvutsrqponmlkjihgfedcba'"
      ]
     },
     "execution_count": 116,
     "metadata": {},
     "output_type": "execute_result"
    }
   ],
   "source": [
    "letters[::-1] "
   ]
  },
  {
   "cell_type": "code",
   "execution_count": 117,
   "id": "37048ed2",
   "metadata": {},
   "outputs": [
    {
     "data": {
      "text/plain": [
       "'ehknqt'"
      ]
     },
     "execution_count": 117,
     "metadata": {},
     "output_type": "execute_result"
    }
   ],
   "source": [
    "letters[4:20:3]"
   ]
  },
  {
   "cell_type": "code",
   "execution_count": 118,
   "id": "17026ca3",
   "metadata": {},
   "outputs": [
    {
     "data": {
      "text/plain": [
       "'happy day'"
      ]
     },
     "execution_count": 118,
     "metadata": {},
     "output_type": "execute_result"
    }
   ],
   "source": [
    "'happy day' # 리터럴도 변수임 (탭누르면 뜸)"
   ]
  },
  {
   "cell_type": "code",
   "execution_count": 119,
   "id": "399d4787",
   "metadata": {},
   "outputs": [
    {
     "data": {
      "text/plain": [
       "26"
      ]
     },
     "execution_count": 119,
     "metadata": {},
     "output_type": "execute_result"
    }
   ],
   "source": [
    "len(letters) # 데이터 길이"
   ]
  },
  {
   "cell_type": "code",
   "execution_count": 129,
   "id": "867123e5",
   "metadata": {},
   "outputs": [],
   "source": [
    "task = 'get gloves, get mask, give cat vitammins, call ambulance'"
   ]
  },
  {
   "cell_type": "code",
   "execution_count": 130,
   "id": "eea12864",
   "metadata": {},
   "outputs": [
    {
     "data": {
      "text/plain": [
       "['get',\n",
       " 'gloves,',\n",
       " 'get',\n",
       " 'mask,',\n",
       " 'give',\n",
       " 'cat',\n",
       " 'vitammins,',\n",
       " 'call',\n",
       " 'ambulance']"
      ]
     },
     "execution_count": 130,
     "metadata": {},
     "output_type": "execute_result"
    }
   ],
   "source": [
    "task.split()"
   ]
  },
  {
   "cell_type": "code",
   "execution_count": 131,
   "id": "6ffadd56",
   "metadata": {},
   "outputs": [],
   "source": [
    "result = task.split(',') # 함수데이터이므로 저장안하면 날아감"
   ]
  },
  {
   "cell_type": "code",
   "execution_count": 132,
   "id": "8d848565",
   "metadata": {},
   "outputs": [
    {
     "data": {
      "text/plain": [
       "['get gloves', ' get mask', ' give cat vitammins', ' call ambulance']"
      ]
     },
     "execution_count": 132,
     "metadata": {},
     "output_type": "execute_result"
    }
   ],
   "source": [
    "result"
   ]
  },
  {
   "cell_type": "code",
   "execution_count": 143,
   "id": "55f2869c",
   "metadata": {},
   "outputs": [],
   "source": [
    "# [::-1] 마지막부터 거꾸로"
   ]
  },
  {
   "cell_type": "code",
   "execution_count": 144,
   "id": "27fd80b0",
   "metadata": {},
   "outputs": [
    {
     "data": {
      "text/plain": [
       "'gloves'"
      ]
     },
     "execution_count": 144,
     "metadata": {},
     "output_type": "execute_result"
    }
   ],
   "source": [
    "result[0][4:][::-1][::-1]"
   ]
  },
  {
   "cell_type": "code",
   "execution_count": 169,
   "id": "224e5488",
   "metadata": {},
   "outputs": [],
   "source": [
    "fruit = ['apple', 'banana', 'mango', 'dragon fruit']"
   ]
  },
  {
   "cell_type": "code",
   "execution_count": 146,
   "id": "db87985a",
   "metadata": {},
   "outputs": [
    {
     "data": {
      "text/plain": [
       "'apple:banana:mango:dragon fruit'"
      ]
     },
     "execution_count": 146,
     "metadata": {},
     "output_type": "execute_result"
    }
   ],
   "source": [
    "':'.join(fruit) # split 과 반대 :로 리스트를 붙임"
   ]
  },
  {
   "cell_type": "code",
   "execution_count": 170,
   "id": "768432aa",
   "metadata": {},
   "outputs": [
    {
     "data": {
      "text/plain": [
       "'apple banana mango dragon fruit'"
      ]
     },
     "execution_count": 170,
     "metadata": {},
     "output_type": "execute_result"
    }
   ],
   "source": [
    "' '.join(fruit)"
   ]
  },
  {
   "cell_type": "code",
   "execution_count": 162,
   "id": "b28bd6bc",
   "metadata": {},
   "outputs": [
    {
     "data": {
      "text/plain": [
       "'apple potato mango dragon fruit'"
      ]
     },
     "execution_count": 162,
     "metadata": {},
     "output_type": "execute_result"
    }
   ],
   "source": [
    "fruit_s='apple banana mango dragon fruit'\n",
    "fruit_s.replace('banana', 'potato')"
   ]
  },
  {
   "cell_type": "code",
   "execution_count": 155,
   "id": "f37c0595",
   "metadata": {},
   "outputs": [],
   "source": [
    "world = \"  earth \""
   ]
  },
  {
   "cell_type": "code",
   "execution_count": 156,
   "id": "80ad055e",
   "metadata": {},
   "outputs": [
    {
     "data": {
      "text/plain": [
       "('earth', 'earth ', '  earth')"
      ]
     },
     "execution_count": 156,
     "metadata": {},
     "output_type": "execute_result"
    }
   ],
   "source": [
    "world.strip(), world.lstrip(), world.rstrip()"
   ]
  },
  {
   "cell_type": "code",
   "execution_count": 163,
   "id": "76edd162",
   "metadata": {},
   "outputs": [
    {
     "data": {
      "text/plain": [
       "'apple banana'"
      ]
     },
     "execution_count": 163,
     "metadata": {},
     "output_type": "execute_result"
    }
   ],
   "source": [
    "fruit_s[:12]"
   ]
  },
  {
   "cell_type": "code",
   "execution_count": 166,
   "id": "5c260cce",
   "metadata": {},
   "outputs": [
    {
     "data": {
      "text/plain": [
       "(True, False)"
      ]
     },
     "execution_count": 166,
     "metadata": {},
     "output_type": "execute_result"
    }
   ],
   "source": [
    "fruit_s.startswith(\"a\"), fruit_s.endswith(\"drago\") # 처음이나 끝의 글자가 맞는지 알려줌"
   ]
  },
  {
   "cell_type": "code",
   "execution_count": 167,
   "id": "7bc99599",
   "metadata": {},
   "outputs": [
    {
     "data": {
      "text/plain": [
       "6"
      ]
     },
     "execution_count": 167,
     "metadata": {},
     "output_type": "execute_result"
    }
   ],
   "source": [
    "fruit_s.find(\"banana\") # 위치를 알려줌 인덱스값"
   ]
  },
  {
   "cell_type": "code",
   "execution_count": 168,
   "id": "74fc6792",
   "metadata": {},
   "outputs": [
    {
     "data": {
      "text/plain": [
       "-1"
      ]
     },
     "execution_count": 168,
     "metadata": {},
     "output_type": "execute_result"
    }
   ],
   "source": [
    "fruit_s.find(\"pine\") # -1값은 없다는 뜻"
   ]
  },
  {
   "cell_type": "code",
   "execution_count": null,
   "id": "a06aaf01",
   "metadata": {},
   "outputs": [],
   "source": []
  }
 ],
 "metadata": {
  "kernelspec": {
   "display_name": "Python 3",
   "language": "python",
   "name": "python3"
  },
  "language_info": {
   "codemirror_mode": {
    "name": "ipython",
    "version": 3
   },
   "file_extension": ".py",
   "mimetype": "text/x-python",
   "name": "python",
   "nbconvert_exporter": "python",
   "pygments_lexer": "ipython3",
   "version": "3.8.8"
  }
 },
 "nbformat": 4,
 "nbformat_minor": 5
}
