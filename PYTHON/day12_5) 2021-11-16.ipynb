{
 "cells": [
  {
   "cell_type": "code",
   "execution_count": 8,
   "id": "8a0bfb75",
   "metadata": {},
   "outputs": [],
   "source": [
    "import numpy as np\n",
    "from sympy import Symbol, solve, Derivative, diff"
   ]
  },
  {
   "cell_type": "markdown",
   "id": "2a86048a",
   "metadata": {},
   "source": [
    "# 선형대수학 (Linear algebra)"
   ]
  },
  {
   "cell_type": "markdown",
   "id": "48cb7f00",
   "metadata": {},
   "source": [
    "### 리스트\n",
    "- 데이터형의 혼합가능\n",
    "- 차원 혼합가능\n",
    "- 리스트연산 : + (연결), *n (반복)\n",
    "    \n",
    "### numpy 배열 = 행열= 매트릭스\n",
    "- 데이터형의 혼합 x, 한가지 데이터형만 가능\n",
    "- n 차원인 경우 각 행의 원소수가 같아야함\n",
    "- 행열 연산"
   ]
  },
  {
   "cell_type": "code",
   "execution_count": 2,
   "id": "b9ae08ec",
   "metadata": {},
   "outputs": [
    {
     "data": {
      "text/plain": [
       "[1, True, '홍길동', 4.56]"
      ]
     },
     "execution_count": 2,
     "metadata": {},
     "output_type": "execute_result"
    }
   ],
   "source": [
    "mylist = [ 1, True, '홍길동',4.56]\n",
    "mylist"
   ]
  },
  {
   "cell_type": "code",
   "execution_count": 3,
   "id": "ef534018",
   "metadata": {},
   "outputs": [
    {
     "data": {
      "text/plain": [
       "[[1, 2, 3], [True, False], '홍길동', 4.56]"
      ]
     },
     "execution_count": 3,
     "metadata": {},
     "output_type": "execute_result"
    }
   ],
   "source": [
    "mylist = [ [1,2,3], [True,False], '홍길동',4.56]\n",
    "mylist"
   ]
  },
  {
   "cell_type": "code",
   "execution_count": 4,
   "id": "2c719bfd",
   "metadata": {},
   "outputs": [
    {
     "data": {
      "text/plain": [
       "[1, 2, 3, 4, 5, 4, 5, 10, 20]"
      ]
     },
     "execution_count": 4,
     "metadata": {},
     "output_type": "execute_result"
    }
   ],
   "source": [
    "# 리스트연산 : +\n",
    "list1 = [1, 2, 3, 4, 5]\n",
    "list2 = [4, 5, 10, 20]\n",
    "list1+list2    # [1, 2, 3, 4, 5, 4, 5, 10, 20]"
   ]
  },
  {
   "cell_type": "code",
   "execution_count": 5,
   "id": "29aa245c",
   "metadata": {},
   "outputs": [
    {
     "data": {
      "text/plain": [
       "[1, 2, 3, 4, 5, 1, 2, 3, 4, 5, 1, 2, 3, 4, 5]"
      ]
     },
     "execution_count": 5,
     "metadata": {},
     "output_type": "execute_result"
    }
   ],
   "source": [
    "# 리스트연산 : *n\n",
    "list1*3  # [1, 2, 3, 4, 5, 1, 2, 3, 4, 5, 1, 2, 3, 4, 5]"
   ]
  },
  {
   "cell_type": "code",
   "execution_count": null,
   "id": "2dae1a82",
   "metadata": {},
   "outputs": [],
   "source": [
    "# numpy 배열 생성\n",
    "np.array(리스트)\n",
    "\n",
    "# 속성\n",
    "- shape : 구조\n",
    "- size : 길이\n",
    "- dtype : 데이터형\n",
    "- ndim :차원"
   ]
  },
  {
   "cell_type": "code",
   "execution_count": 9,
   "id": "ed35daf7",
   "metadata": {},
   "outputs": [],
   "source": [
    "# 1차원\n",
    "arr1 = np.array([1,2,10,5,9])\n",
    "# 2차원 = 3*3\n",
    "arr2 = np.array([[1,2,3], [4,5,6], [7,8,9]])"
   ]
  },
  {
   "cell_type": "code",
   "execution_count": 10,
   "id": "bee9bc61",
   "metadata": {},
   "outputs": [
    {
     "name": "stdout",
     "output_type": "stream",
     "text": [
      "[ 1  2 10  5  9]\n"
     ]
    },
    {
     "data": {
      "text/plain": [
       "array([ 1,  2, 10,  5,  9])"
      ]
     },
     "execution_count": 10,
     "metadata": {},
     "output_type": "execute_result"
    }
   ],
   "source": [
    "print(arr1)\n",
    "arr1"
   ]
  },
  {
   "cell_type": "code",
   "execution_count": 12,
   "id": "4f806ca7",
   "metadata": {},
   "outputs": [
    {
     "data": {
      "text/plain": [
       "(1, (5,), 5, dtype('int32'))"
      ]
     },
     "execution_count": 12,
     "metadata": {},
     "output_type": "execute_result"
    }
   ],
   "source": [
    "arr1.ndim, # 차원\n",
    "arr1.shape, # 튜플 반환\n",
    "arr1.size, # 몇개\n",
    "arr1.dtype #데이터타입(비트수)"
   ]
  },
  {
   "cell_type": "code",
   "execution_count": 13,
   "id": "c6ceefc9",
   "metadata": {},
   "outputs": [],
   "source": [
    "arr3 = np.array([1,2,10,5,9.5])"
   ]
  },
  {
   "cell_type": "code",
   "execution_count": 16,
   "id": "d983db64",
   "metadata": {},
   "outputs": [
    {
     "data": {
      "text/plain": [
       "(1, (5,), 5, dtype('float64'))"
      ]
     },
     "execution_count": 16,
     "metadata": {},
     "output_type": "execute_result"
    }
   ],
   "source": [
    "arr3.dtype # dtype('float64')"
   ]
  },
  {
   "cell_type": "code",
   "execution_count": 19,
   "id": "b21c9e36",
   "metadata": {},
   "outputs": [
    {
     "name": "stdout",
     "output_type": "stream",
     "text": [
      "[[1 2 3]\n",
      " [4 5 6]\n",
      " [7 8 9]]\n"
     ]
    },
    {
     "data": {
      "text/plain": [
       "(2, (3, 3), 9, dtype('int32'))"
      ]
     },
     "execution_count": 19,
     "metadata": {},
     "output_type": "execute_result"
    }
   ],
   "source": [
    "print(arr2)\n",
    "arr2.ndim, # 차원\n",
    "arr2.shape, # 튜플 반환\n",
    "arr2.size, # 전체개수   # len(list) -> 행수\n",
    "arr2.dtype"
   ]
  },
  {
   "cell_type": "markdown",
   "id": "01b8b726",
   "metadata": {},
   "source": [
    "## 초기값지정이 된 넘파이 배열생성\n",
    "\n",
    "- np.zeros(n) :n개로 구성된 넘파이 배열생성, 값은 모두 0\n",
    "- np.zeros([n,m]) : n*m개로 구성된 넘파이 배열생성, 값은 모두 0\n",
    "- np.ones(n) :n개로 구성된 넘파이 배열생성, 값은 모두 1\n",
    "- np.ones([n,m]) : n*m개로 구성된 넘파이 배열생성, 값은 모두 1\n",
    "- np.eye(n) : 대각선이 1이고 나머지가 0인 배열생성\n",
    "- np.tri(n) :대각선이 1이고, 대각선 기준 아래가 1 위가 0인 배열생성\n",
    "- np.arange(start,end, step) : 순차적인 숫자의 조합으로 배열생성\n",
    "- np.random.randint(start, end, n) : 정수 난수로 구성된 배열생성"
   ]
  },
  {
   "cell_type": "code",
   "execution_count": 20,
   "id": "94aaa935",
   "metadata": {},
   "outputs": [
    {
     "data": {
      "text/plain": [
       "array([0., 0., 0., 0., 0., 0., 0., 0., 0., 0.])"
      ]
     },
     "execution_count": 20,
     "metadata": {},
     "output_type": "execute_result"
    }
   ],
   "source": [
    "np.zeros(10) # 1차원"
   ]
  },
  {
   "cell_type": "code",
   "execution_count": 21,
   "id": "8bf91c7d",
   "metadata": {},
   "outputs": [
    {
     "data": {
      "text/plain": [
       "array([[0., 0.],\n",
       "       [0., 0.]])"
      ]
     },
     "execution_count": 21,
     "metadata": {},
     "output_type": "execute_result"
    }
   ],
   "source": [
    "np.zeros([2,2])  # 2차원"
   ]
  },
  {
   "cell_type": "code",
   "execution_count": 23,
   "id": "1627e73a",
   "metadata": {},
   "outputs": [
    {
     "data": {
      "text/plain": [
       "array([[1., 1.],\n",
       "       [1., 1.]])"
      ]
     },
     "execution_count": 23,
     "metadata": {},
     "output_type": "execute_result"
    }
   ],
   "source": [
    "np.ones([2,2])"
   ]
  },
  {
   "cell_type": "code",
   "execution_count": 24,
   "id": "9d028d06",
   "metadata": {},
   "outputs": [
    {
     "data": {
      "text/plain": [
       "array([[1., 0., 0.],\n",
       "       [0., 1., 0.],\n",
       "       [0., 0., 1.]])"
      ]
     },
     "execution_count": 24,
     "metadata": {},
     "output_type": "execute_result"
    }
   ],
   "source": [
    "np.eye(3)"
   ]
  },
  {
   "cell_type": "code",
   "execution_count": 25,
   "id": "66ef4f4f",
   "metadata": {},
   "outputs": [
    {
     "data": {
      "text/plain": [
       "array([[1., 0., 0., 0.],\n",
       "       [1., 1., 0., 0.],\n",
       "       [1., 1., 1., 0.],\n",
       "       [1., 1., 1., 1.]])"
      ]
     },
     "execution_count": 25,
     "metadata": {},
     "output_type": "execute_result"
    }
   ],
   "source": [
    "np.tri(4)"
   ]
  },
  {
   "cell_type": "code",
   "execution_count": 29,
   "id": "0f5868de",
   "metadata": {},
   "outputs": [
    {
     "data": {
      "text/plain": [
       "array([ 1,  2,  3,  4,  5,  6,  7,  8,  9, 10])"
      ]
     },
     "execution_count": 29,
     "metadata": {},
     "output_type": "execute_result"
    }
   ],
   "source": [
    "# np.arrange(start,end, step)\n",
    "np.arange(1,11)"
   ]
  },
  {
   "cell_type": "code",
   "execution_count": 30,
   "id": "32041192",
   "metadata": {},
   "outputs": [
    {
     "data": {
      "text/plain": [
       "array([ 1,  3,  5,  7,  9, 11, 13, 15, 17, 19, 21, 23, 25, 27, 29, 31, 33,\n",
       "       35, 37, 39, 41, 43, 45, 47, 49, 51, 53, 55, 57, 59, 61, 63, 65, 67,\n",
       "       69, 71, 73, 75, 77, 79, 81, 83, 85, 87, 89, 91, 93, 95, 97, 99])"
      ]
     },
     "execution_count": 30,
     "metadata": {},
     "output_type": "execute_result"
    }
   ],
   "source": [
    "np.arange(1,100, 2)"
   ]
  },
  {
   "cell_type": "code",
   "execution_count": 34,
   "id": "0e6146f0",
   "metadata": {},
   "outputs": [
    {
     "data": {
      "text/plain": [
       "array([[ 1,  2],\n",
       "       [ 3,  4],\n",
       "       [ 5,  6],\n",
       "       [ 7,  8],\n",
       "       [ 9, 10]])"
      ]
     },
     "execution_count": 34,
     "metadata": {},
     "output_type": "execute_result"
    }
   ],
   "source": [
    "# reshape(n, m) : 행열구조 변경\n",
    "# np.arange(1,11).reshape(5,3) -> 오류발생\n",
    "np.arange(1,11).reshape(5,2)"
   ]
  },
  {
   "cell_type": "code",
   "execution_count": 35,
   "id": "c920568a",
   "metadata": {},
   "outputs": [
    {
     "data": {
      "text/plain": [
       "array([44, 93, 58, 82, 79, 97, 58, 41, 90, 80, 44, 90,  6, 66, 76, 90, 58,\n",
       "        5, 96,  8])"
      ]
     },
     "execution_count": 35,
     "metadata": {},
     "output_type": "execute_result"
    }
   ],
   "source": [
    "# 난수 배열\n",
    "# np.random.randint(start, end, n)\n",
    "np.random.randint(1, 100, 20)"
   ]
  },
  {
   "cell_type": "code",
   "execution_count": 36,
   "id": "4650c80a",
   "metadata": {},
   "outputs": [
    {
     "data": {
      "text/plain": [
       "array([[13,  1, 14, 15],\n",
       "       [ 2, 10, 13,  8],\n",
       "       [ 4,  6, 11,  5],\n",
       "       [10, 19,  6, 19],\n",
       "       [ 1,  3,  9,  9]])"
      ]
     },
     "execution_count": 36,
     "metadata": {},
     "output_type": "execute_result"
    }
   ],
   "source": [
    "np.random.randint(1, 20, 20).reshape(5,4)"
   ]
  },
  {
   "cell_type": "markdown",
   "id": "f09f8f7c",
   "metadata": {},
   "source": [
    "# 넘파이 배열의 연산\n",
    "- 같은 자리의 데이터끼리 연산"
   ]
  },
  {
   "cell_type": "code",
   "execution_count": 44,
   "id": "5da2057c",
   "metadata": {},
   "outputs": [],
   "source": [
    "arr1 = np.random.randint(1, 50, 16).reshape(4,4)\n",
    "arr2 = np.random.randint(1, 50, 16).reshape(4,4)"
   ]
  },
  {
   "cell_type": "code",
   "execution_count": 45,
   "id": "dc811138",
   "metadata": {},
   "outputs": [
    {
     "data": {
      "text/plain": [
       "array([[11, 45,  7,  3],\n",
       "       [22, 15, 22, 15],\n",
       "       [46, 23, 16, 34],\n",
       "       [43, 28, 12, 24]])"
      ]
     },
     "execution_count": 45,
     "metadata": {},
     "output_type": "execute_result"
    }
   ],
   "source": [
    "arr1"
   ]
  },
  {
   "cell_type": "code",
   "execution_count": 46,
   "id": "2d3e66da",
   "metadata": {},
   "outputs": [
    {
     "data": {
      "text/plain": [
       "array([[ 2, 43, 10, 49],\n",
       "       [ 3, 23, 13,  7],\n",
       "       [40,  6, 16, 23],\n",
       "       [29, 35, 47, 35]])"
      ]
     },
     "execution_count": 46,
     "metadata": {},
     "output_type": "execute_result"
    }
   ],
   "source": [
    "arr2"
   ]
  },
  {
   "cell_type": "code",
   "execution_count": 47,
   "id": "112ee56a",
   "metadata": {},
   "outputs": [
    {
     "data": {
      "text/plain": [
       "array([[13, 88, 17, 52],\n",
       "       [25, 38, 35, 22],\n",
       "       [86, 29, 32, 57],\n",
       "       [72, 63, 59, 59]])"
      ]
     },
     "execution_count": 47,
     "metadata": {},
     "output_type": "execute_result"
    }
   ],
   "source": [
    "arr1+arr2"
   ]
  },
  {
   "cell_type": "code",
   "execution_count": 49,
   "id": "5bd0019b",
   "metadata": {},
   "outputs": [
    {
     "data": {
      "text/plain": [
       "array([[  9,   2,  -3, -46],\n",
       "       [ 19,  -8,   9,   8],\n",
       "       [  6,  17,   0,  11],\n",
       "       [ 14,  -7, -35, -11]])"
      ]
     },
     "execution_count": 49,
     "metadata": {},
     "output_type": "execute_result"
    }
   ],
   "source": [
    "arr1-arr2"
   ]
  },
  {
   "cell_type": "code",
   "execution_count": 48,
   "id": "468b045a",
   "metadata": {},
   "outputs": [
    {
     "data": {
      "text/plain": [
       "array([[ 1,  2,  7,  3],\n",
       "       [ 1, 15,  9,  1],\n",
       "       [ 6,  5,  0, 11],\n",
       "       [14, 28, 12, 24]], dtype=int32)"
      ]
     },
     "execution_count": 48,
     "metadata": {},
     "output_type": "execute_result"
    }
   ],
   "source": [
    "arr1%arr2"
   ]
  },
  {
   "cell_type": "code",
   "execution_count": 50,
   "id": "95cbe69e",
   "metadata": {},
   "outputs": [
    {
     "data": {
      "text/plain": [
       "array([[5.5       , 1.04651163, 0.7       , 0.06122449],\n",
       "       [7.33333333, 0.65217391, 1.69230769, 2.14285714],\n",
       "       [1.15      , 3.83333333, 1.        , 1.47826087],\n",
       "       [1.48275862, 0.8       , 0.25531915, 0.68571429]])"
      ]
     },
     "execution_count": 50,
     "metadata": {},
     "output_type": "execute_result"
    }
   ],
   "source": [
    "arr1/arr2"
   ]
  },
  {
   "cell_type": "code",
   "execution_count": 51,
   "id": "670c5f4a",
   "metadata": {},
   "outputs": [
    {
     "data": {
      "text/plain": [
       "array([[5, 1, 0, 0],\n",
       "       [7, 0, 1, 2],\n",
       "       [1, 3, 1, 1],\n",
       "       [1, 0, 0, 0]], dtype=int32)"
      ]
     },
     "execution_count": 51,
     "metadata": {},
     "output_type": "execute_result"
    }
   ],
   "source": [
    "arr1//arr2"
   ]
  },
  {
   "cell_type": "code",
   "execution_count": 52,
   "id": "23c002b6",
   "metadata": {},
   "outputs": [
    {
     "data": {
      "text/plain": [
       "array([[11, 22, 46, 43],\n",
       "       [45, 15, 23, 28],\n",
       "       [ 7, 22, 16, 12],\n",
       "       [ 3, 15, 34, 24]])"
      ]
     },
     "execution_count": 52,
     "metadata": {},
     "output_type": "execute_result"
    }
   ],
   "source": [
    "# 전치행열\n",
    "arr1.T"
   ]
  },
  {
   "cell_type": "markdown",
   "id": "f106e1f4",
   "metadata": {},
   "source": [
    "### 행열의 곱 - Dot 연산\n",
    "- np.dot(행열1, 행열2)"
   ]
  },
  {
   "cell_type": "code",
   "execution_count": 54,
   "id": "1c652ccf",
   "metadata": {},
   "outputs": [],
   "source": [
    "# 2행3열\n",
    "arr3 = np.random.randint(1,20,6).reshape(2,3)\n",
    "# 3행2열\n",
    "arr4 = np.random.randint(1,20,6).reshape(3,2)"
   ]
  },
  {
   "cell_type": "code",
   "execution_count": 55,
   "id": "58e9ce53",
   "metadata": {},
   "outputs": [
    {
     "data": {
      "text/plain": [
       "array([[15, 16, 11],\n",
       "       [12, 13,  6]])"
      ]
     },
     "execution_count": 55,
     "metadata": {},
     "output_type": "execute_result"
    }
   ],
   "source": [
    "arr3"
   ]
  },
  {
   "cell_type": "code",
   "execution_count": 56,
   "id": "f3fa86bb",
   "metadata": {},
   "outputs": [
    {
     "data": {
      "text/plain": [
       "array([[ 5, 15],\n",
       "       [14, 13],\n",
       "       [16, 12]])"
      ]
     },
     "execution_count": 56,
     "metadata": {},
     "output_type": "execute_result"
    }
   ],
   "source": [
    "arr4"
   ]
  },
  {
   "cell_type": "code",
   "execution_count": 57,
   "id": "2ef544a2",
   "metadata": {},
   "outputs": [
    {
     "data": {
      "text/plain": [
       "array([[475, 565],\n",
       "       [338, 421]])"
      ]
     },
     "execution_count": 57,
     "metadata": {},
     "output_type": "execute_result"
    }
   ],
   "source": [
    "np.dot(arr3, arr4)"
   ]
  },
  {
   "cell_type": "code",
   "execution_count": 58,
   "id": "cf99e939",
   "metadata": {},
   "outputs": [
    {
     "data": {
      "text/plain": [
       "[1, 2, 3, 4, 5, 1, 2, 3, 4, 5, 1, 2, 3, 4, 5, 1, 2, 3, 4, 5, 1, 2, 3, 4, 5]"
      ]
     },
     "execution_count": 58,
     "metadata": {},
     "output_type": "execute_result"
    }
   ],
   "source": [
    "# 리스트*n\n",
    "[1,2,3,4,5]*5"
   ]
  },
  {
   "cell_type": "code",
   "execution_count": 59,
   "id": "4847c742",
   "metadata": {},
   "outputs": [
    {
     "data": {
      "text/plain": [
       "array([[ 5, 15],\n",
       "       [14, 13],\n",
       "       [16, 12]])"
      ]
     },
     "execution_count": 59,
     "metadata": {},
     "output_type": "execute_result"
    }
   ],
   "source": [
    "# n을 곱한다\n",
    "arr4"
   ]
  },
  {
   "cell_type": "code",
   "execution_count": 60,
   "id": "d9a79b7a",
   "metadata": {},
   "outputs": [
    {
     "data": {
      "text/plain": [
       "array([[25, 75],\n",
       "       [70, 65],\n",
       "       [80, 60]])"
      ]
     },
     "execution_count": 60,
     "metadata": {},
     "output_type": "execute_result"
    }
   ],
   "source": [
    "arr4*5"
   ]
  },
  {
   "cell_type": "markdown",
   "id": "d531ff76",
   "metadata": {},
   "source": [
    "#  넘파이 배열의 인덱싱과 슬라이싱\n",
    "- 인덱싱\n",
    "넘파이배열[row][column]\n",
    "넘파이배열[row, colnumn]\n",
    "\n",
    "- 슬라이싱\n",
    "넘파이배열[start:end:step, start:end:step]"
   ]
  },
  {
   "cell_type": "code",
   "execution_count": null,
   "id": "64df53bb",
   "metadata": {},
   "outputs": [],
   "source": [
    "# 리스트, 딕셔너리, 튜플, 집합\n",
    "# 집합은 인덱싱, 슬라이싱이 안됨"
   ]
  },
  {
   "cell_type": "code",
   "execution_count": 62,
   "id": "200d0ab7",
   "metadata": {},
   "outputs": [
    {
     "data": {
      "text/plain": [
       "array([[ 5, 23,  7, 21, 25],\n",
       "       [11,  1, 14,  5,  3],\n",
       "       [27,  1, 21, 29, 29],\n",
       "       [29,  3, 25,  4, 12],\n",
       "       [21,  2, 16,  9, 20]])"
      ]
     },
     "execution_count": 62,
     "metadata": {},
     "output_type": "execute_result"
    }
   ],
   "source": [
    "arr5 = np.random.randint(1,30,25).reshape(5,5)\n",
    "arr5"
   ]
  },
  {
   "cell_type": "markdown",
   "id": "fd597f98",
   "metadata": {},
   "source": [
    "#### 인덱싱"
   ]
  },
  {
   "cell_type": "code",
   "execution_count": 65,
   "id": "e2f4795e",
   "metadata": {},
   "outputs": [
    {
     "data": {
      "text/plain": [
       "(5, 5)"
      ]
     },
     "execution_count": 65,
     "metadata": {},
     "output_type": "execute_result"
    }
   ],
   "source": [
    "arr5[0,0], arr5[0][0] # 행의 첫번째, 열의 첫번째"
   ]
  },
  {
   "cell_type": "code",
   "execution_count": 66,
   "id": "3d314885",
   "metadata": {},
   "outputs": [
    {
     "data": {
      "text/plain": [
       "20"
      ]
     },
     "execution_count": 66,
     "metadata": {},
     "output_type": "execute_result"
    }
   ],
   "source": [
    "arr5[-1,-1] # 행의 마지막, 열의 마지막"
   ]
  },
  {
   "cell_type": "code",
   "execution_count": 67,
   "id": "a11b0f61",
   "metadata": {},
   "outputs": [
    {
     "data": {
      "text/plain": [
       "25"
      ]
     },
     "execution_count": 67,
     "metadata": {},
     "output_type": "execute_result"
    }
   ],
   "source": [
    "arr5[-2,-3] # 행의 마지막에서 2번째, 열의 마지막에서 3번째"
   ]
  },
  {
   "cell_type": "markdown",
   "id": "c0c211ef",
   "metadata": {},
   "source": [
    "#### 슬라이싱  -> 버리고 싶은곳을 선택"
   ]
  },
  {
   "cell_type": "code",
   "execution_count": 69,
   "id": "c41f4ad3",
   "metadata": {},
   "outputs": [
    {
     "data": {
      "text/plain": [
       "array([[27,  1, 21, 29, 29],\n",
       "       [29,  3, 25,  4, 12],\n",
       "       [21,  2, 16,  9, 20]])"
      ]
     },
     "execution_count": 69,
     "metadata": {},
     "output_type": "execute_result"
    }
   ],
   "source": [
    "# 3행부터 마지막 행까지 출력\n",
    "arr5[2::,::] # 뒤가 생략이면 끝까지라는 뜻"
   ]
  },
  {
   "cell_type": "code",
   "execution_count": 70,
   "id": "ec6b59ef",
   "metadata": {},
   "outputs": [
    {
     "data": {
      "text/plain": [
       "array([[ 7, 21, 25],\n",
       "       [14,  5,  3],\n",
       "       [21, 29, 29],\n",
       "       [25,  4, 12],\n",
       "       [16,  9, 20]])"
      ]
     },
     "execution_count": 70,
     "metadata": {},
     "output_type": "execute_result"
    }
   ],
   "source": [
    "# 3열부터 마지막열까지 출력\n",
    "arr5[::,2::]"
   ]
  },
  {
   "cell_type": "code",
   "execution_count": 71,
   "id": "90ab6be6",
   "metadata": {},
   "outputs": [
    {
     "data": {
      "text/plain": [
       "array([[14,  5,  3],\n",
       "       [21, 29, 29]])"
      ]
     },
     "execution_count": 71,
     "metadata": {},
     "output_type": "execute_result"
    }
   ],
   "source": [
    "# 행과 열을 같이 슬라이싱\n",
    "arr5[1:3:,2::]"
   ]
  },
  {
   "cell_type": "code",
   "execution_count": 72,
   "id": "2ce034b5",
   "metadata": {},
   "outputs": [
    {
     "data": {
      "text/plain": [
       "array([[11,  1, 14,  5,  3],\n",
       "       [29,  3, 25,  4, 12]])"
      ]
     },
     "execution_count": 72,
     "metadata": {},
     "output_type": "execute_result"
    }
   ],
   "source": [
    "# 짝수번째 행 출력\n",
    "arr5[1::2,::]"
   ]
  },
  {
   "cell_type": "code",
   "execution_count": null,
   "id": "5a178ad9",
   "metadata": {},
   "outputs": [],
   "source": []
  },
  {
   "cell_type": "code",
   "execution_count": null,
   "id": "72355b5c",
   "metadata": {},
   "outputs": [],
   "source": []
  }
 ],
 "metadata": {
  "kernelspec": {
   "display_name": "Python 3",
   "language": "python",
   "name": "python3"
  },
  "language_info": {
   "codemirror_mode": {
    "name": "ipython",
    "version": 3
   },
   "file_extension": ".py",
   "mimetype": "text/x-python",
   "name": "python",
   "nbconvert_exporter": "python",
   "pygments_lexer": "ipython3",
   "version": "3.8.8"
  }
 },
 "nbformat": 4,
 "nbformat_minor": 5
}
