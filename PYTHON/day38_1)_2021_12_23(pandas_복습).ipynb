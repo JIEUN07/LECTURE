{
  "nbformat": 4,
  "nbformat_minor": 0,
  "metadata": {
    "colab": {
      "name": "day38_1) 2021-12-23(pandas 복습).ipynb",
      "provenance": [],
      "collapsed_sections": []
    },
    "kernelspec": {
      "name": "python3",
      "display_name": "Python 3"
    },
    "language_info": {
      "name": "python"
    }
  },
  "cells": [
    {
      "cell_type": "code",
      "execution_count": null,
      "metadata": {
        "id": "J2FVnURypWwy"
      },
      "outputs": [],
      "source": [
        "import pandas as pd\n",
        "import numpy as np\n",
        "import matplotlib.pyplot as plt"
      ]
    },
    {
      "cell_type": "markdown",
      "source": [
        "# 데이터 불러오기"
      ],
      "metadata": {
        "id": "xfUSzwwNlvSb"
      }
    },
    {
      "cell_type": "code",
      "source": [
        "df = pd.read_csv('movies_train.csv')\n",
        "df"
      ],
      "metadata": {
        "colab": {
          "base_uri": "https://localhost:8080/",
          "height": 765
        },
        "id": "H_h9mtBrpgtn",
        "outputId": "fbc23cd2-08c4-4e16-ba44-8e2d7321fa62"
      },
      "execution_count": null,
      "outputs": [
        {
          "output_type": "execute_result",
          "data": {
            "text/html": [
              "\n",
              "  <div id=\"df-ef98d649-26cc-4ea1-b3ba-faed8758e77d\">\n",
              "    <div class=\"colab-df-container\">\n",
              "      <div>\n",
              "<style scoped>\n",
              "    .dataframe tbody tr th:only-of-type {\n",
              "        vertical-align: middle;\n",
              "    }\n",
              "\n",
              "    .dataframe tbody tr th {\n",
              "        vertical-align: top;\n",
              "    }\n",
              "\n",
              "    .dataframe thead th {\n",
              "        text-align: right;\n",
              "    }\n",
              "</style>\n",
              "<table border=\"1\" class=\"dataframe\">\n",
              "  <thead>\n",
              "    <tr style=\"text-align: right;\">\n",
              "      <th></th>\n",
              "      <th>title</th>\n",
              "      <th>distributor</th>\n",
              "      <th>genre</th>\n",
              "      <th>release_time</th>\n",
              "      <th>time</th>\n",
              "      <th>screening_rat</th>\n",
              "      <th>director</th>\n",
              "      <th>dir_prev_bfnum</th>\n",
              "      <th>dir_prev_num</th>\n",
              "      <th>num_staff</th>\n",
              "      <th>num_actor</th>\n",
              "      <th>box_off_num</th>\n",
              "    </tr>\n",
              "  </thead>\n",
              "  <tbody>\n",
              "    <tr>\n",
              "      <th>0</th>\n",
              "      <td>개들의 전쟁</td>\n",
              "      <td>롯데엔터테인먼트</td>\n",
              "      <td>액션</td>\n",
              "      <td>2012-11-22</td>\n",
              "      <td>96</td>\n",
              "      <td>청소년 관람불가</td>\n",
              "      <td>조병옥</td>\n",
              "      <td>NaN</td>\n",
              "      <td>0</td>\n",
              "      <td>91</td>\n",
              "      <td>2</td>\n",
              "      <td>23398</td>\n",
              "    </tr>\n",
              "    <tr>\n",
              "      <th>1</th>\n",
              "      <td>내부자들</td>\n",
              "      <td>(주)쇼박스</td>\n",
              "      <td>느와르</td>\n",
              "      <td>2015-11-19</td>\n",
              "      <td>130</td>\n",
              "      <td>청소년 관람불가</td>\n",
              "      <td>우민호</td>\n",
              "      <td>1161602.50</td>\n",
              "      <td>2</td>\n",
              "      <td>387</td>\n",
              "      <td>3</td>\n",
              "      <td>7072501</td>\n",
              "    </tr>\n",
              "    <tr>\n",
              "      <th>2</th>\n",
              "      <td>은밀하게 위대하게</td>\n",
              "      <td>(주)쇼박스</td>\n",
              "      <td>액션</td>\n",
              "      <td>2013-06-05</td>\n",
              "      <td>123</td>\n",
              "      <td>15세 관람가</td>\n",
              "      <td>장철수</td>\n",
              "      <td>220775.25</td>\n",
              "      <td>4</td>\n",
              "      <td>343</td>\n",
              "      <td>4</td>\n",
              "      <td>6959083</td>\n",
              "    </tr>\n",
              "    <tr>\n",
              "      <th>3</th>\n",
              "      <td>나는 공무원이다</td>\n",
              "      <td>(주)NEW</td>\n",
              "      <td>코미디</td>\n",
              "      <td>2012-07-12</td>\n",
              "      <td>101</td>\n",
              "      <td>전체 관람가</td>\n",
              "      <td>구자홍</td>\n",
              "      <td>23894.00</td>\n",
              "      <td>2</td>\n",
              "      <td>20</td>\n",
              "      <td>6</td>\n",
              "      <td>217866</td>\n",
              "    </tr>\n",
              "    <tr>\n",
              "      <th>4</th>\n",
              "      <td>불량남녀</td>\n",
              "      <td>쇼박스(주)미디어플렉스</td>\n",
              "      <td>코미디</td>\n",
              "      <td>2010-11-04</td>\n",
              "      <td>108</td>\n",
              "      <td>15세 관람가</td>\n",
              "      <td>신근호</td>\n",
              "      <td>1.00</td>\n",
              "      <td>1</td>\n",
              "      <td>251</td>\n",
              "      <td>2</td>\n",
              "      <td>483387</td>\n",
              "    </tr>\n",
              "    <tr>\n",
              "      <th>...</th>\n",
              "      <td>...</td>\n",
              "      <td>...</td>\n",
              "      <td>...</td>\n",
              "      <td>...</td>\n",
              "      <td>...</td>\n",
              "      <td>...</td>\n",
              "      <td>...</td>\n",
              "      <td>...</td>\n",
              "      <td>...</td>\n",
              "      <td>...</td>\n",
              "      <td>...</td>\n",
              "      <td>...</td>\n",
              "    </tr>\n",
              "    <tr>\n",
              "      <th>595</th>\n",
              "      <td>해무</td>\n",
              "      <td>(주)NEW</td>\n",
              "      <td>드라마</td>\n",
              "      <td>2014-08-13</td>\n",
              "      <td>111</td>\n",
              "      <td>청소년 관람불가</td>\n",
              "      <td>심성보</td>\n",
              "      <td>3833.00</td>\n",
              "      <td>1</td>\n",
              "      <td>510</td>\n",
              "      <td>7</td>\n",
              "      <td>1475091</td>\n",
              "    </tr>\n",
              "    <tr>\n",
              "      <th>596</th>\n",
              "      <td>파파로티</td>\n",
              "      <td>(주)쇼박스</td>\n",
              "      <td>드라마</td>\n",
              "      <td>2013-03-14</td>\n",
              "      <td>127</td>\n",
              "      <td>15세 관람가</td>\n",
              "      <td>윤종찬</td>\n",
              "      <td>496061.00</td>\n",
              "      <td>1</td>\n",
              "      <td>286</td>\n",
              "      <td>6</td>\n",
              "      <td>1716438</td>\n",
              "    </tr>\n",
              "    <tr>\n",
              "      <th>597</th>\n",
              "      <td>살인의 강</td>\n",
              "      <td>(주)마운틴픽쳐스</td>\n",
              "      <td>공포</td>\n",
              "      <td>2010-09-30</td>\n",
              "      <td>99</td>\n",
              "      <td>청소년 관람불가</td>\n",
              "      <td>김대현</td>\n",
              "      <td>NaN</td>\n",
              "      <td>0</td>\n",
              "      <td>123</td>\n",
              "      <td>4</td>\n",
              "      <td>2475</td>\n",
              "    </tr>\n",
              "    <tr>\n",
              "      <th>598</th>\n",
              "      <td>악의 연대기</td>\n",
              "      <td>CJ 엔터테인먼트</td>\n",
              "      <td>느와르</td>\n",
              "      <td>2015-05-14</td>\n",
              "      <td>102</td>\n",
              "      <td>15세 관람가</td>\n",
              "      <td>백운학</td>\n",
              "      <td>NaN</td>\n",
              "      <td>0</td>\n",
              "      <td>431</td>\n",
              "      <td>4</td>\n",
              "      <td>2192525</td>\n",
              "    </tr>\n",
              "    <tr>\n",
              "      <th>599</th>\n",
              "      <td>베를린</td>\n",
              "      <td>CJ 엔터테인먼트</td>\n",
              "      <td>액션</td>\n",
              "      <td>2013-01-30</td>\n",
              "      <td>120</td>\n",
              "      <td>15세 관람가</td>\n",
              "      <td>류승완</td>\n",
              "      <td>NaN</td>\n",
              "      <td>0</td>\n",
              "      <td>363</td>\n",
              "      <td>5</td>\n",
              "      <td>7166532</td>\n",
              "    </tr>\n",
              "  </tbody>\n",
              "</table>\n",
              "<p>600 rows × 12 columns</p>\n",
              "</div>\n",
              "      <button class=\"colab-df-convert\" onclick=\"convertToInteractive('df-ef98d649-26cc-4ea1-b3ba-faed8758e77d')\"\n",
              "              title=\"Convert this dataframe to an interactive table.\"\n",
              "              style=\"display:none;\">\n",
              "        \n",
              "  <svg xmlns=\"http://www.w3.org/2000/svg\" height=\"24px\"viewBox=\"0 0 24 24\"\n",
              "       width=\"24px\">\n",
              "    <path d=\"M0 0h24v24H0V0z\" fill=\"none\"/>\n",
              "    <path d=\"M18.56 5.44l.94 2.06.94-2.06 2.06-.94-2.06-.94-.94-2.06-.94 2.06-2.06.94zm-11 1L8.5 8.5l.94-2.06 2.06-.94-2.06-.94L8.5 2.5l-.94 2.06-2.06.94zm10 10l.94 2.06.94-2.06 2.06-.94-2.06-.94-.94-2.06-.94 2.06-2.06.94z\"/><path d=\"M17.41 7.96l-1.37-1.37c-.4-.4-.92-.59-1.43-.59-.52 0-1.04.2-1.43.59L10.3 9.45l-7.72 7.72c-.78.78-.78 2.05 0 2.83L4 21.41c.39.39.9.59 1.41.59.51 0 1.02-.2 1.41-.59l7.78-7.78 2.81-2.81c.8-.78.8-2.07 0-2.86zM5.41 20L4 18.59l7.72-7.72 1.47 1.35L5.41 20z\"/>\n",
              "  </svg>\n",
              "      </button>\n",
              "      \n",
              "  <style>\n",
              "    .colab-df-container {\n",
              "      display:flex;\n",
              "      flex-wrap:wrap;\n",
              "      gap: 12px;\n",
              "    }\n",
              "\n",
              "    .colab-df-convert {\n",
              "      background-color: #E8F0FE;\n",
              "      border: none;\n",
              "      border-radius: 50%;\n",
              "      cursor: pointer;\n",
              "      display: none;\n",
              "      fill: #1967D2;\n",
              "      height: 32px;\n",
              "      padding: 0 0 0 0;\n",
              "      width: 32px;\n",
              "    }\n",
              "\n",
              "    .colab-df-convert:hover {\n",
              "      background-color: #E2EBFA;\n",
              "      box-shadow: 0px 1px 2px rgba(60, 64, 67, 0.3), 0px 1px 3px 1px rgba(60, 64, 67, 0.15);\n",
              "      fill: #174EA6;\n",
              "    }\n",
              "\n",
              "    [theme=dark] .colab-df-convert {\n",
              "      background-color: #3B4455;\n",
              "      fill: #D2E3FC;\n",
              "    }\n",
              "\n",
              "    [theme=dark] .colab-df-convert:hover {\n",
              "      background-color: #434B5C;\n",
              "      box-shadow: 0px 1px 3px 1px rgba(0, 0, 0, 0.15);\n",
              "      filter: drop-shadow(0px 1px 2px rgba(0, 0, 0, 0.3));\n",
              "      fill: #FFFFFF;\n",
              "    }\n",
              "  </style>\n",
              "\n",
              "      <script>\n",
              "        const buttonEl =\n",
              "          document.querySelector('#df-ef98d649-26cc-4ea1-b3ba-faed8758e77d button.colab-df-convert');\n",
              "        buttonEl.style.display =\n",
              "          google.colab.kernel.accessAllowed ? 'block' : 'none';\n",
              "\n",
              "        async function convertToInteractive(key) {\n",
              "          const element = document.querySelector('#df-ef98d649-26cc-4ea1-b3ba-faed8758e77d');\n",
              "          const dataTable =\n",
              "            await google.colab.kernel.invokeFunction('convertToInteractive',\n",
              "                                                     [key], {});\n",
              "          if (!dataTable) return;\n",
              "\n",
              "          const docLinkHtml = 'Like what you see? Visit the ' +\n",
              "            '<a target=\"_blank\" href=https://colab.research.google.com/notebooks/data_table.ipynb>data table notebook</a>'\n",
              "            + ' to learn more about interactive tables.';\n",
              "          element.innerHTML = '';\n",
              "          dataTable['output_type'] = 'display_data';\n",
              "          await google.colab.output.renderOutput(dataTable, element);\n",
              "          const docLink = document.createElement('div');\n",
              "          docLink.innerHTML = docLinkHtml;\n",
              "          element.appendChild(docLink);\n",
              "        }\n",
              "      </script>\n",
              "    </div>\n",
              "  </div>\n",
              "  "
            ],
            "text/plain": [
              "         title   distributor genre  ... num_staff  num_actor box_off_num\n",
              "0       개들의 전쟁      롯데엔터테인먼트    액션  ...        91          2       23398\n",
              "1         내부자들        (주)쇼박스   느와르  ...       387          3     7072501\n",
              "2    은밀하게 위대하게        (주)쇼박스    액션  ...       343          4     6959083\n",
              "3     나는 공무원이다        (주)NEW   코미디  ...        20          6      217866\n",
              "4         불량남녀  쇼박스(주)미디어플렉스   코미디  ...       251          2      483387\n",
              "..         ...           ...   ...  ...       ...        ...         ...\n",
              "595         해무        (주)NEW   드라마  ...       510          7     1475091\n",
              "596       파파로티        (주)쇼박스   드라마  ...       286          6     1716438\n",
              "597      살인의 강     (주)마운틴픽쳐스    공포  ...       123          4        2475\n",
              "598     악의 연대기     CJ 엔터테인먼트   느와르  ...       431          4     2192525\n",
              "599        베를린     CJ 엔터테인먼트    액션  ...       363          5     7166532\n",
              "\n",
              "[600 rows x 12 columns]"
            ]
          },
          "metadata": {},
          "execution_count": 2
        }
      ]
    },
    {
      "cell_type": "markdown",
      "source": [
        "# 종속변수 히스토그램"
      ],
      "metadata": {
        "id": "21dTYPWJlxDr"
      }
    },
    {
      "cell_type": "code",
      "source": [
        "plt.hist(df.box_off_num, bins=100, log=False)\n",
        "plt.show()"
      ],
      "metadata": {
        "colab": {
          "base_uri": "https://localhost:8080/",
          "height": 278
        },
        "id": "qapLrK35qHJ9",
        "outputId": "39587f8d-223a-4b55-f7f0-fd78ac7b2945"
      },
      "execution_count": null,
      "outputs": [
        {
          "output_type": "display_data",
          "data": {
            "image/png": "[encoded data removed]",
            "text/plain": [
              "<Figure size 432x288 with 1 Axes>"
            ]
          },
          "metadata": {
            "needs_background": "light"
          }
        }
      ]
    },
    {
      "cell_type": "code",
      "source": [
        "# 종속변수 로그취하고 히스토그램\n",
        "plt.hist(np.log(df.box_off_num), bins=100)\n",
        "plt.show()"
      ],
      "metadata": {
        "colab": {
          "base_uri": "https://localhost:8080/",
          "height": 265
        },
        "id": "p3XpU5YYpgwG",
        "outputId": "c0dcffea-1bc4-451b-f784-21620202fe92"
      },
      "execution_count": null,
      "outputs": [
        {
          "output_type": "display_data",
          "data": {
            "image/png": "[encoded data removed]",
            "text/plain": [
              "<Figure size 432x288 with 1 Axes>"
            ]
          },
          "metadata": {
            "needs_background": "light"
          }
        }
      ]
    },
    {
      "cell_type": "code",
      "source": [
        "print(df.box_off_num)"
      ],
      "metadata": {
        "colab": {
          "base_uri": "https://localhost:8080/"
        },
        "id": "Jgc81C4Spgyg",
        "outputId": "3054ff16-5941-4117-e954-8f3e8d710492"
      },
      "execution_count": null,
      "outputs": [
        {
          "output_type": "stream",
          "name": "stdout",
          "text": [
            "0        23398\n",
            "1      7072501\n",
            "2      6959083\n",
            "3       217866\n",
            "4       483387\n",
            "        ...   \n",
            "595    1475091\n",
            "596    1716438\n",
            "597       2475\n",
            "598    2192525\n",
            "599    7166532\n",
            "Name: box_off_num, Length: 600, dtype: int64\n"
          ]
        }
      ]
    },
    {
      "cell_type": "code",
      "source": [
        "train_df = pd.read_csv('movies_train.csv')\n",
        "train_df.info()"
      ],
      "metadata": {
        "colab": {
          "base_uri": "https://localhost:8080/"
        },
        "id": "5P-Jnfyqpg1K",
        "outputId": "75f97f9f-f504-49ab-8597-918776122dcc"
      },
      "execution_count": null,
      "outputs": [
        {
          "output_type": "stream",
          "name": "stdout",
          "text": [
            "<class 'pandas.core.frame.DataFrame'>\n",
            "RangeIndex: 600 entries, 0 to 599\n",
            "Data columns (total 12 columns):\n",
            " #   Column          Non-Null Count  Dtype  \n",
            "---  ------          --------------  -----  \n",
            " 0   title           600 non-null    object \n",
            " 1   distributor     600 non-null    object \n",
            " 2   genre           600 non-null    object \n",
            " 3   release_time    600 non-null    object \n",
            " 4   time            600 non-null    int64  \n",
            " 5   screening_rat   600 non-null    object \n",
            " 6   director        600 non-null    object \n",
            " 7   dir_prev_bfnum  270 non-null    float64\n",
            " 8   dir_prev_num    600 non-null    int64  \n",
            " 9   num_staff       600 non-null    int64  \n",
            " 10  num_actor       600 non-null    int64  \n",
            " 11  box_off_num     600 non-null    int64  \n",
            "dtypes: float64(1), int64(5), object(6)\n",
            "memory usage: 56.4+ KB\n"
          ]
        }
      ]
    },
    {
      "cell_type": "code",
      "source": [
        "test_df = pd.read_csv('movies_test.csv')\n",
        "test_df.info()"
      ],
      "metadata": {
        "colab": {
          "base_uri": "https://localhost:8080/"
        },
        "id": "S5zoJIGKpg3q",
        "outputId": "1d6cd50e-4074-4c11-ada7-b957ef800e6b"
      },
      "execution_count": null,
      "outputs": [
        {
          "output_type": "stream",
          "name": "stdout",
          "text": [
            "<class 'pandas.core.frame.DataFrame'>\n",
            "RangeIndex: 243 entries, 0 to 242\n",
            "Data columns (total 11 columns):\n",
            " #   Column          Non-Null Count  Dtype  \n",
            "---  ------          --------------  -----  \n",
            " 0   title           243 non-null    object \n",
            " 1   distributor     243 non-null    object \n",
            " 2   genre           243 non-null    object \n",
            " 3   release_time    243 non-null    object \n",
            " 4   time            243 non-null    int64  \n",
            " 5   screening_rat   243 non-null    object \n",
            " 6   director        243 non-null    object \n",
            " 7   dir_prev_bfnum  107 non-null    float64\n",
            " 8   dir_prev_num    243 non-null    int64  \n",
            " 9   num_staff       243 non-null    int64  \n",
            " 10  num_actor       243 non-null    int64  \n",
            "dtypes: float64(1), int64(4), object(6)\n",
            "memory usage: 21.0+ KB\n"
          ]
        }
      ]
    },
    {
      "cell_type": "markdown",
      "source": [
        "# 데이터 병합 (concat)"
      ],
      "metadata": {
        "id": "-BM8MUommGqf"
      }
    },
    {
      "cell_type": "code",
      "source": [
        "df1 = pd.DataFrame({\"AAA\": [4,5,6,7], \"BBB\": [10,20,30,40], \"CCC\": [100,50,-30,-50]})\n",
        "df2 = pd.DataFrame({\"AAA\": [4,5,6,7], \"BBB\": [10,20,30,40]})\n",
        "df3 = pd.concat([df1,df2])\n",
        "df3"
      ],
      "metadata": {
        "colab": {
          "base_uri": "https://localhost:8080/",
          "height": 300
        },
        "id": "pVNX5lpOpg6K",
        "outputId": "d2266f9a-01ea-46b6-f390-22678a3eeee9"
      },
      "execution_count": null,
      "outputs": [
        {
          "output_type": "execute_result",
          "data": {
            "text/html": [
              "\n",
              "  <div id=\"df-44c4eb9c-5572-431f-b9c7-8a9c95574809\">\n",
              "    <div class=\"colab-df-container\">\n",
              "      <div>\n",
              "<style scoped>\n",
              "    .dataframe tbody tr th:only-of-type {\n",
              "        vertical-align: middle;\n",
              "    }\n",
              "\n",
              "    .dataframe tbody tr th {\n",
              "        vertical-align: top;\n",
              "    }\n",
              "\n",
              "    .dataframe thead th {\n",
              "        text-align: right;\n",
              "    }\n",
              "</style>\n",
              "<table border=\"1\" class=\"dataframe\">\n",
              "  <thead>\n",
              "    <tr style=\"text-align: right;\">\n",
              "      <th></th>\n",
              "      <th>aaa</th>\n",
              "      <th>bbb</th>\n",
              "      <th>ccc</th>\n",
              "    </tr>\n",
              "  </thead>\n",
              "  <tbody>\n",
              "    <tr>\n",
              "      <th>0</th>\n",
              "      <td>4</td>\n",
              "      <td>10</td>\n",
              "      <td>100.0</td>\n",
              "    </tr>\n",
              "    <tr>\n",
              "      <th>1</th>\n",
              "      <td>5</td>\n",
              "      <td>20</td>\n",
              "      <td>50.0</td>\n",
              "    </tr>\n",
              "    <tr>\n",
              "      <th>2</th>\n",
              "      <td>6</td>\n",
              "      <td>30</td>\n",
              "      <td>-30.0</td>\n",
              "    </tr>\n",
              "    <tr>\n",
              "      <th>3</th>\n",
              "      <td>7</td>\n",
              "      <td>40</td>\n",
              "      <td>-50.0</td>\n",
              "    </tr>\n",
              "    <tr>\n",
              "      <th>0</th>\n",
              "      <td>4</td>\n",
              "      <td>10</td>\n",
              "      <td>NaN</td>\n",
              "    </tr>\n",
              "    <tr>\n",
              "      <th>1</th>\n",
              "      <td>5</td>\n",
              "      <td>20</td>\n",
              "      <td>NaN</td>\n",
              "    </tr>\n",
              "    <tr>\n",
              "      <th>2</th>\n",
              "      <td>6</td>\n",
              "      <td>30</td>\n",
              "      <td>NaN</td>\n",
              "    </tr>\n",
              "    <tr>\n",
              "      <th>3</th>\n",
              "      <td>7</td>\n",
              "      <td>40</td>\n",
              "      <td>NaN</td>\n",
              "    </tr>\n",
              "  </tbody>\n",
              "</table>\n",
              "</div>\n",
              "      <button class=\"colab-df-convert\" onclick=\"convertToInteractive('df-44c4eb9c-5572-431f-b9c7-8a9c95574809')\"\n",
              "              title=\"Convert this dataframe to an interactive table.\"\n",
              "              style=\"display:none;\">\n",
              "        \n",
              "  <svg xmlns=\"http://www.w3.org/2000/svg\" height=\"24px\"viewBox=\"0 0 24 24\"\n",
              "       width=\"24px\">\n",
              "    <path d=\"M0 0h24v24H0V0z\" fill=\"none\"/>\n",
              "    <path d=\"M18.56 5.44l.94 2.06.94-2.06 2.06-.94-2.06-.94-.94-2.06-.94 2.06-2.06.94zm-11 1L8.5 8.5l.94-2.06 2.06-.94-2.06-.94L8.5 2.5l-.94 2.06-2.06.94zm10 10l.94 2.06.94-2.06 2.06-.94-2.06-.94-.94-2.06-.94 2.06-2.06.94z\"/><path d=\"M17.41 7.96l-1.37-1.37c-.4-.4-.92-.59-1.43-.59-.52 0-1.04.2-1.43.59L10.3 9.45l-7.72 7.72c-.78.78-.78 2.05 0 2.83L4 21.41c.39.39.9.59 1.41.59.51 0 1.02-.2 1.41-.59l7.78-7.78 2.81-2.81c.8-.78.8-2.07 0-2.86zM5.41 20L4 18.59l7.72-7.72 1.47 1.35L5.41 20z\"/>\n",
              "  </svg>\n",
              "      </button>\n",
              "      \n",
              "  <style>\n",
              "    .colab-df-container {\n",
              "      display:flex;\n",
              "      flex-wrap:wrap;\n",
              "      gap: 12px;\n",
              "    }\n",
              "\n",
              "    .colab-df-convert {\n",
              "      background-color: #E8F0FE;\n",
              "      border: none;\n",
              "      border-radius: 50%;\n",
              "      cursor: pointer;\n",
              "      display: none;\n",
              "      fill: #1967D2;\n",
              "      height: 32px;\n",
              "      padding: 0 0 0 0;\n",
              "      width: 32px;\n",
              "    }\n",
              "\n",
              "    .colab-df-convert:hover {\n",
              "      background-color: #E2EBFA;\n",
              "      box-shadow: 0px 1px 2px rgba(60, 64, 67, 0.3), 0px 1px 3px 1px rgba(60, 64, 67, 0.15);\n",
              "      fill: #174EA6;\n",
              "    }\n",
              "\n",
              "    [theme=dark] .colab-df-convert {\n",
              "      background-color: #3B4455;\n",
              "      fill: #D2E3FC;\n",
              "    }\n",
              "\n",
              "    [theme=dark] .colab-df-convert:hover {\n",
              "      background-color: #434B5C;\n",
              "      box-shadow: 0px 1px 3px 1px rgba(0, 0, 0, 0.15);\n",
              "      filter: drop-shadow(0px 1px 2px rgba(0, 0, 0, 0.3));\n",
              "      fill: #FFFFFF;\n",
              "    }\n",
              "  </style>\n",
              "\n",
              "      <script>\n",
              "        const buttonEl =\n",
              "          document.querySelector('#df-44c4eb9c-5572-431f-b9c7-8a9c95574809 button.colab-df-convert');\n",
              "        buttonEl.style.display =\n",
              "          google.colab.kernel.accessAllowed ? 'block' : 'none';\n",
              "\n",
              "        async function convertToInteractive(key) {\n",
              "          const element = document.querySelector('#df-44c4eb9c-5572-431f-b9c7-8a9c95574809');\n",
              "          const dataTable =\n",
              "            await google.colab.kernel.invokeFunction('convertToInteractive',\n",
              "                                                     [key], {});\n",
              "          if (!dataTable) return;\n",
              "\n",
              "          const docLinkHtml = 'Like what you see? Visit the ' +\n",
              "            '<a target=\"_blank\" href=https://colab.research.google.com/notebooks/data_table.ipynb>data table notebook</a>'\n",
              "            + ' to learn more about interactive tables.';\n",
              "          element.innerHTML = '';\n",
              "          dataTable['output_type'] = 'display_data';\n",
              "          await google.colab.output.renderOutput(dataTable, element);\n",
              "          const docLink = document.createElement('div');\n",
              "          docLink.innerHTML = docLinkHtml;\n",
              "          element.appendChild(docLink);\n",
              "        }\n",
              "      </script>\n",
              "    </div>\n",
              "  </div>\n",
              "  "
            ],
            "text/plain": [
              "   aaa  bbb    ccc\n",
              "0    4   10  100.0\n",
              "1    5   20   50.0\n",
              "2    6   30  -30.0\n",
              "3    7   40  -50.0\n",
              "0    4   10    NaN\n",
              "1    5   20    NaN\n",
              "2    6   30    NaN\n",
              "3    7   40    NaN"
            ]
          },
          "metadata": {},
          "execution_count": 15
        }
      ]
    },
    {
      "cell_type": "markdown",
      "source": [
        "# one-hot encoding"
      ],
      "metadata": {
        "id": "K9XXa87fl-gt"
      }
    },
    {
      "cell_type": "code",
      "source": [
        "df= pd.get_dummies(df1, columns = ['AAA'])\n",
        "df.head()"
      ],
      "metadata": {
        "id": "tVhft5yrpg8b"
      },
      "execution_count": null,
      "outputs": []
    },
    {
      "cell_type": "code",
      "source": [
        "# x,y numpy로 변환하기\n",
        "df1 = pd.DataFrame({\"AAA\": [4, 5, 6, 7], \"BBB\": [10, 20, 30, 40], \"CCC\": [100, 50, -30, -50]})\n",
        "df1.head()"
      ],
      "metadata": {
        "id": "DULrIEtcpg_E"
      },
      "execution_count": null,
      "outputs": []
    },
    {
      "cell_type": "code",
      "source": [
        "# 데이터 프레임\n",
        "df1.CCC"
      ],
      "metadata": {
        "id": "U04yt06ophBp"
      },
      "execution_count": null,
      "outputs": []
    },
    {
      "cell_type": "markdown",
      "source": [
        "# numpy로 변환"
      ],
      "metadata": {
        "id": "lwdJANclmAdr"
      }
    },
    {
      "cell_type": "code",
      "source": [
        "y =df1.CCC.to_numpy()\n",
        "print(y)\n",
        "\n",
        "x = df1[['AAA','BBB']].to_numpy()\n",
        "print(x)\n",
        "\n",
        "x_df = df1.drop(columns = 'CCC')\n",
        "print(x_df)\n",
        "\n",
        "x = x_df.to_numpy()\n",
        "print(x)"
      ],
      "metadata": {
        "id": "59PEOxY3louP"
      },
      "execution_count": null,
      "outputs": []
    },
    {
      "cell_type": "code",
      "source": [
        ""
      ],
      "metadata": {
        "id": "4fpuHsmFlowX"
      },
      "execution_count": null,
      "outputs": []
    },
    {
      "cell_type": "code",
      "source": [
        ""
      ],
      "metadata": {
        "id": "8pyiBVJophD8"
      },
      "execution_count": null,
      "outputs": []
    }
  ]
}