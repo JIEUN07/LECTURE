{
  "nbformat": 4,
  "nbformat_minor": 0,
  "metadata": {
    "colab": {
      "name": "day35) 2021-12-20(리눅스)",
      "provenance": [],
      "collapsed_sections": []
    },
    "kernelspec": {
      "name": "python3",
      "display_name": "Python 3"
    },
    "language_info": {
      "name": "python"
    }
  },
  "cells": [
    {
      "cell_type": "markdown",
      "source": [
        "MDC_2021/material/linux.md"
      ],
      "metadata": {
        "id": "hfzezeR31WBl"
      }
    },
    {
      "cell_type": "markdown",
      "source": [
        "- ls -al\n",
        "- cd sample_data\n",
        "- wc README.md\n",
        "- head README.md\n",
        "- ls -al .. (상위파일)\n",
        "- ls -al .(현재파일)\n",
        "- ls -al / (최상위파일)\n",
        "- cp../.bash_logout ./ (현재파일에 상위파일에 있는 bash_logout 파일 복사)\n",
        "- cp ./README.md ../ (현재파일에 있는 README 파일 현재 파일에 복사)\n",
        "- rm -rf / (리눅스 전체삭제*실행금지)\n",
        "- ll (ls -al 약어)\n",
        "- cp README.md ../README.md.new (README.md.bak으로 이름 변경)\n",
        "- cd .. (상위폴더로 이동)\n",
        "- cp -r sample_data sample_data.bak\n",
        "- ll README* (README 파일 읽어보기)\n",
        "- rm -rf README.md.new (README.md.new 파일삭제 *살릴방법없음)\n",
        "- cp sample_data.bak/*csv sample_data/\n",
        "(잘못 삭제할 경우 백업파일에서 복사본 다시 떠옴)\n",
        "- mv sample_data.bak sample_data.old(파일이동)\n",
        "- apt-get update  (apt 정보 업데이트)\n",
        "- apt install tree  (tree 프로그램 설치)\n",
        "\n"
      ],
      "metadata": {
        "id": "XKuv6GbEWzhE"
      }
    },
    {
      "cell_type": "markdown",
      "source": [
        "리눅스에 다운로드 받는법\n",
        "- wget ctrl+ shift+ v (링크)\n",
        "- unzip 파일이름 (zip파일 압축풀기)\n",
        "- ll | wc (ll의 개수 세주기)\n",
        "- ll 파일이름/*png | wc (png 파일 개수 세주기)\n",
        "- | (파이프: 왼쪽에 있는 조건 오른쪽으로 할당)\n",
        "- tar xvfz 파일이름 (압축풀기)"
      ],
      "metadata": {
        "id": "Whfc2ClMym6j"
      }
    },
    {
      "cell_type": "code",
      "source": [
        ""
      ],
      "metadata": {
        "id": "R1kJizKP83is"
      },
      "execution_count": null,
      "outputs": []
    },
    {
      "cell_type": "code",
      "source": [
        ""
      ],
      "metadata": {
        "id": "kkbGC8au83gx"
      },
      "execution_count": null,
      "outputs": []
    },
    {
      "cell_type": "code",
      "source": [
        ""
      ],
      "metadata": {
        "id": "DHQhHcR383eO"
      },
      "execution_count": null,
      "outputs": []
    },
    {
      "cell_type": "code",
      "source": [
        ""
      ],
      "metadata": {
        "id": "Gv4gZN3j83bm"
      },
      "execution_count": null,
      "outputs": []
    },
    {
      "cell_type": "code",
      "source": [
        ""
      ],
      "metadata": {
        "id": "Ql9LlWjU829G"
      },
      "execution_count": null,
      "outputs": []
    }
  ]
}