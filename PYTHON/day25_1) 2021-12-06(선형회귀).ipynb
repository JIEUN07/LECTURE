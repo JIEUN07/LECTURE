{
 "cells": [
  {
   "cell_type": "code",
   "execution_count": 2,
   "id": "2499e68b",
   "metadata": {},
   "outputs": [],
   "source": [
    "import numpy as np\n",
    "import pandas as pd\n",
    "import matplotlib.pyplot as plt"
   ]
  },
  {
   "cell_type": "markdown",
   "id": "162f9c4c",
   "metadata": {},
   "source": [
    "# 최소제곱법\n",
    "함수 사용안하는 법"
   ]
  },
  {
   "cell_type": "code",
   "execution_count": 3,
   "id": "fd0d4761",
   "metadata": {},
   "outputs": [],
   "source": [
    "X = [2, 4, 6, 8]\n",
    "Y = [81, 93, 91, 97]"
   ]
  },
  {
   "cell_type": "code",
   "execution_count": 5,
   "id": "70536b2e",
   "metadata": {},
   "outputs": [
    {
     "data": {
      "image/png": "[encoded data removed]",
      "text/plain": [
       "<Figure size 432x288 with 1 Axes>"
      ]
     },
     "metadata": {
      "needs_background": "light"
     },
     "output_type": "display_data"
    }
   ],
   "source": [
    "plt.scatter(X,Y)\n",
    "plt.xlabel('Time')\n",
    "plt.ylabel('Scores')\n",
    "plt.show()"
   ]
  },
  {
   "cell_type": "code",
   "execution_count": null,
   "id": "daf44cb5",
   "metadata": {},
   "outputs": [],
   "source": [
    "# 평균 구하기"
   ]
  },
  {
   "cell_type": "code",
   "execution_count": 6,
   "id": "fcef4c27",
   "metadata": {},
   "outputs": [],
   "source": [
    "meanx = np.mean(X)\n",
    "meany = np.mean(Y)"
   ]
  },
  {
   "cell_type": "code",
   "execution_count": 7,
   "id": "e06c2ebe",
   "metadata": {},
   "outputs": [
    {
     "name": "stdout",
     "output_type": "stream",
     "text": [
      "20.0\n"
     ]
    }
   ],
   "source": [
    "# 최소제곱법 분모 구하기\n",
    "# (X- X평균)^2의 합\n",
    "\n",
    "diffx = sum([(i-meanx)**2 for i in X])\n",
    "print(diffx)"
   ]
  },
  {
   "cell_type": "code",
   "execution_count": 26,
   "id": "d0d90a3b",
   "metadata": {},
   "outputs": [
    {
     "name": "stdout",
     "output_type": "stream",
     "text": [
      "분모: 20.0\n",
      "분자:  46.0\n"
     ]
    }
   ],
   "source": [
    "# 최소제곱법 분자 구하기\n",
    "# (X - X평균)(Y - Y평균)의 합\n",
    "def top(X, meanx, Y, meany):\n",
    "    diffvalue=0\n",
    "    \n",
    "    for i in range(len(X)):\n",
    "        diffvalue += (X[i]-meanx)*(Y[i]-meany)\n",
    "    return diffvalue\n",
    "\n",
    "diffnum =top(X, meanx, Y, meany)\n",
    "\n",
    "print('분모:', diffx)\n",
    "print('분자:', diffnum)"
   ]
  },
  {
   "cell_type": "code",
   "execution_count": 11,
   "id": "a04bd465",
   "metadata": {},
   "outputs": [
    {
     "name": "stdout",
     "output_type": "stream",
     "text": [
      "기울기 a =  1.425\n",
      "y절편 b =  83.375\n"
     ]
    }
   ],
   "source": [
    "a = diffnum /diffx\n",
    "b = meany - (meanx*a)\n",
    "\n",
    "print('기울기 a = ', a)\n",
    "print('y절편 b = ', b)"
   ]
  },
  {
   "cell_type": "code",
   "execution_count": 28,
   "id": "b21534df",
   "metadata": {},
   "outputs": [
    {
     "name": "stdout",
     "output_type": "stream",
     "text": [
      "분자: 46.0\n"
     ]
    }
   ],
   "source": [
    "# 분자 구하기 다른 방법\n",
    "xy = [[x,y] for x,y in zip(X,Y)]\n",
    "diffxy = sum([(i-meanx)*(j-meany) for i,j in xy])\n",
    "print('분자:', diffxy)"
   ]
  },
  {
   "cell_type": "markdown",
   "id": "194dcfab",
   "metadata": {},
   "source": [
    "# 경사 하강법\n",
    "함수 사용 안하는법"
   ]
  },
  {
   "cell_type": "code",
   "execution_count": 51,
   "id": "0d2c5152",
   "metadata": {},
   "outputs": [
    {
     "name": "stdout",
     "output_type": "stream",
     "text": [
      "[[2, 81], [4, 93], [6, 91], [8, 97]]\n"
     ]
    }
   ],
   "source": [
    "# 데이터\n",
    "print(xy)\n",
    "X = [i[0] for i in xy]\n",
    "Y = [i[1] for i in xy]"
   ]
  },
  {
   "cell_type": "code",
   "execution_count": 52,
   "id": "d5f5111d",
   "metadata": {},
   "outputs": [
    {
     "data": {
      "image/png": "[encoded data removed]",
      "text/plain": [
       "<Figure size 432x288 with 1 Axes>"
      ]
     },
     "metadata": {
      "needs_background": "light"
     },
     "output_type": "display_data"
    }
   ],
   "source": [
    "# 그래프 시각화\n",
    "plt.figure(figsize=(6,4))\n",
    "plt.scatter(X,Y)\n",
    "plt.show()"
   ]
  },
  {
   "cell_type": "code",
   "execution_count": 53,
   "id": "73ed88c4",
   "metadata": {},
   "outputs": [],
   "source": [
    "# 넘파이 배열로 변환\n",
    "X_np = np.array(X)\n",
    "Y_np = np.array(Y)"
   ]
  },
  {
   "cell_type": "code",
   "execution_count": 54,
   "id": "0473a20a",
   "metadata": {},
   "outputs": [],
   "source": [
    "# 가중치&절편 초기화\n",
    "a = 0\n",
    "b = 0"
   ]
  },
  {
   "cell_type": "code",
   "execution_count": 55,
   "id": "afada047",
   "metadata": {},
   "outputs": [],
   "source": [
    "# 학습률과 학습 반복횟수 1000으로 설정\n",
    "lr = 0.03\n",
    "epochs = 1000"
   ]
  },
  {
   "cell_type": "code",
   "execution_count": 56,
   "id": "675cb30e",
   "metadata": {},
   "outputs": [
    {
     "name": "stdout",
     "output_type": "stream",
     "text": [
      "epoch=0, 기울기=13.9200 절편=2.7150\n",
      "epoch=100, 기울기=10.1307 절편=32.2700\n",
      "epoch=200, 기울기=7.1088 절편=50.3032\n",
      "epoch=300, 기울기=5.2531 절편=61.3774\n",
      "epoch=400, 기울기=4.1135 절편=68.1780\n",
      "epoch=500, 기울기=3.4136 절편=72.3542\n",
      "epoch=600, 기울기=2.9839 절편=74.9189\n",
      "epoch=700, 기울기=2.7200 절편=76.4938\n",
      "epoch=800, 기울기=2.5579 절편=77.4609\n",
      "epoch=900, 기울기=2.4584 절편=78.0549\n"
     ]
    }
   ],
   "source": [
    "for i in range(epochs):\n",
    "    # 예측값 구하기 (선형모델 대입)\n",
    "    predict_y = a * X_np + b\n",
    "    err = Y_np - predict_y\n",
    "    \n",
    "    a_dif = -(1/len(X_np)) * sum(X_np * err)\n",
    "    b_dif = -(1/len(X_np)) * sum(err)\n",
    "    \n",
    "    a = a - lr * a_dif\n",
    "    b = b - lr * b_dif\n",
    "    \n",
    "    if i % 100 == 0:\n",
    "        print('epoch=%.f, 기울기=%.04f 절편=%.04f' %(i,a,b))"
   ]
  },
  {
   "cell_type": "code",
   "execution_count": 57,
   "id": "66ac13fc",
   "metadata": {},
   "outputs": [],
   "source": [
    "# 학습률과 학습 반복횟수 2000으로 설정\n",
    "lr = 0.03\n",
    "epochs = 2000"
   ]
  },
  {
   "cell_type": "code",
   "execution_count": 58,
   "id": "b8350f71",
   "metadata": {},
   "outputs": [
    {
     "name": "stdout",
     "output_type": "stream",
     "text": [
      "epoch=0, 기울기=2.3973 절편=78.4196\n",
      "epoch=100, 기울기=2.3597 절편=78.6436\n",
      "epoch=200, 기울기=2.3367 절편=78.7811\n",
      "epoch=300, 기울기=2.3225 절편=78.8656\n",
      "epoch=400, 기울기=2.3138 절편=78.9175\n",
      "epoch=500, 기울기=2.3085 절편=78.9493\n",
      "epoch=600, 기울기=2.3052 절편=78.9689\n",
      "epoch=700, 기울기=2.3032 절편=78.9809\n",
      "epoch=800, 기울기=2.3020 절편=78.9883\n",
      "epoch=900, 기울기=2.3012 절편=78.9928\n",
      "epoch=1000, 기울기=2.3007 절편=78.9956\n",
      "epoch=1100, 기울기=2.3005 절편=78.9973\n",
      "epoch=1200, 기울기=2.3003 절편=78.9983\n",
      "epoch=1300, 기울기=2.3002 절편=78.9990\n",
      "epoch=1400, 기울기=2.3001 절편=78.9994\n",
      "epoch=1500, 기울기=2.3001 절편=78.9996\n",
      "epoch=1600, 기울기=2.3000 절편=78.9998\n",
      "epoch=1700, 기울기=2.3000 절편=78.9999\n",
      "epoch=1800, 기울기=2.3000 절편=78.9999\n",
      "epoch=1900, 기울기=2.3000 절편=78.9999\n"
     ]
    }
   ],
   "source": [
    "for i in range(epochs):\n",
    "    # 예측값 구하기 (선형모델 대입)\n",
    "    predict_y = a * X_np + b\n",
    "    err = Y_np - predict_y\n",
    "    \n",
    "    a_dif = -(1/len(X_np)) * sum(X_np * err)\n",
    "    b_dif = -(1/len(X_np)) * sum(err)\n",
    "    \n",
    "    a = a - lr * a_dif\n",
    "    b = b - lr * b_dif\n",
    "    \n",
    "    if i % 100 == 0:\n",
    "        print('epoch=%.f, 기울기=%.04f 절편=%.04f' %(i,a,b))"
   ]
  },
  {
   "cell_type": "code",
   "execution_count": 59,
   "id": "e453f26b",
   "metadata": {},
   "outputs": [],
   "source": [
    "# 학습률과 학습 반복횟수 10000으로 설정\n",
    "lr = 0.03\n",
    "epochs = 10000"
   ]
  },
  {
   "cell_type": "code",
   "execution_count": 60,
   "id": "659bf0f0",
   "metadata": {},
   "outputs": [
    {
     "name": "stdout",
     "output_type": "stream",
     "text": [
      "epoch=0, 기울기=2.3000 절편=79.0000\n",
      "epoch=100, 기울기=2.3000 절편=79.0000\n",
      "epoch=200, 기울기=2.3000 절편=79.0000\n",
      "epoch=300, 기울기=2.3000 절편=79.0000\n",
      "epoch=400, 기울기=2.3000 절편=79.0000\n",
      "epoch=500, 기울기=2.3000 절편=79.0000\n",
      "epoch=600, 기울기=2.3000 절편=79.0000\n",
      "epoch=700, 기울기=2.3000 절편=79.0000\n",
      "epoch=800, 기울기=2.3000 절편=79.0000\n",
      "epoch=900, 기울기=2.3000 절편=79.0000\n",
      "epoch=1000, 기울기=2.3000 절편=79.0000\n",
      "epoch=1100, 기울기=2.3000 절편=79.0000\n",
      "epoch=1200, 기울기=2.3000 절편=79.0000\n",
      "epoch=1300, 기울기=2.3000 절편=79.0000\n",
      "epoch=1400, 기울기=2.3000 절편=79.0000\n",
      "epoch=1500, 기울기=2.3000 절편=79.0000\n",
      "epoch=1600, 기울기=2.3000 절편=79.0000\n",
      "epoch=1700, 기울기=2.3000 절편=79.0000\n",
      "epoch=1800, 기울기=2.3000 절편=79.0000\n",
      "epoch=1900, 기울기=2.3000 절편=79.0000\n",
      "epoch=2000, 기울기=2.3000 절편=79.0000\n",
      "epoch=2100, 기울기=2.3000 절편=79.0000\n",
      "epoch=2200, 기울기=2.3000 절편=79.0000\n",
      "epoch=2300, 기울기=2.3000 절편=79.0000\n",
      "epoch=2400, 기울기=2.3000 절편=79.0000\n",
      "epoch=2500, 기울기=2.3000 절편=79.0000\n",
      "epoch=2600, 기울기=2.3000 절편=79.0000\n",
      "epoch=2700, 기울기=2.3000 절편=79.0000\n",
      "epoch=2800, 기울기=2.3000 절편=79.0000\n",
      "epoch=2900, 기울기=2.3000 절편=79.0000\n",
      "epoch=3000, 기울기=2.3000 절편=79.0000\n",
      "epoch=3100, 기울기=2.3000 절편=79.0000\n",
      "epoch=3200, 기울기=2.3000 절편=79.0000\n",
      "epoch=3300, 기울기=2.3000 절편=79.0000\n",
      "epoch=3400, 기울기=2.3000 절편=79.0000\n",
      "epoch=3500, 기울기=2.3000 절편=79.0000\n",
      "epoch=3600, 기울기=2.3000 절편=79.0000\n",
      "epoch=3700, 기울기=2.3000 절편=79.0000\n",
      "epoch=3800, 기울기=2.3000 절편=79.0000\n",
      "epoch=3900, 기울기=2.3000 절편=79.0000\n",
      "epoch=4000, 기울기=2.3000 절편=79.0000\n",
      "epoch=4100, 기울기=2.3000 절편=79.0000\n",
      "epoch=4200, 기울기=2.3000 절편=79.0000\n",
      "epoch=4300, 기울기=2.3000 절편=79.0000\n",
      "epoch=4400, 기울기=2.3000 절편=79.0000\n",
      "epoch=4500, 기울기=2.3000 절편=79.0000\n",
      "epoch=4600, 기울기=2.3000 절편=79.0000\n",
      "epoch=4700, 기울기=2.3000 절편=79.0000\n",
      "epoch=4800, 기울기=2.3000 절편=79.0000\n",
      "epoch=4900, 기울기=2.3000 절편=79.0000\n",
      "epoch=5000, 기울기=2.3000 절편=79.0000\n",
      "epoch=5100, 기울기=2.3000 절편=79.0000\n",
      "epoch=5200, 기울기=2.3000 절편=79.0000\n",
      "epoch=5300, 기울기=2.3000 절편=79.0000\n",
      "epoch=5400, 기울기=2.3000 절편=79.0000\n",
      "epoch=5500, 기울기=2.3000 절편=79.0000\n",
      "epoch=5600, 기울기=2.3000 절편=79.0000\n",
      "epoch=5700, 기울기=2.3000 절편=79.0000\n",
      "epoch=5800, 기울기=2.3000 절편=79.0000\n",
      "epoch=5900, 기울기=2.3000 절편=79.0000\n",
      "epoch=6000, 기울기=2.3000 절편=79.0000\n",
      "epoch=6100, 기울기=2.3000 절편=79.0000\n",
      "epoch=6200, 기울기=2.3000 절편=79.0000\n",
      "epoch=6300, 기울기=2.3000 절편=79.0000\n",
      "epoch=6400, 기울기=2.3000 절편=79.0000\n",
      "epoch=6500, 기울기=2.3000 절편=79.0000\n",
      "epoch=6600, 기울기=2.3000 절편=79.0000\n",
      "epoch=6700, 기울기=2.3000 절편=79.0000\n",
      "epoch=6800, 기울기=2.3000 절편=79.0000\n",
      "epoch=6900, 기울기=2.3000 절편=79.0000\n",
      "epoch=7000, 기울기=2.3000 절편=79.0000\n",
      "epoch=7100, 기울기=2.3000 절편=79.0000\n",
      "epoch=7200, 기울기=2.3000 절편=79.0000\n",
      "epoch=7300, 기울기=2.3000 절편=79.0000\n",
      "epoch=7400, 기울기=2.3000 절편=79.0000\n",
      "epoch=7500, 기울기=2.3000 절편=79.0000\n",
      "epoch=7600, 기울기=2.3000 절편=79.0000\n",
      "epoch=7700, 기울기=2.3000 절편=79.0000\n",
      "epoch=7800, 기울기=2.3000 절편=79.0000\n",
      "epoch=7900, 기울기=2.3000 절편=79.0000\n",
      "epoch=8000, 기울기=2.3000 절편=79.0000\n",
      "epoch=8100, 기울기=2.3000 절편=79.0000\n",
      "epoch=8200, 기울기=2.3000 절편=79.0000\n",
      "epoch=8300, 기울기=2.3000 절편=79.0000\n",
      "epoch=8400, 기울기=2.3000 절편=79.0000\n",
      "epoch=8500, 기울기=2.3000 절편=79.0000\n",
      "epoch=8600, 기울기=2.3000 절편=79.0000\n",
      "epoch=8700, 기울기=2.3000 절편=79.0000\n",
      "epoch=8800, 기울기=2.3000 절편=79.0000\n",
      "epoch=8900, 기울기=2.3000 절편=79.0000\n",
      "epoch=9000, 기울기=2.3000 절편=79.0000\n",
      "epoch=9100, 기울기=2.3000 절편=79.0000\n",
      "epoch=9200, 기울기=2.3000 절편=79.0000\n",
      "epoch=9300, 기울기=2.3000 절편=79.0000\n",
      "epoch=9400, 기울기=2.3000 절편=79.0000\n",
      "epoch=9500, 기울기=2.3000 절편=79.0000\n",
      "epoch=9600, 기울기=2.3000 절편=79.0000\n",
      "epoch=9700, 기울기=2.3000 절편=79.0000\n",
      "epoch=9800, 기울기=2.3000 절편=79.0000\n",
      "epoch=9900, 기울기=2.3000 절편=79.0000\n"
     ]
    }
   ],
   "source": [
    "for i in range(epochs):\n",
    "    # 예측값 구하기 (선형모델 대입)\n",
    "    predict_y = a * X_np + b\n",
    "    err = Y_np - predict_y\n",
    "    \n",
    "    a_dif = -(1/len(X_np)) * sum(X_np * err)\n",
    "    b_dif = -(1/len(X_np)) * sum(err)\n",
    "    \n",
    "    a = a - lr * a_dif\n",
    "    b = b - lr * b_dif\n",
    "    \n",
    "    if i % 100 == 0:\n",
    "        print('epoch=%.f, 기울기=%.04f 절편=%.04f' %(i,a,b))"
   ]
  },
  {
   "cell_type": "code",
   "execution_count": 61,
   "id": "e2485099",
   "metadata": {},
   "outputs": [],
   "source": [
    "# 학습률과 학습 반복횟수 1000으로 설정\n",
    "lr = 0.05\n",
    "epochs = 1000"
   ]
  },
  {
   "cell_type": "code",
   "execution_count": 62,
   "id": "454a306b",
   "metadata": {},
   "outputs": [
    {
     "name": "stdout",
     "output_type": "stream",
     "text": [
      "epoch=0, 기울기=2.3000 절편=79.0000\n",
      "epoch=100, 기울기=2.3000 절편=79.0000\n",
      "epoch=200, 기울기=2.3000 절편=79.0000\n",
      "epoch=300, 기울기=2.3000 절편=79.0000\n",
      "epoch=400, 기울기=2.3000 절편=79.0000\n",
      "epoch=500, 기울기=2.3000 절편=79.0000\n",
      "epoch=600, 기울기=2.3000 절편=79.0000\n",
      "epoch=700, 기울기=2.3000 절편=79.0000\n",
      "epoch=800, 기울기=2.3000 절편=79.0000\n",
      "epoch=900, 기울기=2.3000 절편=79.0000\n"
     ]
    }
   ],
   "source": [
    "for i in range(epochs):\n",
    "    # 예측값 구하기 (선형모델 대입)\n",
    "    predict_y = a * X_np + b\n",
    "    err = Y_np - predict_y\n",
    "    \n",
    "    a_dif = -(1/len(X_np)) * sum(X_np * err)\n",
    "    b_dif = -(1/len(X_np)) * sum(err)\n",
    "    \n",
    "    a = a - lr * a_dif\n",
    "    b = b - lr * b_dif\n",
    "    \n",
    "    if i % 100 == 0:\n",
    "        print('epoch=%.f, 기울기=%.04f 절편=%.04f' %(i,a,b))"
   ]
  },
  {
   "cell_type": "code",
   "execution_count": null,
   "id": "115161fb",
   "metadata": {},
   "outputs": [],
   "source": []
  }
 ],
 "metadata": {
  "kernelspec": {
   "display_name": "Python 3 (ipykernel)",
   "language": "python",
   "name": "python3"
  },
  "language_info": {
   "codemirror_mode": {
    "name": "ipython",
    "version": 3
   },
   "file_extension": ".py",
   "mimetype": "text/x-python",
   "name": "python",
   "nbconvert_exporter": "python",
   "pygments_lexer": "ipython3",
   "version": "3.9.7"
  }
 },
 "nbformat": 4,
 "nbformat_minor": 5
}
