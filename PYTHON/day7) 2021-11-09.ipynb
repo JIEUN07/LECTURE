{
 "cells": [
  {
   "cell_type": "markdown",
   "id": "5add637c",
   "metadata": {},
   "source": [
    "# 5.12 문자열 스트립"
   ]
  },
  {
   "cell_type": "markdown",
   "id": "bf7853d2",
   "metadata": {},
   "source": [
    "'dddd'.   # '.' +tab키\n",
    "field 괄호 없음\n",
    "\\n method 괄호 있음 \n",
    "\\n '.'(operator) 특정 공간안에 해당 필드와 멤버를 볼수있음"
   ]
  },
  {
   "cell_type": "code",
   "execution_count": 9,
   "id": "fdba1e58",
   "metadata": {},
   "outputs": [
    {
     "data": {
      "text/plain": [
       "('I AM HAPPY', 'i am happy', 'I am HAPPY')"
      ]
     },
     "execution_count": 9,
     "metadata": {},
     "output_type": "execute_result"
    }
   ],
   "source": [
    "'i am happy'.upper(), 'i am happy'.lower(), 'i AM happy'.swapcase() # 대문자, 소문자, 대소문자 바꿔주기"
   ]
  },
  {
   "cell_type": "code",
   "execution_count": 10,
   "id": "a61d7d9d",
   "metadata": {},
   "outputs": [
    {
     "data": {
      "text/plain": [
       "('   i am happy  ', '     i am happy', 'i am happy     ')"
      ]
     },
     "execution_count": 10,
     "metadata": {},
     "output_type": "execute_result"
    }
   ],
   "source": [
    "'i am happy'.center(15), 'i am happy'.rjust(15), 'i am happy'.ljust(15) # 지정공간 n"
   ]
  },
  {
   "cell_type": "markdown",
   "id": "b4ca8bbd",
   "metadata": {},
   "source": [
    "# 5. 16 포매팅"
   ]
  },
  {
   "cell_type": "markdown",
   "id": "36870678",
   "metadata": {},
   "source": [
    "%s 문자열을 만드는 함수"
   ]
  },
  {
   "cell_type": "code",
   "execution_count": 11,
   "id": "798da29f",
   "metadata": {},
   "outputs": [
    {
     "data": {
      "text/plain": [
       "12"
      ]
     },
     "execution_count": 11,
     "metadata": {},
     "output_type": "execute_result"
    }
   ],
   "source": [
    "10+2"
   ]
  },
  {
   "cell_type": "code",
   "execution_count": 13,
   "id": "c4172804",
   "metadata": {},
   "outputs": [
    {
     "data": {
      "text/plain": [
       "'42'"
      ]
     },
     "execution_count": 13,
     "metadata": {},
     "output_type": "execute_result"
    }
   ],
   "source": [
    "'%s' % 42  # 42가 문자열이 됨\n",
    "('%s' % 42) # '.' +tab키  # 변수, 함수값 다 넣어도 됨"
   ]
  },
  {
   "cell_type": "code",
   "execution_count": 15,
   "id": "19d483bb",
   "metadata": {},
   "outputs": [
    {
     "data": {
      "text/plain": [
       "('42', '42', '2a', '52')"
      ]
     },
     "execution_count": 15,
     "metadata": {},
     "output_type": "execute_result"
    }
   ],
   "source": [
    "('%s'% 42), ('%d'% 42), ('%x'% 42), ('%o'% 42)"
   ]
  },
  {
   "cell_type": "code",
   "execution_count": 16,
   "id": "f2b6f323",
   "metadata": {},
   "outputs": [
    {
     "data": {
      "text/plain": [
       "('7.03', '7.030000', '7.030000e+00', '7.03')"
      ]
     },
     "execution_count": 16,
     "metadata": {},
     "output_type": "execute_result"
    }
   ],
   "source": [
    "('%s'% 7.03), ('%f'% 7.03), ('%e'% 7.03), ('%g'% 7.03)  # '%.7f '  -> 소수점 자리 정해줄수도 있음"
   ]
  },
  {
   "cell_type": "code",
   "execution_count": 19,
   "id": "fcacf05c",
   "metadata": {},
   "outputs": [
    {
     "data": {
      "text/plain": [
       "'100200'"
      ]
     },
     "execution_count": 19,
     "metadata": {},
     "output_type": "execute_result"
    }
   ],
   "source": [
    "'%d%s' % (100, 200)"
   ]
  },
  {
   "cell_type": "code",
   "execution_count": 20,
   "id": "f1d8e8dc",
   "metadata": {},
   "outputs": [
    {
     "data": {
      "text/plain": [
       "'first num : 100 second num : 200'"
      ]
     },
     "execution_count": 20,
     "metadata": {},
     "output_type": "execute_result"
    }
   ],
   "source": [
    "'first num : %d second num : %s' % (100, 200)"
   ]
  },
  {
   "cell_type": "code",
   "execution_count": 21,
   "id": "a8a620ec",
   "metadata": {},
   "outputs": [],
   "source": [
    "thing = 'woodchuck'"
   ]
  },
  {
   "cell_type": "code",
   "execution_count": 29,
   "id": "1b250284",
   "metadata": {},
   "outputs": [
    {
     "data": {
      "text/plain": [
       "('98.6', '        98.6', '98.6        ', '        98.6')"
      ]
     },
     "execution_count": 29,
     "metadata": {},
     "output_type": "execute_result"
    }
   ],
   "source": [
    "('%s' % thing), ('%12s' % thing), ('%-12s' % thing), ('%+12s' % thing) # 문자열 지정, 왼쪽, 오른쪽 정렬 "
   ]
  },
  {
   "cell_type": "code",
   "execution_count": 25,
   "id": "ecde3f9c",
   "metadata": {},
   "outputs": [
    {
     "data": {
      "text/plain": [
       "('woo', '         woo', 'woo         ')"
      ]
     },
     "execution_count": 25,
     "metadata": {},
     "output_type": "execute_result"
    }
   ],
   "source": [
    "('%.3s' % thing), ('%12.3s' % thing), ('%-12.3s' % thing)  # 전체자리는 12자리로 만들고 문자는 3개만 나타냄"
   ]
  },
  {
   "cell_type": "markdown",
   "id": "d58f68d3",
   "metadata": {},
   "source": [
    "숫자 포매팅"
   ]
  },
  {
   "cell_type": "code",
   "execution_count": 26,
   "id": "f1dd02cc",
   "metadata": {},
   "outputs": [],
   "source": [
    "thing = 98.6"
   ]
  },
  {
   "cell_type": "code",
   "execution_count": 27,
   "id": "056e14b1",
   "metadata": {},
   "outputs": [
    {
     "data": {
      "text/plain": [
       "('98.600000', '   98.600000', '  +98.600000', '98.600000   ')"
      ]
     },
     "execution_count": 27,
     "metadata": {},
     "output_type": "execute_result"
    }
   ],
   "source": [
    "('%f' % thing), ('%12f' % thing), ('%+12f' % thing), ('%-12f' % thing)"
   ]
  },
  {
   "cell_type": "code",
   "execution_count": 28,
   "id": "eb4a01ba",
   "metadata": {},
   "outputs": [
    {
     "data": {
      "text/plain": [
       "('98.600', '      98.600')"
      ]
     },
     "execution_count": 28,
     "metadata": {},
     "output_type": "execute_result"
    }
   ],
   "source": [
    "('%.3f' % thing), ('%12.3f' % thing), ('%-12.3f' % thing) # 전체 12자리, 소수점 3자리까지, 왼쪽정렬"
   ]
  },
  {
   "cell_type": "code",
   "execution_count": 30,
   "id": "c5fb38c1",
   "metadata": {},
   "outputs": [],
   "source": [
    "thing = 'woodchuck'\n",
    "place = 'lake'"
   ]
  },
  {
   "cell_type": "code",
   "execution_count": 32,
   "id": "b165669f",
   "metadata": {},
   "outputs": [
    {
     "data": {
      "text/plain": [
       "'the woodchuck is in the lake'"
      ]
     },
     "execution_count": 32,
     "metadata": {},
     "output_type": "execute_result"
    }
   ],
   "source": [
    "'the {1} is in the {0}'.format(place, thing)"
   ]
  },
  {
   "cell_type": "code",
   "execution_count": 33,
   "id": "f1b88a48",
   "metadata": {},
   "outputs": [
    {
     "data": {
      "text/plain": [
       "'the lake       is in the woodchuck '"
      ]
     },
     "execution_count": 33,
     "metadata": {},
     "output_type": "execute_result"
    }
   ],
   "source": [
    "'the {:10s} is in the {:10s}'.format(place, thing) "
   ]
  },
  {
   "cell_type": "code",
   "execution_count": 35,
   "id": "2ff40e05",
   "metadata": {},
   "outputs": [
    {
     "data": {
      "text/plain": [
       "'the    lake    is in the woodchuck '"
      ]
     },
     "execution_count": 35,
     "metadata": {},
     "output_type": "execute_result"
    }
   ],
   "source": [
    "'the {:^10s} is in the {:^10s}'.format(place, thing) #가운데 정렬"
   ]
  },
  {
   "cell_type": "code",
   "execution_count": 36,
   "id": "3c56ec39",
   "metadata": {},
   "outputs": [
    {
     "data": {
      "text/plain": [
       "'the @@@lake@@@ is in the woodchuck@'"
      ]
     },
     "execution_count": 36,
     "metadata": {},
     "output_type": "execute_result"
    }
   ],
   "source": [
    "'the {:@^10s} is in the {:@^10s}'.format(place, thing) # 가운데정렬&공백채우기"
   ]
  },
  {
   "cell_type": "code",
   "execution_count": 37,
   "id": "c7388ad7",
   "metadata": {},
   "outputs": [
    {
     "data": {
      "text/plain": [
       "('06', '11')"
      ]
     },
     "execution_count": 37,
     "metadata": {},
     "output_type": "execute_result"
    }
   ],
   "source": [
    "'{:0>2d}'.format(6), '{:0>2d}'.format(11)"
   ]
  },
  {
   "cell_type": "code",
   "execution_count": 40,
   "id": "98480e7f",
   "metadata": {},
   "outputs": [
    {
     "data": {
      "text/plain": [
       "'the woodchuck@ is in the @@@lake@@@'"
      ]
     },
     "execution_count": 40,
     "metadata": {},
     "output_type": "execute_result"
    }
   ],
   "source": [
    "f'the {thing:@^10s} is in the {place:@^10s}'  # f' ~ {변수:조건} ~{변수:조건} '는 포매팅 약자 {}에 format()조건 넣음"
   ]
  },
  {
   "cell_type": "code",
   "execution_count": 42,
   "id": "a44cde7c",
   "metadata": {},
   "outputs": [],
   "source": [
    "day = 2;"
   ]
  },
  {
   "cell_type": "code",
   "execution_count": 43,
   "id": "a99271c4",
   "metadata": {},
   "outputs": [
    {
     "data": {
      "text/plain": [
       "'02'"
      ]
     },
     "execution_count": 43,
     "metadata": {},
     "output_type": "execute_result"
    }
   ],
   "source": [
    "f'{day:0>2d}'"
   ]
  },
  {
   "cell_type": "markdown",
   "id": "416e59e2",
   "metadata": {},
   "source": [
    "# 6. 반복문 while, for"
   ]
  },
  {
   "cell_type": "markdown",
   "id": "9d974ae9",
   "metadata": {},
   "source": [
    "while (무한루프)"
   ]
  },
  {
   "cell_type": "markdown",
   "id": "3bbe0bf1",
   "metadata": {},
   "source": [
    "for iterator 사용, iterator는 자료구조를 순회하게 해줌"
   ]
  },
  {
   "cell_type": "markdown",
   "id": "1dc9dd34",
   "metadata": {},
   "source": [
    "데이터 분석문에는 반복문 안씀"
   ]
  },
  {
   "cell_type": "code",
   "execution_count": 44,
   "id": "d8a4dc93",
   "metadata": {},
   "outputs": [],
   "source": [
    "#() {} []  튜플 셋 리스트"
   ]
  },
  {
   "cell_type": "code",
   "execution_count": 46,
   "id": "03c55ca0",
   "metadata": {},
   "outputs": [
    {
     "data": {
      "text/plain": [
       "(1, 3, 5)"
      ]
     },
     "execution_count": 46,
     "metadata": {},
     "output_type": "execute_result"
    }
   ],
   "source": [
    "numbers =  [1,3,5,7,9]\n",
    "numbers[0], numbers[1], numbers[2]  # []안에 변수, 함수값을 넣을수 있음 -> 확장성있음"
   ]
  },
  {
   "cell_type": "code",
   "execution_count": 48,
   "id": "c1390dce",
   "metadata": {},
   "outputs": [
    {
     "data": {
      "text/plain": [
       "5"
      ]
     },
     "execution_count": 48,
     "metadata": {},
     "output_type": "execute_result"
    }
   ],
   "source": [
    "x=3\n",
    "len(numbers)"
   ]
  },
  {
   "cell_type": "code",
   "execution_count": 51,
   "id": "3f052580",
   "metadata": {},
   "outputs": [
    {
     "data": {
      "text/plain": [
       "(5, 9)"
      ]
     },
     "execution_count": 51,
     "metadata": {},
     "output_type": "execute_result"
    }
   ],
   "source": [
    "numbers[x-1], numbers[len(numbers)-1]  # 계산값을 안에 넣을수 있음 -> 이름인데 변수값을 허용하므로 반복문에 사용가능"
   ]
  },
  {
   "cell_type": "code",
   "execution_count": 53,
   "id": "06d08fd4",
   "metadata": {},
   "outputs": [
    {
     "name": "stdout",
     "output_type": "stream",
     "text": [
      "1\n",
      "3\n",
      "5\n",
      "7\n",
      "9\n",
      "반복문 종료\n"
     ]
    }
   ],
   "source": [
    "pos = 0 # 위치지정\n",
    "while True:  # True일 경우 반복\n",
    "    #T/F 값이 나오는 조건문\n",
    "    print(numbers[pos])\n",
    "    pos = pos+1;\n",
    "    if pos > 4:\n",
    "        break;\n",
    "print('반복문 종료')\n",
    "    "
   ]
  },
  {
   "cell_type": "code",
   "execution_count": 55,
   "id": "311d9a69",
   "metadata": {},
   "outputs": [
    {
     "name": "stdout",
     "output_type": "stream",
     "text": [
      "t\n",
      "h\n",
      "u\n",
      "d\n"
     ]
    }
   ],
   "source": [
    "word = 'thud'\n",
    "offset = 0\n",
    "while offset < len(word):  # 'offset < len(word)' 가 조건문 (트루일때)\n",
    "    print(word[offset])\n",
    "    offset = offset +1;\n",
    "        "
   ]
  },
  {
   "cell_type": "code",
   "execution_count": 56,
   "id": "34902913",
   "metadata": {},
   "outputs": [
    {
     "name": "stdout",
     "output_type": "stream",
     "text": [
      "t\n",
      "h\n",
      "u\n",
      "d\n"
     ]
    }
   ],
   "source": [
    "for ele in word: # 'ele in word' 조건문 (트루일때)\n",
    "    print(ele)  # 결과는 위와 같지만 더 간결"
   ]
  },
  {
   "cell_type": "code",
   "execution_count": 59,
   "id": "590a0692",
   "metadata": {},
   "outputs": [
    {
     "data": {
      "text/plain": [
       "[0, 1, 2, 3, 4, 5, 6, 7, 8, 9]"
      ]
     },
     "execution_count": 59,
     "metadata": {},
     "output_type": "execute_result"
    }
   ],
   "source": [
    "list(range(0, 10)) #range(처음, 끝, step)  step은 거꾸로 바꿀수있음 디폴트는 1 "
   ]
  },
  {
   "cell_type": "code",
   "execution_count": 61,
   "id": "2c620099",
   "metadata": {},
   "outputs": [
    {
     "data": {
      "text/plain": [
       "[1, 3, 5, 7, 9]"
      ]
     },
     "execution_count": 61,
     "metadata": {},
     "output_type": "execute_result"
    }
   ],
   "source": [
    "list(range(1, 10, 2)) "
   ]
  },
  {
   "cell_type": "code",
   "execution_count": 62,
   "id": "7fde1d77",
   "metadata": {},
   "outputs": [
    {
     "data": {
      "text/plain": [
       "[10, 8, 6, 4, 2]"
      ]
     },
     "execution_count": 62,
     "metadata": {},
     "output_type": "execute_result"
    }
   ],
   "source": [
    "list(range(10, 0, -2)) "
   ]
  },
  {
   "cell_type": "code",
   "execution_count": 65,
   "id": "ee2f6a6a",
   "metadata": {},
   "outputs": [
    {
     "data": {
      "text/plain": [
       "[0, 10, 20, 30, 40, 50, 60, 70, 80, 90]"
      ]
     },
     "execution_count": 65,
     "metadata": {},
     "output_type": "execute_result"
    }
   ],
   "source": [
    "list(range(0, 100, 10)) "
   ]
  },
  {
   "cell_type": "markdown",
   "id": "5965c65e",
   "metadata": {},
   "source": [
    "# 선형회귀분석 예제"
   ]
  },
  {
   "cell_type": "code",
   "execution_count": 71,
   "id": "c0008e6e",
   "metadata": {},
   "outputs": [],
   "source": [
    "import numpy as np\n",
    "import pandas as pd\n",
    "import matplotlib.pyplot as plt\n",
    "import statsmodels.api as sm"
   ]
  },
  {
   "cell_type": "code",
   "execution_count": 68,
   "id": "0e527b7d",
   "metadata": {},
   "outputs": [],
   "source": [
    "data = pd.read_csv('../data/Simple linear regression.csv') # class 상위폴더"
   ]
  },
  {
   "cell_type": "code",
   "execution_count": 69,
   "id": "7cd9ff55",
   "metadata": {},
   "outputs": [
    {
     "data": {
      "text/html": [
       "<div>\n",
       "<style scoped>\n",
       "    .dataframe tbody tr th:only-of-type {\n",
       "        vertical-align: middle;\n",
       "    }\n",
       "\n",
       "    .dataframe tbody tr th {\n",
       "        vertical-align: top;\n",
       "    }\n",
       "\n",
       "    .dataframe thead th {\n",
       "        text-align: right;\n",
       "    }\n",
       "</style>\n",
       "<table border=\"1\" class=\"dataframe\">\n",
       "  <thead>\n",
       "    <tr style=\"text-align: right;\">\n",
       "      <th></th>\n",
       "      <th>SAT</th>\n",
       "      <th>GPA</th>\n",
       "    </tr>\n",
       "  </thead>\n",
       "  <tbody>\n",
       "    <tr>\n",
       "      <th>0</th>\n",
       "      <td>1714</td>\n",
       "      <td>2.40</td>\n",
       "    </tr>\n",
       "    <tr>\n",
       "      <th>1</th>\n",
       "      <td>1664</td>\n",
       "      <td>2.52</td>\n",
       "    </tr>\n",
       "    <tr>\n",
       "      <th>2</th>\n",
       "      <td>1760</td>\n",
       "      <td>2.54</td>\n",
       "    </tr>\n",
       "    <tr>\n",
       "      <th>3</th>\n",
       "      <td>1685</td>\n",
       "      <td>2.74</td>\n",
       "    </tr>\n",
       "    <tr>\n",
       "      <th>4</th>\n",
       "      <td>1693</td>\n",
       "      <td>2.83</td>\n",
       "    </tr>\n",
       "  </tbody>\n",
       "</table>\n",
       "</div>"
      ],
      "text/plain": [
       "    SAT   GPA\n",
       "0  1714  2.40\n",
       "1  1664  2.52\n",
       "2  1760  2.54\n",
       "3  1685  2.74\n",
       "4  1693  2.83"
      ]
     },
     "execution_count": 69,
     "metadata": {},
     "output_type": "execute_result"
    }
   ],
   "source": [
    "data.head()"
   ]
  },
  {
   "cell_type": "code",
   "execution_count": 70,
   "id": "c08fde50",
   "metadata": {},
   "outputs": [
    {
     "data": {
      "text/plain": [
       "<matplotlib.collections.PathCollection at 0x2098f4500d0>"
      ]
     },
     "execution_count": 70,
     "metadata": {},
     "output_type": "execute_result"
    },
    {
     "data": {
      "image/png": "[encoded data removed]",
      "text/plain": [
       "<Figure size 432x288 with 1 Axes>"
      ]
     },
     "metadata": {
      "needs_background": "light"
     },
     "output_type": "display_data"
    }
   ],
   "source": [
    "plt.scatter(data.SAT, data.GPA) # 산점도 (x축 SAT, y축 GPA)"
   ]
  },
  {
   "cell_type": "code",
   "execution_count": 73,
   "id": "9c252735",
   "metadata": {},
   "outputs": [],
   "source": [
    "result = sm.OLS(data.GPA, data.SAT).fit()"
   ]
  },
  {
   "cell_type": "code",
   "execution_count": 75,
   "id": "9801c450",
   "metadata": {},
   "outputs": [
    {
     "data": {
      "text/html": [
       "<table class=\"simpletable\">\n",
       "<caption>OLS Regression Results</caption>\n",
       "<tr>\n",
       "  <th>Dep. Variable:</th>           <td>GPA</td>       <th>  R-squared (uncentered):</th>      <td>   0.996</td> \n",
       "</tr>\n",
       "<tr>\n",
       "  <th>Model:</th>                   <td>OLS</td>       <th>  Adj. R-squared (uncentered):</th> <td>   0.996</td> \n",
       "</tr>\n",
       "<tr>\n",
       "  <th>Method:</th>             <td>Least Squares</td>  <th>  F-statistic:       </th>          <td>2.120e+04</td>\n",
       "</tr>\n",
       "<tr>\n",
       "  <th>Date:</th>             <td>Tue, 09 Nov 2021</td> <th>  Prob (F-statistic):</th>          <td>9.38e-102</td>\n",
       "</tr>\n",
       "<tr>\n",
       "  <th>Time:</th>                 <td>13:25:14</td>     <th>  Log-Likelihood:    </th>          <td>  12.440</td> \n",
       "</tr>\n",
       "<tr>\n",
       "  <th>No. Observations:</th>      <td>    84</td>      <th>  AIC:               </th>          <td>  -22.88</td> \n",
       "</tr>\n",
       "<tr>\n",
       "  <th>Df Residuals:</th>          <td>    83</td>      <th>  BIC:               </th>          <td>  -20.45</td> \n",
       "</tr>\n",
       "<tr>\n",
       "  <th>Df Model:</th>              <td>     1</td>      <th>                     </th>              <td> </td>    \n",
       "</tr>\n",
       "<tr>\n",
       "  <th>Covariance Type:</th>      <td>nonrobust</td>    <th>                     </th>              <td> </td>    \n",
       "</tr>\n",
       "</table>\n",
       "<table class=\"simpletable\">\n",
       "<tr>\n",
       "   <td></td>      <th>coef</th>     <th>std err</th>      <th>t</th>      <th>P>|t|</th>  <th>[0.025</th>    <th>0.975]</th>  \n",
       "</tr>\n",
       "<tr>\n",
       "  <th>SAT</th> <td>    0.0018</td> <td> 1.24e-05</td> <td>  145.594</td> <td> 0.000</td> <td>    0.002</td> <td>    0.002</td>\n",
       "</tr>\n",
       "</table>\n",
       "<table class=\"simpletable\">\n",
       "<tr>\n",
       "  <th>Omnibus:</th>       <td> 9.848</td> <th>  Durbin-Watson:     </th> <td>   1.116</td>\n",
       "</tr>\n",
       "<tr>\n",
       "  <th>Prob(Omnibus):</th> <td> 0.007</td> <th>  Jarque-Bera (JB):  </th> <td>  11.422</td>\n",
       "</tr>\n",
       "<tr>\n",
       "  <th>Skew:</th>          <td>-0.594</td> <th>  Prob(JB):          </th> <td> 0.00331</td>\n",
       "</tr>\n",
       "<tr>\n",
       "  <th>Kurtosis:</th>      <td> 4.361</td> <th>  Cond. No.          </th> <td>    1.00</td>\n",
       "</tr>\n",
       "</table><br/><br/>Notes:<br/>[1] R² is computed without centering (uncentered) since the model does not contain a constant.<br/>[2] Standard Errors assume that the covariance matrix of the errors is correctly specified."
      ],
      "text/plain": [
       "<class 'statsmodels.iolib.summary.Summary'>\n",
       "\"\"\"\n",
       "                                 OLS Regression Results                                \n",
       "=======================================================================================\n",
       "Dep. Variable:                    GPA   R-squared (uncentered):                   0.996\n",
       "Model:                            OLS   Adj. R-squared (uncentered):              0.996\n",
       "Method:                 Least Squares   F-statistic:                          2.120e+04\n",
       "Date:                Tue, 09 Nov 2021   Prob (F-statistic):                   9.38e-102\n",
       "Time:                        13:25:14   Log-Likelihood:                          12.440\n",
       "No. Observations:                  84   AIC:                                     -22.88\n",
       "Df Residuals:                      83   BIC:                                     -20.45\n",
       "Df Model:                           1                                                  \n",
       "Covariance Type:            nonrobust                                                  \n",
       "==============================================================================\n",
       "                 coef    std err          t      P>|t|      [0.025      0.975]\n",
       "------------------------------------------------------------------------------\n",
       "SAT            0.0018   1.24e-05    145.594      0.000       0.002       0.002\n",
       "==============================================================================\n",
       "Omnibus:                        9.848   Durbin-Watson:                   1.116\n",
       "Prob(Omnibus):                  0.007   Jarque-Bera (JB):               11.422\n",
       "Skew:                          -0.594   Prob(JB):                      0.00331\n",
       "Kurtosis:                       4.361   Cond. No.                         1.00\n",
       "==============================================================================\n",
       "\n",
       "Notes:\n",
       "[1] R² is computed without centering (uncentered) since the model does not contain a constant.\n",
       "[2] Standard Errors assume that the covariance matrix of the errors is correctly specified.\n",
       "\"\"\""
      ]
     },
     "execution_count": 75,
     "metadata": {},
     "output_type": "execute_result"
    }
   ],
   "source": [
    "result.summary()"
   ]
  },
  {
   "cell_type": "markdown",
   "id": "0923d8da",
   "metadata": {},
   "source": [
    "GPA = 0.0018*SAT"
   ]
  },
  {
   "cell_type": "code",
   "execution_count": 77,
   "id": "cd014656",
   "metadata": {},
   "outputs": [
    {
     "data": {
      "text/plain": [
       "[<matplotlib.lines.Line2D at 0x20992001f70>]"
      ]
     },
     "execution_count": 77,
     "metadata": {},
     "output_type": "execute_result"
    },
    {
     "data": {
      "image/png": "[encoded data removed]",
      "text/plain": [
       "<Figure size 432x288 with 1 Axes>"
      ]
     },
     "metadata": {
      "needs_background": "light"
     },
     "output_type": "display_data"
    }
   ],
   "source": [
    "plt.scatter(data.SAT, data.GPA)\n",
    "plt.plot(data.SAT, 0.0018*data.SAT, c='orange')  # GTA=0.0018*data.SAT"
   ]
  },
  {
   "cell_type": "code",
   "execution_count": 78,
   "id": "737cf7d8",
   "metadata": {},
   "outputs": [
    {
     "data": {
      "text/plain": [
       "array([3.06725585])"
      ]
     },
     "execution_count": 78,
     "metadata": {},
     "output_type": "execute_result"
    }
   ],
   "source": [
    "result.predict(1700) # 1700 쯤 갔을때의 GTA의 결과"
   ]
  },
  {
   "cell_type": "code",
   "execution_count": 79,
   "id": "aa7197e6",
   "metadata": {},
   "outputs": [],
   "source": [
    "import pickle"
   ]
  },
  {
   "cell_type": "code",
   "execution_count": 82,
   "id": "d1442360",
   "metadata": {},
   "outputs": [],
   "source": [
    "with open('model.pkl', 'wb') as f:\n",
    "    pickle.dump(result,f)"
   ]
  },
  {
   "cell_type": "markdown",
   "id": "c6d40c5f",
   "metadata": {},
   "source": [
    "닫아도 새로운 파일에서 가져올수있음"
   ]
  },
  {
   "cell_type": "markdown",
   "id": "e6269288",
   "metadata": {},
   "source": [
    "#  7. 튜플"
   ]
  },
  {
   "cell_type": "markdown",
   "id": "8749a494",
   "metadata": {},
   "source": [
    "소괄호 () => 튜플 \n",
    "수정이 안됨! 따라서 수정하지 못하게 할 때 사용 (리스트는 가능)"
   ]
  },
  {
   "cell_type": "code",
   "execution_count": 83,
   "id": "3434607a",
   "metadata": {},
   "outputs": [],
   "source": [
    "empty_tuple = ()"
   ]
  },
  {
   "cell_type": "code",
   "execution_count": 84,
   "id": "a73531ff",
   "metadata": {},
   "outputs": [
    {
     "data": {
      "text/plain": [
       "tuple"
      ]
     },
     "execution_count": 84,
     "metadata": {},
     "output_type": "execute_result"
    }
   ],
   "source": [
    "type(empty_tuple)"
   ]
  },
  {
   "cell_type": "code",
   "execution_count": 87,
   "id": "645dd0a9",
   "metadata": {},
   "outputs": [],
   "source": [
    "marx_tuple = ('Groucho', 'chico', 'Harpo')"
   ]
  },
  {
   "cell_type": "code",
   "execution_count": 88,
   "id": "cf9c46c4",
   "metadata": {},
   "outputs": [],
   "source": [
    "marx_tupe = 'Groucho', 'chico', 'Harpo' # 가능"
   ]
  },
  {
   "cell_type": "code",
   "execution_count": 89,
   "id": "a309d31d",
   "metadata": {},
   "outputs": [
    {
     "data": {
      "text/plain": [
       "('Groucho', 'chico', 'Harpo')"
      ]
     },
     "execution_count": 89,
     "metadata": {},
     "output_type": "execute_result"
    }
   ],
   "source": [
    "marx_tupe[0], marx_tupe[1], marx_tupe[2]"
   ]
  },
  {
   "cell_type": "code",
   "execution_count": 90,
   "id": "1c37f017",
   "metadata": {},
   "outputs": [
    {
     "ename": "TypeError",
     "evalue": "'tuple' object does not support item assignment",
     "output_type": "error",
     "traceback": [
      "\u001b[1;31m---------------------------------------------------------------------------\u001b[0m",
      "\u001b[1;31mTypeError\u001b[0m                                 Traceback (most recent call last)",
      "\u001b[1;32m<ipython-input-90-0497c3d1ed89>\u001b[0m in \u001b[0;36m<module>\u001b[1;34m\u001b[0m\n\u001b[1;32m----> 1\u001b[1;33m \u001b[0mmarx_tupe\u001b[0m\u001b[1;33m[\u001b[0m\u001b[1;36m0\u001b[0m\u001b[1;33m]\u001b[0m \u001b[1;33m=\u001b[0m \u001b[1;34m'moon'\u001b[0m\u001b[1;33m\u001b[0m\u001b[1;33m\u001b[0m\u001b[0m\n\u001b[0m",
      "\u001b[1;31mTypeError\u001b[0m: 'tuple' object does not support item assignment"
     ]
    }
   ],
   "source": [
    "marx_tupe[0] = 'moon' # tuple은 수정안됨"
   ]
  },
  {
   "cell_type": "code",
   "execution_count": 91,
   "id": "2731171c",
   "metadata": {},
   "outputs": [],
   "source": [
    "a, b, c = marx_tupe # 튜플에서는 가능 각자 'Groucho', 'chico', 'Harpo'를 할당 받음"
   ]
  },
  {
   "cell_type": "code",
   "execution_count": 92,
   "id": "28af47e1",
   "metadata": {},
   "outputs": [
    {
     "data": {
      "text/plain": [
       "('Groucho', 'chico', 'Harpo')"
      ]
     },
     "execution_count": 92,
     "metadata": {},
     "output_type": "execute_result"
    }
   ],
   "source": [
    "a,b,c"
   ]
  },
  {
   "cell_type": "code",
   "execution_count": 93,
   "id": "68c82e3a",
   "metadata": {},
   "outputs": [],
   "source": [
    "password = 'medici'\n",
    "icecream = 'greentea'"
   ]
  },
  {
   "cell_type": "code",
   "execution_count": 94,
   "id": "1fbb3b32",
   "metadata": {},
   "outputs": [],
   "source": [
    "passwod, iceream = 'medici', 'greentea' # 가능"
   ]
  },
  {
   "cell_type": "code",
   "execution_count": 95,
   "id": "9239413f",
   "metadata": {},
   "outputs": [],
   "source": [
    "marx_list = list(marx_tuple)  # list(marx_tuple)전체가 리스트가 됨 marx_tuple은 그대로 튜플"
   ]
  },
  {
   "cell_type": "code",
   "execution_count": 96,
   "id": "da6bf472",
   "metadata": {},
   "outputs": [
    {
     "data": {
      "text/plain": [
       "['Groucho', 'chico', 'Harpo']"
      ]
     },
     "execution_count": 96,
     "metadata": {},
     "output_type": "execute_result"
    }
   ],
   "source": [
    "marx_list #튜플을 리스트로 바꿈"
   ]
  },
  {
   "cell_type": "code",
   "execution_count": 97,
   "id": "8852ec76",
   "metadata": {},
   "outputs": [
    {
     "data": {
      "text/plain": [
       "['GROUCHO', 'chico', 'Harpo']"
      ]
     },
     "execution_count": 97,
     "metadata": {},
     "output_type": "execute_result"
    }
   ],
   "source": [
    "marx_list[0] = marx_list[0].upper()\n",
    "marx_list"
   ]
  },
  {
   "cell_type": "code",
   "execution_count": 100,
   "id": "24c849d8",
   "metadata": {},
   "outputs": [
    {
     "data": {
      "text/plain": [
       "('GROUCHO', 'chico', 'Harpo')"
      ]
     },
     "execution_count": 100,
     "metadata": {},
     "output_type": "execute_result"
    }
   ],
   "source": [
    "tuple(marx_list) # 리스트가 바뀐게 아니라 tuple(marx_list)이 전체가 튜플이 됨"
   ]
  },
  {
   "cell_type": "markdown",
   "id": "4318034e",
   "metadata": {},
   "source": [
    "결합연산자"
   ]
  },
  {
   "cell_type": "code",
   "execution_count": 102,
   "id": "d92a352b",
   "metadata": {},
   "outputs": [
    {
     "data": {
      "text/plain": [
       "('apple', 'banana', 'mouse', 'keybord')"
      ]
     },
     "execution_count": 102,
     "metadata": {},
     "output_type": "execute_result"
    }
   ],
   "source": [
    "('apple','banana') + ('mouse','keybord')"
   ]
  },
  {
   "cell_type": "code",
   "execution_count": 104,
   "id": "f537a110",
   "metadata": {
    "collapsed": true
   },
   "outputs": [
    {
     "data": {
      "text/plain": [
       "(('apple', 'banana', 'apple', 'banana', 'apple', 'banana'),\n",
       " ('apple', 'banana', 'apple', 'banana', 'apple', 'banana'))"
      ]
     },
     "execution_count": 104,
     "metadata": {},
     "output_type": "execute_result"
    }
   ],
   "source": [
    "('apple','banana') *3, 3*('apple','banana') # 결과 같음"
   ]
  },
  {
   "cell_type": "code",
   "execution_count": 105,
   "id": "7d3444e6",
   "metadata": {},
   "outputs": [
    {
     "name": "stdout",
     "output_type": "stream",
     "text": [
      "Groucho\n",
      "chico\n",
      "Harpo\n"
     ]
    }
   ],
   "source": [
    "for x in marx_tuple:\n",
    "    print(x)"
   ]
  },
  {
   "cell_type": "code",
   "execution_count": 106,
   "id": "a87b93e5",
   "metadata": {},
   "outputs": [],
   "source": [
    "t1 = ('mouse','keybord')\n",
    "t2 = ('desk',)  # 뒤에 , 안쓰면 문자로 인식해서 튜플 생성이 안됨\n",
    "t1 = t1+t2 # 병합"
   ]
  },
  {
   "cell_type": "code",
   "execution_count": 107,
   "id": "f02effed",
   "metadata": {},
   "outputs": [
    {
     "data": {
      "text/plain": [
       "('mouse', 'keybord', 'desk')"
      ]
     },
     "execution_count": 107,
     "metadata": {},
     "output_type": "execute_result"
    }
   ],
   "source": [
    "t1"
   ]
  },
  {
   "cell_type": "code",
   "execution_count": 108,
   "id": "f4050ef8",
   "metadata": {},
   "outputs": [],
   "source": [
    "t1 += t2"
   ]
  },
  {
   "cell_type": "code",
   "execution_count": 109,
   "id": "b571d0f6",
   "metadata": {},
   "outputs": [
    {
     "data": {
      "text/plain": [
       "('mouse', 'keybord', 'desk', 'desk')"
      ]
     },
     "execution_count": 109,
     "metadata": {},
     "output_type": "execute_result"
    }
   ],
   "source": [
    "t1"
   ]
  },
  {
   "cell_type": "markdown",
   "id": "77d44a04",
   "metadata": {},
   "source": [
    "리스트 생성"
   ]
  },
  {
   "cell_type": "code",
   "execution_count": 110,
   "id": "947c7121",
   "metadata": {},
   "outputs": [],
   "source": [
    "empty_list= []"
   ]
  },
  {
   "cell_type": "code",
   "execution_count": 111,
   "id": "30b6ca28",
   "metadata": {},
   "outputs": [],
   "source": [
    "leap_years = [2000, 2004, 2008, 2000] # 리스트는 중복가능, 셋은 중복 불가\n",
    "first_names = ['kim', 'park', 'yun', 'lee']\n",
    "randoness = ['abcd', 2, [1122,222], {'kim':'Daerim'}]"
   ]
  },
  {
   "cell_type": "code",
   "execution_count": 112,
   "id": "07004ff3",
   "metadata": {},
   "outputs": [
    {
     "data": {
      "text/plain": [
       "{2000, 2004, 2008}"
      ]
     },
     "execution_count": 112,
     "metadata": {},
     "output_type": "execute_result"
    }
   ],
   "source": [
    "set(leap_years) # set 함수를 이용하면 중복이 제거되므로 개수 세는것도 가능"
   ]
  },
  {
   "cell_type": "code",
   "execution_count": 113,
   "id": "16dcb577",
   "metadata": {},
   "outputs": [],
   "source": [
    "another_empty_list = list()"
   ]
  },
  {
   "cell_type": "code",
   "execution_count": null,
   "id": "3f7c431a",
   "metadata": {},
   "outputs": [],
   "source": [
    "# 문자열, 튜플, 셋, 딕셔너리, 리스트"
   ]
  },
  {
   "cell_type": "code",
   "execution_count": 114,
   "id": "58876093",
   "metadata": {},
   "outputs": [
    {
     "data": {
      "text/plain": [
       "(['c', 'a', 't'], ['ready', 'fire', 'aim'])"
      ]
     },
     "execution_count": 114,
     "metadata": {},
     "output_type": "execute_result"
    }
   ],
   "source": [
    "list('cat'), list(('ready', 'fire', 'aim'))"
   ]
  },
  {
   "cell_type": "code",
   "execution_count": 115,
   "id": "25cb5ac7",
   "metadata": {},
   "outputs": [
    {
     "data": {
      "text/plain": [
       "['9', '19', '2019']"
      ]
     },
     "execution_count": 115,
     "metadata": {},
     "output_type": "execute_result"
    }
   ],
   "source": [
    "someday = '9/19/2019'\n",
    "someday.split('/') # 데이터 쪼개기"
   ]
  },
  {
   "cell_type": "code",
   "execution_count": 117,
   "id": "21a78a21",
   "metadata": {},
   "outputs": [
    {
     "data": {
      "text/plain": [
       "['a', 'b', '', 'c', 'd', '', '', 'e']"
      ]
     },
     "execution_count": 117,
     "metadata": {},
     "output_type": "execute_result"
    }
   ],
   "source": [
    "'a/b//c/d///e'.split('/')"
   ]
  },
  {
   "cell_type": "code",
   "execution_count": 119,
   "id": "c848e971",
   "metadata": {},
   "outputs": [
    {
     "data": {
      "text/plain": [
       "['a/b', 'c/d', '/e']"
      ]
     },
     "execution_count": 119,
     "metadata": {},
     "output_type": "execute_result"
    }
   ],
   "source": [
    "'a/b//c/d///e'.split('//')"
   ]
  },
  {
   "cell_type": "code",
   "execution_count": 120,
   "id": "e492b07a",
   "metadata": {},
   "outputs": [],
   "source": [
    "marxes = ['keybord', 'mouse', 'joystick']"
   ]
  },
  {
   "cell_type": "code",
   "execution_count": 121,
   "id": "81911ef7",
   "metadata": {},
   "outputs": [
    {
     "data": {
      "text/plain": [
       "(['keybord', 'joystick'], ['joystick', 'keybord'])"
      ]
     },
     "execution_count": 121,
     "metadata": {},
     "output_type": "execute_result"
    }
   ],
   "source": [
    "marxes[::2], marxes[::-2]"
   ]
  },
  {
   "cell_type": "code",
   "execution_count": 122,
   "id": "45819593",
   "metadata": {},
   "outputs": [
    {
     "data": {
      "text/plain": [
       "['joystick', 'mouse', 'keybord']"
      ]
     },
     "execution_count": 122,
     "metadata": {},
     "output_type": "execute_result"
    }
   ],
   "source": [
    "marxes[::-1]"
   ]
  },
  {
   "cell_type": "code",
   "execution_count": 128,
   "id": "3577df22",
   "metadata": {},
   "outputs": [],
   "source": [
    "marxes.reverse() # marxes 안의 오리지널 데이터가 리버스 됨"
   ]
  },
  {
   "cell_type": "code",
   "execution_count": 129,
   "id": "0d128294",
   "metadata": {},
   "outputs": [
    {
     "data": {
      "text/plain": [
       "['keybord', 'mouse', 'joystick']"
      ]
     },
     "execution_count": 129,
     "metadata": {},
     "output_type": "execute_result"
    }
   ],
   "source": [
    "marxes"
   ]
  },
  {
   "cell_type": "code",
   "execution_count": 131,
   "id": "9f409986",
   "metadata": {},
   "outputs": [],
   "source": [
    "marxes.append('Zeppo') # 리스트 끝에 항목추가"
   ]
  },
  {
   "cell_type": "code",
   "execution_count": 132,
   "id": "46f00eef",
   "metadata": {},
   "outputs": [
    {
     "data": {
      "text/plain": [
       "['keybord', 'mouse', 'joystick', 'Zeppo']"
      ]
     },
     "execution_count": 132,
     "metadata": {},
     "output_type": "execute_result"
    }
   ],
   "source": [
    "marxes"
   ]
  },
  {
   "cell_type": "code",
   "execution_count": 133,
   "id": "e82a57ac",
   "metadata": {},
   "outputs": [],
   "source": [
    "marxes.insert(2,'touchpad')"
   ]
  },
  {
   "cell_type": "code",
   "execution_count": 134,
   "id": "e5a2c2e6",
   "metadata": {},
   "outputs": [
    {
     "data": {
      "text/plain": [
       "['keybord', 'mouse', 'touchpad', 'joystick', 'Zeppo']"
      ]
     },
     "execution_count": 134,
     "metadata": {},
     "output_type": "execute_result"
    }
   ],
   "source": [
    "marxes"
   ]
  },
  {
   "cell_type": "code",
   "execution_count": 135,
   "id": "f10b0e83",
   "metadata": {},
   "outputs": [],
   "source": [
    "marxes.insert(10,'half keybord')"
   ]
  },
  {
   "cell_type": "code",
   "execution_count": 136,
   "id": "e3f31318",
   "metadata": {},
   "outputs": [
    {
     "data": {
      "text/plain": [
       "['keybord', 'mouse', 'touchpad', 'joystick', 'Zeppo', 'half keybord']"
      ]
     },
     "execution_count": 136,
     "metadata": {},
     "output_type": "execute_result"
    }
   ],
   "source": [
    "marxes"
   ]
  },
  {
   "cell_type": "code",
   "execution_count": 147,
   "id": "eb4ccb00",
   "metadata": {},
   "outputs": [
    {
     "data": {
      "text/plain": [
       "['a', 'b', 'c', 'e', 'd', 'f']"
      ]
     },
     "execution_count": 147,
     "metadata": {},
     "output_type": "execute_result"
    }
   ],
   "source": [
    "list('abc')+list('edf')"
   ]
  },
  {
   "cell_type": "code",
   "execution_count": 138,
   "id": "aeb3e706",
   "metadata": {},
   "outputs": [],
   "source": [
    "list('abc').append('wxy') # 저장안됨 append는 저장값이 없어서 안나옴"
   ]
  },
  {
   "cell_type": "code",
   "execution_count": 148,
   "id": "dd6fdeb1",
   "metadata": {},
   "outputs": [],
   "source": [
    "alist = list('abc')"
   ]
  },
  {
   "cell_type": "code",
   "execution_count": 149,
   "id": "64b87be3",
   "metadata": {},
   "outputs": [],
   "source": [
    "alist.extend(list('wxy'))"
   ]
  },
  {
   "cell_type": "code",
   "execution_count": 150,
   "id": "686512a7",
   "metadata": {},
   "outputs": [
    {
     "data": {
      "text/plain": [
       "['a', 'b', 'c', 'w', 'x', 'y']"
      ]
     },
     "execution_count": 150,
     "metadata": {},
     "output_type": "execute_result"
    }
   ],
   "source": [
    "alist"
   ]
  },
  {
   "cell_type": "code",
   "execution_count": 143,
   "id": "beac350a",
   "metadata": {},
   "outputs": [],
   "source": [
    "del alist[0]  # 객체 삭제 , 모든지 지울수있음"
   ]
  },
  {
   "cell_type": "code",
   "execution_count": 144,
   "id": "7d868d35",
   "metadata": {},
   "outputs": [
    {
     "data": {
      "text/plain": [
       "['b', 'c', 'w', 'x', 'y']"
      ]
     },
     "execution_count": 144,
     "metadata": {},
     "output_type": "execute_result"
    }
   ],
   "source": [
    "alist"
   ]
  },
  {
   "cell_type": "code",
   "execution_count": 145,
   "id": "8a7d5b88",
   "metadata": {},
   "outputs": [],
   "source": [
    "del alist"
   ]
  },
  {
   "cell_type": "code",
   "execution_count": 146,
   "id": "23007d0c",
   "metadata": {},
   "outputs": [
    {
     "ename": "NameError",
     "evalue": "name 'alist' is not defined",
     "output_type": "error",
     "traceback": [
      "\u001b[1;31m---------------------------------------------------------------------------\u001b[0m",
      "\u001b[1;31mNameError\u001b[0m                                 Traceback (most recent call last)",
      "\u001b[1;32m<ipython-input-146-56a8d75443b3>\u001b[0m in \u001b[0;36m<module>\u001b[1;34m\u001b[0m\n\u001b[1;32m----> 1\u001b[1;33m \u001b[0malist\u001b[0m\u001b[1;33m\u001b[0m\u001b[1;33m\u001b[0m\u001b[0m\n\u001b[0m",
      "\u001b[1;31mNameError\u001b[0m: name 'alist' is not defined"
     ]
    }
   ],
   "source": [
    "alist"
   ]
  },
  {
   "cell_type": "code",
   "execution_count": 174,
   "id": "7c5bf025",
   "metadata": {},
   "outputs": [],
   "source": [
    "blist = ['abd', 'def', 'ghi', 'jkl', 'def']"
   ]
  },
  {
   "cell_type": "code",
   "execution_count": 167,
   "id": "d63ec790",
   "metadata": {},
   "outputs": [],
   "source": [
    "blist.remove('def')"
   ]
  },
  {
   "cell_type": "code",
   "execution_count": 168,
   "id": "69cd32e6",
   "metadata": {},
   "outputs": [
    {
     "data": {
      "text/plain": [
       "['abd', 'ghi', 'jkl', 'def']"
      ]
     },
     "execution_count": 168,
     "metadata": {},
     "output_type": "execute_result"
    }
   ],
   "source": [
    "blist"
   ]
  },
  {
   "cell_type": "code",
   "execution_count": 169,
   "id": "f9401409",
   "metadata": {},
   "outputs": [
    {
     "data": {
      "text/plain": [
       "'def'"
      ]
     },
     "execution_count": 169,
     "metadata": {},
     "output_type": "execute_result"
    }
   ],
   "source": [
    "blist.pop() # 맨뒤부터 하나씩 지우면서 지운객체 반환"
   ]
  },
  {
   "cell_type": "code",
   "execution_count": 175,
   "id": "774679c5",
   "metadata": {},
   "outputs": [
    {
     "data": {
      "text/plain": [
       "['abd', 'def', 'ghi', 'jkl', 'def']"
      ]
     },
     "execution_count": 175,
     "metadata": {},
     "output_type": "execute_result"
    }
   ],
   "source": [
    "blist"
   ]
  },
  {
   "cell_type": "code",
   "execution_count": 163,
   "id": "e201b959",
   "metadata": {},
   "outputs": [],
   "source": [
    "blist.clear()"
   ]
  },
  {
   "cell_type": "code",
   "execution_count": 178,
   "id": "c0adca99",
   "metadata": {},
   "outputs": [
    {
     "data": {
      "text/plain": [
       "1"
      ]
     },
     "execution_count": 178,
     "metadata": {},
     "output_type": "execute_result"
    }
   ],
   "source": [
    "blist.index('def') # 첫번째로 나오는 'def' 찾아줌"
   ]
  },
  {
   "cell_type": "code",
   "execution_count": 177,
   "id": "58b39b3c",
   "metadata": {},
   "outputs": [
    {
     "data": {
      "text/plain": [
       "2"
      ]
     },
     "execution_count": 177,
     "metadata": {},
     "output_type": "execute_result"
    }
   ],
   "source": [
    "blist.count('def')"
   ]
  },
  {
   "cell_type": "code",
   "execution_count": 265,
   "id": "e088c196",
   "metadata": {},
   "outputs": [],
   "source": [
    "cheeses = ['brie','gjetost','havarti']"
   ]
  },
  {
   "cell_type": "code",
   "execution_count": 266,
   "id": "682354f7",
   "metadata": {
    "scrolled": true
   },
   "outputs": [
    {
     "name": "stdout",
     "output_type": "stream",
     "text": [
      "brie\n",
      "gjetost\n",
      "havarti\n"
     ]
    }
   ],
   "source": [
    "for cheese in cheeses:\n",
    "    print(cheese)"
   ]
  },
  {
   "cell_type": "code",
   "execution_count": 268,
   "id": "f89eaa96",
   "metadata": {},
   "outputs": [
    {
     "name": "stdout",
     "output_type": "stream",
     "text": [
      "brie\n",
      "I won't eat anything that starts with 'g'\n"
     ]
    }
   ],
   "source": [
    "for cheese in cheeses:\n",
    "    if cheese.startswith('g'):\n",
    "        print(\"I won't eat anything that starts with 'g'\")\n",
    "        break\n",
    "    else:\n",
    "        print(cheese)"
   ]
  },
  {
   "cell_type": "code",
   "execution_count": 269,
   "id": "810af38c",
   "metadata": {},
   "outputs": [
    {
     "name": "stdout",
     "output_type": "stream",
     "text": [
      "brie\n",
      "gjetost\n",
      "havarti\n",
      "Didn't find anythinng thaht started with 'x'\n"
     ]
    }
   ],
   "source": [
    "for cheese in cheeses:\n",
    "    if cheese.startswith('x'):\n",
    "        print(\"I won't eat anything that starts with'x'\")\n",
    "        break\n",
    "    else:\n",
    "        print(cheese)\n",
    "else:\n",
    "    print(\"Didn't find anythinng thaht started with 'x'\")"
   ]
  },
  {
   "cell_type": "code",
   "execution_count": 187,
   "id": "04673f70",
   "metadata": {},
   "outputs": [],
   "source": [
    "english = 'Monday', 'Tuesday', 'Wednesday'\n",
    "french = 'Lundi', 'Mardi', 'Mercredi'"
   ]
  },
  {
   "cell_type": "code",
   "execution_count": 188,
   "id": "80078572",
   "metadata": {},
   "outputs": [
    {
     "data": {
      "text/plain": [
       "[('Monday', 'Lundi'), ('Tuesday', 'Mardi'), ('Wednesday', 'Mercredi')]"
      ]
     },
     "execution_count": 188,
     "metadata": {},
     "output_type": "execute_result"
    }
   ],
   "source": [
    "list(zip(english, french)) # 행끼리 묶어줌"
   ]
  },
  {
   "cell_type": "code",
   "execution_count": 189,
   "id": "de0a6794",
   "metadata": {},
   "outputs": [
    {
     "data": {
      "text/plain": [
       "{'Monday': 'Lundi', 'Tuesday': 'Mardi', 'Wednesday': 'Mercredi'}"
      ]
     },
     "execution_count": 189,
     "metadata": {},
     "output_type": "execute_result"
    }
   ],
   "source": [
    "dict(list(zip(english, french))) #dict함수로 키값을 묶어줌  (인덱스로 이름을 지정)[인덱스이름(데이터 아님): 내용(데이터)]"
   ]
  },
  {
   "cell_type": "markdown",
   "id": "7caa768a",
   "metadata": {},
   "source": [
    "## list comprehension ★☆★☆"
   ]
  },
  {
   "cell_type": "markdown",
   "id": "43f9f60d",
   "metadata": {},
   "source": [
    "표현식 for 항목 in 순회 가능한 객체"
   ]
  },
  {
   "cell_type": "code",
   "execution_count": 190,
   "id": "3fd2db74",
   "metadata": {},
   "outputs": [],
   "source": [
    "mylist = []\n",
    "for ele in range(1,6):\n",
    "    mylist.append(ele)\n"
   ]
  },
  {
   "cell_type": "code",
   "execution_count": 191,
   "id": "d525a691",
   "metadata": {},
   "outputs": [
    {
     "data": {
      "text/plain": [
       "[1, 2, 3, 4, 5]"
      ]
     },
     "execution_count": 191,
     "metadata": {},
     "output_type": "execute_result"
    }
   ],
   "source": [
    "mylist"
   ]
  },
  {
   "cell_type": "code",
   "execution_count": 192,
   "id": "d2eba812",
   "metadata": {},
   "outputs": [
    {
     "data": {
      "text/plain": [
       "[1, 2, 3, 4, 5]"
      ]
     },
     "execution_count": 192,
     "metadata": {},
     "output_type": "execute_result"
    }
   ],
   "source": [
    "list(range(1,6))"
   ]
  },
  {
   "cell_type": "code",
   "execution_count": 193,
   "id": "ea93b047",
   "metadata": {},
   "outputs": [
    {
     "data": {
      "text/plain": [
       "[1, 2, 3, 4, 5]"
      ]
     },
     "execution_count": 193,
     "metadata": {},
     "output_type": "execute_result"
    }
   ],
   "source": [
    "[num for num in range(1,6)]  # 맨앞의 num이 리스트(이름)가 됨"
   ]
  },
  {
   "cell_type": "code",
   "execution_count": 194,
   "id": "d1d976a4",
   "metadata": {},
   "outputs": [
    {
     "data": {
      "text/plain": [
       "[1, 3, 5]"
      ]
     },
     "execution_count": 194,
     "metadata": {},
     "output_type": "execute_result"
    }
   ],
   "source": [
    "[num for num in range(1,6) if num % 2 == 1] #1과 5사이 홀수 리스트 생성"
   ]
  },
  {
   "cell_type": "code",
   "execution_count": 195,
   "id": "56c7dfba",
   "metadata": {},
   "outputs": [],
   "source": [
    "mystring = 'Hello 12345 world 779' # 이 중 숫자 데이터만 뽑으세요"
   ]
  },
  {
   "cell_type": "code",
   "execution_count": 196,
   "id": "f51af4c5",
   "metadata": {},
   "outputs": [
    {
     "data": {
      "text/plain": [
       "True"
      ]
     },
     "execution_count": 196,
     "metadata": {},
     "output_type": "execute_result"
    }
   ],
   "source": [
    "mystring[6].isdigit() # 숫자데이터 판별"
   ]
  },
  {
   "cell_type": "code",
   "execution_count": 197,
   "id": "6d813717",
   "metadata": {},
   "outputs": [],
   "source": [
    "# for문으로 나타내기\n",
    "tmplist = []\n",
    "for x in mystring:\n",
    "    if x.isdigit():\n",
    "        tmplist.append(x)"
   ]
  },
  {
   "cell_type": "code",
   "execution_count": 198,
   "id": "83d10841",
   "metadata": {},
   "outputs": [
    {
     "data": {
      "text/plain": [
       "['1', '2', '3', '4', '5', '7', '7', '9']"
      ]
     },
     "execution_count": 198,
     "metadata": {},
     "output_type": "execute_result"
    }
   ],
   "source": [
    "tmplist"
   ]
  },
  {
   "cell_type": "code",
   "execution_count": 199,
   "id": "3b7c785e",
   "metadata": {},
   "outputs": [
    {
     "data": {
      "text/plain": [
       "['1', '2', '3', '4', '5', '7', '7', '9']"
      ]
     },
     "execution_count": 199,
     "metadata": {},
     "output_type": "execute_result"
    }
   ],
   "source": [
    "# comprehension문으로 나타내기\n",
    "[x for x in mystring if x.isdigit()]"
   ]
  },
  {
   "cell_type": "code",
   "execution_count": 201,
   "id": "4eb1fcf0",
   "metadata": {},
   "outputs": [],
   "source": [
    "listOfWords =['this', 'is', 'a', 'list', 'of', 'words']"
   ]
  },
  {
   "cell_type": "code",
   "execution_count": 204,
   "id": "74a54f11",
   "metadata": {},
   "outputs": [
    {
     "data": {
      "text/plain": [
       "'t'"
      ]
     },
     "execution_count": 204,
     "metadata": {},
     "output_type": "execute_result"
    }
   ],
   "source": [
    "listOfWords[0][0] # 첫번째 데이터의 첫번째 글자"
   ]
  },
  {
   "cell_type": "code",
   "execution_count": 207,
   "id": "8a22d334",
   "metadata": {},
   "outputs": [
    {
     "name": "stdout",
     "output_type": "stream",
     "text": [
      "t\n",
      "i\n",
      "a\n",
      "l\n",
      "o\n",
      "w\n"
     ]
    }
   ],
   "source": [
    "for x in listOfWords:\n",
    "    print(x[0])  \n",
    "    \n",
    "# x의 첫번째 글자"
   ]
  },
  {
   "cell_type": "code",
   "execution_count": 206,
   "id": "221c2acf",
   "metadata": {},
   "outputs": [
    {
     "data": {
      "text/plain": [
       "['t', 'i', 'a', 'l', 'o', 'w']"
      ]
     },
     "execution_count": 206,
     "metadata": {},
     "output_type": "execute_result"
    }
   ],
   "source": [
    "[x[0] for x in listOfWords]"
   ]
  },
  {
   "cell_type": "markdown",
   "id": "c3e38e0e",
   "metadata": {},
   "source": [
    "## 8. 딕션너리와 셋"
   ]
  },
  {
   "cell_type": "markdown",
   "id": "cf6fc536",
   "metadata": {},
   "source": [
    "{} 셋, 딕셔너리\n",
    "중복 불가 \n",
    "ex) 주민번호, 행정번호 등"
   ]
  },
  {
   "cell_type": "code",
   "execution_count": 208,
   "id": "c5452d35",
   "metadata": {},
   "outputs": [],
   "source": [
    "empty_dict = {}"
   ]
  },
  {
   "cell_type": "code",
   "execution_count": 209,
   "id": "38829d1e",
   "metadata": {},
   "outputs": [
    {
     "data": {
      "text/plain": [
       "dict"
      ]
     },
     "execution_count": 209,
     "metadata": {},
     "output_type": "execute_result"
    }
   ],
   "source": [
    "type(empty_dict)"
   ]
  },
  {
   "cell_type": "code",
   "execution_count": 210,
   "id": "444c2d8a",
   "metadata": {},
   "outputs": [],
   "source": [
    "acme_customer = {'first': 'Wile', 'middle': 'E', 'last': 'Coyote'}"
   ]
  },
  {
   "cell_type": "code",
   "execution_count": 212,
   "id": "0895d9c1",
   "metadata": {},
   "outputs": [
    {
     "data": {
      "text/plain": [
       "'Wile'"
      ]
     },
     "execution_count": 212,
     "metadata": {},
     "output_type": "execute_result"
    }
   ],
   "source": [
    "acme_customer['first']  # 키값(=column)이 중복불가, 벨류값은 중복가능"
   ]
  },
  {
   "cell_type": "code",
   "execution_count": 213,
   "id": "9ae52af6",
   "metadata": {},
   "outputs": [],
   "source": [
    "los = ['ab', 'cd', 'ef']"
   ]
  },
  {
   "cell_type": "code",
   "execution_count": 214,
   "id": "b4ac74ce",
   "metadata": {},
   "outputs": [],
   "source": [
    "dit_los = dict(los)"
   ]
  },
  {
   "cell_type": "code",
   "execution_count": 215,
   "id": "d6a06fdb",
   "metadata": {},
   "outputs": [
    {
     "data": {
      "text/plain": [
       "('b', 'f')"
      ]
     },
     "execution_count": 215,
     "metadata": {},
     "output_type": "execute_result"
    }
   ],
   "source": [
    "dit_los['a'], dit_los['e']"
   ]
  },
  {
   "cell_type": "code",
   "execution_count": 216,
   "id": "af54518a",
   "metadata": {},
   "outputs": [],
   "source": [
    "signals = {'green': 'go', 'yellow':'go faster', 'red': 'smile for the camera'}"
   ]
  },
  {
   "cell_type": "code",
   "execution_count": 217,
   "id": "baeae3c9",
   "metadata": {},
   "outputs": [],
   "source": [
    "signals['green'] = 'run' # green 안에 value 값이 바뀜"
   ]
  },
  {
   "cell_type": "code",
   "execution_count": 218,
   "id": "0a319d14",
   "metadata": {},
   "outputs": [
    {
     "data": {
      "text/plain": [
       "{'green': 'run', 'yellow': 'go faster', 'red': 'smile for the camera'}"
      ]
     },
     "execution_count": 218,
     "metadata": {},
     "output_type": "execute_result"
    }
   ],
   "source": [
    "signals"
   ]
  },
  {
   "cell_type": "code",
   "execution_count": 219,
   "id": "208af3cb",
   "metadata": {},
   "outputs": [
    {
     "data": {
      "text/plain": [
       "dict_keys(['green', 'yellow', 'red'])"
      ]
     },
     "execution_count": 219,
     "metadata": {},
     "output_type": "execute_result"
    }
   ],
   "source": [
    "signals.keys()"
   ]
  },
  {
   "cell_type": "code",
   "execution_count": 220,
   "id": "cbcad474",
   "metadata": {},
   "outputs": [
    {
     "data": {
      "text/plain": [
       "dict_items([('green', 'run'), ('yellow', 'go faster'), ('red', 'smile for the camera')])"
      ]
     },
     "execution_count": 220,
     "metadata": {},
     "output_type": "execute_result"
    }
   ],
   "source": [
    "signals.items()"
   ]
  },
  {
   "cell_type": "code",
   "execution_count": 221,
   "id": "a1d3e4cc",
   "metadata": {},
   "outputs": [],
   "source": [
    "signals['blue'] = 'cry' # 딕셔너리 객체추가 원래 있던 이름이 아닌 경우 (있던 이름이면 덮어쓰기이므로 수정)"
   ]
  },
  {
   "cell_type": "code",
   "execution_count": 222,
   "id": "97c1feed",
   "metadata": {},
   "outputs": [
    {
     "data": {
      "text/plain": [
       "{'green': 'run',\n",
       " 'yellow': 'go faster',\n",
       " 'red': 'smile for the camera',\n",
       " 'blue': 'cry'}"
      ]
     },
     "execution_count": 222,
     "metadata": {},
     "output_type": "execute_result"
    }
   ],
   "source": [
    "signals "
   ]
  },
  {
   "cell_type": "code",
   "execution_count": 223,
   "id": "bc792de6",
   "metadata": {},
   "outputs": [],
   "source": [
    "signals['black'] = 'run' "
   ]
  },
  {
   "cell_type": "code",
   "execution_count": 224,
   "id": "9b29709f",
   "metadata": {},
   "outputs": [
    {
     "data": {
      "text/plain": [
       "{'green': 'run',\n",
       " 'yellow': 'go faster',\n",
       " 'red': 'smile for the camera',\n",
       " 'blue': 'cry',\n",
       " 'black': 'run'}"
      ]
     },
     "execution_count": 224,
     "metadata": {},
     "output_type": "execute_result"
    }
   ],
   "source": [
    "signals "
   ]
  },
  {
   "cell_type": "code",
   "execution_count": 225,
   "id": "abed923a",
   "metadata": {},
   "outputs": [],
   "source": [
    "del signals['green']"
   ]
  },
  {
   "cell_type": "code",
   "execution_count": 226,
   "id": "35c8334d",
   "metadata": {},
   "outputs": [
    {
     "data": {
      "text/plain": [
       "{'yellow': 'go faster',\n",
       " 'red': 'smile for the camera',\n",
       " 'blue': 'cry',\n",
       " 'black': 'run'}"
      ]
     },
     "execution_count": 226,
     "metadata": {},
     "output_type": "execute_result"
    }
   ],
   "source": [
    "signals"
   ]
  },
  {
   "cell_type": "code",
   "execution_count": 227,
   "id": "6d3fb28a",
   "metadata": {},
   "outputs": [],
   "source": [
    "signals['orange'] = signals.pop('yellow') #키 이름 바꾸기"
   ]
  },
  {
   "cell_type": "code",
   "execution_count": 228,
   "id": "4d8a6b91",
   "metadata": {},
   "outputs": [
    {
     "data": {
      "text/plain": [
       "{'red': 'smile for the camera',\n",
       " 'blue': 'cry',\n",
       " 'black': 'run',\n",
       " 'orange': 'go faster'}"
      ]
     },
     "execution_count": 228,
     "metadata": {},
     "output_type": "execute_result"
    }
   ],
   "source": [
    "signals"
   ]
  },
  {
   "cell_type": "code",
   "execution_count": 231,
   "id": "81fab593",
   "metadata": {},
   "outputs": [],
   "source": [
    "signals.update({'white':'laugh', 'pink':'blink'})"
   ]
  },
  {
   "cell_type": "code",
   "execution_count": 232,
   "id": "0cc6260c",
   "metadata": {},
   "outputs": [
    {
     "data": {
      "text/plain": [
       "{'red': 'smile for the camera',\n",
       " 'blue': 'cry',\n",
       " 'black': 'run',\n",
       " 'orange': 'go faster',\n",
       " 'white': 'laugh',\n",
       " 'pink': 'blink'}"
      ]
     },
     "execution_count": 232,
     "metadata": {},
     "output_type": "execute_result"
    }
   ],
   "source": [
    "signals"
   ]
  },
  {
   "cell_type": "code",
   "execution_count": 242,
   "id": "308df205",
   "metadata": {},
   "outputs": [],
   "source": [
    "mylist = list(range(1,9))"
   ]
  },
  {
   "cell_type": "code",
   "execution_count": 243,
   "id": "371f9088",
   "metadata": {},
   "outputs": [],
   "source": [
    "blist = mylist"
   ]
  },
  {
   "cell_type": "code",
   "execution_count": null,
   "id": "ce891bde",
   "metadata": {},
   "outputs": [],
   "source": [
    "blist = mylist.copy() # 메모리를 새로 만들어 줌  따라서 오리지널데이터 보존 해야할때 씀"
   ]
  },
  {
   "cell_type": "code",
   "execution_count": 240,
   "id": "92c4fe6e",
   "metadata": {},
   "outputs": [],
   "source": [
    "blist[0] = 1000 # 수정은 카피에서 고쳐짐"
   ]
  },
  {
   "cell_type": "code",
   "execution_count": 246,
   "id": "ff2ebe63",
   "metadata": {},
   "outputs": [
    {
     "data": {
      "text/plain": [
       "[1, 2, 3, 4, 5, 6, 7, 8]"
      ]
     },
     "execution_count": 246,
     "metadata": {},
     "output_type": "execute_result"
    }
   ],
   "source": [
    "mylist"
   ]
  },
  {
   "cell_type": "markdown",
   "id": "7001a836",
   "metadata": {},
   "source": [
    "# { 키_표현식 : 값_표현식 for 표현식 in 순회 가능한 객체}"
   ]
  },
  {
   "cell_type": "code",
   "execution_count": 250,
   "id": "b1c446d6",
   "metadata": {},
   "outputs": [],
   "source": [
    "word = 'letters'"
   ]
  },
  {
   "cell_type": "code",
   "execution_count": 251,
   "id": "1de5731a",
   "metadata": {},
   "outputs": [
    {
     "data": {
      "text/plain": [
       "2"
      ]
     },
     "execution_count": 251,
     "metadata": {},
     "output_type": "execute_result"
    }
   ],
   "source": [
    "word.count('e')"
   ]
  },
  {
   "cell_type": "code",
   "execution_count": 253,
   "id": "6528427b",
   "metadata": {},
   "outputs": [
    {
     "data": {
      "text/plain": [
       "[1, 2, 2, 2, 2, 1, 1]"
      ]
     },
     "execution_count": 253,
     "metadata": {},
     "output_type": "execute_result"
    }
   ],
   "source": [
    "[word.count(letter) for letter in word] "
   ]
  },
  {
   "cell_type": "code",
   "execution_count": 252,
   "id": "1ceddbe8",
   "metadata": {},
   "outputs": [
    {
     "data": {
      "text/plain": [
       "{'l': 1, 'e': 2, 't': 2, 'r': 1, 's': 1}"
      ]
     },
     "execution_count": 252,
     "metadata": {},
     "output_type": "execute_result"
    }
   ],
   "source": [
    "{letter:word.count(letter) for letter in word} # {} 중복데이터 날아감"
   ]
  },
  {
   "cell_type": "code",
   "execution_count": 254,
   "id": "be6e217b",
   "metadata": {},
   "outputs": [
    {
     "data": {
      "text/plain": [
       "{'e', 'l', 'r', 's', 't'}"
      ]
     },
     "execution_count": 254,
     "metadata": {},
     "output_type": "execute_result"
    }
   ],
   "source": [
    "set(word)"
   ]
  },
  {
   "cell_type": "code",
   "execution_count": null,
   "id": "b1cd6601",
   "metadata": {},
   "outputs": [],
   "source": [
    "{letter:word.count(letter) for letter in set(word)}"
   ]
  },
  {
   "cell_type": "code",
   "execution_count": null,
   "id": "a5c6ef7c",
   "metadata": {},
   "outputs": [],
   "source": []
  },
  {
   "cell_type": "code",
   "execution_count": null,
   "id": "2785f092",
   "metadata": {},
   "outputs": [],
   "source": []
  },
  {
   "cell_type": "code",
   "execution_count": null,
   "id": "7a16a5da",
   "metadata": {},
   "outputs": [],
   "source": []
  },
  {
   "cell_type": "code",
   "execution_count": null,
   "id": "d4ca8d90",
   "metadata": {},
   "outputs": [],
   "source": []
  }
 ],
 "metadata": {
  "kernelspec": {
   "display_name": "Python 3",
   "language": "python",
   "name": "python3"
  },
  "language_info": {
   "codemirror_mode": {
    "name": "ipython",
    "version": 3
   },
   "file_extension": ".py",
   "mimetype": "text/x-python",
   "name": "python",
   "nbconvert_exporter": "python",
   "pygments_lexer": "ipython3",
   "version": "3.8.8"
  }
 },
 "nbformat": 4,
 "nbformat_minor": 5
}
