{
 "cells": [
  {
   "cell_type": "code",
   "execution_count": 1,
   "id": "988bb882",
   "metadata": {},
   "outputs": [],
   "source": [
    "import warnings\n",
    "warnings.filterwarnings(action='ignore')\n",
    "import numpy as np"
   ]
  },
  {
   "cell_type": "markdown",
   "id": "2a2b586e",
   "metadata": {},
   "source": [
    "# 등차수열"
   ]
  },
  {
   "cell_type": "code",
   "execution_count": 2,
   "id": "589db8f4",
   "metadata": {},
   "outputs": [
    {
     "data": {
      "text/plain": [
       "[1, 4, 7, 10, 13, 16, 19, 22, 25, 28, 31, 34, 37, 40, 43, 46, 49]"
      ]
     },
     "execution_count": 2,
     "metadata": {},
     "output_type": "execute_result"
    }
   ],
   "source": [
    "# 공차가 3인 수열 생성(n+3) - 리스트\n",
    "n = 3\n",
    "list(range(1,50,n))"
   ]
  },
  {
   "cell_type": "code",
   "execution_count": 3,
   "id": "f75711f0",
   "metadata": {},
   "outputs": [
    {
     "data": {
      "text/plain": [
       "[1, 4, 7, 10, 13, 16, 19, 22, 25, 28, 31, 34, 37, 40, 43, 46, 49]"
      ]
     },
     "execution_count": 3,
     "metadata": {},
     "output_type": "execute_result"
    }
   ],
   "source": [
    "# 공차가 3인 수열 생성(n+3) - numpy\n",
    "n = 3\n",
    "list(range(1,50,n))"
   ]
  },
  {
   "cell_type": "markdown",
   "id": "c46f61e0",
   "metadata": {},
   "source": [
    "# 등비수열"
   ]
  },
  {
   "cell_type": "code",
   "execution_count": 4,
   "id": "d34d9836",
   "metadata": {},
   "outputs": [
    {
     "data": {
      "text/plain": [
       "[1, 2, 4, 8, 16, 32, 64, 128, 256, 512, 1024]"
      ]
     },
     "execution_count": 4,
     "metadata": {},
     "output_type": "execute_result"
    }
   ],
   "source": [
    "# 리스트 :2n\n",
    "mylist = [1]\n",
    "n = 2\n",
    "for i in range(1,11):\n",
    "    mylist.append(mylist[i-1]*n)\n",
    "mylist"
   ]
  },
  {
   "cell_type": "markdown",
   "id": "f58f1267",
   "metadata": {},
   "source": [
    "# 순열(permutations)과 조합(combination)"
   ]
  },
  {
   "cell_type": "markdown",
   "id": "15c5becf",
   "metadata": {},
   "source": [
    "### 순열\n",
    "뽑는 순서 고려 x"
   ]
  },
  {
   "cell_type": "code",
   "execution_count": 9,
   "id": "7573212c",
   "metadata": {},
   "outputs": [],
   "source": [
    "from itertools import permutations, combinations"
   ]
  },
  {
   "cell_type": "code",
   "execution_count": 6,
   "id": "1ddf463d",
   "metadata": {},
   "outputs": [
    {
     "data": {
      "text/plain": [
       "[(1, 2), (1, 3), (2, 1), (2, 3), (3, 1), (3, 2)]"
      ]
     },
     "execution_count": 6,
     "metadata": {},
     "output_type": "execute_result"
    }
   ],
   "source": [
    "# 카드 1,2,3 으로 구성할 수 있는 경우의 수\n",
    "lists = [1,2,3]\n",
    "list(permutations(lists, 2))"
   ]
  },
  {
   "cell_type": "code",
   "execution_count": 7,
   "id": "85ca6dd3",
   "metadata": {},
   "outputs": [
    {
     "name": "stdout",
     "output_type": "stream",
     "text": [
      "(1, 2)\n",
      "(1, 3)\n",
      "(2, 1)\n",
      "(2, 3)\n",
      "(3, 1)\n",
      "(3, 2)\n"
     ]
    }
   ],
   "source": [
    "for item in list(permutations(lists, 2)):\n",
    "    print(item)"
   ]
  },
  {
   "cell_type": "markdown",
   "id": "e6f7598a",
   "metadata": {},
   "source": [
    "### 조합\n",
    "뽑는 순서 고려 x"
   ]
  },
  {
   "cell_type": "code",
   "execution_count": 11,
   "id": "6e29ea5a",
   "metadata": {},
   "outputs": [
    {
     "data": {
      "text/plain": [
       "[(1, 2), (1, 3), (2, 3)]"
      ]
     },
     "execution_count": 11,
     "metadata": {},
     "output_type": "execute_result"
    }
   ],
   "source": [
    "# 카드 3장에서 2장을 선택\n",
    "cards = [1,2,3]\n",
    "list(combinations(cards, 2))"
   ]
  },
  {
   "cell_type": "markdown",
   "id": "a6bf0294",
   "metadata": {},
   "source": [
    "### 연습문제\n",
    "- 한 반의 학생수 = 40명\n",
    "- 1) 반장 1명, 부반장 1명을 뽑는 경우의 수를 구하세요\n",
    "- 2) 주번 3명을 뽑는 경우의 수를 구하세요\n"
   ]
  },
  {
   "cell_type": "code",
   "execution_count": 23,
   "id": "6dda07e1",
   "metadata": {},
   "outputs": [
    {
     "data": {
      "text/plain": [
       "1560"
      ]
     },
     "execution_count": 23,
     "metadata": {},
     "output_type": "execute_result"
    }
   ],
   "source": [
    "# 1)\n",
    "classlist = list(range(1,41))\n",
    "classlist\n",
    "len(list(permutations(classlist,2)))"
   ]
  },
  {
   "cell_type": "code",
   "execution_count": 20,
   "id": "9fa7b338",
   "metadata": {},
   "outputs": [
    {
     "data": {
      "text/plain": [
       "9880"
      ]
     },
     "execution_count": 20,
     "metadata": {},
     "output_type": "execute_result"
    }
   ],
   "source": [
    "# 2)\n",
    "len(list(combinations(classlist,3)))"
   ]
  },
  {
   "cell_type": "code",
   "execution_count": null,
   "id": "f3dc532d",
   "metadata": {},
   "outputs": [],
   "source": []
  },
  {
   "cell_type": "code",
   "execution_count": null,
   "id": "8f204bd5",
   "metadata": {},
   "outputs": [],
   "source": []
  }
 ],
 "metadata": {
  "kernelspec": {
   "display_name": "Python 3",
   "language": "python",
   "name": "python3"
  },
  "language_info": {
   "codemirror_mode": {
    "name": "ipython",
    "version": 3
   },
   "file_extension": ".py",
   "mimetype": "text/x-python",
   "name": "python",
   "nbconvert_exporter": "python",
   "pygments_lexer": "ipython3",
   "version": "3.8.8"
  }
 },
 "nbformat": 4,
 "nbformat_minor": 5
}
