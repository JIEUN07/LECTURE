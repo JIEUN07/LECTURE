{
  "nbformat": 4,
  "nbformat_minor": 0,
  "metadata": {
    "colab": {
      "name": "day18_2) 2021-11-23(pandas).ipynb",
      "provenance": [],
      "collapsed_sections": []
    },
    "kernelspec": {
      "name": "python3",
      "display_name": "Python 3"
    },
    "language_info": {
      "name": "python"
    }
  },
  "cells": [
    {
      "cell_type": "code",
      "metadata": {
        "colab": {
          "base_uri": "https://localhost:8080/"
        },
        "id": "azKhLbW7IcYp",
        "outputId": "48f8f24e-c157-42a0-a33a-4ea523b26968"
      },
      "source": [
        "!pip install pandas"
      ],
      "execution_count": null,
      "outputs": [
        {
          "output_type": "stream",
          "name": "stdout",
          "text": [
            "Requirement already satisfied: pandas in /usr/local/lib/python3.7/dist-packages (1.1.5)\n",
            "Requirement already satisfied: numpy>=1.15.4 in /usr/local/lib/python3.7/dist-packages (from pandas) (1.19.5)\n",
            "Requirement already satisfied: pytz>=2017.2 in /usr/local/lib/python3.7/dist-packages (from pandas) (2018.9)\n",
            "Requirement already satisfied: python-dateutil>=2.7.3 in /usr/local/lib/python3.7/dist-packages (from pandas) (2.8.2)\n",
            "Requirement already satisfied: six>=1.5 in /usr/local/lib/python3.7/dist-packages (from python-dateutil>=2.7.3->pandas) (1.15.0)\n"
          ]
        }
      ]
    },
    {
      "cell_type": "code",
      "metadata": {
        "colab": {
          "base_uri": "https://localhost:8080/"
        },
        "id": "xZCQdYJtOLn1",
        "outputId": "02238884-cc95-481a-9f36-e80217ce0ddb"
      },
      "source": [
        "import pandas as pd\n",
        "print(pd.__version__)"
      ],
      "execution_count": null,
      "outputs": [
        {
          "output_type": "stream",
          "name": "stdout",
          "text": [
            "1.1.5\n"
          ]
        }
      ]
    },
    {
      "cell_type": "code",
      "metadata": {
        "id": "jUpQ89oJcZob"
      },
      "source": [
        "import numpy as np"
      ],
      "execution_count": null,
      "outputs": []
    },
    {
      "cell_type": "code",
      "metadata": {
        "colab": {
          "base_uri": "https://localhost:8080/"
        },
        "id": "fGtb60VeOLw2",
        "outputId": "74311fa8-117b-4e48-c687-336dabccf263"
      },
      "source": [
        "# !wget + 링크 =  링크만으로 파일 다운로드\n",
        "!wget https://raw.githubusercontent.com/adeshpande3/Pandas-Tutorial/master/RegularSeasonCompactResults.csv"
      ],
      "execution_count": null,
      "outputs": [
        {
          "output_type": "stream",
          "name": "stdout",
          "text": [
            "--2021-11-23 05:23:37--  https://raw.githubusercontent.com/adeshpande3/Pandas-Tutorial/master/RegularSeasonCompactResults.csv\n",
            "Resolving raw.githubusercontent.com (raw.githubusercontent.com)... 185.199.108.133, 185.199.109.133, 185.199.110.133, ...\n",
            "Connecting to raw.githubusercontent.com (raw.githubusercontent.com)|185.199.108.133|:443... connected.\n",
            "HTTP request sent, awaiting response... 200 OK\n",
            "Length: 4115852 (3.9M) [text/plain]\n",
            "Saving to: ‘RegularSeasonCompactResults.csv’\n",
            "\n",
            "\r          RegularSe   0%[                    ]       0  --.-KB/s               \rRegularSeasonCompac 100%[===================>]   3.92M  --.-KB/s    in 0.03s   \n",
            "\n",
            "2021-11-23 05:23:37 (123 MB/s) - ‘RegularSeasonCompactResults.csv’ saved [4115852/4115852]\n",
            "\n"
          ]
        }
      ]
    },
    {
      "cell_type": "code",
      "metadata": {
        "colab": {
          "base_uri": "https://localhost:8080/"
        },
        "id": "AAl-TQ8tOL7C",
        "outputId": "93084bbf-cc82-4821-b9eb-b7bd5f5e69f6"
      },
      "source": [
        "# 리눅스에서 head()열기 -디폴트 10줄\n",
        "!head RegularSeasonCompactResults.csv"
      ],
      "execution_count": null,
      "outputs": [
        {
          "output_type": "stream",
          "name": "stdout",
          "text": [
            "Season,Daynum,Wteam,Wscore,Lteam,Lscore,Wloc,Numot\n",
            "1985,20,1228,81,1328,64,N,0\n",
            "1985,25,1106,77,1354,70,H,0\n",
            "1985,25,1112,63,1223,56,H,0\n",
            "1985,25,1165,70,1432,54,H,0\n",
            "1985,25,1192,86,1447,74,H,0\n",
            "1985,25,1218,79,1337,78,H,0\n",
            "1985,25,1228,64,1226,44,N,0\n",
            "1985,25,1242,58,1268,56,N,0\n",
            "1985,25,1260,98,1133,80,H,0\n"
          ]
        }
      ]
    },
    {
      "cell_type": "code",
      "metadata": {
        "id": "U5qfbcCnOMCh"
      },
      "source": [
        "df = pd.read_csv('RegularSeasonCompactResults.csv')"
      ],
      "execution_count": null,
      "outputs": []
    },
    {
      "cell_type": "code",
      "metadata": {
        "colab": {
          "base_uri": "https://localhost:8080/",
          "height": 206
        },
        "id": "o9ZmEAxfOMSk",
        "outputId": "5f290a99-e94a-454b-e173-73bd850c8002"
      },
      "source": [
        "df.head()"
      ],
      "execution_count": null,
      "outputs": [
        {
          "output_type": "execute_result",
          "data": {
            "text/html": [
              "<div>\n",
              "<style scoped>\n",
              "    .dataframe tbody tr th:only-of-type {\n",
              "        vertical-align: middle;\n",
              "    }\n",
              "\n",
              "    .dataframe tbody tr th {\n",
              "        vertical-align: top;\n",
              "    }\n",
              "\n",
              "    .dataframe thead th {\n",
              "        text-align: right;\n",
              "    }\n",
              "</style>\n",
              "<table border=\"1\" class=\"dataframe\">\n",
              "  <thead>\n",
              "    <tr style=\"text-align: right;\">\n",
              "      <th></th>\n",
              "      <th>Season</th>\n",
              "      <th>Daynum</th>\n",
              "      <th>Wteam</th>\n",
              "      <th>Wscore</th>\n",
              "      <th>Lteam</th>\n",
              "      <th>Lscore</th>\n",
              "      <th>Wloc</th>\n",
              "      <th>Numot</th>\n",
              "    </tr>\n",
              "  </thead>\n",
              "  <tbody>\n",
              "    <tr>\n",
              "      <th>0</th>\n",
              "      <td>1985</td>\n",
              "      <td>20</td>\n",
              "      <td>1228</td>\n",
              "      <td>81</td>\n",
              "      <td>1328</td>\n",
              "      <td>64</td>\n",
              "      <td>N</td>\n",
              "      <td>0</td>\n",
              "    </tr>\n",
              "    <tr>\n",
              "      <th>1</th>\n",
              "      <td>1985</td>\n",
              "      <td>25</td>\n",
              "      <td>1106</td>\n",
              "      <td>77</td>\n",
              "      <td>1354</td>\n",
              "      <td>70</td>\n",
              "      <td>H</td>\n",
              "      <td>0</td>\n",
              "    </tr>\n",
              "    <tr>\n",
              "      <th>2</th>\n",
              "      <td>1985</td>\n",
              "      <td>25</td>\n",
              "      <td>1112</td>\n",
              "      <td>63</td>\n",
              "      <td>1223</td>\n",
              "      <td>56</td>\n",
              "      <td>H</td>\n",
              "      <td>0</td>\n",
              "    </tr>\n",
              "    <tr>\n",
              "      <th>3</th>\n",
              "      <td>1985</td>\n",
              "      <td>25</td>\n",
              "      <td>1165</td>\n",
              "      <td>70</td>\n",
              "      <td>1432</td>\n",
              "      <td>54</td>\n",
              "      <td>H</td>\n",
              "      <td>0</td>\n",
              "    </tr>\n",
              "    <tr>\n",
              "      <th>4</th>\n",
              "      <td>1985</td>\n",
              "      <td>25</td>\n",
              "      <td>1192</td>\n",
              "      <td>86</td>\n",
              "      <td>1447</td>\n",
              "      <td>74</td>\n",
              "      <td>H</td>\n",
              "      <td>0</td>\n",
              "    </tr>\n",
              "  </tbody>\n",
              "</table>\n",
              "</div>"
            ],
            "text/plain": [
              "   Season  Daynum  Wteam  Wscore  Lteam  Lscore Wloc  Numot\n",
              "0    1985      20   1228      81   1328      64    N      0\n",
              "1    1985      25   1106      77   1354      70    H      0\n",
              "2    1985      25   1112      63   1223      56    H      0\n",
              "3    1985      25   1165      70   1432      54    H      0\n",
              "4    1985      25   1192      86   1447      74    H      0"
            ]
          },
          "metadata": {},
          "execution_count": 8
        }
      ]
    },
    {
      "cell_type": "markdown",
      "metadata": {
        "id": "2pZsEadbS5cj"
      },
      "source": [
        "- 전체 데이터 보기\n",
        "- df와 print(df)의 차이점\n",
        "- print()로 출력하면 결과 여러개 출력가능"
      ]
    },
    {
      "cell_type": "code",
      "metadata": {
        "colab": {
          "base_uri": "https://localhost:8080/"
        },
        "id": "eQPG9czbOMZS",
        "outputId": "ff10d163-baf7-4cf3-e500-958b1139d2e6"
      },
      "source": [
        "# 전체 데이터 보기\n",
        "# df와 print(df)의 차이점\n",
        "# print()로 출력하면 결과 여러개 출력가능\n",
        "df\n",
        "print(df)"
      ],
      "execution_count": null,
      "outputs": [
        {
          "output_type": "stream",
          "name": "stdout",
          "text": [
            "        Season  Daynum  Wteam  Wscore  Lteam  Lscore Wloc  Numot\n",
            "0         1985      20   1228      81   1328      64    N      0\n",
            "1         1985      25   1106      77   1354      70    H      0\n",
            "2         1985      25   1112      63   1223      56    H      0\n",
            "3         1985      25   1165      70   1432      54    H      0\n",
            "4         1985      25   1192      86   1447      74    H      0\n",
            "...        ...     ...    ...     ...    ...     ...  ...    ...\n",
            "145284    2016     132   1114      70   1419      50    N      0\n",
            "145285    2016     132   1163      72   1272      58    N      0\n",
            "145286    2016     132   1246      82   1401      77    N      1\n",
            "145287    2016     132   1277      66   1345      62    N      0\n",
            "145288    2016     132   1386      87   1433      74    N      0\n",
            "\n",
            "[145289 rows x 8 columns]\n"
          ]
        }
      ]
    },
    {
      "cell_type": "code",
      "metadata": {
        "colab": {
          "base_uri": "https://localhost:8080/"
        },
        "id": "odwe3lWtTRu5",
        "outputId": "15f6c82e-7df5-45a2-ba8f-750ce30f97b1"
      },
      "source": [
        "# tail() 밑에서 다섯줄\n",
        "print(df.tail())"
      ],
      "execution_count": null,
      "outputs": [
        {
          "output_type": "stream",
          "name": "stdout",
          "text": [
            "        Season  Daynum  Wteam  Wscore  Lteam  Lscore Wloc  Numot\n",
            "145284    2016     132   1114      70   1419      50    N      0\n",
            "145285    2016     132   1163      72   1272      58    N      0\n",
            "145286    2016     132   1246      82   1401      77    N      1\n",
            "145287    2016     132   1277      66   1345      62    N      0\n",
            "145288    2016     132   1386      87   1433      74    N      0\n"
          ]
        }
      ]
    },
    {
      "cell_type": "code",
      "metadata": {
        "colab": {
          "base_uri": "https://localhost:8080/"
        },
        "id": "IXkivtylTRxv",
        "outputId": "dc8e9948-59bd-4a14-d4ce-152b92ed6980"
      },
      "source": [
        "# info()\n",
        "print(df.info())"
      ],
      "execution_count": null,
      "outputs": [
        {
          "output_type": "stream",
          "name": "stdout",
          "text": [
            "<class 'pandas.core.frame.DataFrame'>\n",
            "RangeIndex: 145289 entries, 0 to 145288\n",
            "Data columns (total 8 columns):\n",
            " #   Column  Non-Null Count   Dtype \n",
            "---  ------  --------------   ----- \n",
            " 0   Season  145289 non-null  int64 \n",
            " 1   Daynum  145289 non-null  int64 \n",
            " 2   Wteam   145289 non-null  int64 \n",
            " 3   Wscore  145289 non-null  int64 \n",
            " 4   Lteam   145289 non-null  int64 \n",
            " 5   Lscore  145289 non-null  int64 \n",
            " 6   Wloc    145289 non-null  object\n",
            " 7   Numot   145289 non-null  int64 \n",
            "dtypes: int64(7), object(1)\n",
            "memory usage: 8.9+ MB\n",
            "None\n"
          ]
        }
      ]
    },
    {
      "cell_type": "code",
      "metadata": {
        "colab": {
          "base_uri": "https://localhost:8080/"
        },
        "id": "YPpQ0a3xTR0H",
        "outputId": "f0a779d6-2364-4efc-fd89-7ad55fb3501e"
      },
      "source": [
        "print(df.describe())"
      ],
      "execution_count": null,
      "outputs": [
        {
          "output_type": "stream",
          "name": "stdout",
          "text": [
            "              Season         Daynum  ...         Lscore          Numot\n",
            "count  145289.000000  145289.000000  ...  145289.000000  145289.000000\n",
            "mean     2001.574834      75.223816  ...      64.497009       0.044387\n",
            "std         9.233342      33.287418  ...      11.380625       0.247819\n",
            "min      1985.000000       0.000000  ...      20.000000       0.000000\n",
            "25%      1994.000000      47.000000  ...      57.000000       0.000000\n",
            "50%      2002.000000      78.000000  ...      64.000000       0.000000\n",
            "75%      2010.000000     103.000000  ...      72.000000       0.000000\n",
            "max      2016.000000     132.000000  ...     150.000000       6.000000\n",
            "\n",
            "[8 rows x 7 columns]\n"
          ]
        }
      ]
    },
    {
      "cell_type": "code",
      "metadata": {
        "colab": {
          "base_uri": "https://localhost:8080/"
        },
        "id": "LCw-hhliTR2g",
        "outputId": "62a021b7-b056-4480-c76c-e3437ff22879"
      },
      "source": [
        "print(df.max())\n",
        "print('='*20)\n",
        "print(df.min())"
      ],
      "execution_count": null,
      "outputs": [
        {
          "output_type": "stream",
          "name": "stdout",
          "text": [
            "Season    2016\n",
            "Daynum     132\n",
            "Wteam     1464\n",
            "Wscore     186\n",
            "Lteam     1464\n",
            "Lscore     150\n",
            "Wloc         N\n",
            "Numot        6\n",
            "dtype: object\n",
            "====================\n",
            "Season    1985\n",
            "Daynum       0\n",
            "Wteam     1101\n",
            "Wscore      34\n",
            "Lteam     1101\n",
            "Lscore      20\n",
            "Wloc         A\n",
            "Numot        0\n",
            "dtype: object\n"
          ]
        }
      ]
    },
    {
      "cell_type": "code",
      "metadata": {
        "colab": {
          "base_uri": "https://localhost:8080/",
          "height": 206
        },
        "id": "2cWFenkgTR4j",
        "outputId": "57cf2bcf-62b1-4d18-b307-a64a08f5b6cf"
      },
      "source": [
        "df.head()"
      ],
      "execution_count": null,
      "outputs": [
        {
          "output_type": "execute_result",
          "data": {
            "text/html": [
              "<div>\n",
              "<style scoped>\n",
              "    .dataframe tbody tr th:only-of-type {\n",
              "        vertical-align: middle;\n",
              "    }\n",
              "\n",
              "    .dataframe tbody tr th {\n",
              "        vertical-align: top;\n",
              "    }\n",
              "\n",
              "    .dataframe thead th {\n",
              "        text-align: right;\n",
              "    }\n",
              "</style>\n",
              "<table border=\"1\" class=\"dataframe\">\n",
              "  <thead>\n",
              "    <tr style=\"text-align: right;\">\n",
              "      <th></th>\n",
              "      <th>Season</th>\n",
              "      <th>Daynum</th>\n",
              "      <th>Wteam</th>\n",
              "      <th>Wscore</th>\n",
              "      <th>Lteam</th>\n",
              "      <th>Lscore</th>\n",
              "      <th>Wloc</th>\n",
              "      <th>Numot</th>\n",
              "    </tr>\n",
              "  </thead>\n",
              "  <tbody>\n",
              "    <tr>\n",
              "      <th>0</th>\n",
              "      <td>1985</td>\n",
              "      <td>20</td>\n",
              "      <td>1228</td>\n",
              "      <td>81</td>\n",
              "      <td>1328</td>\n",
              "      <td>64</td>\n",
              "      <td>N</td>\n",
              "      <td>0</td>\n",
              "    </tr>\n",
              "    <tr>\n",
              "      <th>1</th>\n",
              "      <td>1985</td>\n",
              "      <td>25</td>\n",
              "      <td>1106</td>\n",
              "      <td>77</td>\n",
              "      <td>1354</td>\n",
              "      <td>70</td>\n",
              "      <td>H</td>\n",
              "      <td>0</td>\n",
              "    </tr>\n",
              "    <tr>\n",
              "      <th>2</th>\n",
              "      <td>1985</td>\n",
              "      <td>25</td>\n",
              "      <td>1112</td>\n",
              "      <td>63</td>\n",
              "      <td>1223</td>\n",
              "      <td>56</td>\n",
              "      <td>H</td>\n",
              "      <td>0</td>\n",
              "    </tr>\n",
              "    <tr>\n",
              "      <th>3</th>\n",
              "      <td>1985</td>\n",
              "      <td>25</td>\n",
              "      <td>1165</td>\n",
              "      <td>70</td>\n",
              "      <td>1432</td>\n",
              "      <td>54</td>\n",
              "      <td>H</td>\n",
              "      <td>0</td>\n",
              "    </tr>\n",
              "    <tr>\n",
              "      <th>4</th>\n",
              "      <td>1985</td>\n",
              "      <td>25</td>\n",
              "      <td>1192</td>\n",
              "      <td>86</td>\n",
              "      <td>1447</td>\n",
              "      <td>74</td>\n",
              "      <td>H</td>\n",
              "      <td>0</td>\n",
              "    </tr>\n",
              "  </tbody>\n",
              "</table>\n",
              "</div>"
            ],
            "text/plain": [
              "   Season  Daynum  Wteam  Wscore  Lteam  Lscore Wloc  Numot\n",
              "0    1985      20   1228      81   1328      64    N      0\n",
              "1    1985      25   1106      77   1354      70    H      0\n",
              "2    1985      25   1112      63   1223      56    H      0\n",
              "3    1985      25   1165      70   1432      54    H      0\n",
              "4    1985      25   1192      86   1447      74    H      0"
            ]
          },
          "metadata": {},
          "execution_count": 18
        }
      ]
    },
    {
      "cell_type": "code",
      "metadata": {
        "colab": {
          "base_uri": "https://localhost:8080/"
        },
        "id": "Ax1psa6FTR6l",
        "outputId": "17d34f60-a0da-47a9-8810-47ec0f3f3e2b"
      },
      "source": [
        "# df의 지정하는 열(시리즈)에 접근 => numpy의 array처럼 다룰 수 있음\n",
        "df.Wteam"
      ],
      "execution_count": null,
      "outputs": [
        {
          "output_type": "execute_result",
          "data": {
            "text/plain": [
              "0         1228\n",
              "1         1106\n",
              "2         1112\n",
              "3         1165\n",
              "4         1192\n",
              "          ... \n",
              "145284    1114\n",
              "145285    1163\n",
              "145286    1246\n",
              "145287    1277\n",
              "145288    1386\n",
              "Name: Wteam, Length: 145289, dtype: int64"
            ]
          },
          "metadata": {},
          "execution_count": 19
        }
      ]
    },
    {
      "cell_type": "code",
      "metadata": {
        "colab": {
          "base_uri": "https://localhost:8080/"
        },
        "id": "dqr7ZihvZxb_",
        "outputId": "e44592aa-5946-45a5-f098-02a73f4dbd3d"
      },
      "source": [
        "df.Wscore"
      ],
      "execution_count": null,
      "outputs": [
        {
          "output_type": "execute_result",
          "data": {
            "text/plain": [
              "0         81\n",
              "1         77\n",
              "2         63\n",
              "3         70\n",
              "4         86\n",
              "          ..\n",
              "145284    70\n",
              "145285    72\n",
              "145286    82\n",
              "145287    66\n",
              "145288    87\n",
              "Name: Wscore, Length: 145289, dtype: int64"
            ]
          },
          "metadata": {},
          "execution_count": 20
        }
      ]
    },
    {
      "cell_type": "code",
      "metadata": {
        "colab": {
          "base_uri": "https://localhost:8080/"
        },
        "id": "U_6tVcN_Z_KE",
        "outputId": "f577a5ca-2e4d-4d10-f6a5-e28c54c2bb85"
      },
      "source": [
        "df.Wteam[0:5]"
      ],
      "execution_count": null,
      "outputs": [
        {
          "output_type": "execute_result",
          "data": {
            "text/plain": [
              "0    1228\n",
              "1    1106\n",
              "2    1112\n",
              "3    1165\n",
              "4    1192\n",
              "Name: Wteam, dtype: int64"
            ]
          },
          "metadata": {},
          "execution_count": 21
        }
      ]
    },
    {
      "cell_type": "code",
      "metadata": {
        "colab": {
          "base_uri": "https://localhost:8080/"
        },
        "id": "hEi9RQ06Z_Pq",
        "outputId": "6c5e1565-f807-4486-e09a-0ec5ade1b7a0"
      },
      "source": [
        "df['Wteam']"
      ],
      "execution_count": null,
      "outputs": [
        {
          "output_type": "execute_result",
          "data": {
            "text/plain": [
              "0         1228\n",
              "1         1106\n",
              "2         1112\n",
              "3         1165\n",
              "4         1192\n",
              "          ... \n",
              "145284    1114\n",
              "145285    1163\n",
              "145286    1246\n",
              "145287    1277\n",
              "145288    1386\n",
              "Name: Wteam, Length: 145289, dtype: int64"
            ]
          },
          "metadata": {},
          "execution_count": 23
        }
      ]
    },
    {
      "cell_type": "code",
      "metadata": {
        "colab": {
          "base_uri": "https://localhost:8080/"
        },
        "id": "FsZ9tggsZ_Sm",
        "outputId": "01a6fce5-1fd0-49ed-9e38-2bb1cd896d0c"
      },
      "source": [
        "# max값 구하기\n",
        "print(df.Wteam)\n",
        "print(df.Wteam.max())\n",
        "print(df.Wteam[0])\n",
        "print(df.Wteam[0:5])\n",
        "print(df.Wteam[0:5].max())"
      ],
      "execution_count": null,
      "outputs": [
        {
          "output_type": "stream",
          "name": "stdout",
          "text": [
            "0         1228\n",
            "1         1106\n",
            "2         1112\n",
            "3         1165\n",
            "4         1192\n",
            "          ... \n",
            "145284    1114\n",
            "145285    1163\n",
            "145286    1246\n",
            "145287    1277\n",
            "145288    1386\n",
            "Name: Wteam, Length: 145289, dtype: int64\n",
            "1464\n",
            "1228\n",
            "0    1228\n",
            "1    1106\n",
            "2    1112\n",
            "3    1165\n",
            "4    1192\n",
            "Name: Wteam, dtype: int64\n",
            "1228\n"
          ]
        }
      ]
    },
    {
      "cell_type": "code",
      "metadata": {
        "colab": {
          "base_uri": "https://localhost:8080/"
        },
        "id": "WKTf3oIjZ_VE",
        "outputId": "3e6a317a-b98f-4169-e9c3-146ea9320ee3"
      },
      "source": [
        "# 딕셔너리의 값이 리스트인 데이터프레임 생성\n",
        "df = pd.DataFrame(\n",
        "    {\"AAA\":[4,5,6,7],\n",
        "     \"BBB\":[10,20,30,40],\n",
        "     \"CCC\":[100,50,-30,-50]})\n",
        "print(df)\n",
        "\n",
        "mask = pd.Series([True, False, True, False])\n",
        "print(df[mask])\n",
        "\n",
        "# 데이터 프레임 값바꾸기 (대표방법)\n",
        "df.loc[mask, \"BBB\"]  = -1\n",
        "print(df)"
      ],
      "execution_count": null,
      "outputs": [
        {
          "output_type": "stream",
          "name": "stdout",
          "text": [
            "   AAA  BBB  CCC\n",
            "0    4   10  100\n",
            "1    5   20   50\n",
            "2    6   30  -30\n",
            "3    7   40  -50\n",
            "   AAA  BBB  CCC\n",
            "0    4   10  100\n",
            "2    6   30  -30\n",
            "   AAA  BBB  CCC\n",
            "0    4   -1  100\n",
            "1    5   20   50\n",
            "2    6   -1  -30\n",
            "3    7   40  -50\n"
          ]
        }
      ]
    },
    {
      "cell_type": "markdown",
      "metadata": {
        "id": "NqYvbiyZoO-Y"
      },
      "source": [
        "# 데이터 프레임 값바꾸기 (대표방법)\n",
        "- df.loc[조건, \"바꿀열\"]  = -1\n",
        "- print(df)"
      ]
    },
    {
      "cell_type": "code",
      "metadata": {
        "colab": {
          "base_uri": "https://localhost:8080/"
        },
        "id": "uNga12_tb-C2",
        "outputId": "a0a9451c-62d8-4a4b-b39e-18e324da2b12"
      },
      "source": [
        "# numpy 예시\n",
        "a = np.arange(6)\n",
        "mask = np.array([0,0,0,1,1,1])\n",
        "print(a*mask)"
      ],
      "execution_count": null,
      "outputs": [
        {
          "output_type": "stream",
          "name": "stdout",
          "text": [
            "[0 0 0 3 4 5]\n"
          ]
        }
      ]
    },
    {
      "cell_type": "code",
      "metadata": {
        "colab": {
          "base_uri": "https://localhost:8080/"
        },
        "id": "S7Nyxg6Ob-Gi",
        "outputId": "44377831-bf77-4362-934b-2e160c923f8b"
      },
      "source": [
        "df = pd.DataFrame(\n",
        "    {\"AAA\":[4,5,6,7],\n",
        "     \"BBB\":[10,20,30,40],\n",
        "     \"CCC\":[100,50,-30,-50]})\n",
        "print(df)\n",
        "\n",
        "mask = np.array([0,2])\n",
        "print(df.loc[mask])\n",
        "\n",
        "df.loc[mask,\"BBB\"] = -1\n",
        "print(df)"
      ],
      "execution_count": null,
      "outputs": [
        {
          "output_type": "stream",
          "name": "stdout",
          "text": [
            "   AAA  BBB  CCC\n",
            "0    4   10  100\n",
            "1    5   20   50\n",
            "2    6   30  -30\n",
            "3    7   40  -50\n",
            "   AAA  BBB  CCC\n",
            "0    4   10  100\n",
            "2    6   30  -30\n",
            "   AAA  BBB  CCC\n",
            "0    4   -1  100\n",
            "1    5   20   50\n",
            "2    6   -1  -30\n",
            "3    7   40  -50\n"
          ]
        }
      ]
    },
    {
      "cell_type": "code",
      "metadata": {
        "colab": {
          "base_uri": "https://localhost:8080/"
        },
        "id": "p5HmaatNb-KZ",
        "outputId": "1175d043-be2e-4f21-8950-b47002cc53f0"
      },
      "source": [
        "df = pd.DataFrame(\n",
        "    {\"AAA\":[4,5,6,7],\n",
        "     \"BBB\":[10,20,30,40],\n",
        "     \"CCC\":[100,50,-30,-50]})\n",
        "print(df)\n",
        "\n",
        "print(df.AAA)\n",
        "print(df.AAA>5)"
      ],
      "execution_count": null,
      "outputs": [
        {
          "output_type": "stream",
          "name": "stdout",
          "text": [
            "   AAA  BBB  CCC\n",
            "0    4   10  100\n",
            "1    5   20   50\n",
            "2    6   30  -30\n",
            "3    7   40  -50\n",
            "0    4\n",
            "1    5\n",
            "2    6\n",
            "3    7\n",
            "Name: AAA, dtype: int64\n",
            "0    False\n",
            "1    False\n",
            "2     True\n",
            "3     True\n",
            "Name: AAA, dtype: bool\n",
            "0    100\n",
            "2    -30\n",
            "Name: CCC, dtype: int64\n"
          ]
        }
      ]
    },
    {
      "cell_type": "code",
      "metadata": {
        "colab": {
          "base_uri": "https://localhost:8080/"
        },
        "id": "HD1rAK4Xb-N3",
        "outputId": "e22e2909-ce79-4bf0-c402-c33f48a200a9"
      },
      "source": [
        "# AAA가 짝수인 CCC값을 0으로 반환해보기\n",
        "df = pd.DataFrame(\n",
        "    {\"AAA\":[4,5,6,7],\n",
        "     \"BBB\":[10,20,30,40],\n",
        "     \"CCC\":[100,50,-30,-50]})\n",
        "print(df)\n",
        "print('='*15)\n",
        "\n",
        "df.loc[df.AAA%2==0, 'CCC'] = 0\n",
        "print(df)"
      ],
      "execution_count": null,
      "outputs": [
        {
          "output_type": "stream",
          "name": "stdout",
          "text": [
            "   AAA  BBB  CCC\n",
            "0    4   10  100\n",
            "1    5   20   50\n",
            "2    6   30  -30\n",
            "3    7   40  -50\n",
            "===============\n",
            "   AAA  BBB  CCC\n",
            "0    4   10    0\n",
            "1    5   20   50\n",
            "2    6   30    0\n",
            "3    7   40  -50\n"
          ]
        }
      ]
    },
    {
      "cell_type": "code",
      "metadata": {
        "colab": {
          "base_uri": "https://localhost:8080/"
        },
        "id": "fQsZjLDJb-Q4",
        "outputId": "da196c05-1904-47f4-fcb8-f0b7257c5ee5"
      },
      "source": [
        "# AAA값이 짝수일때 CCC값을 두배로 반환하기\n",
        "df = pd.DataFrame(\n",
        "    {\"AAA\":[4,5,6,7],\n",
        "     \"BBB\":[10,20,30,40],\n",
        "     \"CCC\":[100,50,-30,-50]})\n",
        "print(df)\n",
        "print('='*15)\n",
        "\n",
        "df.loc[df.AAA%2==0, 'CCC'] = df.CCC*2\n",
        "print(df)"
      ],
      "execution_count": null,
      "outputs": [
        {
          "output_type": "stream",
          "name": "stdout",
          "text": [
            "   AAA  BBB  CCC\n",
            "0    4   10  100\n",
            "1    5   20   50\n",
            "2    6   30  -30\n",
            "3    7   40  -50\n",
            "===============\n",
            "   AAA  BBB  CCC\n",
            "0    4   10  200\n",
            "1    5   20   50\n",
            "2    6   30  -60\n",
            "3    7   40  -50\n"
          ]
        }
      ]
    },
    {
      "cell_type": "code",
      "metadata": {
        "colab": {
          "base_uri": "https://localhost:8080/"
        },
        "id": "aU7ilosHb-WM",
        "outputId": "90e259ef-8716-406d-d8f4-d72877d0741d"
      },
      "source": [
        "# AAA >= 5 그리고 BBB < 40인 경우 BBB의 값을 -1로 반환해보기\n",
        "df = pd.DataFrame(\n",
        "    {\"AAA\":[4,5,6,7],\n",
        "     \"BBB\":[10,20,30,40],\n",
        "     \"CCC\":[100,50,-30,-50]})\n",
        "print(df)\n",
        "print('='*15)\n",
        "\n",
        "df.loc[(df.AAA >=5) & (df.BBB < 40), 'BBB'] = -1\n",
        "print(df)"
      ],
      "execution_count": null,
      "outputs": [
        {
          "output_type": "stream",
          "name": "stdout",
          "text": [
            "   AAA  BBB  CCC\n",
            "0    4   10  100\n",
            "1    5   20   50\n",
            "2    6   30  -30\n",
            "3    7   40  -50\n",
            "===============\n",
            "   AAA  BBB  CCC\n",
            "0    4   10  100\n",
            "1    5   -1   50\n",
            "2    6   -1  -30\n",
            "3    7   40  -50\n"
          ]
        }
      ]
    },
    {
      "cell_type": "code",
      "metadata": {
        "colab": {
          "base_uri": "https://localhost:8080/"
        },
        "id": "BtO6PVp8b-Za",
        "outputId": "fa64b1b3-b9a1-45a3-97d4-76d0596fba7f"
      },
      "source": [
        "# pandas와 numpy의 차이점\n",
        "df = pd.DataFrame(\n",
        "    {\"AAA\":[4,5,6,7],\n",
        "     \"BBB\":[10,20,30,40],\n",
        "     \"CCC\":[100,50,-30,-50]})\n",
        "print(df)\n",
        "print('='*15)\n",
        "\n",
        "# pandas는 df[df.AAA>5]의 경우, 자기자신을 복제함\n",
        "'''\n",
        "df[df.AAA>5].AAA = -1\n",
        "print(df)\n",
        "'''\n",
        "t = df[df.AAA>5]\n",
        "print(t)\n",
        "t.AAA = -1\n",
        "print(t)\n",
        "\n",
        "\n"
      ],
      "execution_count": null,
      "outputs": [
        {
          "output_type": "stream",
          "name": "stdout",
          "text": [
            "   AAA  BBB  CCC\n",
            "0    4   10  100\n",
            "1    5   20   50\n",
            "2    6   30  -30\n",
            "3    7   40  -50\n",
            "===============\n",
            "   AAA  BBB  CCC\n",
            "2    6   30  -30\n",
            "3    7   40  -50\n",
            "   AAA  BBB  CCC\n",
            "2   -1   30  -30\n",
            "3   -1   40  -50\n"
          ]
        },
        {
          "output_type": "stream",
          "name": "stderr",
          "text": [
            "/usr/local/lib/python3.7/dist-packages/pandas/core/generic.py:5170: SettingWithCopyWarning: \n",
            "A value is trying to be set on a copy of a slice from a DataFrame.\n",
            "Try using .loc[row_indexer,col_indexer] = value instead\n",
            "\n",
            "See the caveats in the documentation: https://pandas.pydata.org/pandas-docs/stable/user_guide/indexing.html#returning-a-view-versus-a-copy\n",
            "  self[name] = value\n"
          ]
        }
      ]
    },
    {
      "cell_type": "code",
      "metadata": {
        "id": "4Ax_3o9hb-dS"
      },
      "source": [
        "# numpy는 a[a>3]의 경우, 자기자신이 바뀜\n",
        "a = np.arange(6)\n",
        "a[a>3] = -1\n",
        "print(a)"
      ],
      "execution_count": null,
      "outputs": []
    },
    {
      "cell_type": "code",
      "metadata": {
        "colab": {
          "base_uri": "https://localhost:8080/"
        },
        "id": "ZBZeKcs7nyJt",
        "outputId": "323e4c13-f619-4296-ba90-e533a8c4f77d"
      },
      "source": [
        "df = pd.DataFrame(\n",
        "    {\"AAA\":[4,5,6,7],\n",
        "     \"BBB\":[10,20,30,40],\n",
        "     \"CCC\":[100,50,-30,-50]})\n",
        "print(df)\n",
        "print('='*15)\n",
        "\n",
        "df.loc[df.AAA%2==0, ['BBB','CCC']] = -1\n",
        "print(df)"
      ],
      "execution_count": null,
      "outputs": [
        {
          "output_type": "stream",
          "name": "stdout",
          "text": [
            "   AAA  BBB  CCC\n",
            "0    4   10  100\n",
            "1    5   20   50\n",
            "2    6   30  -30\n",
            "3    7   40  -50\n",
            "===============\n",
            "   AAA  BBB  CCC\n",
            "0    4   -1   -1\n",
            "1    5   20   50\n",
            "2    6   -1   -1\n",
            "3    7   40  -50\n"
          ]
        }
      ]
    },
    {
      "cell_type": "code",
      "metadata": {
        "colab": {
          "base_uri": "https://localhost:8080/",
          "height": 254
        },
        "id": "pbnxXTcdnyMa",
        "outputId": "48c63118-3bfe-4405-eed5-82778322094f"
      },
      "source": [
        "# isin = 조건안에 있는값 반환\n",
        "df = pd.DataFrame(\n",
        "    {\"AAA\":[4,5,6,7],\n",
        "     \"BBB\":[10,20,30,40],\n",
        "     \"CCC\":[100,50,-30,-50]})\n",
        "print(df)\n",
        "print('='*15)\n",
        "\n",
        "df[df.AAA.isin([4,5,6])]\n",
        "# df.AAA.isin([4,5,6])"
      ],
      "execution_count": null,
      "outputs": [
        {
          "output_type": "stream",
          "name": "stdout",
          "text": [
            "   AAA  BBB  CCC\n",
            "0    4   10  100\n",
            "1    5   20   50\n",
            "2    6   30  -30\n",
            "3    7   40  -50\n",
            "===============\n"
          ]
        },
        {
          "output_type": "execute_result",
          "data": {
            "text/html": [
              "<div>\n",
              "<style scoped>\n",
              "    .dataframe tbody tr th:only-of-type {\n",
              "        vertical-align: middle;\n",
              "    }\n",
              "\n",
              "    .dataframe tbody tr th {\n",
              "        vertical-align: top;\n",
              "    }\n",
              "\n",
              "    .dataframe thead th {\n",
              "        text-align: right;\n",
              "    }\n",
              "</style>\n",
              "<table border=\"1\" class=\"dataframe\">\n",
              "  <thead>\n",
              "    <tr style=\"text-align: right;\">\n",
              "      <th></th>\n",
              "      <th>AAA</th>\n",
              "      <th>BBB</th>\n",
              "      <th>CCC</th>\n",
              "    </tr>\n",
              "  </thead>\n",
              "  <tbody>\n",
              "    <tr>\n",
              "      <th>0</th>\n",
              "      <td>4</td>\n",
              "      <td>10</td>\n",
              "      <td>100</td>\n",
              "    </tr>\n",
              "    <tr>\n",
              "      <th>1</th>\n",
              "      <td>5</td>\n",
              "      <td>20</td>\n",
              "      <td>50</td>\n",
              "    </tr>\n",
              "    <tr>\n",
              "      <th>2</th>\n",
              "      <td>6</td>\n",
              "      <td>30</td>\n",
              "      <td>-30</td>\n",
              "    </tr>\n",
              "  </tbody>\n",
              "</table>\n",
              "</div>"
            ],
            "text/plain": [
              "   AAA  BBB  CCC\n",
              "0    4   10  100\n",
              "1    5   20   50\n",
              "2    6   30  -30"
            ]
          },
          "metadata": {},
          "execution_count": 57
        }
      ]
    },
    {
      "cell_type": "code",
      "metadata": {
        "colab": {
          "base_uri": "https://localhost:8080/"
        },
        "id": "UmDycGpznyZA",
        "outputId": "56ac79fe-b686-4f46-98bb-a3c5425dc0b2"
      },
      "source": [
        "# AAA가 4 또는 7일 경우. BBB값을 0으로 반환해보기\n",
        "df = pd.DataFrame(\n",
        "    {\"AAA\":[4,5,6,7],\n",
        "     \"BBB\":[10,20,30,40],\n",
        "     \"CCC\":[100,50,-30,-50]})\n",
        "print(df)\n",
        "print('='*15)\n",
        "\n",
        "df.loc[df.AAA.isin([4,7]),'BBB'] = 0\n",
        "print(df)\n",
        "\n",
        "# 같은 결과\n",
        "df.loc[(df.AAA == 4) | (df.AAA == 7),'BBB'] = 0\n",
        "print(df)"
      ],
      "execution_count": null,
      "outputs": [
        {
          "output_type": "stream",
          "name": "stdout",
          "text": [
            "   AAA  BBB  CCC\n",
            "0    4   10  100\n",
            "1    5   20   50\n",
            "2    6   30  -30\n",
            "3    7   40  -50\n",
            "===============\n",
            "   AAA  BBB  CCC\n",
            "0    4    0  100\n",
            "1    5   20   50\n",
            "2    6   30  -30\n",
            "3    7    0  -50\n",
            "   AAA  BBB  CCC\n",
            "0    4    0  100\n",
            "1    5   20   50\n",
            "2    6   30  -30\n",
            "3    7    0  -50\n"
          ]
        }
      ]
    },
    {
      "cell_type": "code",
      "metadata": {
        "colab": {
          "base_uri": "https://localhost:8080/",
          "height": 130
        },
        "id": "K3YiofIJpbS9",
        "outputId": "f8fb4548-acf5-458e-ede1-189330612896"
      },
      "source": [
        "df = pd.DataFrame(\n",
        "    {\"AAA\":[4,5,6,7],\n",
        "     \"BBB\":[10,20,30,40],\n",
        "     \"CCC\":[100,50,-30,-50]})\n",
        "# 인덱스 값 프린트\n",
        "print(df.index.values)\n",
        "\n",
        "# 짝수 인덱스 추출\n",
        "df[df.index%2==0]"
      ],
      "execution_count": null,
      "outputs": [
        {
          "output_type": "stream",
          "name": "stdout",
          "text": [
            "[0 1 2 3]\n"
          ]
        },
        {
          "output_type": "execute_result",
          "data": {
            "text/html": [
              "<div>\n",
              "<style scoped>\n",
              "    .dataframe tbody tr th:only-of-type {\n",
              "        vertical-align: middle;\n",
              "    }\n",
              "\n",
              "    .dataframe tbody tr th {\n",
              "        vertical-align: top;\n",
              "    }\n",
              "\n",
              "    .dataframe thead th {\n",
              "        text-align: right;\n",
              "    }\n",
              "</style>\n",
              "<table border=\"1\" class=\"dataframe\">\n",
              "  <thead>\n",
              "    <tr style=\"text-align: right;\">\n",
              "      <th></th>\n",
              "      <th>AAA</th>\n",
              "      <th>BBB</th>\n",
              "      <th>CCC</th>\n",
              "    </tr>\n",
              "  </thead>\n",
              "  <tbody>\n",
              "    <tr>\n",
              "      <th>0</th>\n",
              "      <td>4</td>\n",
              "      <td>10</td>\n",
              "      <td>100</td>\n",
              "    </tr>\n",
              "    <tr>\n",
              "      <th>2</th>\n",
              "      <td>6</td>\n",
              "      <td>30</td>\n",
              "      <td>-30</td>\n",
              "    </tr>\n",
              "  </tbody>\n",
              "</table>\n",
              "</div>"
            ],
            "text/plain": [
              "   AAA  BBB  CCC\n",
              "0    4   10  100\n",
              "2    6   30  -30"
            ]
          },
          "metadata": {},
          "execution_count": 61
        }
      ]
    },
    {
      "cell_type": "markdown",
      "metadata": {
        "id": "ygpzhaVWvpWk"
      },
      "source": [
        "- 열 추가"
      ]
    },
    {
      "cell_type": "code",
      "metadata": {
        "colab": {
          "base_uri": "https://localhost:8080/"
        },
        "id": "iThirUalpbWJ",
        "outputId": "00323c8e-ea74-497c-c7c1-2cf5975b32fe"
      },
      "source": [
        "# 열 복제\n",
        "df = pd.DataFrame(\n",
        "    {\"AAA\":[4,5,6,7],\n",
        "     \"BBB\":[10,20,30,40],\n",
        "     \"CCC\":[100,50,-30,-50]})\n",
        "\n",
        "df['abc_CCC'] = df['CCC']\n",
        "df['a_CCC'] = df['CCC']*2\n",
        "df['b_CCC'] = df['CCC'].abs()\n",
        "print(df)"
      ],
      "execution_count": null,
      "outputs": [
        {
          "output_type": "stream",
          "name": "stdout",
          "text": [
            "   AAA  BBB  CCC  abc_CCC\n",
            "0    4   10  100      100\n",
            "1    5   20   50       50\n",
            "2    6   30  -30      -30\n",
            "3    7   40  -50      -50\n",
            "   AAA  BBB  CCC  abc_CCC  a_CCC\n",
            "0    4   10  100      100    200\n",
            "1    5   20   50       50    100\n",
            "2    6   30  -30      -30    -60\n",
            "3    7   40  -50      -50   -100\n",
            "   AAA  BBB  CCC  abc_CCC  a_CCC  b_CCC\n",
            "0    4   10  100      100    200    100\n",
            "1    5   20   50       50    100     50\n",
            "2    6   30  -30      -30    -60     30\n",
            "3    7   40  -50      -50   -100     50\n"
          ]
        }
      ]
    },
    {
      "cell_type": "code",
      "metadata": {
        "colab": {
          "base_uri": "https://localhost:8080/"
        },
        "id": "00yD-zZfpbby",
        "outputId": "5ebb4b69-5b97-4572-f585-f6960213ec5c"
      },
      "source": [
        "# AAA와 BBB의 합으로 이루어진 새로운 SSS열 추가하기\n",
        "df = pd.DataFrame(\n",
        "    {\"AAA\":[4,5,6,7],\n",
        "     \"BBB\":[10,20,30,40],\n",
        "     \"CCC\":[100,50,-30,-50]})\n",
        "\n",
        "df['SSS'] = df['AAA']+df['BBB']\n",
        "print(df)\n",
        "\n",
        "# 같은결과\n",
        "df['SSS1'] = df.AAA+df.BBB\n",
        "print(df)\n",
        "\n",
        "# ERROR\n",
        "df.SS = df['AAA']+df['BBB']\n",
        "print(df)"
      ],
      "execution_count": null,
      "outputs": [
        {
          "output_type": "stream",
          "name": "stdout",
          "text": [
            "   AAA  BBB  CCC  SSS\n",
            "0    4   10  100   14\n",
            "1    5   20   50   25\n",
            "2    6   30  -30   36\n",
            "3    7   40  -50   47\n",
            "   AAA  BBB  CCC  SSS  SSS1\n",
            "0    4   10  100   14    14\n",
            "1    5   20   50   25    25\n",
            "2    6   30  -30   36    36\n",
            "3    7   40  -50   47    47\n",
            "   AAA  BBB  CCC  SSS  SSS1\n",
            "0    4   10  100   14    14\n",
            "1    5   20   50   25    25\n",
            "2    6   30  -30   36    36\n",
            "3    7   40  -50   47    47\n"
          ]
        },
        {
          "output_type": "stream",
          "name": "stderr",
          "text": [
            "/usr/local/lib/python3.7/dist-packages/ipykernel_launcher.py:15: UserWarning: Pandas doesn't allow columns to be created via a new attribute name - see https://pandas.pydata.org/pandas-docs/stable/indexing.html#attribute-access\n",
            "  from ipykernel import kernelapp as app\n"
          ]
        }
      ]
    },
    {
      "cell_type": "code",
      "metadata": {
        "colab": {
          "base_uri": "https://localhost:8080/"
        },
        "id": "sgf9tc8Ypbuj",
        "outputId": "390f4617-82c4-4924-ecd0-caa93fbbc7d8"
      },
      "source": [
        "df = pd.DataFrame(\n",
        "    {\"AAA\":[4,5,6,7],\n",
        "     \"BBB\":['남','여','남','여'],\n",
        "     \"CCC\":[100,50,-30,-50]})\n",
        "print(df)\n",
        "print('='*15)\n",
        "\n",
        "def encode(BBB):\n",
        "  if BBB=='남': return 1\n",
        "  if BBB=='여':return 0\n",
        "  return -1\n",
        "\n",
        "print(encode('남'))\n",
        "print(encode('여'))\n",
        "print(encode(''))\n",
        "print(encode('else'))\n",
        "\n",
        "# 새로운 열 추가할때 함수 사용하기\n",
        "df['BBB_encoded'] = df[['BBB']].applymap(encode)\n",
        "print(df)\n"
      ],
      "execution_count": null,
      "outputs": [
        {
          "output_type": "stream",
          "name": "stdout",
          "text": [
            "   AAA BBB  CCC\n",
            "0    4   남  100\n",
            "1    5   여   50\n",
            "2    6   남  -30\n",
            "3    7   여  -50\n",
            "===============\n",
            "1\n",
            "0\n",
            "-1\n",
            "-1\n",
            "   AAA BBB  CCC  BBB_encoded\n",
            "0    4   남  100            1\n",
            "1    5   여   50            0\n",
            "2    6   남  -30            1\n",
            "3    7   여  -50            0\n"
          ]
        }
      ]
    },
    {
      "cell_type": "markdown",
      "metadata": {
        "id": "HReE-nwTvhnF"
      },
      "source": [
        "- 열 삭제\n",
        "- inplace = False 가 디폴트, 데이터 프레임을 복제해 반환"
      ]
    },
    {
      "cell_type": "code",
      "metadata": {
        "colab": {
          "base_uri": "https://localhost:8080/"
        },
        "id": "8KxqY1YipbxT",
        "outputId": "340a7a63-ab7f-40d2-997b-e1f11f9a419e"
      },
      "source": [
        "df = pd.DataFrame(\n",
        "    {\"AAA\":[4,5,6,7],\n",
        "     \"BBB\":['남','여','남','여'],\n",
        "     \"CCC\":[100,50,-30,-50]})\n",
        "print(df)\n",
        "print('='*15)\n",
        "\n",
        "# 열삭제한 데이터프레임을 새로 만듦 (카피본 만듦)\n",
        "new_df = df.drop(columns='BBB')\n",
        "print(new_df)\n",
        "\n",
        "# 원래 있던 데이터프레임에서의 열삭제\n",
        "df.drop(columns='BBB', inplace=True)\n",
        "print(df)"
      ],
      "execution_count": null,
      "outputs": [
        {
          "output_type": "stream",
          "name": "stdout",
          "text": [
            "   AAA BBB  CCC\n",
            "0    4   남  100\n",
            "1    5   여   50\n",
            "2    6   남  -30\n",
            "3    7   여  -50\n",
            "===============\n",
            "   AAA  CCC\n",
            "0    4  100\n",
            "1    5   50\n",
            "2    6  -30\n",
            "3    7  -50\n",
            "   AAA  CCC\n",
            "0    4  100\n",
            "1    5   50\n",
            "2    6  -30\n",
            "3    7  -50\n"
          ]
        }
      ]
    },
    {
      "cell_type": "code",
      "metadata": {
        "colab": {
          "base_uri": "https://localhost:8080/"
        },
        "id": "vgOMVnY5pbzu",
        "outputId": "691644b9-3cad-4367-a0ee-d47630175267"
      },
      "source": [
        "df = pd.DataFrame(\n",
        "    {\"AAA\":[4,5,6,7],\n",
        "     \"BBB\":['남','여','남','여'],\n",
        "     \"CCC\":[100,50,-30,-50]})\n",
        "print(df)\n",
        "print('='*15)\n",
        "\n",
        "# 인덱스행 지정 삭제\n",
        "df.drop(1, inplace=True)\n",
        "print(df)"
      ],
      "execution_count": null,
      "outputs": [
        {
          "output_type": "stream",
          "name": "stdout",
          "text": [
            "   AAA BBB  CCC\n",
            "0    4   남  100\n",
            "1    5   여   50\n",
            "2    6   남  -30\n",
            "3    7   여  -50\n",
            "===============\n",
            "   AAA BBB  CCC\n",
            "0    4   남  100\n",
            "2    6   남  -30\n",
            "3    7   여  -50\n"
          ]
        }
      ]
    },
    {
      "cell_type": "code",
      "metadata": {
        "colab": {
          "base_uri": "https://localhost:8080/"
        },
        "id": "uOJngAo7vfgi",
        "outputId": "efe2f33a-b8c5-45e5-a154-ea053bf2fdb2"
      },
      "source": [
        "# AAA가 짝수인 인덱스 행만 추출하기\n",
        "df = pd.DataFrame(\n",
        "    {\"AAA\":[4,5,6,7],\n",
        "     \"BBB\":['남','여','남','여'],\n",
        "     \"CCC\":[100,50,-30,-50]})\n",
        "print(df)\n",
        "print('='*15)\n",
        "\n",
        "# AAA가 짝수인 TF 시리즈\n",
        "print(df.AAA%2 == 0)\n",
        "\n",
        "df.drop(df[df.AAA%2==0].index, inplace=True)\n",
        "print(df)"
      ],
      "execution_count": null,
      "outputs": [
        {
          "output_type": "stream",
          "name": "stdout",
          "text": [
            "   AAA BBB  CCC\n",
            "0    4   남  100\n",
            "1    5   여   50\n",
            "2    6   남  -30\n",
            "3    7   여  -50\n",
            "===============\n",
            "0     True\n",
            "1    False\n",
            "2     True\n",
            "3    False\n",
            "Name: AAA, dtype: bool\n",
            "   AAA BBB  CCC\n",
            "1    5   여   50\n",
            "3    7   여  -50\n"
          ]
        }
      ]
    },
    {
      "cell_type": "code",
      "metadata": {
        "colab": {
          "base_uri": "https://localhost:8080/"
        },
        "id": "Zru-8NSrvfm2",
        "outputId": "779bc962-e6e7-426e-c894-fe22027deed0"
      },
      "source": [
        "df = pd.DataFrame(\n",
        "    {\"AAA\":[4,5,6,7],\n",
        "     \"BBB\":[10,20,30,40],\n",
        "     \"CCC\":[100,50,-30,-50]})\n",
        "print(df)\n",
        "print('='*15)\n",
        "\n",
        "df['float_AAA'] = df.AAA.astype(np.float)\n",
        "print(df)"
      ],
      "execution_count": null,
      "outputs": [
        {
          "output_type": "stream",
          "name": "stdout",
          "text": [
            "   AAA  BBB  CCC\n",
            "0    4   10  100\n",
            "1    5   20   50\n",
            "2    6   30  -30\n",
            "3    7   40  -50\n",
            "===============\n",
            "   AAA  BBB  CCC  float_AAA\n",
            "0    4   10  100        4.0\n",
            "1    5   20   50        5.0\n",
            "2    6   30  -30        6.0\n",
            "3    7   40  -50        7.0\n"
          ]
        }
      ]
    },
    {
      "cell_type": "code",
      "metadata": {
        "id": "Sb0rkJ8dpb2H"
      },
      "source": [
        ""
      ],
      "execution_count": null,
      "outputs": []
    }
  ]
}