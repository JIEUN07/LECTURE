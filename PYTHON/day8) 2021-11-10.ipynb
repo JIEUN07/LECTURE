{
 "cells": [
  {
   "cell_type": "markdown",
   "id": "1323a1d8",
   "metadata": {},
   "source": [
    "변수, 함수\n",
    "둘다 메모리임"
   ]
  },
  {
   "cell_type": "markdown",
   "id": "c5b69be2",
   "metadata": {},
   "source": [
    "(100, 200, '  ') 이게 리터럴"
   ]
  },
  {
   "cell_type": "code",
   "execution_count": 1,
   "id": "6c9ebfa5",
   "metadata": {},
   "outputs": [
    {
     "data": {
      "text/plain": [
       "(100, 200, 'keyboard')"
      ]
     },
     "execution_count": 1,
     "metadata": {},
     "output_type": "execute_result"
    }
   ],
   "source": [
    "100, 200, 'keyboard'"
   ]
  },
  {
   "cell_type": "code",
   "execution_count": 2,
   "id": "e127dbf7",
   "metadata": {},
   "outputs": [
    {
     "data": {
      "text/plain": [
       "'Keyboard'"
      ]
     },
     "execution_count": 2,
     "metadata": {},
     "output_type": "execute_result"
    }
   ],
   "source": [
    "'keyboard'.capitalize()"
   ]
  },
  {
   "cell_type": "code",
   "execution_count": 3,
   "id": "4562ef60",
   "metadata": {},
   "outputs": [
    {
     "data": {
      "text/plain": [
       "'aB'"
      ]
     },
     "execution_count": 3,
     "metadata": {},
     "output_type": "execute_result"
    }
   ],
   "source": [
    "'ab'.capitalize().swapcase()"
   ]
  },
  {
   "cell_type": "code",
   "execution_count": 4,
   "id": "4b6b0024",
   "metadata": {},
   "outputs": [
    {
     "data": {
      "text/plain": [
       "3"
      ]
     },
     "execution_count": 4,
     "metadata": {},
     "output_type": "execute_result"
    }
   ],
   "source": [
    "len('abc')"
   ]
  },
  {
   "cell_type": "code",
   "execution_count": 11,
   "id": "073918e8",
   "metadata": {},
   "outputs": [],
   "source": [
    "def myfunc():\n",
    "    return 200;"
   ]
  },
  {
   "cell_type": "code",
   "execution_count": 12,
   "id": "441514f1",
   "metadata": {},
   "outputs": [
    {
     "data": {
      "text/plain": [
       "200"
      ]
     },
     "execution_count": 12,
     "metadata": {},
     "output_type": "execute_result"
    }
   ],
   "source": [
    "myfunc()"
   ]
  },
  {
   "cell_type": "markdown",
   "id": "075532d6",
   "metadata": {},
   "source": [
    "if elif else end\n",
    "while\n",
    "for in else"
   ]
  },
  {
   "cell_type": "code",
   "execution_count": 3,
   "id": "b1231f25",
   "metadata": {},
   "outputs": [],
   "source": [
    "mystr = 'daerim dong 1234 hello' # 숫자 개수세기\n",
    "mystr2 = '. K 안녕하세요, hello 010-1234-1234' #한글, 영어, 숫자, 특수문자 개수세기"
   ]
  },
  {
   "cell_type": "code",
   "execution_count": 81,
   "id": "d972f559",
   "metadata": {},
   "outputs": [
    {
     "data": {
      "text/plain": [
       "['1', '2', '3', '4']"
      ]
     },
     "execution_count": 81,
     "metadata": {},
     "output_type": "execute_result"
    }
   ],
   "source": [
    "elem = []\n",
    "for ele in mystr:\n",
    "    if (ord(ele) >= ord('0') and ord(ele) <= ord('9')):\n",
    "        elem += [ele]\n",
    "elem"
   ]
  },
  {
   "cell_type": "code",
   "execution_count": 48,
   "id": "435abb81",
   "metadata": {},
   "outputs": [
    {
     "data": {
      "text/plain": [
       "4"
      ]
     },
     "execution_count": 48,
     "metadata": {},
     "output_type": "execute_result"
    }
   ],
   "source": [
    "numUp = 0\n",
    "for ele in mystr:\n",
    "    if (ord(ele) >= ord('0') and ord(ele) <= ord('9')):\n",
    "        numUp +=1  # 개수기 때문에 숫자를 더해줌\n",
    "numUp"
   ]
  },
  {
   "cell_type": "code",
   "execution_count": 49,
   "id": "c3e460c0",
   "metadata": {},
   "outputs": [
    {
     "data": {
      "text/plain": [
       "'. K 안녕하세요, hello --'"
      ]
     },
     "execution_count": 49,
     "metadata": {},
     "output_type": "execute_result"
    }
   ],
   "source": [
    "mystr = 'daerim dong 1234 hello'\n",
    "newStr = ''\n",
    "for ele in mystr2:\n",
    "    if ele.isdigit() == False:\n",
    "        newStr += ele\n",
    "newStr"
   ]
  },
  {
   "cell_type": "code",
   "execution_count": 40,
   "id": "07079478",
   "metadata": {},
   "outputs": [
    {
     "data": {
      "text/plain": [
       "'d'"
      ]
     },
     "execution_count": 40,
     "metadata": {},
     "output_type": "execute_result"
    }
   ],
   "source": [
    "newStr += 'd'\n",
    "newStr"
   ]
  },
  {
   "cell_type": "code",
   "execution_count": 45,
   "id": "b7666d2b",
   "metadata": {},
   "outputs": [
    {
     "data": {
      "text/plain": [
       "(5, 1, 5, 11, 8)"
      ]
     },
     "execution_count": 45,
     "metadata": {},
     "output_type": "execute_result"
    }
   ],
   "source": [
    "hanCnt, upperCnt, lowerCnt, numCnt, etcCnt, = [0]*5\n",
    "for ele in mystr2:\n",
    "    if (ord(ele) >= ord('A') and ord(ele) <= ord('Z')):\n",
    "        upperCnt += 1\n",
    "    elif (ord(ele) >= ord('a') and ord(ele) <= ord('z')):\n",
    "        lowerCnt += 1\n",
    "    elif (ord(ele) >= ord('0') and ord(ele) <= ord('9')):\n",
    "        numCnt += 1\n",
    "    elif (ord(ele) >= ord('가') and ord(ele) <= ord('핳')):\n",
    "        hanCnt += 1\n",
    "    else:\n",
    "        etcCnt += 1\n",
    "hanCnt, upperCnt, lowerCnt, numCnt, etcCnt"
   ]
  },
  {
   "cell_type": "markdown",
   "id": "93aba154",
   "metadata": {},
   "source": [
    "list, tuple, dict, set, str collection"
   ]
  },
  {
   "cell_type": "code",
   "execution_count": 21,
   "id": "5a95b3b4",
   "metadata": {},
   "outputs": [],
   "source": [
    "a = 'abcde'\n",
    "b = [1,2,10,20]\n",
    "c = (1,2,10,20)\n",
    "# d = {2,3,10, 10.2}  -> 데이터 형식이 안되는 형식임\n",
    "d = {2:10, 3.6:6, 4:10, 5:10.2}\n",
    "s = {2,3,10,20, 'address'}"
   ]
  },
  {
   "cell_type": "code",
   "execution_count": 15,
   "id": "7d931f93",
   "metadata": {},
   "outputs": [
    {
     "data": {
      "text/plain": [
       "('a', [0], 1, 10)"
      ]
     },
     "execution_count": 15,
     "metadata": {},
     "output_type": "execute_result"
    }
   ],
   "source": [
    "a[0], [0], c[0], d[2] # 나머지는 첫째행이 나오지만 d[0]는 키값이 2인 벨류값이 나옴"
   ]
  },
  {
   "cell_type": "code",
   "execution_count": 17,
   "id": "d14070e4",
   "metadata": {},
   "outputs": [],
   "source": [
    "b[0] = 'b' # c는 튜플이라 수정불가, 수치형 인덱싱 수정은 b밖에 안됨"
   ]
  },
  {
   "cell_type": "code",
   "execution_count": 18,
   "id": "f567ab2f",
   "metadata": {},
   "outputs": [],
   "source": [
    "d[2] = 'b' # 키값은 바뀌지 않음"
   ]
  },
  {
   "cell_type": "code",
   "execution_count": 23,
   "id": "5788cc4e",
   "metadata": {},
   "outputs": [],
   "source": [
    "d[3.6] = 'b' #행값이 아닌, 키값으로 할당할수 있음"
   ]
  },
  {
   "cell_type": "code",
   "execution_count": 24,
   "id": "680272f7",
   "metadata": {},
   "outputs": [
    {
     "data": {
      "text/plain": [
       "('abcde', [1, 2, 10, 20], (1, 2, 10, 20), {2: 10, 3.6: 'b', 4: 10, 5: 10.2})"
      ]
     },
     "execution_count": 24,
     "metadata": {},
     "output_type": "execute_result"
    }
   ],
   "source": [
    "a,b,c,d"
   ]
  },
  {
   "cell_type": "markdown",
   "id": "04443add",
   "metadata": {},
   "source": [
    "# 8.2 셋"
   ]
  },
  {
   "cell_type": "code",
   "execution_count": 27,
   "id": "82e18b8b",
   "metadata": {},
   "outputs": [],
   "source": [
    "empty_set = set() # set\n",
    "# empty_set2 = {} # dict\n",
    "empty_dict = {}"
   ]
  },
  {
   "cell_type": "code",
   "execution_count": 28,
   "id": "c7a0fc67",
   "metadata": {},
   "outputs": [
    {
     "data": {
      "text/plain": [
       "(set, dict)"
      ]
     },
     "execution_count": 28,
     "metadata": {},
     "output_type": "execute_result"
    }
   ],
   "source": [
    "type(empty_set), type(empty_set2)"
   ]
  },
  {
   "cell_type": "code",
   "execution_count": 29,
   "id": "ba094d1d",
   "metadata": {},
   "outputs": [],
   "source": [
    "even_numbers = {0,2,4,6,8}"
   ]
  },
  {
   "cell_type": "code",
   "execution_count": 30,
   "id": "b7ce4d53",
   "metadata": {},
   "outputs": [
    {
     "data": {
      "text/plain": [
       "{0, 2, 4, 6, 8}"
      ]
     },
     "execution_count": 30,
     "metadata": {},
     "output_type": "execute_result"
    }
   ],
   "source": [
    "even_numbers"
   ]
  },
  {
   "cell_type": "code",
   "execution_count": 33,
   "id": "8b1da087",
   "metadata": {},
   "outputs": [],
   "source": [
    "odd_numbers = set(range(1,100,2))"
   ]
  },
  {
   "cell_type": "code",
   "execution_count": 35,
   "id": "a8a3bb15",
   "metadata": {},
   "outputs": [
    {
     "name": "stdout",
     "output_type": "stream",
     "text": [
      "{1, 3, 5, 7, 9, 11, 13, 15, 17, 19, 21, 23, 25, 27, 29, 31, 33, 35, 37, 39, 41, 43, 45, 47, 49, 51, 53, 55, 57, 59, 61, 63, 65, 67, 69, 71, 73, 75, 77, 79, 81, 83, 85, 87, 89, 91, 93, 95, 97, 99}\n"
     ]
    }
   ],
   "source": [
    "print(odd_numbers)"
   ]
  },
  {
   "cell_type": "code",
   "execution_count": 36,
   "id": "b5ccf511",
   "metadata": {},
   "outputs": [
    {
     "data": {
      "text/plain": [
       "({'e', 'l', 'r', 's', 't'}, ['l', 'e', 't', 't', 'e', 'r', 's'])"
      ]
     },
     "execution_count": 36,
     "metadata": {},
     "output_type": "execute_result"
    }
   ],
   "source": [
    "set('letters'), list('letters') # 차이점 중복제거 따라서 set은 종류의 개수를 나타냄"
   ]
  },
  {
   "cell_type": "code",
   "execution_count": 38,
   "id": "89df7765",
   "metadata": {},
   "outputs": [
    {
     "data": {
      "text/plain": [
       "['apple', 'orange', 'cherry']"
      ]
     },
     "execution_count": 38,
     "metadata": {},
     "output_type": "execute_result"
    }
   ],
   "source": [
    "list({'apple':'red', 'orange':'orange', 'cherry':'red'}) # list 붙으면 키값만 나옴"
   ]
  },
  {
   "cell_type": "code",
   "execution_count": 39,
   "id": "57a86f6e",
   "metadata": {},
   "outputs": [],
   "source": [
    "s.add('four')"
   ]
  },
  {
   "cell_type": "code",
   "execution_count": 40,
   "id": "1dd221e6",
   "metadata": {},
   "outputs": [
    {
     "data": {
      "text/plain": [
       "{10, 2, 20, 3, 'address', 'four'}"
      ]
     },
     "execution_count": 40,
     "metadata": {},
     "output_type": "execute_result"
    }
   ],
   "source": [
    "s "
   ]
  },
  {
   "cell_type": "code",
   "execution_count": 41,
   "id": "735890eb",
   "metadata": {},
   "outputs": [],
   "source": [
    "s.remove(2) # 셋은 행값으로 읽을수 없어서 리스트로 바꿔야 행값으로 읽을수 있음"
   ]
  },
  {
   "cell_type": "code",
   "execution_count": 42,
   "id": "267e704d",
   "metadata": {},
   "outputs": [
    {
     "data": {
      "text/plain": [
       "{10, 20, 3, 'address', 'four'}"
      ]
     },
     "execution_count": 42,
     "metadata": {},
     "output_type": "execute_result"
    }
   ],
   "source": [
    "s"
   ]
  },
  {
   "cell_type": "code",
   "execution_count": 43,
   "id": "69fb6cc3",
   "metadata": {},
   "outputs": [],
   "source": [
    "furniture = set(('sofa','ottoman', 'table'))"
   ]
  },
  {
   "cell_type": "code",
   "execution_count": 44,
   "id": "e8cf423e",
   "metadata": {},
   "outputs": [
    {
     "data": {
      "text/plain": [
       "{'ottoman', 'sofa', 'table'}"
      ]
     },
     "execution_count": 44,
     "metadata": {},
     "output_type": "execute_result"
    }
   ],
   "source": [
    "furniture"
   ]
  },
  {
   "cell_type": "code",
   "execution_count": 46,
   "id": "45edb424",
   "metadata": {},
   "outputs": [
    {
     "name": "stdout",
     "output_type": "stream",
     "text": [
      "sofa\n",
      "table\n",
      "ottoman\n"
     ]
    }
   ],
   "source": [
    "for piece in furniture:\n",
    "    print(piece)"
   ]
  },
  {
   "cell_type": "code",
   "execution_count": 47,
   "id": "378ed5cb",
   "metadata": {},
   "outputs": [
    {
     "data": {
      "text/plain": [
       "True"
      ]
     },
     "execution_count": 47,
     "metadata": {},
     "output_type": "execute_result"
    }
   ],
   "source": [
    "'table' in furniture # 데이터가 들어있는지 확인하는 함수 -> ' ' in function"
   ]
  },
  {
   "cell_type": "code",
   "execution_count": 48,
   "id": "9165dd7f",
   "metadata": {},
   "outputs": [],
   "source": [
    "drinks = {'martini': {'vodka', 'vermouth'},\n",
    "'black russian': {'vodka', 'kahlua'},\n",
    "'white russian': {'cream', 'kahlua', 'vodka'},\n",
    "'manhattan': {'rye', 'vermouth', 'bitters'},\n",
    "'screwdriver': {'orange juice', 'vodka'}\n",
    "}"
   ]
  },
  {
   "cell_type": "code",
   "execution_count": 50,
   "id": "82fa0466",
   "metadata": {},
   "outputs": [],
   "source": [
    "a,b,c = ['name'] *3"
   ]
  },
  {
   "cell_type": "code",
   "execution_count": 51,
   "id": "edefb691",
   "metadata": {},
   "outputs": [
    {
     "data": {
      "text/plain": [
       "('name', 'name', 'name')"
      ]
     },
     "execution_count": 51,
     "metadata": {},
     "output_type": "execute_result"
    }
   ],
   "source": [
    "a, b, c"
   ]
  },
  {
   "cell_type": "code",
   "execution_count": 52,
   "id": "3bf7f668",
   "metadata": {},
   "outputs": [
    {
     "data": {
      "text/plain": [
       "dict_items([('martini', {'vermouth', 'vodka'}), ('black russian', {'kahlua', 'vodka'}), ('white russian', {'kahlua', 'cream', 'vodka'}), ('manhattan', {'vermouth', 'rye', 'bitters'}), ('screwdriver', {'orange juice', 'vodka'})])"
      ]
     },
     "execution_count": 52,
     "metadata": {},
     "output_type": "execute_result"
    }
   ],
   "source": [
    "drinks.items() "
   ]
  },
  {
   "cell_type": "code",
   "execution_count": 126,
   "id": "e2731be2",
   "metadata": {},
   "outputs": [
    {
     "data": {
      "text/plain": [
       "[('martini', {'vermouth', 'vodka'}),\n",
       " ('black russian', {'kahlua', 'vodka'}),\n",
       " ('white russian', {'cream', 'kahlua', 'vodka'}),\n",
       " ('manhattan', {'bitters', 'rye', 'vermouth'}),\n",
       " ('screwdriver', {'orange juice', 'vodka'})]"
      ]
     },
     "execution_count": 126,
     "metadata": {},
     "output_type": "execute_result"
    }
   ],
   "source": [
    "list(drinks.items())"
   ]
  },
  {
   "cell_type": "code",
   "execution_count": 127,
   "id": "f5fc4032",
   "metadata": {},
   "outputs": [
    {
     "data": {
      "text/plain": [
       "('martini', {'vermouth', 'vodka'})"
      ]
     },
     "execution_count": 127,
     "metadata": {},
     "output_type": "execute_result"
    }
   ],
   "source": [
    "list(drinks.items())[0]"
   ]
  },
  {
   "cell_type": "code",
   "execution_count": 128,
   "id": "630ebf4a",
   "metadata": {},
   "outputs": [
    {
     "data": {
      "text/plain": [
       "('black russian', {'kahlua', 'vodka'})"
      ]
     },
     "execution_count": 128,
     "metadata": {},
     "output_type": "execute_result"
    }
   ],
   "source": [
    "list(drinks.items())[1]"
   ]
  },
  {
   "cell_type": "code",
   "execution_count": 129,
   "id": "43bb416d",
   "metadata": {},
   "outputs": [],
   "source": [
    "a, b = list(drinks.items())[0]"
   ]
  },
  {
   "cell_type": "code",
   "execution_count": 130,
   "id": "03dce3aa",
   "metadata": {},
   "outputs": [
    {
     "data": {
      "text/plain": [
       "'martini'"
      ]
     },
     "execution_count": 130,
     "metadata": {},
     "output_type": "execute_result"
    }
   ],
   "source": [
    "a"
   ]
  },
  {
   "cell_type": "code",
   "execution_count": 133,
   "id": "af60fd3b",
   "metadata": {},
   "outputs": [
    {
     "data": {
      "text/plain": [
       "{'vermouth', 'vodka'}"
      ]
     },
     "execution_count": 133,
     "metadata": {},
     "output_type": "execute_result"
    }
   ],
   "source": [
    "b"
   ]
  },
  {
   "cell_type": "code",
   "execution_count": 134,
   "id": "87a8cc95",
   "metadata": {},
   "outputs": [
    {
     "data": {
      "text/plain": [
       "('martini', False)"
      ]
     },
     "execution_count": 134,
     "metadata": {},
     "output_type": "execute_result"
    }
   ],
   "source": [
    "a, b in list(drinks.items())"
   ]
  },
  {
   "cell_type": "code",
   "execution_count": 135,
   "id": "fea4718d",
   "metadata": {},
   "outputs": [],
   "source": [
    "a, b = list(drinks.items())[0]"
   ]
  },
  {
   "cell_type": "code",
   "execution_count": 136,
   "id": "a239ec76",
   "metadata": {},
   "outputs": [
    {
     "data": {
      "text/plain": [
       "False"
      ]
     },
     "execution_count": 136,
     "metadata": {},
     "output_type": "execute_result"
    }
   ],
   "source": [
    "'vodka' in {'vermouth', 'rye', 'bitters'}"
   ]
  },
  {
   "cell_type": "code",
   "execution_count": 75,
   "id": "33389d19",
   "metadata": {},
   "outputs": [],
   "source": [
    "vodkas = []\n",
    "for name, contents in drinks.items():\n",
    "    if 'vodka' in contents:\n",
    "       # vodkas += [name] \n",
    "       # vodkas.append(name)"
   ]
  },
  {
   "cell_type": "code",
   "execution_count": 73,
   "id": "1797d734",
   "metadata": {},
   "outputs": [
    {
     "data": {
      "text/plain": [
       "['martini', 'black russian', 'white russian', 'screwdriver']"
      ]
     },
     "execution_count": 73,
     "metadata": {},
     "output_type": "execute_result"
    }
   ],
   "source": [
    "vodkas"
   ]
  },
  {
   "cell_type": "code",
   "execution_count": 74,
   "id": "851d8457",
   "metadata": {},
   "outputs": [
    {
     "data": {
      "text/plain": [
       "['a', 'b', 'c', 'e', 'f', 'g']"
      ]
     },
     "execution_count": 74,
     "metadata": {},
     "output_type": "execute_result"
    }
   ],
   "source": [
    "['a','b','c'] +['e','f','g']"
   ]
  },
  {
   "cell_type": "code",
   "execution_count": 83,
   "id": "c04890d1",
   "metadata": {},
   "outputs": [],
   "source": [
    "mylist = []\n",
    "mylist += 'martini' # 성분이 떨어져서 저장됨\n",
    "mylist += ['martini'] # 성분이 붇어서 저장됨"
   ]
  },
  {
   "cell_type": "code",
   "execution_count": 84,
   "id": "e87b5afa",
   "metadata": {},
   "outputs": [
    {
     "data": {
      "text/plain": [
       "['m', 'a', 'r', 't', 'i', 'n', 'i']"
      ]
     },
     "execution_count": 84,
     "metadata": {},
     "output_type": "execute_result"
    }
   ],
   "source": [
    "mylist"
   ]
  },
  {
   "cell_type": "code",
   "execution_count": 85,
   "id": "a4470ff3",
   "metadata": {},
   "outputs": [],
   "source": [
    "import pandas as pd # as 뒤에 별명붙여줌"
   ]
  },
  {
   "cell_type": "code",
   "execution_count": 86,
   "id": "f6505cf7",
   "metadata": {},
   "outputs": [],
   "source": [
    "df = pd.DataFrame(vodkas) # 저장"
   ]
  },
  {
   "cell_type": "code",
   "execution_count": 87,
   "id": "e7d416b3",
   "metadata": {},
   "outputs": [],
   "source": [
    "df.to_csv('vodkas.csv') # 저장이름 설정"
   ]
  },
  {
   "cell_type": "markdown",
   "id": "180abe63",
   "metadata": {},
   "source": [
    "& 교집합, | 합집합, - 차집합"
   ]
  },
  {
   "cell_type": "code",
   "execution_count": 91,
   "id": "cf57d5b9",
   "metadata": {},
   "outputs": [],
   "source": [
    "a = {1,2}\n",
    "b = {2,3,4,5}"
   ]
  },
  {
   "cell_type": "code",
   "execution_count": 95,
   "id": "2a5124d6",
   "metadata": {},
   "outputs": [
    {
     "data": {
      "text/plain": [
       "({2}, {1, 2, 3, 4, 5}, {1}, {3, 4, 5})"
      ]
     },
     "execution_count": 95,
     "metadata": {},
     "output_type": "execute_result"
    }
   ],
   "source": [
    "a & b, a | b, a - b, b - a"
   ]
  },
  {
   "cell_type": "code",
   "execution_count": 97,
   "id": "05bf449b",
   "metadata": {},
   "outputs": [
    {
     "data": {
      "text/plain": [
       "({2}, {1, 2, 3, 4, 5}, {1}, {3, 4, 5})"
      ]
     },
     "execution_count": 97,
     "metadata": {},
     "output_type": "execute_result"
    }
   ],
   "source": [
    "a.intersection(b), a.union(b), a.difference(b), b.difference(a)"
   ]
  },
  {
   "cell_type": "code",
   "execution_count": 98,
   "id": "20d82818",
   "metadata": {},
   "outputs": [
    {
     "data": {
      "text/plain": [
       "({1, 3, 4, 5}, {1, 3, 4, 5})"
      ]
     },
     "execution_count": 98,
     "metadata": {},
     "output_type": "execute_result"
    }
   ],
   "source": [
    "a^b, a.symmetric_difference(b)"
   ]
  },
  {
   "cell_type": "code",
   "execution_count": 100,
   "id": "9180a64f",
   "metadata": {},
   "outputs": [
    {
     "data": {
      "text/plain": [
       "(False, False)"
      ]
     },
     "execution_count": 100,
     "metadata": {},
     "output_type": "execute_result"
    }
   ],
   "source": [
    "a<= b, a.issubset(b) # 부분집합안에 포함되는지"
   ]
  },
  {
   "cell_type": "code",
   "execution_count": 101,
   "id": "cb8cf482",
   "metadata": {},
   "outputs": [
    {
     "data": {
      "text/plain": [
       "({'kahlua', 'vodka'}, {'cream', 'kahlua', 'vodka'})"
      ]
     },
     "execution_count": 101,
     "metadata": {},
     "output_type": "execute_result"
    }
   ],
   "source": [
    "drinks['black russian'], drinks['white russian']"
   ]
  },
  {
   "cell_type": "code",
   "execution_count": 102,
   "id": "94235597",
   "metadata": {},
   "outputs": [
    {
     "data": {
      "text/plain": [
       "True"
      ]
     },
     "execution_count": 102,
     "metadata": {},
     "output_type": "execute_result"
    }
   ],
   "source": [
    "drinks['black russian'] <= drinks['white russian'] # 포함되는지 방향"
   ]
  },
  {
   "cell_type": "code",
   "execution_count": 103,
   "id": "116e5539",
   "metadata": {},
   "outputs": [
    {
     "data": {
      "text/plain": [
       "True"
      ]
     },
     "execution_count": 103,
     "metadata": {},
     "output_type": "execute_result"
    }
   ],
   "source": [
    "drinks['black russian'].issubset(drinks['white russian'])"
   ]
  },
  {
   "cell_type": "markdown",
   "id": "cefc5d3a",
   "metadata": {},
   "source": [
    " # 9장. 함수"
   ]
  },
  {
   "cell_type": "markdown",
   "id": "30a1479d",
   "metadata": {},
   "source": [
    "sum() len() ord() chr() id() list() set() dict() min() max() pow()"
   ]
  },
  {
   "cell_type": "code",
   "execution_count": 104,
   "id": "05e94efc",
   "metadata": {},
   "outputs": [],
   "source": [
    "# 함수 만들어보기\n",
    "def function_name(): \n",
    "    return"
   ]
  },
  {
   "cell_type": "code",
   "execution_count": 105,
   "id": "87089782",
   "metadata": {},
   "outputs": [],
   "source": [
    "def do_nothing():\n",
    "    pass"
   ]
  },
  {
   "cell_type": "code",
   "execution_count": 106,
   "id": "ec7bf3a6",
   "metadata": {},
   "outputs": [],
   "source": [
    "do_nothing()"
   ]
  },
  {
   "cell_type": "code",
   "execution_count": 108,
   "id": "f5b193e7",
   "metadata": {},
   "outputs": [],
   "source": [
    "def make_a_sound():\n",
    "    print(\"quack\")"
   ]
  },
  {
   "cell_type": "code",
   "execution_count": 109,
   "id": "a2e9c976",
   "metadata": {},
   "outputs": [],
   "source": [
    "def agree():\n",
    "    return True"
   ]
  },
  {
   "cell_type": "code",
   "execution_count": 110,
   "id": "9a57cf59",
   "metadata": {},
   "outputs": [
    {
     "name": "stdout",
     "output_type": "stream",
     "text": [
      "quack\n"
     ]
    },
    {
     "data": {
      "text/plain": [
       "(None, True)"
      ]
     },
     "execution_count": 110,
     "metadata": {},
     "output_type": "execute_result"
    }
   ],
   "source": [
    "make_a_sound(), agree()"
   ]
  },
  {
   "cell_type": "code",
   "execution_count": 111,
   "id": "f82ba02d",
   "metadata": {},
   "outputs": [
    {
     "name": "stdout",
     "output_type": "stream",
     "text": [
      "quack\n"
     ]
    },
    {
     "data": {
      "text/plain": [
       "(NoneType, bool)"
      ]
     },
     "execution_count": 111,
     "metadata": {},
     "output_type": "execute_result"
    }
   ],
   "source": [
    "type(make_a_sound()), type(agree())"
   ]
  },
  {
   "cell_type": "code",
   "execution_count": 112,
   "id": "f8ef3009",
   "metadata": {},
   "outputs": [],
   "source": [
    "def echo(anything):\n",
    "    return anything + ' ' + anything"
   ]
  },
  {
   "cell_type": "code",
   "execution_count": 113,
   "id": "75ba5212",
   "metadata": {},
   "outputs": [
    {
     "ename": "TypeError",
     "evalue": "unsupported operand type(s) for +: 'int' and 'str'",
     "output_type": "error",
     "traceback": [
      "\u001b[1;31m---------------------------------------------------------------------------\u001b[0m",
      "\u001b[1;31mTypeError\u001b[0m                                 Traceback (most recent call last)",
      "\u001b[1;32m<ipython-input-113-2a8b54832946>\u001b[0m in \u001b[0;36m<module>\u001b[1;34m\u001b[0m\n\u001b[1;32m----> 1\u001b[1;33m \u001b[0mecho\u001b[0m\u001b[1;33m(\u001b[0m\u001b[1;36m123\u001b[0m\u001b[1;33m)\u001b[0m\u001b[1;33m\u001b[0m\u001b[1;33m\u001b[0m\u001b[0m\n\u001b[0m",
      "\u001b[1;32m<ipython-input-112-d8c9b77206ba>\u001b[0m in \u001b[0;36mecho\u001b[1;34m(anything)\u001b[0m\n\u001b[0;32m      1\u001b[0m \u001b[1;32mdef\u001b[0m \u001b[0mecho\u001b[0m\u001b[1;33m(\u001b[0m\u001b[0manything\u001b[0m\u001b[1;33m)\u001b[0m\u001b[1;33m:\u001b[0m\u001b[1;33m\u001b[0m\u001b[1;33m\u001b[0m\u001b[0m\n\u001b[1;32m----> 2\u001b[1;33m     \u001b[1;32mreturn\u001b[0m \u001b[0manything\u001b[0m \u001b[1;33m+\u001b[0m \u001b[1;34m' '\u001b[0m \u001b[1;33m+\u001b[0m \u001b[0manything\u001b[0m\u001b[1;33m\u001b[0m\u001b[1;33m\u001b[0m\u001b[0m\n\u001b[0m",
      "\u001b[1;31mTypeError\u001b[0m: unsupported operand type(s) for +: 'int' and 'str'"
     ]
    }
   ],
   "source": [
    "echo(123) # TypeError: unsupported operand type(s) for +: 'int' and 'str'\n",
    "# 공백은 str이고 123은 int임"
   ]
  },
  {
   "cell_type": "code",
   "execution_count": 114,
   "id": "1fd31ae8",
   "metadata": {},
   "outputs": [
    {
     "data": {
      "text/plain": [
       "('yahoo yahoo', 'yahoo yahoo yahoo yahoo')"
      ]
     },
     "execution_count": 114,
     "metadata": {},
     "output_type": "execute_result"
    }
   ],
   "source": [
    "echo('yahoo'), echo(echo('yahoo'))"
   ]
  },
  {
   "cell_type": "markdown",
   "id": "40c1b35f",
   "metadata": {},
   "source": [
    "None =/ False,\n",
    "둘다 아무것도 없는걸 뜻하지만 다름"
   ]
  },
  {
   "cell_type": "markdown",
   "id": "df197689",
   "metadata": {},
   "source": [
    "None = [], (), '', 0.0, 0 등의 값을 말함\n",
    "아무것도 없지만 아무것도 없는 값이 아닌 것"
   ]
  },
  {
   "cell_type": "code",
   "execution_count": 115,
   "id": "bb37c553",
   "metadata": {},
   "outputs": [],
   "source": [
    "thing = None\n",
    "if thing:\n",
    "    print(\"it\")"
   ]
  },
  {
   "cell_type": "code",
   "execution_count": 117,
   "id": "9ec69527",
   "metadata": {},
   "outputs": [
    {
     "data": {
      "text/plain": [
       "(False, False, False)"
      ]
     },
     "execution_count": 117,
     "metadata": {},
     "output_type": "execute_result"
    }
   ],
   "source": [
    "None == True, 0 == True, 10 == True"
   ]
  },
  {
   "cell_type": "code",
   "execution_count": 118,
   "id": "e0cff7bc",
   "metadata": {},
   "outputs": [
    {
     "name": "stdout",
     "output_type": "stream",
     "text": [
      "It's no thing\n"
     ]
    }
   ],
   "source": [
    "thing = None\n",
    "if thing:\n",
    "    print(\"It's some thing\")\n",
    "else:\n",
    "    print(\"It's no thing\")"
   ]
  },
  {
   "cell_type": "code",
   "execution_count": 120,
   "id": "237c0c3a",
   "metadata": {},
   "outputs": [],
   "source": [
    "def whatis(thing):\n",
    "    if thing:\n",
    "        print(\"It's some thing\")\n",
    "    else:\n",
    "        print(\"It's no thing\")"
   ]
  },
  {
   "cell_type": "code",
   "execution_count": 121,
   "id": "db5a482b",
   "metadata": {},
   "outputs": [
    {
     "name": "stdout",
     "output_type": "stream",
     "text": [
      "It's no thing\n",
      "It's some thing\n",
      "It's some thing\n",
      "It's no thing\n"
     ]
    },
    {
     "data": {
      "text/plain": [
       "(None, None, None, None)"
      ]
     },
     "execution_count": 121,
     "metadata": {},
     "output_type": "execute_result"
    }
   ],
   "source": [
    "whatis(thing), whatis(True), whatis(100), whatis([])"
   ]
  },
  {
   "cell_type": "code",
   "execution_count": 143,
   "id": "78fde95f",
   "metadata": {},
   "outputs": [],
   "source": [
    "def buggy(arg, result = []):   # collection data만들때 버그주의\n",
    "    result.append(arg)\n",
    "    print(result)"
   ]
  },
  {
   "cell_type": "code",
   "execution_count": 144,
   "id": "9ab87dbe",
   "metadata": {},
   "outputs": [
    {
     "name": "stdout",
     "output_type": "stream",
     "text": [
      "['a']\n"
     ]
    }
   ],
   "source": [
    "buggy('a')"
   ]
  },
  {
   "cell_type": "code",
   "execution_count": 145,
   "id": "7629387a",
   "metadata": {},
   "outputs": [
    {
     "name": "stdout",
     "output_type": "stream",
     "text": [
      "['a', 'b']\n"
     ]
    }
   ],
   "source": [
    "buggy('b') # 이전 호출이 남아있는 리스트에 추가됨"
   ]
  },
  {
   "cell_type": "code",
   "execution_count": 146,
   "id": "63861b08",
   "metadata": {},
   "outputs": [],
   "source": [
    "def work(arg):\n",
    "    result =[]\n",
    "    result.append(arg)\n",
    "    print(result)"
   ]
  },
  {
   "cell_type": "code",
   "execution_count": 147,
   "id": "12fa5036",
   "metadata": {},
   "outputs": [
    {
     "name": "stdout",
     "output_type": "stream",
     "text": [
      "['a']\n",
      "['b']\n"
     ]
    }
   ],
   "source": [
    "work('a')\n",
    "work('b')"
   ]
  },
  {
   "cell_type": "code",
   "execution_count": 149,
   "id": "267d2a18",
   "metadata": {},
   "outputs": [],
   "source": [
    "def nobuggy(arg, result = None):\n",
    "    if result is None:\n",
    "        result =[]\n",
    "    result.append(arg)\n",
    "    print(result)"
   ]
  },
  {
   "cell_type": "code",
   "execution_count": 150,
   "id": "29d1bf65",
   "metadata": {},
   "outputs": [
    {
     "name": "stdout",
     "output_type": "stream",
     "text": [
      "['a']\n"
     ]
    }
   ],
   "source": [
    "nobuggy('a')"
   ]
  },
  {
   "cell_type": "code",
   "execution_count": 151,
   "id": "1d1ca008",
   "metadata": {},
   "outputs": [
    {
     "name": "stdout",
     "output_type": "stream",
     "text": [
      "['b']\n"
     ]
    }
   ],
   "source": [
    "nobuggy('b')"
   ]
  },
  {
   "cell_type": "code",
   "execution_count": 152,
   "id": "937021a4",
   "metadata": {},
   "outputs": [],
   "source": [
    "listresult = ['a','b']"
   ]
  },
  {
   "cell_type": "code",
   "execution_count": 154,
   "id": "1a3060aa",
   "metadata": {},
   "outputs": [
    {
     "name": "stdout",
     "output_type": "stream",
     "text": [
      "['a', 'b', 'a', 'd']\n"
     ]
    }
   ],
   "source": [
    "nobuggy('d', listresult)"
   ]
  },
  {
   "cell_type": "markdown",
   "id": "1b3966c9",
   "metadata": {},
   "source": [
    "변수 이름 앞에 *붙이면 여러개있다는 뜻"
   ]
  },
  {
   "cell_type": "code",
   "execution_count": 155,
   "id": "5317bd66",
   "metadata": {},
   "outputs": [],
   "source": [
    "def print_args(*parameters):\n",
    "    print('위치 튜플: ', parameters)  # 리턴값은 튜플"
   ]
  },
  {
   "cell_type": "code",
   "execution_count": 156,
   "id": "76dfe4f2",
   "metadata": {},
   "outputs": [
    {
     "name": "stdout",
     "output_type": "stream",
     "text": [
      "위치 튜플:  (1, 2, 'adbd')\n"
     ]
    }
   ],
   "source": [
    "print_args(1,2, 'adbd')"
   ]
  },
  {
   "cell_type": "code",
   "execution_count": 157,
   "id": "1dfae47a",
   "metadata": {},
   "outputs": [],
   "source": [
    "def print_arg2(**parameters):    # ** 두개 쓰면 키,밸류 데이터 값으로 저장\n",
    "    print('keyword arguments : ', parameters)"
   ]
  },
  {
   "cell_type": "code",
   "execution_count": 158,
   "id": "1979ca72",
   "metadata": {},
   "outputs": [
    {
     "name": "stdout",
     "output_type": "stream",
     "text": [
      "keyword arguments :  {'name': 'kim', 'phone': '1234', 'addr': 'dong'}\n"
     ]
    }
   ],
   "source": [
    "print_arg2(name='kim', phone='1234', addr='dong')"
   ]
  },
  {
   "cell_type": "markdown",
   "id": "f381ae5c",
   "metadata": {},
   "source": [
    "# 9.4 독스트링"
   ]
  },
  {
   "cell_type": "markdown",
   "id": "2d5d1899",
   "metadata": {},
   "source": [
    "__ : 언더바 두개 (던더)"
   ]
  },
  {
   "cell_type": "code",
   "execution_count": 160,
   "id": "40f69a4f",
   "metadata": {},
   "outputs": [],
   "source": [
    "def echo(anything):\n",
    "    '에코는 입력값을 리턴값으로 보낸다.'   # 원래는 저장값이 없으므로 리터럴임\n",
    "    return anything"
   ]
  },
  {
   "cell_type": "code",
   "execution_count": 161,
   "id": "11c8dafa",
   "metadata": {},
   "outputs": [
    {
     "name": "stdout",
     "output_type": "stream",
     "text": [
      "Help on function echo in module __main__:\n",
      "\n",
      "echo(anything)\n",
      "    에코는 입력값을 리턴값으로 보낸다.\n",
      "\n"
     ]
    }
   ],
   "source": [
    "help(echo)  # 함수정보 불러오는법"
   ]
  },
  {
   "cell_type": "code",
   "execution_count": 162,
   "id": "375526f5",
   "metadata": {},
   "outputs": [
    {
     "data": {
      "text/plain": [
       "'에코는 입력값을 리턴값으로 보낸다.'"
      ]
     },
     "execution_count": 162,
     "metadata": {},
     "output_type": "execute_result"
    }
   ],
   "source": [
    "echo.__doc__"
   ]
  },
  {
   "cell_type": "code",
   "execution_count": 163,
   "id": "293cc30c",
   "metadata": {},
   "outputs": [
    {
     "data": {
      "text/plain": [
       "\"Return the sum of a 'start' value (default: 0) plus an iterable of numbers\\n\\nWhen the iterable is empty, return the start value.\\nThis function is intended specifically for use with numeric values and may\\nreject non-numeric types.\""
      ]
     },
     "execution_count": 163,
     "metadata": {},
     "output_type": "execute_result"
    }
   ],
   "source": [
    "sum.__doc__"
   ]
  },
  {
   "cell_type": "raw",
   "id": "626b0896",
   "metadata": {},
   "source": [
    "print(echo.__doc__)"
   ]
  },
  {
   "cell_type": "code",
   "execution_count": 167,
   "id": "e0ec2ce8",
   "metadata": {},
   "outputs": [
    {
     "data": {
      "text/plain": [
       "function"
      ]
     },
     "execution_count": 167,
     "metadata": {},
     "output_type": "execute_result"
    }
   ],
   "source": [
    "type(echo)"
   ]
  },
  {
   "cell_type": "code",
   "execution_count": 168,
   "id": "8b884e5e",
   "metadata": {},
   "outputs": [
    {
     "data": {
      "text/plain": [
       "'Equivalent to base**exp with 2 arguments or base**exp % mod with 3 arguments\\n\\nSome types, such as ints, are able to use a more efficient algorithm when\\ninvoked using the three argument form.'"
      ]
     },
     "execution_count": 168,
     "metadata": {},
     "output_type": "execute_result"
    }
   ],
   "source": [
    "pow.__doc__"
   ]
  },
  {
   "cell_type": "code",
   "execution_count": null,
   "id": "743c4e5a",
   "metadata": {},
   "outputs": [],
   "source": [
    "# add(x,y) = x+y"
   ]
  },
  {
   "cell_type": "code",
   "execution_count": 179,
   "id": "54735e85",
   "metadata": {},
   "outputs": [],
   "source": [
    "def enliven(word):\n",
    "    return word.capitalize() + '!'  # 첫번째문자 대문자로 바꾸고 ! 붙이기"
   ]
  },
  {
   "cell_type": "code",
   "execution_count": 172,
   "id": "116b3491",
   "metadata": {},
   "outputs": [],
   "source": [
    "def edit_story(words, func):     # func은 함수임, 함수func에 함수func()를 넣는 함수(edit_story)를 만든거임\n",
    "    for word in words:\n",
    "        print(func(word)) "
   ]
  },
  {
   "cell_type": "code",
   "execution_count": 170,
   "id": "d2a7a680",
   "metadata": {},
   "outputs": [
    {
     "data": {
      "text/plain": [
       "<function len(obj, /)>"
      ]
     },
     "execution_count": 170,
     "metadata": {},
     "output_type": "execute_result"
    }
   ],
   "source": [
    "len"
   ]
  },
  {
   "cell_type": "code",
   "execution_count": 171,
   "id": "8c0041af",
   "metadata": {},
   "outputs": [
    {
     "data": {
      "text/plain": [
       "'Return the number of items in a container.'"
      ]
     },
     "execution_count": 171,
     "metadata": {},
     "output_type": "execute_result"
    }
   ],
   "source": [
    "len.__doc__  # 컨테이너안의 아이템개수 리턴"
   ]
  },
  {
   "cell_type": "code",
   "execution_count": null,
   "id": "737e62ab",
   "metadata": {},
   "outputs": [],
   "source": [
    "mylen = len  # 함수가 저장된 껍데기(메모리)"
   ]
  },
  {
   "cell_type": "code",
   "execution_count": null,
   "id": "250abc7c",
   "metadata": {},
   "outputs": [],
   "source": [
    "mylen('abc')"
   ]
  },
  {
   "cell_type": "code",
   "execution_count": 177,
   "id": "4d0b4f4a",
   "metadata": {},
   "outputs": [],
   "source": [
    "stairs = ['thuds', 'meow', 'thud', 'hiss']"
   ]
  },
  {
   "cell_type": "code",
   "execution_count": 180,
   "id": "d4c53676",
   "metadata": {},
   "outputs": [
    {
     "name": "stdout",
     "output_type": "stream",
     "text": [
      "Thuds!\n",
      "Meow!\n",
      "Thud!\n",
      "Hiss!\n"
     ]
    }
   ],
   "source": [
    "edit_story(stairs, enliven)"
   ]
  },
  {
   "cell_type": "code",
   "execution_count": 178,
   "id": "075b5e31",
   "metadata": {},
   "outputs": [
    {
     "name": "stdout",
     "output_type": "stream",
     "text": [
      "5\n",
      "4\n",
      "4\n",
      "4\n"
     ]
    }
   ],
   "source": [
    "edit_story(stairs, len)"
   ]
  },
  {
   "cell_type": "markdown",
   "id": "0b5984bf",
   "metadata": {},
   "source": [
    "# 9.7 lambda : 익명함수 \n",
    "잠시쓰는 임시함수 느낌"
   ]
  },
  {
   "cell_type": "code",
   "execution_count": 181,
   "id": "0db43a11",
   "metadata": {},
   "outputs": [
    {
     "name": "stdout",
     "output_type": "stream",
     "text": [
      "thuds!!!\n",
      "meow!!!\n",
      "thud!!!\n",
      "hiss!!!\n"
     ]
    }
   ],
   "source": [
    "edit_story(stairs, lambda x:x.lower()+'!!!')  # lambda x:x.lower()+'!!!' 함수 만들어 직접 집어넣음"
   ]
  },
  {
   "cell_type": "code",
   "execution_count": 182,
   "id": "75433ff3",
   "metadata": {},
   "outputs": [
    {
     "data": {
      "text/plain": [
       "11"
      ]
     },
     "execution_count": 182,
     "metadata": {},
     "output_type": "execute_result"
    }
   ],
   "source": [
    "(lambda x:x+1)(10)"
   ]
  },
  {
   "cell_type": "code",
   "execution_count": 183,
   "id": "26d67d9f",
   "metadata": {},
   "outputs": [
    {
     "data": {
      "text/plain": [
       "<function __main__.<lambda>(x)>"
      ]
     },
     "execution_count": 183,
     "metadata": {},
     "output_type": "execute_result"
    }
   ],
   "source": [
    "lambda x:x+1"
   ]
  },
  {
   "cell_type": "code",
   "execution_count": 184,
   "id": "9bcb7634",
   "metadata": {},
   "outputs": [
    {
     "data": {
      "text/plain": [
       "13"
      ]
     },
     "execution_count": 184,
     "metadata": {},
     "output_type": "execute_result"
    }
   ],
   "source": [
    "_(12)  # 함수명 안적고 _만 적어도 바로전 호출한 람다를 부를 수있음"
   ]
  },
  {
   "cell_type": "code",
   "execution_count": 185,
   "id": "098de9cd",
   "metadata": {},
   "outputs": [
    {
     "data": {
      "text/plain": [
       "<function __main__.<lambda>(x, y)>"
      ]
     },
     "execution_count": 185,
     "metadata": {},
     "output_type": "execute_result"
    }
   ],
   "source": [
    "lambda x,y : 2*x+3*y"
   ]
  },
  {
   "cell_type": "code",
   "execution_count": 186,
   "id": "82cc0d17",
   "metadata": {},
   "outputs": [],
   "source": [
    "mysum = sum"
   ]
  },
  {
   "cell_type": "code",
   "execution_count": 187,
   "id": "7eb592cf",
   "metadata": {},
   "outputs": [
    {
     "data": {
      "text/plain": [
       "5050"
      ]
     },
     "execution_count": 187,
     "metadata": {},
     "output_type": "execute_result"
    }
   ],
   "source": [
    "mysum(range(1,101))"
   ]
  },
  {
   "cell_type": "code",
   "execution_count": 191,
   "id": "4fd66cd7",
   "metadata": {},
   "outputs": [
    {
     "data": {
      "text/plain": [
       "'map(func, *iterables) --> map object\\n\\nMake an iterator that computes the function using arguments from\\neach of the iterables.  Stops when the shortest iterable is exhausted.'"
      ]
     },
     "execution_count": 191,
     "metadata": {},
     "output_type": "execute_result"
    }
   ],
   "source": [
    "map.__doc__"
   ]
  },
  {
   "cell_type": "code",
   "execution_count": 192,
   "id": "545ef57c",
   "metadata": {},
   "outputs": [
    {
     "name": "stdout",
     "output_type": "stream",
     "text": [
      "[1, 2, 3, 4, 5, 6, 7, 8, 9, 10, 11, 12, 13, 14, 15, 16, 17, 18, 19, 20, 21, 22, 23, 24, 25, 26, 27, 28, 29, 30, 31, 32, 33, 34, 35, 36, 37, 38, 39, 40, 41, 42, 43, 44, 45, 46, 47, 48, 49, 50, 51, 52, 53, 54, 55, 56, 57, 58, 59, 60, 61, 62, 63, 64, 65, 66, 67, 68, 69, 70, 71, 72, 73, 74, 75, 76, 77, 78, 79, 80, 81, 82, 83, 84, 85, 86, 87, 88, 89, 90, 91, 92, 93, 94, 95, 96, 97, 98, 99, 100]\n"
     ]
    }
   ],
   "source": [
    "print(list(range(1,101)))  # 1~100"
   ]
  },
  {
   "cell_type": "code",
   "execution_count": 193,
   "id": "10362b7a",
   "metadata": {},
   "outputs": [
    {
     "name": "stdout",
     "output_type": "stream",
     "text": [
      "[1, 4, 9, 16, 25, 36, 49, 64, 81, 100, 121, 144, 169, 196, 225, 256, 289, 324, 361, 400, 441, 484, 529, 576, 625, 676, 729, 784, 841, 900, 961, 1024, 1089, 1156, 1225, 1296, 1369, 1444, 1521, 1600, 1681, 1764, 1849, 1936, 2025, 2116, 2209, 2304, 2401, 2500, 2601, 2704, 2809, 2916, 3025, 3136, 3249, 3364, 3481, 3600, 3721, 3844, 3969, 4096, 4225, 4356, 4489, 4624, 4761, 4900, 5041, 5184, 5329, 5476, 5625, 5776, 5929, 6084, 6241, 6400, 6561, 6724, 6889, 7056, 7225, 7396, 7569, 7744, 7921, 8100, 8281, 8464, 8649, 8836, 9025, 9216, 9409, 9604, 9801, 10000]\n"
     ]
    }
   ],
   "source": [
    "print(list(map(lambda x: pow(x,2),range(1,101))))"
   ]
  },
  {
   "cell_type": "code",
   "execution_count": 194,
   "id": "6e1f7476",
   "metadata": {},
   "outputs": [],
   "source": [
    "import seaborn as sns\n",
    "import pandas as pd"
   ]
  },
  {
   "cell_type": "code",
   "execution_count": 195,
   "id": "7df509a3",
   "metadata": {},
   "outputs": [],
   "source": [
    "iris = sns.load_dataset('iris')"
   ]
  },
  {
   "cell_type": "code",
   "execution_count": 196,
   "id": "6d45250a",
   "metadata": {},
   "outputs": [
    {
     "data": {
      "text/html": [
       "<div>\n",
       "<style scoped>\n",
       "    .dataframe tbody tr th:only-of-type {\n",
       "        vertical-align: middle;\n",
       "    }\n",
       "\n",
       "    .dataframe tbody tr th {\n",
       "        vertical-align: top;\n",
       "    }\n",
       "\n",
       "    .dataframe thead th {\n",
       "        text-align: right;\n",
       "    }\n",
       "</style>\n",
       "<table border=\"1\" class=\"dataframe\">\n",
       "  <thead>\n",
       "    <tr style=\"text-align: right;\">\n",
       "      <th></th>\n",
       "      <th>sepal_length</th>\n",
       "      <th>sepal_width</th>\n",
       "      <th>petal_length</th>\n",
       "      <th>petal_width</th>\n",
       "      <th>species</th>\n",
       "    </tr>\n",
       "  </thead>\n",
       "  <tbody>\n",
       "    <tr>\n",
       "      <th>0</th>\n",
       "      <td>5.1</td>\n",
       "      <td>3.5</td>\n",
       "      <td>1.4</td>\n",
       "      <td>0.2</td>\n",
       "      <td>setosa</td>\n",
       "    </tr>\n",
       "    <tr>\n",
       "      <th>1</th>\n",
       "      <td>4.9</td>\n",
       "      <td>3.0</td>\n",
       "      <td>1.4</td>\n",
       "      <td>0.2</td>\n",
       "      <td>setosa</td>\n",
       "    </tr>\n",
       "    <tr>\n",
       "      <th>2</th>\n",
       "      <td>4.7</td>\n",
       "      <td>3.2</td>\n",
       "      <td>1.3</td>\n",
       "      <td>0.2</td>\n",
       "      <td>setosa</td>\n",
       "    </tr>\n",
       "    <tr>\n",
       "      <th>3</th>\n",
       "      <td>4.6</td>\n",
       "      <td>3.1</td>\n",
       "      <td>1.5</td>\n",
       "      <td>0.2</td>\n",
       "      <td>setosa</td>\n",
       "    </tr>\n",
       "    <tr>\n",
       "      <th>4</th>\n",
       "      <td>5.0</td>\n",
       "      <td>3.6</td>\n",
       "      <td>1.4</td>\n",
       "      <td>0.2</td>\n",
       "      <td>setosa</td>\n",
       "    </tr>\n",
       "    <tr>\n",
       "      <th>...</th>\n",
       "      <td>...</td>\n",
       "      <td>...</td>\n",
       "      <td>...</td>\n",
       "      <td>...</td>\n",
       "      <td>...</td>\n",
       "    </tr>\n",
       "    <tr>\n",
       "      <th>145</th>\n",
       "      <td>6.7</td>\n",
       "      <td>3.0</td>\n",
       "      <td>5.2</td>\n",
       "      <td>2.3</td>\n",
       "      <td>virginica</td>\n",
       "    </tr>\n",
       "    <tr>\n",
       "      <th>146</th>\n",
       "      <td>6.3</td>\n",
       "      <td>2.5</td>\n",
       "      <td>5.0</td>\n",
       "      <td>1.9</td>\n",
       "      <td>virginica</td>\n",
       "    </tr>\n",
       "    <tr>\n",
       "      <th>147</th>\n",
       "      <td>6.5</td>\n",
       "      <td>3.0</td>\n",
       "      <td>5.2</td>\n",
       "      <td>2.0</td>\n",
       "      <td>virginica</td>\n",
       "    </tr>\n",
       "    <tr>\n",
       "      <th>148</th>\n",
       "      <td>6.2</td>\n",
       "      <td>3.4</td>\n",
       "      <td>5.4</td>\n",
       "      <td>2.3</td>\n",
       "      <td>virginica</td>\n",
       "    </tr>\n",
       "    <tr>\n",
       "      <th>149</th>\n",
       "      <td>5.9</td>\n",
       "      <td>3.0</td>\n",
       "      <td>5.1</td>\n",
       "      <td>1.8</td>\n",
       "      <td>virginica</td>\n",
       "    </tr>\n",
       "  </tbody>\n",
       "</table>\n",
       "<p>150 rows × 5 columns</p>\n",
       "</div>"
      ],
      "text/plain": [
       "     sepal_length  sepal_width  petal_length  petal_width    species\n",
       "0             5.1          3.5           1.4          0.2     setosa\n",
       "1             4.9          3.0           1.4          0.2     setosa\n",
       "2             4.7          3.2           1.3          0.2     setosa\n",
       "3             4.6          3.1           1.5          0.2     setosa\n",
       "4             5.0          3.6           1.4          0.2     setosa\n",
       "..            ...          ...           ...          ...        ...\n",
       "145           6.7          3.0           5.2          2.3  virginica\n",
       "146           6.3          2.5           5.0          1.9  virginica\n",
       "147           6.5          3.0           5.2          2.0  virginica\n",
       "148           6.2          3.4           5.4          2.3  virginica\n",
       "149           5.9          3.0           5.1          1.8  virginica\n",
       "\n",
       "[150 rows x 5 columns]"
      ]
     },
     "execution_count": 196,
     "metadata": {},
     "output_type": "execute_result"
    }
   ],
   "source": [
    "iris"
   ]
  },
  {
   "cell_type": "code",
   "execution_count": 197,
   "id": "dfccf867",
   "metadata": {},
   "outputs": [
    {
     "data": {
      "text/plain": [
       "Index(['sepal_length', 'sepal_width', 'petal_length', 'petal_width',\n",
       "       'species'],\n",
       "      dtype='object')"
      ]
     },
     "execution_count": 197,
     "metadata": {},
     "output_type": "execute_result"
    }
   ],
   "source": [
    "iris.columns # columns 확인"
   ]
  },
  {
   "cell_type": "code",
   "execution_count": 199,
   "id": "6b5e67b7",
   "metadata": {},
   "outputs": [],
   "source": [
    "data_iris = iris[['sepal_length', 'sepal_width']] #'sepal_length', 'sepal_width' 뜯어옴"
   ]
  },
  {
   "cell_type": "code",
   "execution_count": 201,
   "id": "cd144f7a",
   "metadata": {},
   "outputs": [
    {
     "data": {
      "text/html": [
       "<div>\n",
       "<style scoped>\n",
       "    .dataframe tbody tr th:only-of-type {\n",
       "        vertical-align: middle;\n",
       "    }\n",
       "\n",
       "    .dataframe tbody tr th {\n",
       "        vertical-align: top;\n",
       "    }\n",
       "\n",
       "    .dataframe thead th {\n",
       "        text-align: right;\n",
       "    }\n",
       "</style>\n",
       "<table border=\"1\" class=\"dataframe\">\n",
       "  <thead>\n",
       "    <tr style=\"text-align: right;\">\n",
       "      <th></th>\n",
       "      <th>sepal_length</th>\n",
       "      <th>sepal_width</th>\n",
       "    </tr>\n",
       "  </thead>\n",
       "  <tbody>\n",
       "    <tr>\n",
       "      <th>0</th>\n",
       "      <td>26.01</td>\n",
       "      <td>12.25</td>\n",
       "    </tr>\n",
       "    <tr>\n",
       "      <th>1</th>\n",
       "      <td>24.01</td>\n",
       "      <td>9.00</td>\n",
       "    </tr>\n",
       "    <tr>\n",
       "      <th>2</th>\n",
       "      <td>22.09</td>\n",
       "      <td>10.24</td>\n",
       "    </tr>\n",
       "    <tr>\n",
       "      <th>3</th>\n",
       "      <td>21.16</td>\n",
       "      <td>9.61</td>\n",
       "    </tr>\n",
       "    <tr>\n",
       "      <th>4</th>\n",
       "      <td>25.00</td>\n",
       "      <td>12.96</td>\n",
       "    </tr>\n",
       "  </tbody>\n",
       "</table>\n",
       "</div>"
      ],
      "text/plain": [
       "   sepal_length  sepal_width\n",
       "0         26.01        12.25\n",
       "1         24.01         9.00\n",
       "2         22.09        10.24\n",
       "3         21.16         9.61\n",
       "4         25.00        12.96"
      ]
     },
     "execution_count": 201,
     "metadata": {},
     "output_type": "execute_result"
    }
   ],
   "source": [
    "data_iris.applymap(lambda x: pow(x,2)).head()"
   ]
  },
  {
   "cell_type": "code",
   "execution_count": 202,
   "id": "e29fa6ea",
   "metadata": {},
   "outputs": [
    {
     "data": {
      "text/plain": [
       "0      3.5\n",
       "1      3.0\n",
       "2      3.2\n",
       "3      3.1\n",
       "4      3.6\n",
       "      ... \n",
       "145    3.0\n",
       "146    2.5\n",
       "147    3.0\n",
       "148    3.4\n",
       "149    3.0\n",
       "Name: sepal_width, Length: 150, dtype: float64"
      ]
     },
     "execution_count": 202,
     "metadata": {},
     "output_type": "execute_result"
    }
   ],
   "source": [
    "iris.sepal_width  # 한줄만 뜯음"
   ]
  },
  {
   "cell_type": "code",
   "execution_count": 205,
   "id": "b0a6a104",
   "metadata": {},
   "outputs": [
    {
     "data": {
      "text/plain": [
       "0    103.5\n",
       "1    103.0\n",
       "2    103.2\n",
       "Name: sepal_width, dtype: float64"
      ]
     },
     "execution_count": 205,
     "metadata": {},
     "output_type": "execute_result"
    }
   ],
   "source": [
    "iris.sepal_width.map(lambda y: y+100). head(3)"
   ]
  },
  {
   "cell_type": "code",
   "execution_count": 206,
   "id": "3c4c9a52",
   "metadata": {},
   "outputs": [],
   "source": [
    "def make_level(x):\n",
    "    if x > 4.0 :\n",
    "        return 'high'\n",
    "    elif x > 3.0 :\n",
    "        return 'mid'\n",
    "    else :\n",
    "        return 'low'"
   ]
  },
  {
   "cell_type": "code",
   "execution_count": 207,
   "id": "b30031f9",
   "metadata": {},
   "outputs": [
    {
     "data": {
      "text/plain": [
       "0      mid\n",
       "1      low\n",
       "2      mid\n",
       "3      mid\n",
       "4      mid\n",
       "      ... \n",
       "145    low\n",
       "146    low\n",
       "147    low\n",
       "148    mid\n",
       "149    low\n",
       "Name: sepal_width, Length: 150, dtype: object"
      ]
     },
     "execution_count": 207,
     "metadata": {},
     "output_type": "execute_result"
    }
   ],
   "source": [
    "iris.sepal_width.map(make_level)"
   ]
  },
  {
   "cell_type": "markdown",
   "id": "d1b01c0b",
   "metadata": {},
   "source": [
    "# 9.8 제너레이터 함수 (generator function)\n",
    "시퀀스 sequence, 순서 iterator"
   ]
  },
  {
   "cell_type": "code",
   "execution_count": null,
   "id": "db0ac9f7",
   "metadata": {},
   "outputs": [],
   "source": [
    "# range()"
   ]
  },
  {
   "cell_type": "code",
   "execution_count": null,
   "id": "d30e4cea",
   "metadata": {},
   "outputs": [],
   "source": [
    "print(list(range(0,10,1)))"
   ]
  },
  {
   "cell_type": "code",
   "execution_count": 210,
   "id": "63c13408",
   "metadata": {},
   "outputs": [],
   "source": [
    "def  my_range(first=0, last=10, step=1): \n",
    "    number = first\n",
    "    while number < last:  # 10은 빼고, 10 전까지\n",
    "        yield number # 종료하지않고 쌓음\n",
    "        number += step\n",
    "    "
   ]
  },
  {
   "cell_type": "code",
   "execution_count": 211,
   "id": "f254fd32",
   "metadata": {},
   "outputs": [
    {
     "data": {
      "text/plain": [
       "<generator object my_range at 0x000001674CCBB9E0>"
      ]
     },
     "execution_count": 211,
     "metadata": {},
     "output_type": "execute_result"
    }
   ],
   "source": [
    "my_range()"
   ]
  },
  {
   "cell_type": "code",
   "execution_count": 212,
   "id": "ec1f3c80",
   "metadata": {},
   "outputs": [
    {
     "data": {
      "text/plain": [
       "[0, 1, 2, 3, 4, 5, 6, 7, 8, 9]"
      ]
     },
     "execution_count": 212,
     "metadata": {},
     "output_type": "execute_result"
    }
   ],
   "source": [
    "list(my_range())"
   ]
  },
  {
   "cell_type": "code",
   "execution_count": null,
   "id": "de89eb57",
   "metadata": {},
   "outputs": [],
   "source": []
  },
  {
   "cell_type": "code",
   "execution_count": null,
   "id": "4c3de255",
   "metadata": {},
   "outputs": [],
   "source": []
  }
 ],
 "metadata": {
  "kernelspec": {
   "display_name": "Python 3",
   "language": "python",
   "name": "python3"
  },
  "language_info": {
   "codemirror_mode": {
    "name": "ipython",
    "version": 3
   },
   "file_extension": ".py",
   "mimetype": "text/x-python",
   "name": "python",
   "nbconvert_exporter": "python",
   "pygments_lexer": "ipython3",
   "version": "3.8.8"
  }
 },
 "nbformat": 4,
 "nbformat_minor": 5
}
