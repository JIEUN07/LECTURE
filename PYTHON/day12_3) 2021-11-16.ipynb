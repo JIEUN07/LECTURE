{
 "cells": [
  {
   "cell_type": "markdown",
   "id": "1c2f8ff9",
   "metadata": {},
   "source": [
    "# 평균변화율"
   ]
  },
  {
   "cell_type": "code",
   "execution_count": 10,
   "id": "4edac849",
   "metadata": {},
   "outputs": [],
   "source": [
    "import numpy\n",
    "from sympy import Symbol, solve"
   ]
  },
  {
   "cell_type": "code",
   "execution_count": 11,
   "id": "af5aa4af",
   "metadata": {},
   "outputs": [],
   "source": [
    "def average(a,b):\n",
    "    m = max(a,b)\n",
    "    n = min(a,b)\n",
    "    x = Symbol('x')\n",
    "    \n",
    "    fx = 2*x**2+ 4*x+7\n",
    "    fb = fx.subs(x,m)\n",
    "    fa = fx.subs(x,n)\n",
    "    \n",
    "    result = (fb-fa)/(m-n)\n",
    "    return result\n",
    "\n",
    "x1 = 0\n",
    "x2 = 2"
   ]
  },
  {
   "cell_type": "code",
   "execution_count": 12,
   "id": "fc6a460e",
   "metadata": {},
   "outputs": [
    {
     "name": "stdout",
     "output_type": "stream",
     "text": [
      "8\n"
     ]
    }
   ],
   "source": [
    "# 두점 (0,7)와 (2,23)의 평균변화률은?\n",
    "print(average(x1,x2))"
   ]
  },
  {
   "cell_type": "markdown",
   "id": "75ed2afb",
   "metadata": {},
   "source": [
    "# 순간변화율"
   ]
  },
  {
   "cell_type": "code",
   "execution_count": 13,
   "id": "b5674514",
   "metadata": {},
   "outputs": [],
   "source": [
    "from sympy import Derivative, Symbol, diff"
   ]
  },
  {
   "cell_type": "markdown",
   "id": "c09034fe",
   "metadata": {},
   "source": [
    "### Derivative() 를 이용한 도함수와 미분계수 구하기 \n",
    "$ 2 \\times x^2 + 4 \\times x + 7  $"
   ]
  },
  {
   "cell_type": "markdown",
   "id": "16a667dd",
   "metadata": {},
   "source": [
    "$ 2 \\times x^2 + 4 \\times x + 7  $"
   ]
  },
  {
   "cell_type": "markdown",
   "id": "de3dc4c0",
   "metadata": {},
   "source": [
    "## 도함수 \n",
    "- f(x)를 미분하여 얻은 함수\n",
    "- sympy.Derivative(함수식, x).doit()\n",
    "- sympy.diff(함수식, x)"
   ]
  },
  {
   "cell_type": "code",
   "execution_count": 29,
   "id": "56942390",
   "metadata": {},
   "outputs": [
    {
     "data": {
      "text/latex": [
       "$\\displaystyle 2 x^{2} + 4 x + 7$"
      ],
      "text/plain": [
       "2*x**2 + 4*x + 7"
      ]
     },
     "execution_count": 29,
     "metadata": {},
     "output_type": "execute_result"
    }
   ],
   "source": [
    "x = Symbol('x')\n",
    "fx = 2*x**2 +4*x +7\n",
    "fx"
   ]
  },
  {
   "cell_type": "code",
   "execution_count": 30,
   "id": "316076fb",
   "metadata": {},
   "outputs": [
    {
     "data": {
      "text/latex": [
       "$\\displaystyle 4 x + 4$"
      ],
      "text/plain": [
       "4*x + 4"
      ]
     },
     "execution_count": 30,
     "metadata": {},
     "output_type": "execute_result"
    }
   ],
   "source": [
    "fprime = Derivative(fx, x).doit()  # x에 대해 미분\n",
    "fprime"
   ]
  },
  {
   "cell_type": "code",
   "execution_count": 31,
   "id": "283d6e3e",
   "metadata": {},
   "outputs": [
    {
     "data": {
      "text/latex": [
       "$\\displaystyle 16$"
      ],
      "text/plain": [
       "16"
      ]
     },
     "execution_count": 31,
     "metadata": {},
     "output_type": "execute_result"
    }
   ],
   "source": [
    "# 도함수 적용 => 미분계수\n",
    "n = fprime.subs({x:3})\n",
    "n"
   ]
  },
  {
   "cell_type": "code",
   "execution_count": 24,
   "id": "f722b502",
   "metadata": {},
   "outputs": [
    {
     "name": "stdout",
     "output_type": "stream",
     "text": [
      "2*x**2 + 4*x + 7\n",
      "4*x + 4\n",
      "fx에서 x=3에서의 순간변화율(미분계수)는  16 입니다\n"
     ]
    }
   ],
   "source": [
    "print(fx)\n",
    "print(fprime)\n",
    "print(\"fx에서 x=3일때의 순간변화율(미분계수)는 \", n , \"입니다\")"
   ]
  },
  {
   "cell_type": "markdown",
   "id": "b1d51915",
   "metadata": {},
   "source": [
    "### diff 를 이용한 도함수와 미분계수 구하기 \n",
    "\n",
    "$ 2 \\times x^2 + 4 \\times x + 7  $"
   ]
  },
  {
   "cell_type": "code",
   "execution_count": 27,
   "id": "3916f1e3",
   "metadata": {},
   "outputs": [],
   "source": [
    "x = Symbol('x')\n",
    "fx = 2*x**2 +4*x +7"
   ]
  },
  {
   "cell_type": "code",
   "execution_count": 33,
   "id": "e1a29bf1",
   "metadata": {},
   "outputs": [
    {
     "data": {
      "text/latex": [
       "$\\displaystyle 4 x + 4$"
      ],
      "text/plain": [
       "4*x + 4"
      ]
     },
     "execution_count": 33,
     "metadata": {},
     "output_type": "execute_result"
    }
   ],
   "source": [
    "fprime2 = diff(fx, x)\n",
    "fprime2"
   ]
  },
  {
   "cell_type": "code",
   "execution_count": 34,
   "id": "69f102c4",
   "metadata": {},
   "outputs": [
    {
     "name": "stdout",
     "output_type": "stream",
     "text": [
      "fx에서 x=3일때의 순간변화율(미분계수)는  16 입니다\n"
     ]
    }
   ],
   "source": [
    "n = fprime2.subs({x:3})  # 도함수\n",
    "\n",
    "print(\"fx에서 x=3일때의 순간변화율(미분계수)는 \", n , \"입니다\")"
   ]
  },
  {
   "cell_type": "code",
   "execution_count": null,
   "id": "8439dfc0",
   "metadata": {},
   "outputs": [],
   "source": []
  },
  {
   "cell_type": "code",
   "execution_count": null,
   "id": "badb85b4",
   "metadata": {},
   "outputs": [],
   "source": []
  },
  {
   "cell_type": "code",
   "execution_count": null,
   "id": "92c10915",
   "metadata": {},
   "outputs": [],
   "source": []
  },
  {
   "cell_type": "code",
   "execution_count": null,
   "id": "18a9de76",
   "metadata": {},
   "outputs": [],
   "source": []
  },
  {
   "cell_type": "code",
   "execution_count": null,
   "id": "a4666fd4",
   "metadata": {},
   "outputs": [],
   "source": []
  },
  {
   "cell_type": "code",
   "execution_count": null,
   "id": "b1b5f177",
   "metadata": {},
   "outputs": [],
   "source": []
  }
 ],
 "metadata": {
  "kernelspec": {
   "display_name": "Python 3",
   "language": "python",
   "name": "python3"
  },
  "language_info": {
   "codemirror_mode": {
    "name": "ipython",
    "version": 3
   },
   "file_extension": ".py",
   "mimetype": "text/x-python",
   "name": "python",
   "nbconvert_exporter": "python",
   "pygments_lexer": "ipython3",
   "version": "3.8.8"
  }
 },
 "nbformat": 4,
 "nbformat_minor": 5
}
