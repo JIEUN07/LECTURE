{
 "cells": [
  {
   "cell_type": "markdown",
   "id": "05287cce",
   "metadata": {},
   "source": [
    "# 12.2 정규표현식"
   ]
  },
  {
   "cell_type": "markdown",
   "id": "bc33fe01",
   "metadata": {},
   "source": [
    "일치열 확인"
   ]
  },
  {
   "cell_type": "code",
   "execution_count": 5,
   "id": "9a3ecbed",
   "metadata": {},
   "outputs": [
    {
     "data": {
      "text/plain": [
       "'(I am keyboard mouse)'"
      ]
     },
     "execution_count": 5,
     "metadata": {},
     "output_type": "execute_result"
    }
   ],
   "source": [
    "\"(I am {0} {1})\".format('keyboard', 'mouse')"
   ]
  },
  {
   "cell_type": "code",
   "execution_count": 6,
   "id": "bb360c2d",
   "metadata": {},
   "outputs": [],
   "source": [
    "import re"
   ]
  },
  {
   "cell_type": "code",
   "execution_count": 13,
   "id": "65029d67",
   "metadata": {},
   "outputs": [],
   "source": [
    "p=re.compile('[a-z]+')"
   ]
  },
  {
   "cell_type": "code",
   "execution_count": 14,
   "id": "71fa16c8",
   "metadata": {},
   "outputs": [],
   "source": [
    "data = 'I am python 123'"
   ]
  },
  {
   "cell_type": "code",
   "execution_count": 15,
   "id": "1ed5a3cc",
   "metadata": {},
   "outputs": [
    {
     "data": {
      "text/plain": [
       "['am', 'python']"
      ]
     },
     "execution_count": 15,
     "metadata": {},
     "output_type": "execute_result"
    }
   ],
   "source": [
    "p.findall(data)"
   ]
  },
  {
   "cell_type": "code",
   "execution_count": 16,
   "id": "9d3dd532",
   "metadata": {},
   "outputs": [],
   "source": [
    "data = '''\n",
    "kim 801212-1222333\n",
    "lee 901101-2123123\n",
    "park 700302-1555777\n",
    "'''"
   ]
  },
  {
   "cell_type": "code",
   "execution_count": 17,
   "id": "ed4332a7",
   "metadata": {},
   "outputs": [],
   "source": [
    "p = re.compile('(\\d{6}[-]\\d{7})')   # 일치열 찾는 코드 검토하는 사이트 : https://regexr.com/"
   ]
  },
  {
   "cell_type": "code",
   "execution_count": 19,
   "id": "6f96d8e9",
   "metadata": {},
   "outputs": [
    {
     "data": {
      "text/plain": [
       "['801212-1222333', '901101-2123123', '700302-1555777']"
      ]
     },
     "execution_count": 19,
     "metadata": {},
     "output_type": "execute_result"
    }
   ],
   "source": [
    "p.findall(data)"
   ]
  },
  {
   "cell_type": "code",
   "execution_count": null,
   "id": "78a3157f",
   "metadata": {},
   "outputs": [],
   "source": []
  },
  {
   "cell_type": "code",
   "execution_count": null,
   "id": "ff62e6cb",
   "metadata": {},
   "outputs": [],
   "source": []
  }
 ],
 "metadata": {
  "kernelspec": {
   "display_name": "Python 3",
   "language": "python",
   "name": "python3"
  },
  "language_info": {
   "codemirror_mode": {
    "name": "ipython",
    "version": 3
   },
   "file_extension": ".py",
   "mimetype": "text/x-python",
   "name": "python",
   "nbconvert_exporter": "python",
   "pygments_lexer": "ipython3",
   "version": "3.8.8"
  }
 },
 "nbformat": 4,
 "nbformat_minor": 5
}
