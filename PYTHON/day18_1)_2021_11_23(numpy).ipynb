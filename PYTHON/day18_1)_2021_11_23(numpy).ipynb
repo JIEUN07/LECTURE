{
  "nbformat": 4,
  "nbformat_minor": 0,
  "metadata": {
    "colab": {
      "name": "day18_1) 2021-11-23(numpy).ipynb",
      "provenance": [],
      "collapsed_sections": []
    },
    "kernelspec": {
      "name": "python3",
      "display_name": "Python 3"
    },
    "language_info": {
      "name": "python"
    }
  },
  "cells": [
    {
      "cell_type": "code",
      "metadata": {
        "colab": {
          "base_uri": "https://localhost:8080/"
        },
        "id": "1FEMLQ16MEAd",
        "outputId": "902a8f01-204b-45aa-b5f9-b251de13ced5"
      },
      "source": [
        "pip install numpy"
      ],
      "execution_count": null,
      "outputs": [
        {
          "output_type": "stream",
          "name": "stdout",
          "text": [
            "Requirement already satisfied: numpy in /usr/local/lib/python3.7/dist-packages (1.19.5)\n"
          ]
        }
      ]
    },
    {
      "cell_type": "markdown",
      "metadata": {
        "id": "7EQnT1Vq3Zkb"
      },
      "source": [
        "# numpy 주의사항\n",
        "(매우 느려짐)\n",
        "- for문 \n",
        "- 행,열 추가"
      ]
    },
    {
      "cell_type": "code",
      "metadata": {
        "id": "U2rWWUU0MIj0"
      },
      "source": [
        "import numpy as np"
      ],
      "execution_count": null,
      "outputs": []
    },
    {
      "cell_type": "code",
      "metadata": {
        "colab": {
          "base_uri": "https://localhost:8080/"
        },
        "id": "wbysgK8mMLDI",
        "outputId": "a0ff456d-b75e-45ca-e39f-811e4eccd4c6"
      },
      "source": [
        "a = np.arange(12)\n",
        "print(a)"
      ],
      "execution_count": null,
      "outputs": [
        {
          "output_type": "stream",
          "name": "stdout",
          "text": [
            "[ 0  1  2  3  4  5  6  7  8  9 10 11]\n"
          ]
        }
      ]
    },
    {
      "cell_type": "code",
      "metadata": {
        "colab": {
          "base_uri": "https://localhost:8080/"
        },
        "id": "G9xCUNSmMUYN",
        "outputId": "8f3aa2eb-d1c3-4aa8-c704-05e7e0a7782a"
      },
      "source": [
        "print(a[11])"
      ],
      "execution_count": null,
      "outputs": [
        {
          "output_type": "stream",
          "name": "stdout",
          "text": [
            "11\n"
          ]
        }
      ]
    },
    {
      "cell_type": "code",
      "metadata": {
        "colab": {
          "base_uri": "https://localhost:8080/"
        },
        "id": "zS2ARYVmMWjj",
        "outputId": "d83df637-b76b-4eaa-d971-3ef7537901ec"
      },
      "source": [
        "# 마지막 원소 추출\n",
        "print(a[len(a)-1])\n",
        "\n",
        "print(a[-1])"
      ],
      "execution_count": null,
      "outputs": [
        {
          "output_type": "stream",
          "name": "stdout",
          "text": [
            "11\n",
            "11\n"
          ]
        }
      ]
    },
    {
      "cell_type": "code",
      "metadata": {
        "colab": {
          "base_uri": "https://localhost:8080/"
        },
        "id": "Jrun4yY9MqC5",
        "outputId": "cb4243c3-20ae-436d-afed-e6b2c648bf65"
      },
      "source": [
        "print(a[-2])"
      ],
      "execution_count": null,
      "outputs": [
        {
          "output_type": "stream",
          "name": "stdout",
          "text": [
            "10\n"
          ]
        }
      ]
    },
    {
      "cell_type": "code",
      "metadata": {
        "colab": {
          "base_uri": "https://localhost:8080/"
        },
        "id": "1Fm2BSOJMtsD",
        "outputId": "a5e4fc2e-36b3-4f43-e9ec-d23df5c92619"
      },
      "source": [
        "# 마지막 두 원소 추출\n",
        "print(a[10:])\n",
        "\n",
        "print(a[-2:])"
      ],
      "execution_count": null,
      "outputs": [
        {
          "output_type": "stream",
          "name": "stdout",
          "text": [
            "[10 11]\n",
            "[10 11]\n"
          ]
        }
      ]
    },
    {
      "cell_type": "code",
      "metadata": {
        "colab": {
          "base_uri": "https://localhost:8080/"
        },
        "id": "SkWnyCwWMz5u",
        "outputId": "24283ca7-6bf9-4519-e528-64dee042640f"
      },
      "source": [
        "# 마지막 두 원소의 합\n",
        "print(sum(a[-2:]))"
      ],
      "execution_count": null,
      "outputs": [
        {
          "output_type": "stream",
          "name": "stdout",
          "text": [
            "21\n"
          ]
        }
      ]
    },
    {
      "cell_type": "code",
      "metadata": {
        "colab": {
          "base_uri": "https://localhost:8080/"
        },
        "id": "AHFSMDroM6wl",
        "outputId": "ffd08a00-f390-43a8-e74b-9eddb2031c44"
      },
      "source": [
        "# 끝에서 4개 원소의 합\n",
        "a = np.arange(12)\n",
        "print(np.sum(a[-4:]))"
      ],
      "execution_count": null,
      "outputs": [
        {
          "output_type": "stream",
          "name": "stdout",
          "text": [
            "38\n"
          ]
        }
      ]
    },
    {
      "cell_type": "code",
      "metadata": {
        "colab": {
          "base_uri": "https://localhost:8080/"
        },
        "id": "P9WfPSDFNfwk",
        "outputId": "baa557ce-6e07-45bd-c20c-8756d586ddbe"
      },
      "source": [
        "# True = 1, False = 0\n",
        "print(5*1)\n",
        "print(5*True)\n",
        "print(5*False)"
      ],
      "execution_count": null,
      "outputs": [
        {
          "output_type": "stream",
          "name": "stdout",
          "text": [
            "5\n",
            "5\n",
            "0\n"
          ]
        }
      ]
    },
    {
      "cell_type": "code",
      "metadata": {
        "colab": {
          "base_uri": "https://localhost:8080/"
        },
        "id": "-97hECkHNngl",
        "outputId": "155be516-6659-4ef4-c4bd-2ff3516782d7"
      },
      "source": [
        "a = np.array([0,1,2,3,4,5])\n",
        "#b = np.array([0,0,0,1,1,1])\n",
        "b = np.array([False,False,False,True,True,True])\n",
        "\n",
        "print(a*b)"
      ],
      "execution_count": null,
      "outputs": [
        {
          "output_type": "stream",
          "name": "stdout",
          "text": [
            "[0 0 0 3 4 5]\n"
          ]
        }
      ]
    },
    {
      "cell_type": "code",
      "metadata": {
        "colab": {
          "base_uri": "https://localhost:8080/"
        },
        "id": "GmMnZ15JOfYZ",
        "outputId": "577d095d-01b9-4212-9f60-ad8cfb0e57b2"
      },
      "source": [
        "a = np.arange(12)\n",
        "\n",
        "mask = a%2==0\n",
        "print(a)\n",
        "print(mask)"
      ],
      "execution_count": null,
      "outputs": [
        {
          "output_type": "stream",
          "name": "stdout",
          "text": [
            "[ 0  1  2  3  4  5  6  7  8  9 10 11]\n",
            "[ True False  True False  True False  True False  True False  True False]\n"
          ]
        }
      ]
    },
    {
      "cell_type": "code",
      "metadata": {
        "colab": {
          "base_uri": "https://localhost:8080/"
        },
        "id": "iZn14LlZOvyf",
        "outputId": "55002875-f346-4868-e1e3-35e5b0a3279e"
      },
      "source": [
        "a = np.arange(25).reshape(5,5)\n",
        "mask = np.array([\n",
        "               [1,1,1,1,1],\n",
        "               [1,0,0,0,1],\n",
        "               [1,0,0,0,1],\n",
        "               [1,0,0,0,1],\n",
        "               [1,1,1,1,1]\n",
        "               ])\n",
        "print(a)\n",
        "print(mask)\n",
        "print(a*mask)\n",
        "print(np.sum(a*mask))"
      ],
      "execution_count": null,
      "outputs": [
        {
          "output_type": "stream",
          "name": "stdout",
          "text": [
            "[[ 0  1  2  3  4]\n",
            " [ 5  6  7  8  9]\n",
            " [10 11 12 13 14]\n",
            " [15 16 17 18 19]\n",
            " [20 21 22 23 24]]\n",
            "[[1 1 1 1 1]\n",
            " [1 0 0 0 1]\n",
            " [1 0 0 0 1]\n",
            " [1 0 0 0 1]\n",
            " [1 1 1 1 1]]\n",
            "[[ 0  1  2  3  4]\n",
            " [ 5  0  0  0  9]\n",
            " [10  0  0  0 14]\n",
            " [15  0  0  0 19]\n",
            " [20 21 22 23 24]]\n",
            "192\n"
          ]
        }
      ]
    },
    {
      "cell_type": "code",
      "metadata": {
        "colab": {
          "base_uri": "https://localhost:8080/"
        },
        "id": "5EO5jMcUQDzZ",
        "outputId": "fc2d3a3f-3f9d-4f4c-b9dd-7130249bbac1"
      },
      "source": [
        "# 아래의 2차원 데이터 생성해보기\n",
        "'''\n",
        "[[1 1 1 1 1]\n",
        " [1 0 0 0 1]\n",
        " [1 0 0 0 1]\n",
        " [1 0 0 0 1]\n",
        " [1 1 1 1 1]]\n",
        "'''\n",
        "a = np.arange(25).reshape(5,5)\n",
        "print(a)\n",
        "mask = np.ones_like(a)\n",
        "mask[1:4,1:4]=0\n",
        "\n",
        "print(mask)"
      ],
      "execution_count": null,
      "outputs": [
        {
          "output_type": "stream",
          "name": "stdout",
          "text": [
            "[[ 0  1  2  3  4]\n",
            " [ 5  6  7  8  9]\n",
            " [10 11 12 13 14]\n",
            " [15 16 17 18 19]\n",
            " [20 21 22 23 24]]\n",
            "[[1 1 1 1 1]\n",
            " [1 0 0 0 1]\n",
            " [1 0 0 0 1]\n",
            " [1 0 0 0 1]\n",
            " [1 1 1 1 1]]\n"
          ]
        }
      ]
    },
    {
      "cell_type": "code",
      "metadata": {
        "colab": {
          "base_uri": "https://localhost:8080/"
        },
        "id": "Ft-RELJkRTKZ",
        "outputId": "3ec088f7-fece-4912-9541-d3cd73a3c109"
      },
      "source": [
        "# 행렬의 대각선 원소들의 합 구해보기\n",
        "a = np.arange(25).reshape(5,5)\n",
        "print(a)\n",
        "mask = np.eye(5)\n",
        "\n",
        "print(a*mask)\n",
        "print(np.sum(a*mask))"
      ],
      "execution_count": null,
      "outputs": [
        {
          "output_type": "stream",
          "name": "stdout",
          "text": [
            "[[ 0  1  2  3  4]\n",
            " [ 5  6  7  8  9]\n",
            " [10 11 12 13 14]\n",
            " [15 16 17 18 19]\n",
            " [20 21 22 23 24]]\n",
            "[[ 0.  0.  0.  0.  0.]\n",
            " [ 0.  6.  0.  0.  0.]\n",
            " [ 0.  0. 12.  0.  0.]\n",
            " [ 0.  0.  0. 18.  0.]\n",
            " [ 0.  0.  0.  0. 24.]]\n",
            "60.0\n"
          ]
        }
      ]
    },
    {
      "cell_type": "code",
      "metadata": {
        "colab": {
          "base_uri": "https://localhost:8080/"
        },
        "id": "fo-__O-FQacx",
        "outputId": "34d2035b-098d-46c0-be35-2bacce09131f"
      },
      "source": [
        "a = [0,1,2,3,4]\n",
        "print(a)\n",
        "\n",
        "# 인덱스 3번에 원소 추가하기\n",
        "# 데이터.insert(인덱스, 추가할 원소)\n",
        "a.insert(3,99)\n",
        "print(a)"
      ],
      "execution_count": null,
      "outputs": [
        {
          "output_type": "stream",
          "name": "stdout",
          "text": [
            "[0, 1, 2, 3, 4]\n",
            "[0, 1, 2, 99, 3, 4]\n"
          ]
        }
      ]
    },
    {
      "cell_type": "code",
      "metadata": {
        "colab": {
          "base_uri": "https://localhost:8080/"
        },
        "id": "4tBa-TQeWy3V",
        "outputId": "4a82cf46-d67e-4b45-8f99-d1ab9cdfcc2a"
      },
      "source": [
        "a = np.arange(4)\n",
        "print(a)\n",
        "print(a.shape)"
      ],
      "execution_count": null,
      "outputs": [
        {
          "output_type": "stream",
          "name": "stdout",
          "text": [
            "[0 1 2 3]\n",
            "(4,)\n"
          ]
        }
      ]
    },
    {
      "cell_type": "code",
      "metadata": {
        "colab": {
          "base_uri": "https://localhost:8080/"
        },
        "id": "R9nRefHJYPA6",
        "outputId": "4fec93c1-0956-423a-db0c-7a90dd490c4c"
      },
      "source": [
        "# a=np.arange(4)로 아래의 shape 만들기\n",
        "'''\n",
        "(4,1)\n",
        "(1,4)\n",
        "(2,2)\n",
        "'''\n",
        "a = np.arange(4)\n",
        "print(a)\n",
        "\n",
        "print(a.reshape(4,1).shape)\n",
        "print(a.reshape(1,4).shape)\n",
        "print(a.reshape(2,2).shape)"
      ],
      "execution_count": null,
      "outputs": [
        {
          "output_type": "stream",
          "name": "stdout",
          "text": [
            "[0 1 2 3]\n",
            "(4, 1)\n",
            "(1, 4)\n",
            "(2, 2)\n"
          ]
        }
      ]
    },
    {
      "cell_type": "markdown",
      "metadata": {
        "id": "bRlxX_E16JhP"
      },
      "source": [
        "- 차원 확장 (expand)\n",
        "- 차원 축소 (squeeze)"
      ]
    },
    {
      "cell_type": "code",
      "metadata": {
        "colab": {
          "base_uri": "https://localhost:8080/"
        },
        "id": "2I-5OxSGXbin",
        "outputId": "c2d7c0e9-7a5e-4b29-cf33-c52ba50aed7e"
      },
      "source": [
        "# 1차원의 확장\n",
        "a = np.arange(4)\n",
        "a = np.expand_dims(a,axis=0)\n",
        "print(a)\n",
        "print(a.shape)\n",
        "\n",
        "a = np.arange(4)\n",
        "a = np.expand_dims(a,axis=1)\n",
        "print(a)\n",
        "print(a.shape)\n",
        "\n",
        "\n",
        "# 차원의 마지막 확장\n",
        "a = np.arange(4)\n",
        "a = np.expand_dims(a,axis=-1)\n",
        "print(a)\n",
        "print(a.shape)"
      ],
      "execution_count": null,
      "outputs": [
        {
          "output_type": "stream",
          "name": "stdout",
          "text": [
            "[[0 1 2 3]]\n",
            "(1, 4)\n",
            "[[0]\n",
            " [1]\n",
            " [2]\n",
            " [3]]\n",
            "(4, 1)\n",
            "[[0]\n",
            " [1]\n",
            " [2]\n",
            " [3]]\n",
            "(4, 1)\n"
          ]
        }
      ]
    },
    {
      "cell_type": "code",
      "metadata": {
        "colab": {
          "base_uri": "https://localhost:8080/"
        },
        "id": "BFbkDd5aPxmP",
        "outputId": "30224f8d-40ab-42a7-da42-66ca6824c742"
      },
      "source": [
        "# 2차원 확장\n",
        "a = np.arange(6).reshape((2,3))\n",
        "a = np.expand_dims(a,axis=0)\n",
        "print(a)\n",
        "print(a.shape)\n",
        "\n",
        "a = np.arange(6).reshape((2,3))\n",
        "a = np.expand_dims(a,axis=1)\n",
        "print(a)\n",
        "print(a.shape)\n",
        "\n",
        "a = np.arange(6).reshape((2,3))\n",
        "a = np.expand_dims(a,axis=2)\n",
        "print(a)\n",
        "print(a.shape)"
      ],
      "execution_count": null,
      "outputs": [
        {
          "output_type": "stream",
          "name": "stdout",
          "text": [
            "[[[0 1 2]\n",
            "  [3 4 5]]]\n",
            "(1, 2, 3)\n",
            "[[[0 1 2]]\n",
            "\n",
            " [[3 4 5]]]\n",
            "(2, 1, 3)\n",
            "[[[0]\n",
            "  [1]\n",
            "  [2]]\n",
            "\n",
            " [[3]\n",
            "  [4]\n",
            "  [5]]]\n",
            "(2, 3, 1)\n"
          ]
        }
      ]
    },
    {
      "cell_type": "code",
      "metadata": {
        "colab": {
          "base_uri": "https://localhost:8080/"
        },
        "id": "1KEv0xwwNc8J",
        "outputId": "e78a9216-5913-49c1-88e7-c2d4a47eb901"
      },
      "source": [
        "# 차원 축소\n",
        "a = np.arange(12).reshape((1,3,4))\n",
        "print(a)\n",
        "print(a.shape)\n",
        "\n",
        "a = np.squeeze(a)\n",
        "print(a)\n",
        "print(a.shape)"
      ],
      "execution_count": null,
      "outputs": [
        {
          "output_type": "stream",
          "name": "stdout",
          "text": [
            "[[[ 0  1  2  3]\n",
            "  [ 4  5  6  7]\n",
            "  [ 8  9 10 11]]]\n",
            "(1, 3, 4)\n",
            "[[ 0  1  2  3]\n",
            " [ 4  5  6  7]\n",
            " [ 8  9 10 11]]\n",
            "(3, 4)\n"
          ]
        }
      ]
    },
    {
      "cell_type": "code",
      "metadata": {
        "colab": {
          "base_uri": "https://localhost:8080/"
        },
        "id": "-NPEUuftdUfy",
        "outputId": "f2741686-5b36-463c-e283-fa78f7f0b1f4"
      },
      "source": [
        "# 전체 차원 축소\n",
        "# 디폴트값으로 1인 차원 모두 축소\n",
        "a = np.arange(12).reshape((1,3,1,4))\n",
        "print(a)\n",
        "print(a.shape)\n",
        "\n",
        "a = np.squeeze(a)\n",
        "print(a)\n",
        "print(a.shape)"
      ],
      "execution_count": null,
      "outputs": [
        {
          "output_type": "stream",
          "name": "stdout",
          "text": [
            "[[[[ 0  1  2  3]]\n",
            "\n",
            "  [[ 4  5  6  7]]\n",
            "\n",
            "  [[ 8  9 10 11]]]]\n",
            "(1, 3, 1, 4)\n",
            "[[ 0  1  2  3]\n",
            " [ 4  5  6  7]\n",
            " [ 8  9 10 11]]\n",
            "(3, 4)\n"
          ]
        }
      ]
    },
    {
      "cell_type": "code",
      "metadata": {
        "colab": {
          "base_uri": "https://localhost:8080/"
        },
        "id": "HPotN2SJeskF",
        "outputId": "6177dc09-12c0-48f1-c0aa-8c9a969648d2"
      },
      "source": [
        "# 원하는 차원 축소\n",
        "a = np.arange(12).reshape(1,3,1,4)\n",
        "print(a)\n",
        "a = np.squeeze(a,axis=0)\n",
        "print(a.shape)"
      ],
      "execution_count": null,
      "outputs": [
        {
          "output_type": "stream",
          "name": "stdout",
          "text": [
            "[[[[ 0  1  2  3]]\n",
            "\n",
            "  [[ 4  5  6  7]]\n",
            "\n",
            "  [[ 8  9 10 11]]]]\n",
            "(3, 1, 4)\n"
          ]
        }
      ]
    },
    {
      "cell_type": "code",
      "metadata": {
        "colab": {
          "base_uri": "https://localhost:8080/"
        },
        "id": "z_AwHtG-cDsm",
        "outputId": "41e5edd5-3711-4f4b-ec1c-1f9727b71408"
      },
      "source": [
        "a = np.arange(12)\n",
        "\n",
        "# a=a.reshape(3,4)\n",
        "a = a.reshape((3,-1))\n",
        "print(a)"
      ],
      "execution_count": null,
      "outputs": [
        {
          "output_type": "stream",
          "name": "stdout",
          "text": [
            "[[ 0  1  2  3]\n",
            " [ 4  5  6  7]\n",
            " [ 8  9 10 11]]\n"
          ]
        }
      ]
    },
    {
      "cell_type": "code",
      "metadata": {
        "colab": {
          "base_uri": "https://localhost:8080/"
        },
        "id": "--2iQZ7meCgO",
        "outputId": "e8956d34-5b1d-4d01-b6ff-0507581a68f9"
      },
      "source": [
        "# 전치행렬\n",
        "a = np.arange(12).reshape(3,4)\n",
        "print(a)\n",
        "print(a.T)"
      ],
      "execution_count": null,
      "outputs": [
        {
          "output_type": "stream",
          "name": "stdout",
          "text": [
            "[[ 0  1  2  3]\n",
            " [ 4  5  6  7]\n",
            " [ 8  9 10 11]]\n",
            "[[ 0  4  8]\n",
            " [ 1  5  9]\n",
            " [ 2  6 10]\n",
            " [ 3  7 11]]\n"
          ]
        }
      ]
    },
    {
      "cell_type": "code",
      "metadata": {
        "colab": {
          "base_uri": "https://localhost:8080/"
        },
        "id": "GUxh5NyYeUee",
        "outputId": "0ade9838-8d63-4896-e4bb-ad68a0045b7a"
      },
      "source": [
        "a = np.arange(12).reshape(3,4)\n",
        "s = np.sum(a,axis=1)\n",
        "print(s)"
      ],
      "execution_count": null,
      "outputs": [
        {
          "output_type": "stream",
          "name": "stdout",
          "text": [
            "[ 6 22 38]\n"
          ]
        }
      ]
    },
    {
      "cell_type": "code",
      "metadata": {
        "colab": {
          "base_uri": "https://localhost:8080/"
        },
        "id": "UF59DGatf65q",
        "outputId": "c4f1de6a-8a3e-4ef9-d4c8-0b4863c202ef"
      },
      "source": [
        "# 행렬(0,1)or(n,m)의 각 행별 합계구하기\n",
        "# axis=1는 행(1)or(m)을 없애줌\n",
        "# 행렬(0,1)or(n,m)의 각 열별 합계구하기\n",
        "# axis=0는 열(0)을 없애줌\n",
        "a = np.arange(15).reshape((5,3))\n",
        "print(a)\n",
        "print(np.sum(a,axis=0))\n",
        "print(np.sum(a,axis=1))"
      ],
      "execution_count": null,
      "outputs": [
        {
          "output_type": "stream",
          "name": "stdout",
          "text": [
            "[[ 0  1  2]\n",
            " [ 3  4  5]\n",
            " [ 6  7  8]\n",
            " [ 9 10 11]\n",
            " [12 13 14]]\n",
            "[30 35 40]\n",
            "[ 3 12 21 30 39]\n"
          ]
        }
      ]
    },
    {
      "cell_type": "code",
      "metadata": {
        "colab": {
          "base_uri": "https://localhost:8080/"
        },
        "id": "_ZU8V5fuiA6l",
        "outputId": "343f6805-3e24-43d4-9bf7-e8098fae31b5"
      },
      "source": [
        "# 행렬의 각 행과 열의 평균구하기\n",
        "a = np.arange(15).reshape((5,3))\n",
        "print(a)\n",
        "print(np.mean(a,axis=0))\n",
        "print(np.mean(a,axis=1))"
      ],
      "execution_count": null,
      "outputs": [
        {
          "output_type": "stream",
          "name": "stdout",
          "text": [
            "[[ 0  1  2]\n",
            " [ 3  4  5]\n",
            " [ 6  7  8]\n",
            " [ 9 10 11]\n",
            " [12 13 14]]\n",
            "[6. 7. 8.]\n",
            "[ 1.  4.  7. 10. 13.]\n"
          ]
        }
      ]
    },
    {
      "cell_type": "code",
      "metadata": {
        "colab": {
          "base_uri": "https://localhost:8080/"
        },
        "id": "FWaZ98Unikn3",
        "outputId": "587a6e3e-ccc7-4c12-a36d-405c0a00a2c5"
      },
      "source": [
        "# a를 아래의 shape로 합계구하기\n",
        "'''\n",
        "(3, 4)\n",
        "(4, 5)\n",
        "(3, 5)\n",
        "'''\n",
        "\n",
        "print(np.sum(a,axis=2).shape)\n",
        "print(np.sum(a,axis=0).shape)\n",
        "print(np.sum(a,axis=1).shape)\n"
      ],
      "execution_count": null,
      "outputs": [
        {
          "output_type": "stream",
          "name": "stdout",
          "text": [
            "(3, 4)\n",
            "(4, 5)\n",
            "(3, 5)\n"
          ]
        }
      ]
    },
    {
      "cell_type": "code",
      "metadata": {
        "colab": {
          "base_uri": "https://localhost:8080/"
        },
        "id": "ECwfcXtdlGEl",
        "outputId": "0ce9e8b2-436d-44c1-fcf4-a04211fa5247"
      },
      "source": [
        "# 키, 몸무게별 평균 구하기\n",
        "a = np.array([[170, 65],\n",
        "            [165, 55],\n",
        "            [171, 70],\n",
        "            [155, 50],\n",
        "            [165, 55]\n",
        "            ])\n",
        "print(np.mean(a,axis=0))"
      ],
      "execution_count": null,
      "outputs": [
        {
          "output_type": "stream",
          "name": "stdout",
          "text": [
            "[165.2  59. ]\n"
          ]
        }
      ]
    },
    {
      "cell_type": "code",
      "metadata": {
        "colab": {
          "base_uri": "https://localhost:8080/"
        },
        "id": "ksY7lgQqlxzM",
        "outputId": "9e02a338-a78c-4c0d-ee2b-92fdcbbf8fad"
      },
      "source": [
        "# argmax는 가장 큰 값의 인덱스를 반환\n",
        "a = np.array([1,3,5,2,4])\n",
        "print(np.max(a))\n",
        "print(np.argmax(a))"
      ],
      "execution_count": null,
      "outputs": [
        {
          "output_type": "stream",
          "name": "stdout",
          "text": [
            "5\n",
            "2\n"
          ]
        }
      ]
    },
    {
      "cell_type": "code",
      "metadata": {
        "colab": {
          "base_uri": "https://localhost:8080/"
        },
        "id": "78FSyxCRmSTA",
        "outputId": "7b99f334-fcd9-444b-e10e-06e658b49740"
      },
      "source": [
        "# 가장 큰 키와 몸무게를 가진 학생들 구하기\n",
        "# max = 값을 반환\n",
        "# argmax = 인덱스를 반환\n",
        "a = np.array([[170, 65],\n",
        "            [165, 75],\n",
        "            [171, 70],\n",
        "            [155, 50],\n",
        "            [165, 55]\n",
        "            ])\n",
        "print(np.max(a,axis=0))\n",
        "print(np.argmax(a,axis=0))"
      ],
      "execution_count": null,
      "outputs": [
        {
          "output_type": "stream",
          "name": "stdout",
          "text": [
            "[171  75]\n",
            "[2 1]\n"
          ]
        }
      ]
    },
    {
      "cell_type": "code",
      "metadata": {
        "colab": {
          "base_uri": "https://localhost:8080/"
        },
        "id": "5P1UNZqSmqIM",
        "outputId": "02d6c076-3ddd-40ce-f9c1-048d65e32d2c"
      },
      "source": [
        "a = np.arange(24).reshape(2,3,4)\n",
        "print(a)\n",
        "print(np.sum(a,axis=(1,2)))"
      ],
      "execution_count": null,
      "outputs": [
        {
          "output_type": "stream",
          "name": "stdout",
          "text": [
            "[[[ 0  1  2  3]\n",
            "  [ 4  5  6  7]\n",
            "  [ 8  9 10 11]]\n",
            "\n",
            " [[12 13 14 15]\n",
            "  [16 17 18 19]\n",
            "  [20 21 22 23]]]\n",
            "[ 66 210]\n"
          ]
        }
      ]
    },
    {
      "cell_type": "code",
      "metadata": {
        "id": "q7kayGPPMvup",
        "colab": {
          "base_uri": "https://localhost:8080/"
        },
        "outputId": "0f79fb2d-6664-45d4-efba-3e05f0cf6bd7"
      },
      "source": [
        "a = np.random.rand(12).reshape(4,3)\n",
        "print(a)"
      ],
      "execution_count": null,
      "outputs": [
        {
          "output_type": "stream",
          "name": "stdout",
          "text": [
            "[[0.15037614 0.77821182 0.82979288]\n",
            " [0.97932784 0.12876163 0.16967046]\n",
            " [0.9971671  0.84986137 0.45022296]\n",
            " [0.95730345 0.85350963 0.11460317]]\n"
          ]
        }
      ]
    },
    {
      "cell_type": "code",
      "metadata": {
        "id": "hroYpSDyMrqY",
        "colab": {
          "base_uri": "https://localhost:8080/"
        },
        "outputId": "47ba099f-efbe-4243-fdca-32c68f97bbae"
      },
      "source": [
        "# 각 행의 가장 큰값의 인덱스 반환하기\n",
        "a = np.random.rand(12).reshape(4,3)\n",
        "print(np.argmax(a, axis=1))"
      ],
      "execution_count": null,
      "outputs": [
        {
          "output_type": "stream",
          "name": "stdout",
          "text": [
            "[2 1 0 2]\n"
          ]
        }
      ]
    },
    {
      "cell_type": "code",
      "metadata": {
        "id": "RX5zvlLIMZJD",
        "colab": {
          "base_uri": "https://localhost:8080/"
        },
        "outputId": "1334e042-3f5e-4d7a-8d0a-e493d79fbf2f"
      },
      "source": [
        "# sort\n",
        "# argsort = sort된 인덱스 반환\n",
        "a = np.array( [3,7,5,1,8,6,4])\n",
        "print(np.sort(a))\n",
        "print(np.argsort(a))"
      ],
      "execution_count": null,
      "outputs": [
        {
          "output_type": "stream",
          "name": "stdout",
          "text": [
            "[1 3 4 5 6 7 8]\n",
            "[3 0 6 2 5 1 4]\n"
          ]
        }
      ]
    },
    {
      "cell_type": "markdown",
      "metadata": {
        "id": "-mKt15x6BeP_"
      },
      "source": [
        "- 행합치기 vstack\n",
        "- 열합치기 hstack\n",
        "\n",
        "행,열추가와 다름,\n",
        "새로운 프레임을 만드는 느낌"
      ]
    },
    {
      "cell_type": "code",
      "metadata": {
        "colab": {
          "base_uri": "https://localhost:8080/"
        },
        "id": "PWnLaSd2_sXd",
        "outputId": "4fd380e3-4cea-4500-8165-221f433ef1dd"
      },
      "source": [
        "a = np.arange(6).reshape(2,3)\n",
        "b = np.arange(6,12).reshape(2,3)\n",
        "print(a)\n",
        "print(b)\n",
        "\n",
        "print(np.vstack([a,b]))\n",
        "print(np.hstack([a,b]))"
      ],
      "execution_count": null,
      "outputs": [
        {
          "output_type": "stream",
          "name": "stdout",
          "text": [
            "[[0 1 2]\n",
            " [3 4 5]]\n",
            "[[ 6  7  8]\n",
            " [ 9 10 11]]\n",
            "[[ 0  1  2]\n",
            " [ 3  4  5]\n",
            " [ 6  7  8]\n",
            " [ 9 10 11]]\n",
            "[[ 0  1  2  6  7  8]\n",
            " [ 3  4  5  9 10 11]]\n"
          ]
        }
      ]
    },
    {
      "cell_type": "code",
      "metadata": {
        "colab": {
          "base_uri": "https://localhost:8080/"
        },
        "id": "zsrZJk7F_seF",
        "outputId": "1237a9c5-0822-4c4d-cc9d-17a98f28d32d"
      },
      "source": [
        "c = np.vstack([a,b])\n",
        "print(a)\n",
        "print(b)"
      ],
      "execution_count": null,
      "outputs": [
        {
          "output_type": "stream",
          "name": "stdout",
          "text": [
            "[[0 1 2]\n",
            " [3 4 5]]\n",
            "[[ 6  7  8]\n",
            " [ 9 10 11]]\n",
            "[[ 0  1  2]\n",
            " [ 3  4  5]\n",
            " [ 6  7  8]\n",
            " [ 9 10 11]]\n"
          ]
        }
      ]
    },
    {
      "cell_type": "code",
      "metadata": {
        "id": "AnmxkD6y_sg9"
      },
      "source": [
        "a = np.arange(12).reshape(3,4)\n",
        "np.savetxt(\"my_data.csv\",a,delimiter=\",\")"
      ],
      "execution_count": null,
      "outputs": []
    },
    {
      "cell_type": "code",
      "metadata": {
        "colab": {
          "base_uri": "https://localhost:8080/"
        },
        "id": "iMiNglD6B9uX",
        "outputId": "6fd9cf65-23e6-47fc-a637-27720e872035"
      },
      "source": [
        "b = np.loadtxt(\"my_data.csv\",delimiter=\",\")\n",
        "print(b)"
      ],
      "execution_count": null,
      "outputs": [
        {
          "output_type": "stream",
          "name": "stdout",
          "text": [
            "[[ 0.  1.  2.  3.]\n",
            " [ 4.  5.  6.  7.]\n",
            " [ 8.  9. 10. 11.]]\n"
          ]
        }
      ]
    },
    {
      "cell_type": "code",
      "metadata": {
        "colab": {
          "base_uri": "https://localhost:8080/"
        },
        "id": "QK4856_aB_ej",
        "outputId": "30143064-69b4-44be-c118-394ccae9185d"
      },
      "source": [
        "print(b.dtype)"
      ],
      "execution_count": null,
      "outputs": [
        {
          "output_type": "stream",
          "name": "stdout",
          "text": [
            "float64\n"
          ]
        }
      ]
    },
    {
      "cell_type": "code",
      "metadata": {
        "colab": {
          "base_uri": "https://localhost:8080/"
        },
        "id": "S8jMsWVlB_jZ",
        "outputId": "d4285131-8643-43ff-91d3-4934fa4eb2b9"
      },
      "source": [
        "print(b.astype(np.int))"
      ],
      "execution_count": null,
      "outputs": [
        {
          "output_type": "stream",
          "name": "stdout",
          "text": [
            "[[ 0  1  2  3]\n",
            " [ 4  5  6  7]\n",
            " [ 8  9 10 11]]\n"
          ]
        }
      ]
    },
    {
      "cell_type": "code",
      "metadata": {
        "colab": {
          "base_uri": "https://localhost:8080/"
        },
        "id": "wzgEny9bB_n0",
        "outputId": "b7be97e2-2f76-409b-8d69-ecf48fec8e2e"
      },
      "source": [
        "a = np.arange(6)\n",
        "print(a)\n",
        "print(a.astype(np.float))"
      ],
      "execution_count": null,
      "outputs": [
        {
          "output_type": "stream",
          "name": "stdout",
          "text": [
            "[0 1 2 3 4 5]\n",
            "[0. 1. 2. 3. 4. 5.]\n"
          ]
        }
      ]
    },
    {
      "cell_type": "code",
      "metadata": {
        "colab": {
          "base_uri": "https://localhost:8080/"
        },
        "id": "lZgUY9IBB95r",
        "outputId": "55a45240-8853-4be0-8b40-75c3a3321992"
      },
      "source": [
        "names = np.array([\"tom\",\"jerry\",\"brute\",\"철수\",\"영희\"])\n",
        "print(names)\n",
        "heights = np.array([170,177,165,155,175])\n",
        "print(heights)\n",
        "\n",
        "# 키순서대로 sort\n",
        "print(np.sort(heights))\n",
        "# 키순서대로 인덱스 sort\n",
        "print(np.argsort(heights))\n",
        "# 키순서대로 sort한 이름\n",
        "heights_ordered_index = np.array([3, 2, 0, 4, 1])\n",
        "print(names[heights_ordered_index])"
      ],
      "execution_count": null,
      "outputs": [
        {
          "output_type": "stream",
          "name": "stdout",
          "text": [
            "['tom' 'jerry' 'brute' '철수' '영희']\n",
            "[170 177 165 155 175]\n",
            "[155 165 170 175 177]\n",
            "[3 2 0 4 1]\n",
            "['철수' 'brute' 'tom' '영희' 'jerry']\n"
          ]
        }
      ]
    },
    {
      "cell_type": "code",
      "metadata": {
        "colab": {
          "base_uri": "https://localhost:8080/",
          "height": 211
        },
        "id": "2kGYRr0jB-Hk",
        "outputId": "7c7c0938-784a-4122-ec00-4553250cb813"
      },
      "source": [
        "# 안되는 예시\n",
        "aa = [0,1,2,3,4]\n",
        "\n",
        "print(aa[3,4,5])"
      ],
      "execution_count": null,
      "outputs": [
        {
          "output_type": "error",
          "ename": "TypeError",
          "evalue": "ignored",
          "traceback": [
            "\u001b[0;31m---------------------------------------------------------------------------\u001b[0m",
            "\u001b[0;31mTypeError\u001b[0m                                 Traceback (most recent call last)",
            "\u001b[0;32m<ipython-input-51-a8eaac45040a>\u001b[0m in \u001b[0;36m<module>\u001b[0;34m()\u001b[0m\n\u001b[1;32m      1\u001b[0m \u001b[0maa\u001b[0m \u001b[0;34m=\u001b[0m \u001b[0;34m[\u001b[0m\u001b[0;36m0\u001b[0m\u001b[0;34m,\u001b[0m\u001b[0;36m1\u001b[0m\u001b[0;34m,\u001b[0m\u001b[0;36m2\u001b[0m\u001b[0;34m,\u001b[0m\u001b[0;36m3\u001b[0m\u001b[0;34m,\u001b[0m\u001b[0;36m4\u001b[0m\u001b[0;34m]\u001b[0m\u001b[0;34m\u001b[0m\u001b[0;34m\u001b[0m\u001b[0m\n\u001b[1;32m      2\u001b[0m \u001b[0;34m\u001b[0m\u001b[0m\n\u001b[0;32m----> 3\u001b[0;31m \u001b[0mprint\u001b[0m\u001b[0;34m(\u001b[0m\u001b[0maa\u001b[0m\u001b[0;34m[\u001b[0m\u001b[0;36m3\u001b[0m\u001b[0;34m,\u001b[0m\u001b[0;36m4\u001b[0m\u001b[0;34m,\u001b[0m\u001b[0;36m5\u001b[0m\u001b[0;34m]\u001b[0m\u001b[0;34m)\u001b[0m\u001b[0;34m\u001b[0m\u001b[0;34m\u001b[0m\u001b[0m\n\u001b[0m",
            "\u001b[0;31mTypeError\u001b[0m: list indices must be integers or slices, not tuple"
          ]
        }
      ]
    },
    {
      "cell_type": "code",
      "metadata": {
        "colab": {
          "base_uri": "https://localhost:8080/"
        },
        "id": "BOu7vGOkG37c",
        "outputId": "9634f6bb-8c99-4d56-9f04-60f8f738f6f9"
      },
      "source": [
        "names = np.array([\"tom\",\"jerry\",\"brute\",\"철수\",\"영희\"])\n",
        "print(names)\n",
        "heights = np.array([170,177,165,155,175])\n",
        "print(heights)\n",
        "\n",
        "# 정렬한 인덱스들을 리스트에 할당\n",
        "print(names[np.argsort(heights)])"
      ],
      "execution_count": null,
      "outputs": [
        {
          "output_type": "stream",
          "name": "stdout",
          "text": [
            "['tom' 'jerry' 'brute' '철수' '영희']\n",
            "[170 177 165 155 175]\n",
            "['철수' 'brute' 'tom' '영희' 'jerry']\n"
          ]
        }
      ]
    },
    {
      "cell_type": "code",
      "metadata": {
        "id": "pZKVamz2G4TC",
        "colab": {
          "base_uri": "https://localhost:8080/"
        },
        "outputId": "9d89439f-52ef-4d8f-cd02-9e79c767d8f9"
      },
      "source": [
        "# 청소순서에 이름 할당하기\n",
        "# 0 3 4 1 2 ,3,4,1,2,3,4,1,2\n",
        "i = np.array([0, 3, 4, 1,2,3,4,1,2,3,4,1,2])\n",
        "print(names[i])"
      ],
      "execution_count": null,
      "outputs": [
        {
          "output_type": "stream",
          "name": "stdout",
          "text": [
            "['tom' '철수' '영희' 'jerry' 'brute' '철수' '영희' 'jerry' 'brute' '철수' '영희'\n",
            " 'jerry' 'brute']\n"
          ]
        }
      ]
    },
    {
      "cell_type": "code",
      "metadata": {
        "id": "xznSP3t2G4Zc",
        "colab": {
          "base_uri": "https://localhost:8080/"
        },
        "outputId": "870e425e-4545-4cb9-bf6b-0b52a7be7cd9"
      },
      "source": [
        "# 카테고리 인덱스로 인코딩 시키는 법\n",
        "e = np.eye(5)\n",
        "print(e[i])\n",
        "\n",
        "print(names)"
      ],
      "execution_count": null,
      "outputs": [
        {
          "output_type": "stream",
          "name": "stdout",
          "text": [
            "[[1. 0. 0. 0. 0.]\n",
            " [0. 0. 0. 1. 0.]\n",
            " [0. 0. 0. 0. 1.]\n",
            " [0. 1. 0. 0. 0.]\n",
            " [0. 0. 1. 0. 0.]\n",
            " [0. 0. 0. 1. 0.]\n",
            " [0. 0. 0. 0. 1.]\n",
            " [0. 1. 0. 0. 0.]\n",
            " [0. 0. 1. 0. 0.]\n",
            " [0. 0. 0. 1. 0.]\n",
            " [0. 0. 0. 0. 1.]\n",
            " [0. 1. 0. 0. 0.]\n",
            " [0. 0. 1. 0. 0.]]\n",
            "['tom' 'jerry' 'brute' '철수' '영희']\n"
          ]
        }
      ]
    },
    {
      "cell_type": "code",
      "metadata": {
        "colab": {
          "base_uri": "https://localhost:8080/"
        },
        "id": "JQy3kjk8NkVN",
        "outputId": "c08a3316-a8c0-4ad7-ca33-5b5293fb05ee"
      },
      "source": [
        "category_indexes = np.array([ 0, 3, 4, 1, 2, 3, 4, 1, 2, 3, 4, 1, 2])\n",
        "# 카테고리 인덱스로 다시 추출하는법\n",
        "e = np.eye(5)\n",
        "one_hot_encoded = e[category_indexes]\n",
        "predicted = np.argmax(one_hot_encoded, axis=1)\n",
        "print(predicted)\n"
      ],
      "execution_count": null,
      "outputs": [
        {
          "output_type": "stream",
          "name": "stdout",
          "text": [
            "[0 3 4 1 2 3 4 1 2 3 4 1 2]\n"
          ]
        }
      ]
    }
  ]
}