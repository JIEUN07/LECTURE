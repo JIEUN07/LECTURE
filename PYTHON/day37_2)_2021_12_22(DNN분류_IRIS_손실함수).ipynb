{
  "nbformat": 4,
  "nbformat_minor": 0,
  "metadata": {
    "colab": {
      "name": "day37_2) 2021-12-22(DNN분류_손실함수).ipynb",
      "provenance": [],
      "collapsed_sections": []
    },
    "kernelspec": {
      "name": "python3",
      "display_name": "Python 3"
    },
    "language_info": {
      "name": "python"
    },
    "accelerator": "GPU"
  },
  "cells": [
    {
      "cell_type": "markdown",
      "source": [
        "# IRIS 데이터 *분류\n",
        "독립변수: 꽃잎길이,넓이, 꽃받침 넓이, 길이\n",
        "\n",
        "종속변수: 붓꽃 분류\n",
        "\n",
        "## 범주형일때 손실함수\n",
        "분류문제에선 'categorical_crossentropy' 사용\n",
        "\n",
        "정확도 'accuracy'\n",
        "\n",
        "keras에서 분류문제를 사용한다는 표시 \n",
        "\n",
        "'categorical'_크로스엔트로피\n",
        "\n",
        "loss = 'crossentropy'으로만 돌리면 오류남"
      ],
      "metadata": {
        "id": "xn9iAbF9vF9C"
      }
    },
    {
      "cell_type": "markdown",
      "source": [
        "# 손실함수 (loss function)\n",
        ": 모델의 출력값(예측값)과 실제값의 오차.\n",
        "따라서 손실함수를 줄이는 것 중요\n",
        "\n",
        "```\n",
        "- 범주형 교차 엔트로피\n",
        ": Dense(n, activation=\"softmax\"),loss=\"categorical_crossentropy\"\n",
        "   y 출력값이 2개 이상인 경우 사용\n",
        "   out layer = \"softmax\" (0과 1사이의 값이 나오고, 그 합은 1)\n",
        "   one-hot encoding class 결과 출력,\n",
        "   one-hot encoding 필요\n",
        "   각 클래스별 positive 확률값 출력\n",
        "\n",
        "   ex) Dense=3 일때, \n",
        "   label [ 0,0,1 ]과 출력값 [ 0.2, 0.3, 0.5 ]\n",
        "\n",
        "   실제값과 예측값이 모두 같은경우 손실함수는 0\n",
        "   실제값과 예측값이 다른경우 양의 무한대로 발산 \n",
        "\n",
        "```\n",
        "```\n",
        "\n",
        "- Sparse 범주형 교차 엔트로피\n",
        "Dense(n, activation=\"softmax\"),loss=\"sparse_categorical_crossentropy\"\n",
        "   y class값이 2개 이상인 경우 사용\n",
        "   정수타입의 결과 출력\n",
        "   one-hot encoding 필요하지 않음\n",
        "   한 샘플에 여러 class 존재할 경우\n",
        "   out layer = \"softmax\" (0과 1사이의 값이 나오고, 그 합은 1)\n",
        "   각 클래스별 positive 확률값 출력\n",
        "\n",
        "   ex) Dense=3 일때, \n",
        "   label [ 0,1,2 ]과 출력값 [ 0.2, 0.3, 0.5 ]\n",
        "```\n",
        "```\n",
        "\n",
        "- 이항 교차 엔트로피\n",
        ": Dense(1, activation=\"sigmoid\"), loss=\"binary_crossentropy\"\n",
        "   label들이 독립적일때 사용\n",
        "   out layer = \"sigmoid\"\n",
        "   y값이 0,1인 이진분류 훈련\n",
        "```\n"
      ],
      "metadata": {
        "id": "v5YIfwdbnIpO"
      }
    },
    {
      "cell_type": "code",
      "execution_count": null,
      "metadata": {
        "id": "rigDttV8u_VX"
      },
      "outputs": [],
      "source": [
        "import numpy as np\n",
        "import pandas as pd\n",
        "import matplotlib.pyplot as plt\n",
        "\n",
        "import tensorflow as tf\n",
        "\n",
        "from tensorflow import keras\n",
        "from tensorflow.keras import optimizers\n",
        "from tensorflow.keras.layers import Dense, Input"
      ]
    },
    {
      "cell_type": "markdown",
      "source": [
        "## 데이터 준비"
      ],
      "metadata": {
        "id": "DlOnu_-0qvyr"
      }
    },
    {
      "cell_type": "code",
      "source": [
        "!wget https://raw.githubusercontent.com/dhrim/MDC_2021/master/material/deep_learning/iris.csv"
      ],
      "metadata": {
        "colab": {
          "base_uri": "https://localhost:8080/"
        },
        "id": "MsX-SdpMvJQe",
        "outputId": "f5f59dd3-f05b-4127-be6c-78fe924e907a"
      },
      "execution_count": null,
      "outputs": [
        {
          "output_type": "stream",
          "name": "stdout",
          "text": [
            "--2021-12-22 01:23:57--  https://raw.githubusercontent.com/dhrim/MDC_2021/master/material/deep_learning/iris.csv\n",
            "Resolving raw.githubusercontent.com (raw.githubusercontent.com)... 185.199.108.133, 185.199.109.133, 185.199.110.133, ...\n",
            "Connecting to raw.githubusercontent.com (raw.githubusercontent.com)|185.199.108.133|:443... connected.\n",
            "HTTP request sent, awaiting response... 200 OK\n",
            "Length: 2720 (2.7K) [text/plain]\n",
            "Saving to: ‘iris.csv’\n",
            "\n",
            "\riris.csv              0%[                    ]       0  --.-KB/s               \riris.csv            100%[===================>]   2.66K  --.-KB/s    in 0s      \n",
            "\n",
            "2021-12-22 01:23:57 (36.2 MB/s) - ‘iris.csv’ saved [2720/2720]\n",
            "\n"
          ]
        }
      ]
    },
    {
      "cell_type": "code",
      "source": [
        "# 리눅스 언어\n",
        "!ls -al\n",
        "!head iris.csv"
      ],
      "metadata": {
        "colab": {
          "base_uri": "https://localhost:8080/"
        },
        "id": "_e3bQIz3vJUf",
        "outputId": "96bb711f-a728-4ec8-f18e-becf127beb1a"
      },
      "execution_count": null,
      "outputs": [
        {
          "output_type": "stream",
          "name": "stdout",
          "text": [
            "total 20\n",
            "drwxr-xr-x 1 root root 4096 Dec 22 01:23 .\n",
            "drwxr-xr-x 1 root root 4096 Dec 22 01:17 ..\n",
            "drwxr-xr-x 4 root root 4096 Dec  3 14:33 .config\n",
            "-rw-r--r-- 1 root root 2720 Dec 22 01:23 iris.csv\n",
            "drwxr-xr-x 1 root root 4096 Dec  3 14:33 sample_data\n",
            "septal_length,septal_width,petal_length,petal_width,setosa,versicolor,virginica\n",
            "6.4,2.8,5.6,2.2,0,0,1\n",
            "5.0,2.3,3.3,1.0,0,1,0\n",
            "4.9,2.5,4.5,1.7,0,0,1\n",
            "4.9,3.1,1.5,0.1,1,0,0\n",
            "5.7,3.8,1.7,0.3,1,0,0\n",
            "4.4,3.2,1.3,0.2,1,0,0\n",
            "5.4,3.4,1.5,0.4,1,0,0\n",
            "6.9,3.1,5.1,2.3,0,0,1\n",
            "6.7,3.1,4.4,1.4,0,1,0\n"
          ]
        }
      ]
    },
    {
      "cell_type": "code",
      "source": [
        "iris = pd.read_csv(\"iris.csv\")\n",
        "iris.head()"
      ],
      "metadata": {
        "colab": {
          "base_uri": "https://localhost:8080/",
          "height": 206
        },
        "id": "cmApM__gvJXC",
        "outputId": "ecee14c0-83e5-4bf2-c42a-e6004474af21"
      },
      "execution_count": null,
      "outputs": [
        {
          "output_type": "execute_result",
          "data": {
            "text/html": [
              "\n",
              "  <div id=\"df-b134a2c9-4fa3-40d9-9e97-87910df1d1cd\">\n",
              "    <div class=\"colab-df-container\">\n",
              "      <div>\n",
              "<style scoped>\n",
              "    .dataframe tbody tr th:only-of-type {\n",
              "        vertical-align: middle;\n",
              "    }\n",
              "\n",
              "    .dataframe tbody tr th {\n",
              "        vertical-align: top;\n",
              "    }\n",
              "\n",
              "    .dataframe thead th {\n",
              "        text-align: right;\n",
              "    }\n",
              "</style>\n",
              "<table border=\"1\" class=\"dataframe\">\n",
              "  <thead>\n",
              "    <tr style=\"text-align: right;\">\n",
              "      <th></th>\n",
              "      <th>septal_length</th>\n",
              "      <th>septal_width</th>\n",
              "      <th>petal_length</th>\n",
              "      <th>petal_width</th>\n",
              "      <th>setosa</th>\n",
              "      <th>versicolor</th>\n",
              "      <th>virginica</th>\n",
              "    </tr>\n",
              "  </thead>\n",
              "  <tbody>\n",
              "    <tr>\n",
              "      <th>0</th>\n",
              "      <td>6.4</td>\n",
              "      <td>2.8</td>\n",
              "      <td>5.6</td>\n",
              "      <td>2.2</td>\n",
              "      <td>0</td>\n",
              "      <td>0</td>\n",
              "      <td>1</td>\n",
              "    </tr>\n",
              "    <tr>\n",
              "      <th>1</th>\n",
              "      <td>5.0</td>\n",
              "      <td>2.3</td>\n",
              "      <td>3.3</td>\n",
              "      <td>1.0</td>\n",
              "      <td>0</td>\n",
              "      <td>1</td>\n",
              "      <td>0</td>\n",
              "    </tr>\n",
              "    <tr>\n",
              "      <th>2</th>\n",
              "      <td>4.9</td>\n",
              "      <td>2.5</td>\n",
              "      <td>4.5</td>\n",
              "      <td>1.7</td>\n",
              "      <td>0</td>\n",
              "      <td>0</td>\n",
              "      <td>1</td>\n",
              "    </tr>\n",
              "    <tr>\n",
              "      <th>3</th>\n",
              "      <td>4.9</td>\n",
              "      <td>3.1</td>\n",
              "      <td>1.5</td>\n",
              "      <td>0.1</td>\n",
              "      <td>1</td>\n",
              "      <td>0</td>\n",
              "      <td>0</td>\n",
              "    </tr>\n",
              "    <tr>\n",
              "      <th>4</th>\n",
              "      <td>5.7</td>\n",
              "      <td>3.8</td>\n",
              "      <td>1.7</td>\n",
              "      <td>0.3</td>\n",
              "      <td>1</td>\n",
              "      <td>0</td>\n",
              "      <td>0</td>\n",
              "    </tr>\n",
              "  </tbody>\n",
              "</table>\n",
              "</div>\n",
              "      <button class=\"colab-df-convert\" onclick=\"convertToInteractive('df-b134a2c9-4fa3-40d9-9e97-87910df1d1cd')\"\n",
              "              title=\"Convert this dataframe to an interactive table.\"\n",
              "              style=\"display:none;\">\n",
              "        \n",
              "  <svg xmlns=\"http://www.w3.org/2000/svg\" height=\"24px\"viewBox=\"0 0 24 24\"\n",
              "       width=\"24px\">\n",
              "    <path d=\"M0 0h24v24H0V0z\" fill=\"none\"/>\n",
              "    <path d=\"M18.56 5.44l.94 2.06.94-2.06 2.06-.94-2.06-.94-.94-2.06-.94 2.06-2.06.94zm-11 1L8.5 8.5l.94-2.06 2.06-.94-2.06-.94L8.5 2.5l-.94 2.06-2.06.94zm10 10l.94 2.06.94-2.06 2.06-.94-2.06-.94-.94-2.06-.94 2.06-2.06.94z\"/><path d=\"M17.41 7.96l-1.37-1.37c-.4-.4-.92-.59-1.43-.59-.52 0-1.04.2-1.43.59L10.3 9.45l-7.72 7.72c-.78.78-.78 2.05 0 2.83L4 21.41c.39.39.9.59 1.41.59.51 0 1.02-.2 1.41-.59l7.78-7.78 2.81-2.81c.8-.78.8-2.07 0-2.86zM5.41 20L4 18.59l7.72-7.72 1.47 1.35L5.41 20z\"/>\n",
              "  </svg>\n",
              "      </button>\n",
              "      \n",
              "  <style>\n",
              "    .colab-df-container {\n",
              "      display:flex;\n",
              "      flex-wrap:wrap;\n",
              "      gap: 12px;\n",
              "    }\n",
              "\n",
              "    .colab-df-convert {\n",
              "      background-color: #E8F0FE;\n",
              "      border: none;\n",
              "      border-radius: 50%;\n",
              "      cursor: pointer;\n",
              "      display: none;\n",
              "      fill: #1967D2;\n",
              "      height: 32px;\n",
              "      padding: 0 0 0 0;\n",
              "      width: 32px;\n",
              "    }\n",
              "\n",
              "    .colab-df-convert:hover {\n",
              "      background-color: #E2EBFA;\n",
              "      box-shadow: 0px 1px 2px rgba(60, 64, 67, 0.3), 0px 1px 3px 1px rgba(60, 64, 67, 0.15);\n",
              "      fill: #174EA6;\n",
              "    }\n",
              "\n",
              "    [theme=dark] .colab-df-convert {\n",
              "      background-color: #3B4455;\n",
              "      fill: #D2E3FC;\n",
              "    }\n",
              "\n",
              "    [theme=dark] .colab-df-convert:hover {\n",
              "      background-color: #434B5C;\n",
              "      box-shadow: 0px 1px 3px 1px rgba(0, 0, 0, 0.15);\n",
              "      filter: drop-shadow(0px 1px 2px rgba(0, 0, 0, 0.3));\n",
              "      fill: #FFFFFF;\n",
              "    }\n",
              "  </style>\n",
              "\n",
              "      <script>\n",
              "        const buttonEl =\n",
              "          document.querySelector('#df-b134a2c9-4fa3-40d9-9e97-87910df1d1cd button.colab-df-convert');\n",
              "        buttonEl.style.display =\n",
              "          google.colab.kernel.accessAllowed ? 'block' : 'none';\n",
              "\n",
              "        async function convertToInteractive(key) {\n",
              "          const element = document.querySelector('#df-b134a2c9-4fa3-40d9-9e97-87910df1d1cd');\n",
              "          const dataTable =\n",
              "            await google.colab.kernel.invokeFunction('convertToInteractive',\n",
              "                                                     [key], {});\n",
              "          if (!dataTable) return;\n",
              "\n",
              "          const docLinkHtml = 'Like what you see? Visit the ' +\n",
              "            '<a target=\"_blank\" href=https://colab.research.google.com/notebooks/data_table.ipynb>data table notebook</a>'\n",
              "            + ' to learn more about interactive tables.';\n",
              "          element.innerHTML = '';\n",
              "          dataTable['output_type'] = 'display_data';\n",
              "          await google.colab.output.renderOutput(dataTable, element);\n",
              "          const docLink = document.createElement('div');\n",
              "          docLink.innerHTML = docLinkHtml;\n",
              "          element.appendChild(docLink);\n",
              "        }\n",
              "      </script>\n",
              "    </div>\n",
              "  </div>\n",
              "  "
            ],
            "text/plain": [
              "   septal_length  septal_width  petal_length  ...  setosa  versicolor  virginica\n",
              "0            6.4           2.8           5.6  ...       0           0          1\n",
              "1            5.0           2.3           3.3  ...       0           1          0\n",
              "2            4.9           2.5           4.5  ...       0           0          1\n",
              "3            4.9           3.1           1.5  ...       1           0          0\n",
              "4            5.7           3.8           1.7  ...       1           0          0\n",
              "\n",
              "[5 rows x 7 columns]"
            ]
          },
          "metadata": {},
          "execution_count": 4
        }
      ]
    },
    {
      "cell_type": "markdown",
      "source": [
        "종속변수가 3개인 데이터\n",
        "\n",
        "one-hot encoding 처리된 형식"
      ],
      "metadata": {
        "id": "Nd8iZ8sRtYRz"
      }
    },
    {
      "cell_type": "code",
      "source": [
        "iris.info()"
      ],
      "metadata": {
        "colab": {
          "base_uri": "https://localhost:8080/"
        },
        "id": "Cd0WFIvHvJZl",
        "outputId": "c26d1e53-85d4-45f2-dfbe-75b326eb320d"
      },
      "execution_count": null,
      "outputs": [
        {
          "output_type": "stream",
          "name": "stdout",
          "text": [
            "<class 'pandas.core.frame.DataFrame'>\n",
            "RangeIndex: 120 entries, 0 to 119\n",
            "Data columns (total 7 columns):\n",
            " #   Column         Non-Null Count  Dtype  \n",
            "---  ------         --------------  -----  \n",
            " 0   septal_length  120 non-null    float64\n",
            " 1   septal_width   120 non-null    float64\n",
            " 2   petal_length   120 non-null    float64\n",
            " 3   petal_width    120 non-null    float64\n",
            " 4   setosa         120 non-null    int64  \n",
            " 5   versicolor     120 non-null    int64  \n",
            " 6   virginica      120 non-null    int64  \n",
            "dtypes: float64(4), int64(3)\n",
            "memory usage: 6.7 KB\n"
          ]
        }
      ]
    },
    {
      "cell_type": "code",
      "source": [
        "# 넘파이 배열로 받아옴\n",
        "data = iris.to_numpy()\n",
        "print(data.shape)\n",
        "print(data[:5])"
      ],
      "metadata": {
        "colab": {
          "base_uri": "https://localhost:8080/"
        },
        "id": "M_MWV86mvJcE",
        "outputId": "40b7306e-e9f6-480a-c680-8340e29a3b4f"
      },
      "execution_count": null,
      "outputs": [
        {
          "output_type": "stream",
          "name": "stdout",
          "text": [
            "(120, 7)\n",
            "[[6.4 2.8 5.6 2.2 0.  0.  1. ]\n",
            " [5.  2.3 3.3 1.  0.  1.  0. ]\n",
            " [4.9 2.5 4.5 1.7 0.  0.  1. ]\n",
            " [4.9 3.1 1.5 0.1 1.  0.  0. ]\n",
            " [5.7 3.8 1.7 0.3 1.  0.  0. ]]\n"
          ]
        }
      ]
    },
    {
      "cell_type": "markdown",
      "source": [
        "### 데이터 나누기"
      ],
      "metadata": {
        "id": "cqG3ftmirCi-"
      }
    },
    {
      "cell_type": "code",
      "source": [
        "# x,y 나누기 \n",
        "x = data[:,:4]\n",
        "y = data[:,4:]\n",
        "\n",
        "# train, test 데이터 나누기\n",
        "split_index = 100\n",
        "\n",
        "train_x, test_x = x[:split_index], x[split_index:]\n",
        "train_y, test_y = y[:split_index], y[split_index:]"
      ],
      "metadata": {
        "id": "qTBjCEUsvJec"
      },
      "execution_count": null,
      "outputs": []
    },
    {
      "cell_type": "code",
      "source": [
        "print(train_x.shape)\n",
        "print(train_y.shape)"
      ],
      "metadata": {
        "colab": {
          "base_uri": "https://localhost:8080/"
        },
        "id": "miKAYcYPvJg1",
        "outputId": "36809f87-a0a9-405e-e8b6-1a646d35a6a3"
      },
      "execution_count": null,
      "outputs": [
        {
          "output_type": "stream",
          "name": "stdout",
          "text": [
            "(100, 4)\n",
            "(100, 3)\n"
          ]
        }
      ]
    },
    {
      "cell_type": "markdown",
      "source": [
        "## 모델 설정"
      ],
      "metadata": {
        "id": "l0oG_chwrHpa"
      }
    },
    {
      "cell_type": "code",
      "source": [
        "# 입력 4개 (독립변수 4개), 출력 3개 (종속변수 3개)\n",
        "model = keras.Sequential()\n",
        "model.add(Input(4))\n",
        "model.add(Dense(10, activation='tanh'))\n",
        "model.add(Dense(10, activation='tanh'))\n",
        "model.add(Dense(3, activation='softmax')) # softmax: 출력값들 중 가장 큰 값 (0~1), 출력층에만 사용됨"
      ],
      "metadata": {
        "id": "r5yhUCO4yRXl"
      },
      "execution_count": null,
      "outputs": []
    },
    {
      "cell_type": "code",
      "source": [
        "# 분류문제에선 'categorical_crossentropy' 사용\n",
        "# 정확도 'accuracy'\n",
        "# keras에서 분류문제를 사용한다는 표시 *categorical*_크로스엔트로피\n",
        "# loss = 'crossentropy'으로만 돌리면 오류남\n",
        "model.compile(optimizer='adam', loss='categorical_crossentropy', metrics=['accuracy'])"
      ],
      "metadata": {
        "id": "WIz9Cl1lyRaM"
      },
      "execution_count": null,
      "outputs": []
    },
    {
      "cell_type": "code",
      "source": [
        "model.fit(train_x, train_y, epochs=200, verbose=0)\n",
        "\n",
        "loss, acc = model.evaluate(test_x, test_y)\n",
        "\n",
        "print(\"loss :\", loss)\n",
        "print(\"acc :\", acc)"
      ],
      "metadata": {
        "colab": {
          "base_uri": "https://localhost:8080/"
        },
        "id": "exxdPrndyRcX",
        "outputId": "2fed7860-9096-467d-b1b3-bd265b42a1ff"
      },
      "execution_count": null,
      "outputs": [
        {
          "output_type": "stream",
          "name": "stdout",
          "text": [
            "1/1 [==============================] - 0s 184ms/step - loss: 0.1047 - accuracy: 1.0000\n",
            "loss : 0.10471087694168091\n",
            "acc : 1.0\n"
          ]
        }
      ]
    },
    {
      "cell_type": "code",
      "source": [
        "y_ = model.predict(test_x)\n",
        "print(y_)\n",
        "print(np.argmax(y_, axis=1)) # argmax 넘파이 최대값"
      ],
      "metadata": {
        "colab": {
          "base_uri": "https://localhost:8080/"
        },
        "id": "gVG97_X9yRec",
        "outputId": "d4d068e3-a5f5-421d-d90e-31975b10db6c"
      },
      "execution_count": null,
      "outputs": [
        {
          "output_type": "stream",
          "name": "stdout",
          "text": [
            "[[9.6206725e-01 3.7705105e-02 2.2767970e-04]\n",
            " [7.9625189e-02 8.7921280e-01 4.1162018e-02]\n",
            " [9.2638284e-01 7.3129140e-02 4.8804976e-04]\n",
            " [5.2833773e-02 9.0044647e-01 4.6719756e-02]\n",
            " [9.6654832e-01 3.3244599e-02 2.0710487e-04]\n",
            " [9.6922505e-01 3.0596033e-02 1.7882881e-04]\n",
            " [9.7173595e-01 2.8099010e-02 1.6490593e-04]\n",
            " [9.7187144e-01 2.7961481e-02 1.6711226e-04]\n",
            " [9.7462721e-02 8.6527079e-01 3.7266530e-02]\n",
            " [9.6100533e-01 3.8753454e-02 2.4115863e-04]\n",
            " [8.5674496e-03 2.9725832e-01 6.9417429e-01]\n",
            " [4.8183125e-02 8.3245474e-01 1.1936212e-01]\n",
            " [9.5683360e-01 4.2902824e-02 2.6363449e-04]\n",
            " [7.1256008e-04 2.7228529e-02 9.7205895e-01]\n",
            " [9.6722591e-01 3.2563850e-02 2.1024213e-04]\n",
            " [2.5746500e-02 6.5026879e-01 3.2398468e-01]\n",
            " [5.7649888e-02 8.3653873e-01 1.0581134e-01]\n",
            " [9.6103936e-01 3.8714163e-02 2.4645249e-04]\n",
            " [9.6272105e-01 3.7055545e-02 2.2344645e-04]\n",
            " [5.4732706e-02 9.0689135e-01 3.8376015e-02]]\n",
            "[0 1 0 1 0 0 0 0 1 0 2 1 0 2 0 1 1 0 0 1]\n"
          ]
        }
      ]
    },
    {
      "cell_type": "markdown",
      "source": [
        "## category index\n",
        "종속변수 3개를 카테고리 인덱스 하나로 묶어줌\n",
        "\n",
        "종속변수 1개에 class 3개\n",
        "\n",
        "one-hot encoding 처리되지 않은 형식"
      ],
      "metadata": {
        "id": "yynIZ1JC6Kfx"
      }
    },
    {
      "cell_type": "code",
      "source": [
        "!wget https://raw.githubusercontent.com/dhrim/MDC_2021/master/material/deep_learning/iris_with_category_index.csv"
      ],
      "metadata": {
        "colab": {
          "base_uri": "https://localhost:8080/"
        },
        "id": "xwMXIki2yRgu",
        "outputId": "914a1ced-f74f-485c-f5aa-5702105cd963"
      },
      "execution_count": null,
      "outputs": [
        {
          "output_type": "stream",
          "name": "stdout",
          "text": [
            "--2021-12-22 02:11:43--  https://raw.githubusercontent.com/dhrim/MDC_2021/master/material/deep_learning/iris_with_category_index.csv\n",
            "Resolving raw.githubusercontent.com (raw.githubusercontent.com)... 185.199.108.133, 185.199.109.133, 185.199.110.133, ...\n",
            "Connecting to raw.githubusercontent.com (raw.githubusercontent.com)|185.199.108.133|:443... connected.\n",
            "HTTP request sent, awaiting response... 200 OK\n",
            "Length: 2218 (2.2K) [text/plain]\n",
            "Saving to: ‘iris_with_category_index.csv’\n",
            "\n",
            "\r          iris_with   0%[                    ]       0  --.-KB/s               \riris_with_category_ 100%[===================>]   2.17K  --.-KB/s    in 0s      \n",
            "\n",
            "2021-12-22 02:11:43 (28.1 MB/s) - ‘iris_with_category_index.csv’ saved [2218/2218]\n",
            "\n"
          ]
        }
      ]
    },
    {
      "cell_type": "code",
      "source": [
        "!ls -al\n",
        "!head iris_with_category_index.csv"
      ],
      "metadata": {
        "colab": {
          "base_uri": "https://localhost:8080/"
        },
        "id": "Djlo15hj6JEI",
        "outputId": "7b3bb99e-2f0d-4f22-aa19-50503edff092"
      },
      "execution_count": null,
      "outputs": [
        {
          "output_type": "stream",
          "name": "stdout",
          "text": [
            "total 24\n",
            "drwxr-xr-x 1 root root 4096 Dec 22 02:11 .\n",
            "drwxr-xr-x 1 root root 4096 Dec 22 01:17 ..\n",
            "drwxr-xr-x 4 root root 4096 Dec  3 14:33 .config\n",
            "-rw-r--r-- 1 root root 2720 Dec 22 01:23 iris.csv\n",
            "-rw-r--r-- 1 root root 2218 Dec 22 02:11 iris_with_category_index.csv\n",
            "drwxr-xr-x 1 root root 4096 Dec  3 14:33 sample_data\n",
            "septal_length,septal_width,petal_length,petal_width,class\n",
            "6.4,2.8,5.6,2.2,2\n",
            "5.0,2.3,3.3,1.0,1\n",
            "4.9,2.5,4.5,1.7,2\n",
            "4.9,3.1,1.5,0.1,0\n",
            "5.7,3.8,1.7,0.3,0\n",
            "4.4,3.2,1.3,0.2,0\n",
            "5.4,3.4,1.5,0.4,0\n",
            "6.9,3.1,5.1,2.3,2\n",
            "6.7,3.1,4.4,1.4,1\n"
          ]
        }
      ]
    },
    {
      "cell_type": "code",
      "source": [
        "iris = pd.read_csv(\"iris_with_category_index.csv\")\n",
        "iris.head()"
      ],
      "metadata": {
        "colab": {
          "base_uri": "https://localhost:8080/",
          "height": 206
        },
        "id": "Y8ndLwKqvJjP",
        "outputId": "1c701af7-22e6-4f1f-f9e0-2bd723d7d708"
      },
      "execution_count": null,
      "outputs": [
        {
          "output_type": "execute_result",
          "data": {
            "text/html": [
              "\n",
              "  <div id=\"df-04e30241-632a-4c84-9a33-2d434f7a2405\">\n",
              "    <div class=\"colab-df-container\">\n",
              "      <div>\n",
              "<style scoped>\n",
              "    .dataframe tbody tr th:only-of-type {\n",
              "        vertical-align: middle;\n",
              "    }\n",
              "\n",
              "    .dataframe tbody tr th {\n",
              "        vertical-align: top;\n",
              "    }\n",
              "\n",
              "    .dataframe thead th {\n",
              "        text-align: right;\n",
              "    }\n",
              "</style>\n",
              "<table border=\"1\" class=\"dataframe\">\n",
              "  <thead>\n",
              "    <tr style=\"text-align: right;\">\n",
              "      <th></th>\n",
              "      <th>septal_length</th>\n",
              "      <th>septal_width</th>\n",
              "      <th>petal_length</th>\n",
              "      <th>petal_width</th>\n",
              "      <th>class</th>\n",
              "    </tr>\n",
              "  </thead>\n",
              "  <tbody>\n",
              "    <tr>\n",
              "      <th>0</th>\n",
              "      <td>6.4</td>\n",
              "      <td>2.8</td>\n",
              "      <td>5.6</td>\n",
              "      <td>2.2</td>\n",
              "      <td>2</td>\n",
              "    </tr>\n",
              "    <tr>\n",
              "      <th>1</th>\n",
              "      <td>5.0</td>\n",
              "      <td>2.3</td>\n",
              "      <td>3.3</td>\n",
              "      <td>1.0</td>\n",
              "      <td>1</td>\n",
              "    </tr>\n",
              "    <tr>\n",
              "      <th>2</th>\n",
              "      <td>4.9</td>\n",
              "      <td>2.5</td>\n",
              "      <td>4.5</td>\n",
              "      <td>1.7</td>\n",
              "      <td>2</td>\n",
              "    </tr>\n",
              "    <tr>\n",
              "      <th>3</th>\n",
              "      <td>4.9</td>\n",
              "      <td>3.1</td>\n",
              "      <td>1.5</td>\n",
              "      <td>0.1</td>\n",
              "      <td>0</td>\n",
              "    </tr>\n",
              "    <tr>\n",
              "      <th>4</th>\n",
              "      <td>5.7</td>\n",
              "      <td>3.8</td>\n",
              "      <td>1.7</td>\n",
              "      <td>0.3</td>\n",
              "      <td>0</td>\n",
              "    </tr>\n",
              "  </tbody>\n",
              "</table>\n",
              "</div>\n",
              "      <button class=\"colab-df-convert\" onclick=\"convertToInteractive('df-04e30241-632a-4c84-9a33-2d434f7a2405')\"\n",
              "              title=\"Convert this dataframe to an interactive table.\"\n",
              "              style=\"display:none;\">\n",
              "        \n",
              "  <svg xmlns=\"http://www.w3.org/2000/svg\" height=\"24px\"viewBox=\"0 0 24 24\"\n",
              "       width=\"24px\">\n",
              "    <path d=\"M0 0h24v24H0V0z\" fill=\"none\"/>\n",
              "    <path d=\"M18.56 5.44l.94 2.06.94-2.06 2.06-.94-2.06-.94-.94-2.06-.94 2.06-2.06.94zm-11 1L8.5 8.5l.94-2.06 2.06-.94-2.06-.94L8.5 2.5l-.94 2.06-2.06.94zm10 10l.94 2.06.94-2.06 2.06-.94-2.06-.94-.94-2.06-.94 2.06-2.06.94z\"/><path d=\"M17.41 7.96l-1.37-1.37c-.4-.4-.92-.59-1.43-.59-.52 0-1.04.2-1.43.59L10.3 9.45l-7.72 7.72c-.78.78-.78 2.05 0 2.83L4 21.41c.39.39.9.59 1.41.59.51 0 1.02-.2 1.41-.59l7.78-7.78 2.81-2.81c.8-.78.8-2.07 0-2.86zM5.41 20L4 18.59l7.72-7.72 1.47 1.35L5.41 20z\"/>\n",
              "  </svg>\n",
              "      </button>\n",
              "      \n",
              "  <style>\n",
              "    .colab-df-container {\n",
              "      display:flex;\n",
              "      flex-wrap:wrap;\n",
              "      gap: 12px;\n",
              "    }\n",
              "\n",
              "    .colab-df-convert {\n",
              "      background-color: #E8F0FE;\n",
              "      border: none;\n",
              "      border-radius: 50%;\n",
              "      cursor: pointer;\n",
              "      display: none;\n",
              "      fill: #1967D2;\n",
              "      height: 32px;\n",
              "      padding: 0 0 0 0;\n",
              "      width: 32px;\n",
              "    }\n",
              "\n",
              "    .colab-df-convert:hover {\n",
              "      background-color: #E2EBFA;\n",
              "      box-shadow: 0px 1px 2px rgba(60, 64, 67, 0.3), 0px 1px 3px 1px rgba(60, 64, 67, 0.15);\n",
              "      fill: #174EA6;\n",
              "    }\n",
              "\n",
              "    [theme=dark] .colab-df-convert {\n",
              "      background-color: #3B4455;\n",
              "      fill: #D2E3FC;\n",
              "    }\n",
              "\n",
              "    [theme=dark] .colab-df-convert:hover {\n",
              "      background-color: #434B5C;\n",
              "      box-shadow: 0px 1px 3px 1px rgba(0, 0, 0, 0.15);\n",
              "      filter: drop-shadow(0px 1px 2px rgba(0, 0, 0, 0.3));\n",
              "      fill: #FFFFFF;\n",
              "    }\n",
              "  </style>\n",
              "\n",
              "      <script>\n",
              "        const buttonEl =\n",
              "          document.querySelector('#df-04e30241-632a-4c84-9a33-2d434f7a2405 button.colab-df-convert');\n",
              "        buttonEl.style.display =\n",
              "          google.colab.kernel.accessAllowed ? 'block' : 'none';\n",
              "\n",
              "        async function convertToInteractive(key) {\n",
              "          const element = document.querySelector('#df-04e30241-632a-4c84-9a33-2d434f7a2405');\n",
              "          const dataTable =\n",
              "            await google.colab.kernel.invokeFunction('convertToInteractive',\n",
              "                                                     [key], {});\n",
              "          if (!dataTable) return;\n",
              "\n",
              "          const docLinkHtml = 'Like what you see? Visit the ' +\n",
              "            '<a target=\"_blank\" href=https://colab.research.google.com/notebooks/data_table.ipynb>data table notebook</a>'\n",
              "            + ' to learn more about interactive tables.';\n",
              "          element.innerHTML = '';\n",
              "          dataTable['output_type'] = 'display_data';\n",
              "          await google.colab.output.renderOutput(dataTable, element);\n",
              "          const docLink = document.createElement('div');\n",
              "          docLink.innerHTML = docLinkHtml;\n",
              "          element.appendChild(docLink);\n",
              "        }\n",
              "      </script>\n",
              "    </div>\n",
              "  </div>\n",
              "  "
            ],
            "text/plain": [
              "   septal_length  septal_width  petal_length  petal_width  class\n",
              "0            6.4           2.8           5.6          2.2      2\n",
              "1            5.0           2.3           3.3          1.0      1\n",
              "2            4.9           2.5           4.5          1.7      2\n",
              "3            4.9           3.1           1.5          0.1      0\n",
              "4            5.7           3.8           1.7          0.3      0"
            ]
          },
          "metadata": {},
          "execution_count": 16
        }
      ]
    },
    {
      "cell_type": "code",
      "source": [
        "data = iris.to_numpy()\n",
        "print(data.shape)\n",
        "print(data[:5])"
      ],
      "metadata": {
        "colab": {
          "base_uri": "https://localhost:8080/"
        },
        "id": "iZuYPKpu6Yob",
        "outputId": "3eb5e5c5-6f22-4a4b-a557-5ec25c3f48ce"
      },
      "execution_count": null,
      "outputs": [
        {
          "output_type": "stream",
          "name": "stdout",
          "text": [
            "(120, 5)\n",
            "[[6.4 2.8 5.6 2.2 2. ]\n",
            " [5.  2.3 3.3 1.  1. ]\n",
            " [4.9 2.5 4.5 1.7 2. ]\n",
            " [4.9 3.1 1.5 0.1 0. ]\n",
            " [5.7 3.8 1.7 0.3 0. ]]\n"
          ]
        }
      ]
    },
    {
      "cell_type": "code",
      "source": [
        "x = data[:,:4]\n",
        "y = data[:,4:]\n",
        "\n",
        "split_index = 100\n",
        "\n",
        "train_x, test_x = x[:split_index], x[split_index:]\n",
        "train_y, test_y = y[:split_index], y[split_index:]\n",
        "\n",
        "print(train_x.shape)\n",
        "print(train_y.shape)\n",
        "print(test_x.shape)\n",
        "print(test_y.shape)"
      ],
      "metadata": {
        "colab": {
          "base_uri": "https://localhost:8080/"
        },
        "id": "4jsrKxL-6Yqx",
        "outputId": "c145992f-e03d-4378-cb28-d4ee84f77fc0"
      },
      "execution_count": null,
      "outputs": [
        {
          "output_type": "stream",
          "name": "stdout",
          "text": [
            "(100, 4)\n",
            "(100, 1)\n",
            "(20, 4)\n",
            "(20, 1)\n"
          ]
        }
      ]
    },
    {
      "cell_type": "code",
      "source": [
        "# 종속변수로 1개만 들어가도 Dense(3)으로 설정\n",
        "# 단, loss=*sparse*_카테고리컬_크로스엔트로피 (sparse로 표시)\n",
        "model = keras.Sequential()\n",
        "model.add(Input(4))\n",
        "model.add(Dense(10, activation='tanh'))\n",
        "model.add(Dense(10, activation='tanh'))\n",
        "model.add(Dense(3, activation='softmax')) # 1이 아니고 클래스 수 3이다\n",
        "\n",
        "# model.compile(optimizer=\"SGD\", loss=\"categorical_crossentropy\", metrics=[\"accuracy\"])는 오류남\n",
        "model.compile(optimizer=\"SGD\", loss=\"sparse_categorical_crossentropy\", metrics=[\"accuracy\"])\n",
        "model.summary()\n",
        "\n",
        "model.fit(train_x, train_y, epochs=1000, verbose=0, batch_size=20)\n",
        "\n",
        "loss, acc = model.evaluate(test_x, test_y)\n",
        "print(\"loss=\", loss)\n",
        "print(\"acc=\", acc)"
      ],
      "metadata": {
        "colab": {
          "base_uri": "https://localhost:8080/"
        },
        "id": "PGTsT9zw6YtT",
        "outputId": "9c429eb5-65f7-4e8c-95ba-ddc8e9576e24"
      },
      "execution_count": null,
      "outputs": [
        {
          "output_type": "stream",
          "name": "stdout",
          "text": [
            "Model: \"sequential_1\"\n",
            "_________________________________________________________________\n",
            " Layer (type)                Output Shape              Param #   \n",
            "=================================================================\n",
            " dense_3 (Dense)             (None, 10)                50        \n",
            "                                                                 \n",
            " dense_4 (Dense)             (None, 10)                110       \n",
            "                                                                 \n",
            " dense_5 (Dense)             (None, 3)                 33        \n",
            "                                                                 \n",
            "=================================================================\n",
            "Total params: 193\n",
            "Trainable params: 193\n",
            "Non-trainable params: 0\n",
            "_________________________________________________________________\n",
            "1/1 [==============================] - 0s 125ms/step - loss: 0.0305 - accuracy: 1.0000\n",
            "loss= 0.03051740862429142\n",
            "acc= 1.0\n"
          ]
        }
      ]
    },
    {
      "cell_type": "code",
      "source": [
        "y_ = model.predict(test_x)\n",
        "print(y_)\n",
        "print(np.argmax(y_, axis=1))"
      ],
      "metadata": {
        "colab": {
          "base_uri": "https://localhost:8080/"
        },
        "id": "Zv_BzZ3Z6Yv2",
        "outputId": "03b483a0-03eb-45af-b123-314eaa9698bd"
      },
      "execution_count": null,
      "outputs": [
        {
          "output_type": "stream",
          "name": "stdout",
          "text": [
            "[[9.93573248e-01 6.29249495e-03 1.34223679e-04]\n",
            " [1.34519488e-02 9.85262394e-01 1.28558627e-03]\n",
            " [9.82520401e-01 1.72649454e-02 2.14738102e-04]\n",
            " [7.88637623e-03 9.90965366e-01 1.14830001e-03]\n",
            " [9.94501233e-01 5.37061598e-03 1.28104730e-04]\n",
            " [9.95299578e-01 4.58093733e-03 1.19519573e-04]\n",
            " [9.95879769e-01 4.00558906e-03 1.14734088e-04]\n",
            " [9.95931685e-01 3.95348435e-03 1.14849434e-04]\n",
            " [2.00024974e-02 9.78859067e-01 1.13842334e-03]\n",
            " [9.93408084e-01 6.45586289e-03 1.36096758e-04]\n",
            " [3.90491274e-04 2.95990765e-01 7.03618765e-01]\n",
            " [4.43235924e-03 9.91803110e-01 3.76448105e-03]\n",
            " [9.92195964e-01 7.65969232e-03 1.44315592e-04]\n",
            " [9.14926932e-05 6.46564811e-02 9.35252011e-01]\n",
            " [9.94439483e-01 5.43045951e-03 1.30053086e-04]\n",
            " [2.05528806e-03 9.56210375e-01 4.17343304e-02]\n",
            " [8.18611495e-03 9.89900529e-01 1.91329629e-03]\n",
            " [9.93480682e-01 6.38195267e-03 1.37332710e-04]\n",
            " [9.93926346e-01 5.94263384e-03 1.31002220e-04]\n",
            " [6.99622789e-03 9.91762996e-01 1.24076998e-03]]\n",
            "[0 1 0 1 0 0 0 0 1 0 2 1 0 2 0 1 1 0 0 1]\n"
          ]
        }
      ]
    },
    {
      "cell_type": "markdown",
      "source": [
        "두 경우 모두 acc가 1이 나와, loss기준으로 평가한 결과 종속변수를 카테고리 인덱스 하나로 묶어준 sparse_categorical_crossentropy가 loss가 더 낮아 더 좋은결과를 얻은것으로 보인다"
      ],
      "metadata": {
        "id": "w40lILCrt8Xg"
      }
    },
    {
      "cell_type": "code",
      "source": [
        ""
      ],
      "metadata": {
        "id": "-_3-0DgK6Y23"
      },
      "execution_count": null,
      "outputs": []
    },
    {
      "cell_type": "code",
      "source": [
        ""
      ],
      "metadata": {
        "id": "qn0yARji6Y5a"
      },
      "execution_count": null,
      "outputs": []
    }
  ]
}