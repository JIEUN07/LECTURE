{
 "cells": [
  {
   "cell_type": "markdown",
   "id": "9506e97b",
   "metadata": {},
   "source": [
    "# 9.14 예외"
   ]
  },
  {
   "cell_type": "code",
   "execution_count": 2,
   "id": "5662492a",
   "metadata": {},
   "outputs": [],
   "source": [
    "short_list = list(range(1,11))"
   ]
  },
  {
   "cell_type": "code",
   "execution_count": 3,
   "id": "681b9ad4",
   "metadata": {},
   "outputs": [
    {
     "data": {
      "text/plain": [
       "[1, 2, 3, 4, 5, 6, 7, 8, 9, 10]"
      ]
     },
     "execution_count": 3,
     "metadata": {},
     "output_type": "execute_result"
    }
   ],
   "source": [
    "short_list"
   ]
  },
  {
   "cell_type": "code",
   "execution_count": 4,
   "id": "42462fa1",
   "metadata": {},
   "outputs": [
    {
     "data": {
      "text/plain": [
       "10"
      ]
     },
     "execution_count": 4,
     "metadata": {},
     "output_type": "execute_result"
    }
   ],
   "source": [
    "short_list[9]"
   ]
  },
  {
   "cell_type": "code",
   "execution_count": 5,
   "id": "843f9c48",
   "metadata": {},
   "outputs": [
    {
     "ename": "IndexError",
     "evalue": "list index out of range",
     "output_type": "error",
     "traceback": [
      "\u001b[1;31m---------------------------------------------------------------------------\u001b[0m",
      "\u001b[1;31mIndexError\u001b[0m                                Traceback (most recent call last)",
      "\u001b[1;32m<ipython-input-5-8d67de1a6e30>\u001b[0m in \u001b[0;36m<module>\u001b[1;34m\u001b[0m\n\u001b[1;32m----> 1\u001b[1;33m \u001b[0mshort_list\u001b[0m\u001b[1;33m[\u001b[0m\u001b[1;36m10\u001b[0m\u001b[1;33m]\u001b[0m\u001b[1;33m\u001b[0m\u001b[1;33m\u001b[0m\u001b[0m\n\u001b[0m",
      "\u001b[1;31mIndexError\u001b[0m: list index out of range"
     ]
    }
   ],
   "source": [
    "short_list[10]"
   ]
  },
  {
   "cell_type": "markdown",
   "id": "bd602d68",
   "metadata": {},
   "source": [
    "혹시모를 에러 발생여부를 미리 확인하는 구문"
   ]
  },
  {
   "cell_type": "code",
   "execution_count": 7,
   "id": "018ec8ef",
   "metadata": {},
   "outputs": [
    {
     "name": "stdout",
     "output_type": "stream",
     "text": [
      "Need as pdsition between 0 and 10\n"
     ]
    }
   ],
   "source": [
    "try:      # 오류 없으면 아무것도 안나옴\n",
    "    short_list[11] \n",
    "except:\n",
    "    print(\"Need as position between 0 and\", len(short_list))  # 잘 못 쓴 경우 프린트"
   ]
  },
  {
   "cell_type": "code",
   "execution_count": 15,
   "id": "65ac4799",
   "metadata": {},
   "outputs": [
    {
     "name": "stdout",
     "output_type": "stream",
     "text": [
      "인덱스 [q to quit] ?3\n",
      "4\n",
      "인덱스 [q to quit] ?6\n",
      "잘못된 인덱스 6\n",
      "인덱스 [q to quit] ?a\n",
      "무언가 예외를 발생해서 멈춤 invalid literal for int() with base 10: 'a'\n",
      "인덱스 [q to quit] ?q\n"
     ]
    }
   ],
   "source": [
    "short_list = [1,2,3,4,5]\n",
    "while True:\n",
    "    value = input('인덱스 [q to quit] ?')\n",
    "    if value == 'q':\n",
    "        break\n",
    "    try:\n",
    "        position = int(value)\n",
    "        print(short_list[position])\n",
    "    except IndexError as err:\n",
    "        print('잘못된 인덱스', position)    # short_list에 없는 행값\n",
    "    except Exception as other:\n",
    "        print('무언가 예외를 발생해서 멈춤', other)  # int가 아닌 경우"
   ]
  },
  {
   "cell_type": "markdown",
   "id": "c304e0f9",
   "metadata": {},
   "source": [
    "# 10. 객체와 데이터\n",
    "객체 데이터(필드), 메소드///\n",
    "인스턴스"
   ]
  },
  {
   "cell_type": "markdown",
   "id": "f3937b14",
   "metadata": {},
   "source": [
    "생성 -> 클래스(class): 모델하우스,"
   ]
  },
  {
   "cell_type": "markdown",
   "id": "d4e5f7a7",
   "metadata": {},
   "source": [
    "완성구조 -> 객체(object): 집"
   ]
  },
  {
   "cell_type": "code",
   "execution_count": 17,
   "id": "3f83c9c3",
   "metadata": {},
   "outputs": [],
   "source": [
    "# 클래스\n",
    "class Cat():    # 객체이름은 대문자로 시작하도록 함 (함수선언이랑 헷갈리지 않게)\n",
    "    pass   #아무것도 할 수 없는 객체 껍데기 생성"
   ]
  },
  {
   "cell_type": "code",
   "execution_count": null,
   "id": "d7a1e82e",
   "metadata": {},
   "outputs": [],
   "source": [
    "# 객체\n",
    "a_cat= Cat()  # 선언 해줘야함  # () 함수 = 메소드\n",
    "anther_cat = cat"
   ]
  },
  {
   "cell_type": "code",
   "execution_count": 22,
   "id": "771b8d11",
   "metadata": {},
   "outputs": [],
   "source": [
    "class Cat:   # 괄호 유무는 생략가능\n",
    "    def __init__(self, name, weight):   # 멤버임을 나타내고 싶으면 무조건 'self'써야함 (self값은 안넣어도 됨)\n",
    "    # __init__: 자동으로 같은이름의 함수 선언을 해줌\n",
    "    # '.' 찍었을 때 나오는 변수 = 멤버\n",
    "        self.name = name\n",
    "        self.weight = weight\n",
    "        temp = 100  # 멤버로 안나옴  self 안써줘서"
   ]
  },
  {
   "cell_type": "code",
   "execution_count": 20,
   "id": "38384ec0",
   "metadata": {},
   "outputs": [],
   "source": [
    "my_cat = Cat('kitty', 30)"
   ]
  },
  {
   "cell_type": "code",
   "execution_count": 24,
   "id": "ae59dc08",
   "metadata": {},
   "outputs": [
    {
     "data": {
      "text/plain": [
       "('kitty', 30)"
      ]
     },
     "execution_count": 24,
     "metadata": {},
     "output_type": "execute_result"
    }
   ],
   "source": [
    "my_cat.name, my_cat.weight"
   ]
  },
  {
   "cell_type": "markdown",
   "id": "6019546f",
   "metadata": {},
   "source": [
    "# 10.3 상속"
   ]
  },
  {
   "cell_type": "code",
   "execution_count": 25,
   "id": "2e240946",
   "metadata": {},
   "outputs": [],
   "source": [
    "class Car():\n",
    "    def exclaim(self):\n",
    "        print(\"나는 자동차!!!!\")"
   ]
  },
  {
   "cell_type": "code",
   "execution_count": 48,
   "id": "3776c48b",
   "metadata": {},
   "outputs": [],
   "source": [
    "class Car():\n",
    "    def exclaim(self):\n",
    "        print(\"나는 자동차!!!!\")\n",
    "    def __str__(self):\n",
    "        return \"car\"\n",
    "    def __repr__(self):\n",
    "        return \"Class Car\""
   ]
  },
  {
   "cell_type": "code",
   "execution_count": 49,
   "id": "507ffc1a",
   "metadata": {},
   "outputs": [],
   "source": [
    "class Yugo(Car):\n",
    "    def exclaim(self):\n",
    "        print(\"나는 자동차 같은 유고\")"
   ]
  },
  {
   "cell_type": "code",
   "execution_count": 58,
   "id": "95a831df",
   "metadata": {},
   "outputs": [
    {
     "data": {
      "text/plain": [
       "(Class Car, Class Car)"
      ]
     },
     "execution_count": 58,
     "metadata": {},
     "output_type": "execute_result"
    }
   ],
   "source": [
    "give_me_a_car = Car() # 클래스 아님, 클래스를 만든 함수(메소드)\n",
    "give_me_a_yugo = Yugo()\n",
    "give_me_a_car, give_me_a_yugo"
   ]
  },
  {
   "cell_type": "code",
   "execution_count": 60,
   "id": "da7d53a9",
   "metadata": {},
   "outputs": [
    {
     "name": "stdout",
     "output_type": "stream",
     "text": [
      "car\n",
      "car\n"
     ]
    },
    {
     "data": {
      "text/plain": [
       "(None, None)"
      ]
     },
     "execution_count": 60,
     "metadata": {},
     "output_type": "execute_result"
    }
   ],
   "source": [
    "print(give_me_a_car), print(give_me_a_yugo)"
   ]
  },
  {
   "cell_type": "code",
   "execution_count": 61,
   "id": "39425d95",
   "metadata": {},
   "outputs": [
    {
     "name": "stdout",
     "output_type": "stream",
     "text": [
      "나는 자동차!!!!\n"
     ]
    }
   ],
   "source": [
    "give_me_a_car.exclaim()"
   ]
  },
  {
   "cell_type": "code",
   "execution_count": 62,
   "id": "a02e8a01",
   "metadata": {},
   "outputs": [
    {
     "name": "stdout",
     "output_type": "stream",
     "text": [
      "나는 자동차 같은 유고\n"
     ]
    }
   ],
   "source": [
    "give_me_a_yugo.exclaim()"
   ]
  },
  {
   "cell_type": "code",
   "execution_count": 63,
   "id": "5019391a",
   "metadata": {},
   "outputs": [],
   "source": [
    "a = list(range(1,30))"
   ]
  },
  {
   "cell_type": "code",
   "execution_count": 64,
   "id": "7fa1da2b",
   "metadata": {},
   "outputs": [
    {
     "name": "stdout",
     "output_type": "stream",
     "text": [
      "[1, 2, 3, 4, 5, 6, 7, 8, 9, 10, 11, 12, 13, 14, 15, 16, 17, 18, 19, 20, 21, 22, 23, 24, 25, 26, 27, 28, 29]\n"
     ]
    }
   ],
   "source": [
    "print(a)"
   ]
  },
  {
   "cell_type": "code",
   "execution_count": 65,
   "id": "c40c0db3",
   "metadata": {},
   "outputs": [
    {
     "data": {
      "text/plain": [
       "2646459019776"
      ]
     },
     "execution_count": 65,
     "metadata": {},
     "output_type": "execute_result"
    }
   ],
   "source": [
    "id(a)"
   ]
  },
  {
   "cell_type": "code",
   "execution_count": 66,
   "id": "16daa095",
   "metadata": {},
   "outputs": [
    {
     "data": {
      "text/plain": [
       "'[1, 2, 3, 4, 5, 6, 7, 8, 9, 10, 11, 12, 13, 14, 15, 16, 17, 18, 19, 20, 21, 22, 23, 24, 25, 26, 27, 28, 29]'"
      ]
     },
     "execution_count": 66,
     "metadata": {},
     "output_type": "execute_result"
    }
   ],
   "source": [
    "a.__str__()   # 던더 붙은 멤버 ??  매직메소드"
   ]
  },
  {
   "cell_type": "code",
   "execution_count": 68,
   "id": "f5a8bef2",
   "metadata": {},
   "outputs": [
    {
     "data": {
      "text/plain": [
       "'[1, 2, 3, 4, 5, 6, 7, 8, 9, 10, 11, 12, 13, 14, 15, 16, 17, 18, 19, 20, 21, 22, 23, 24, 25, 26, 27, 28, 29]'"
      ]
     },
     "execution_count": 68,
     "metadata": {},
     "output_type": "execute_result"
    }
   ],
   "source": [
    "a.__repr__()  # 필드값이 찍힘"
   ]
  },
  {
   "cell_type": "markdown",
   "id": "e462c2d2",
   "metadata": {},
   "source": [
    "# 10.5 속성 접근"
   ]
  },
  {
   "cell_type": "code",
   "execution_count": 72,
   "id": "7792fc8e",
   "metadata": {},
   "outputs": [],
   "source": [
    "class Duck:\n",
    "    def __init__(self, input_name):\n",
    "        self.name = input_name\n",
    "fowl = Duck('Daffy')"
   ]
  },
  {
   "cell_type": "code",
   "execution_count": 74,
   "id": "ad39d4c7",
   "metadata": {},
   "outputs": [
    {
     "data": {
      "text/plain": [
       "'Daffy'"
      ]
     },
     "execution_count": 74,
     "metadata": {},
     "output_type": "execute_result"
    }
   ],
   "source": [
    "fowl.name"
   ]
  },
  {
   "cell_type": "code",
   "execution_count": null,
   "id": "3ddb564c",
   "metadata": {},
   "outputs": [],
   "source": [
    "fowl.name = 'Dophne'    # 잘못된 수정방법\n",
    "fowl.name"
   ]
  },
  {
   "cell_type": "code",
   "execution_count": null,
   "id": "74b14be3",
   "metadata": {},
   "outputs": [],
   "source": [
    "# 수정 막는 법"
   ]
  },
  {
   "cell_type": "code",
   "execution_count": 81,
   "id": "ee2e921f",
   "metadata": {},
   "outputs": [],
   "source": [
    "class Duck():\n",
    "    def __init__(self, input_name):\n",
    "        self.hidden_name = input_name\n",
    "    def get_name(self):\n",
    "        print(\"inside the getter\")\n",
    "        return self.hidden_name\n",
    "    def set_name(self, input_name):\n",
    "        print(\"inside the setter\")\n",
    "        self.hidden_name = input_name"
   ]
  },
  {
   "cell_type": "code",
   "execution_count": 84,
   "id": "131ba08e",
   "metadata": {},
   "outputs": [
    {
     "name": "stdout",
     "output_type": "stream",
     "text": [
      "inside the getter\n",
      "inside the setter\n",
      "inside the getter\n"
     ]
    },
    {
     "data": {
      "text/plain": [
       "'철수'"
      ]
     },
     "execution_count": 84,
     "metadata": {},
     "output_type": "execute_result"
    }
   ],
   "source": [
    "don = Duck('Donald')\n",
    "don.get_name()\n",
    "don.set_name('철수')\n",
    "don.get_name()"
   ]
  },
  {
   "cell_type": "markdown",
   "id": "890e8781",
   "metadata": {},
   "source": [
    "# 데커레이터"
   ]
  },
  {
   "cell_type": "code",
   "execution_count": 93,
   "id": "183b3ddc",
   "metadata": {},
   "outputs": [],
   "source": [
    "class Duck():\n",
    "    def __init__(self, input_name):\n",
    "        self.hidden_name = input_name\n",
    "    @property     # @property : 밑에 한 블럭만 실행하겟다\n",
    "    def name(self):\n",
    "        print(\"inside the getter\")\n",
    "        return self.hidden_name\n",
    "    @name.setter  # @ .setter 고정 name은 고정이 아님\n",
    "    def name(self, input_name):\n",
    "        print(\"inside the setter\")\n",
    "        self.hidden_name = input_name"
   ]
  },
  {
   "cell_type": "code",
   "execution_count": 94,
   "id": "00b90569",
   "metadata": {},
   "outputs": [],
   "source": [
    "fowl = Duck('Howard')"
   ]
  },
  {
   "cell_type": "code",
   "execution_count": 95,
   "id": "dd9393d2",
   "metadata": {},
   "outputs": [
    {
     "name": "stdout",
     "output_type": "stream",
     "text": [
      "inside the getter\n"
     ]
    },
    {
     "ename": "TypeError",
     "evalue": "'str' object is not callable",
     "output_type": "error",
     "traceback": [
      "\u001b[1;31m---------------------------------------------------------------------------\u001b[0m",
      "\u001b[1;31mTypeError\u001b[0m                                 Traceback (most recent call last)",
      "\u001b[1;32m<ipython-input-95-a2d19b5f52f6>\u001b[0m in \u001b[0;36m<module>\u001b[1;34m\u001b[0m\n\u001b[1;32m----> 1\u001b[1;33m \u001b[0mfowl\u001b[0m\u001b[1;33m.\u001b[0m\u001b[0mname\u001b[0m\u001b[1;33m(\u001b[0m\u001b[1;33m)\u001b[0m   \u001b[1;31m# 함수인데 변수처럼 이용 괄호 넣으면 안돌아감\u001b[0m\u001b[1;33m\u001b[0m\u001b[1;33m\u001b[0m\u001b[0m\n\u001b[0m",
      "\u001b[1;31mTypeError\u001b[0m: 'str' object is not callable"
     ]
    }
   ],
   "source": [
    "fowl.name()   # 함수인데 변수처럼 이용 괄호 넣으면 안돌아감"
   ]
  },
  {
   "cell_type": "code",
   "execution_count": 96,
   "id": "7fd833a0",
   "metadata": {
    "scrolled": true
   },
   "outputs": [
    {
     "name": "stdout",
     "output_type": "stream",
     "text": [
      "inside the getter\n"
     ]
    },
    {
     "data": {
      "text/plain": [
       "'Howard'"
      ]
     },
     "execution_count": 96,
     "metadata": {},
     "output_type": "execute_result"
    }
   ],
   "source": [
    "fowl.name"
   ]
  },
  {
   "cell_type": "code",
   "execution_count": 97,
   "id": "6cfb86f2",
   "metadata": {},
   "outputs": [
    {
     "name": "stdout",
     "output_type": "stream",
     "text": [
      "inside the setter\n"
     ]
    }
   ],
   "source": [
    "fowl.name = 'Donald'"
   ]
  },
  {
   "cell_type": "code",
   "execution_count": 98,
   "id": "03d9be78",
   "metadata": {},
   "outputs": [
    {
     "name": "stdout",
     "output_type": "stream",
     "text": [
      "inside the getter\n"
     ]
    },
    {
     "data": {
      "text/plain": [
       "'Donald'"
      ]
     },
     "execution_count": 98,
     "metadata": {},
     "output_type": "execute_result"
    }
   ],
   "source": [
    "fowl.name   # 함수인데 변수처럼 이용 -> getter, setter"
   ]
  },
  {
   "cell_type": "code",
   "execution_count": 183,
   "id": "fadc3d40",
   "metadata": {},
   "outputs": [],
   "source": [
    "class Duck():\n",
    "    def __init__(self, input_name):\n",
    "        self.__name = input_name\n",
    "    @property     # @property : 밑에 한 블럭만 실행하겟다\n",
    "    def name(self):\n",
    "        print(\"inside the getter\")\n",
    "        return self.__name\n",
    "    @name.setter\n",
    "    def name(self, input_name):\n",
    "        print(\"inside the setter\")\n",
    "        self.__name = input_name"
   ]
  },
  {
   "cell_type": "code",
   "execution_count": 184,
   "id": "77cc31e3",
   "metadata": {},
   "outputs": [],
   "source": [
    "fowl = Duck('Donald')"
   ]
  },
  {
   "cell_type": "code",
   "execution_count": 185,
   "id": "2e1557a4",
   "metadata": {},
   "outputs": [
    {
     "name": "stdout",
     "output_type": "stream",
     "text": [
      "inside the getter\n"
     ]
    },
    {
     "data": {
      "text/plain": [
       "'Donald'"
      ]
     },
     "execution_count": 185,
     "metadata": {},
     "output_type": "execute_result"
    }
   ],
   "source": [
    "fowl.name"
   ]
  },
  {
   "cell_type": "code",
   "execution_count": 182,
   "id": "e2a9f635",
   "metadata": {},
   "outputs": [
    {
     "data": {
      "text/plain": [
       "'Donald'"
      ]
     },
     "execution_count": 182,
     "metadata": {},
     "output_type": "execute_result"
    }
   ],
   "source": [
    "fowl._Duck__name       # 접근불가 원천 차단은 아님    "
   ]
  },
  {
   "cell_type": "code",
   "execution_count": 186,
   "id": "7850ef6f",
   "metadata": {},
   "outputs": [
    {
     "ename": "AttributeError",
     "evalue": "'Duck' object has no attribute '__name'",
     "output_type": "error",
     "traceback": [
      "\u001b[1;31m---------------------------------------------------------------------------\u001b[0m",
      "\u001b[1;31mAttributeError\u001b[0m                            Traceback (most recent call last)",
      "\u001b[1;32m<ipython-input-186-ac7e49f5f161>\u001b[0m in \u001b[0;36m<module>\u001b[1;34m\u001b[0m\n\u001b[1;32m----> 1\u001b[1;33m \u001b[0mfowl\u001b[0m\u001b[1;33m.\u001b[0m\u001b[0m__name\u001b[0m\u001b[1;33m\u001b[0m\u001b[1;33m\u001b[0m\u001b[0m\n\u001b[0m",
      "\u001b[1;31mAttributeError\u001b[0m: 'Duck' object has no attribute '__name'"
     ]
    }
   ],
   "source": [
    "fowl.__name  # 변수에 접근불가"
   ]
  },
  {
   "cell_type": "code",
   "execution_count": null,
   "id": "6071710f",
   "metadata": {},
   "outputs": [],
   "source": []
  },
  {
   "cell_type": "markdown",
   "id": "2d0c9939",
   "metadata": {},
   "source": [
    "# 10.8 매직 매서드"
   ]
  },
  {
   "cell_type": "code",
   "execution_count": 114,
   "id": "174dba42",
   "metadata": {},
   "outputs": [],
   "source": [
    "class Word:\n",
    "    def __init__(self, text):\n",
    "        self.text = text\n",
    "    def equals(self, words):\n",
    "        return self.text.lower() == words.text.lower()  # 대소문자 구분 없애주는 lower를 사용(둘다 소문자로 만들어줌)"
   ]
  },
  {
   "cell_type": "code",
   "execution_count": 113,
   "id": "d0e2ecc8",
   "metadata": {},
   "outputs": [
    {
     "data": {
      "text/plain": [
       "(True, False)"
      ]
     },
     "execution_count": 113,
     "metadata": {},
     "output_type": "execute_result"
    }
   ],
   "source": [
    "'ab' == 'ab', 'AB' == 'ab' # 내용정보없이 대소문자 구분되어 둘이 다르다고 나옴"
   ]
  },
  {
   "cell_type": "code",
   "execution_count": 138,
   "id": "de98eac9",
   "metadata": {},
   "outputs": [
    {
     "data": {
      "text/plain": [
       "True"
      ]
     },
     "execution_count": 138,
     "metadata": {},
     "output_type": "execute_result"
    }
   ],
   "source": [
    "word1 = Word(\"Love\")\n",
    "word2 = Word(\"love\")\n",
    "word1.equals(word2)"
   ]
  },
  {
   "cell_type": "code",
   "execution_count": 129,
   "id": "7cb833b2",
   "metadata": {},
   "outputs": [
    {
     "data": {
      "text/plain": [
       "True"
      ]
     },
     "execution_count": 129,
     "metadata": {},
     "output_type": "execute_result"
    }
   ],
   "source": [
    "word1 == word2 "
   ]
  },
  {
   "cell_type": "code",
   "execution_count": 120,
   "id": "63706454",
   "metadata": {},
   "outputs": [],
   "source": [
    "class Word:\n",
    "    def __init__(self, text):\n",
    "        self.text = text\n",
    "    def equals(self, words):\n",
    "        return self.text.lower() == words.text.lower()\n",
    "    def __eq__(self, words):     # word1 == word2  돌아가게함\n",
    "        return self.text.lower() == words.text.lower()"
   ]
  },
  {
   "cell_type": "code",
   "execution_count": 130,
   "id": "40676033",
   "metadata": {},
   "outputs": [
    {
     "data": {
      "text/plain": [
       "True"
      ]
     },
     "execution_count": 130,
     "metadata": {},
     "output_type": "execute_result"
    }
   ],
   "source": [
    "word1 == word2 "
   ]
  },
  {
   "cell_type": "code",
   "execution_count": 131,
   "id": "53242b53",
   "metadata": {},
   "outputs": [],
   "source": [
    "class Word:\n",
    "    def __init__(self, text):\n",
    "        self.text = text\n",
    "    def equals(self, words):\n",
    "        return self.text.lower() == words.text.lower()\n",
    "    def __eq__(self, words):\n",
    "        return self.text.lower() == words.text.lower()\n",
    "    def __str__(self):      # print(word1) 가능하게 함\n",
    "        return self.text"
   ]
  },
  {
   "cell_type": "code",
   "execution_count": 132,
   "id": "0e97abd8",
   "metadata": {},
   "outputs": [
    {
     "name": "stdout",
     "output_type": "stream",
     "text": [
      "Love\n"
     ]
    }
   ],
   "source": [
    "print(word1)"
   ]
  },
  {
   "cell_type": "code",
   "execution_count": 159,
   "id": "4eb10b5a",
   "metadata": {},
   "outputs": [],
   "source": [
    "class Word:\n",
    "    def __init__(self, text):\n",
    "        self.text = text\n",
    "    def equals(self, words):\n",
    "        return self.text.lower() == words.text.lower()\n",
    "    def __eq__(self, words):    # word1 == word2  돌아가게함\n",
    "        return self.text.lower() == words.text.lower()\n",
    "    def __str__(self):      # print(word1) 가능하게 함\n",
    "        return self.text\n",
    "    def __repr__(self):     # 변수값만 입력해도 할당값이 나오게함\n",
    "        return \"Word('\" + self.text + \"')\"\n",
    "    def __add__(self,other):   # 문자 더하기\n",
    "        return self.text +'  '+ other.text\n",
    "    def __sub__(self, other):   #  문자 빼기\n",
    "        return self.text.replace(other.text,\"\")"
   ]
  },
  {
   "cell_type": "code",
   "execution_count": 160,
   "id": "2391569e",
   "metadata": {},
   "outputs": [
    {
     "name": "stdout",
     "output_type": "stream",
     "text": [
      "Love\n"
     ]
    },
    {
     "data": {
      "text/plain": [
       "'Love  love'"
      ]
     },
     "execution_count": 160,
     "metadata": {},
     "output_type": "execute_result"
    }
   ],
   "source": [
    "word1 = Word(\"Love\")\n",
    "word2 = Word(\"love\")\n",
    "word1.equals(word2)\n",
    "word1 == word2 \n",
    "print(word1)\n",
    "word1, word2\n",
    "word1 + word2\n"
   ]
  },
  {
   "cell_type": "code",
   "execution_count": 161,
   "id": "7a73065c",
   "metadata": {},
   "outputs": [
    {
     "data": {
      "text/plain": [
       "Word('Love')"
      ]
     },
     "execution_count": 161,
     "metadata": {},
     "output_type": "execute_result"
    }
   ],
   "source": [
    "word1"
   ]
  },
  {
   "cell_type": "code",
   "execution_count": 162,
   "id": "88e4fbac",
   "metadata": {},
   "outputs": [
    {
     "name": "stdout",
     "output_type": "stream",
     "text": [
      "Love\n"
     ]
    }
   ],
   "source": [
    "print(word1)"
   ]
  },
  {
   "cell_type": "code",
   "execution_count": 164,
   "id": "ad6ce513",
   "metadata": {},
   "outputs": [
    {
     "data": {
      "text/plain": [
       "'student class  stair'"
      ]
     },
     "execution_count": 164,
     "metadata": {},
     "output_type": "execute_result"
    }
   ],
   "source": [
    "word3 = Word(\"student class room stair\")\n",
    "word4 = Word(\"room\")\n",
    "word3 - word4"
   ]
  },
  {
   "cell_type": "code",
   "execution_count": null,
   "id": "caa96a96",
   "metadata": {},
   "outputs": [],
   "source": []
  },
  {
   "cell_type": "code",
   "execution_count": null,
   "id": "86c5b942",
   "metadata": {},
   "outputs": [],
   "source": []
  },
  {
   "cell_type": "code",
   "execution_count": null,
   "id": "120b5765",
   "metadata": {},
   "outputs": [],
   "source": []
  },
  {
   "cell_type": "code",
   "execution_count": null,
   "id": "52e132ca",
   "metadata": {},
   "outputs": [],
   "source": []
  },
  {
   "cell_type": "code",
   "execution_count": null,
   "id": "f2709275",
   "metadata": {},
   "outputs": [],
   "source": []
  }
 ],
 "metadata": {
  "kernelspec": {
   "display_name": "Python 3",
   "language": "python",
   "name": "python3"
  },
  "language_info": {
   "codemirror_mode": {
    "name": "ipython",
    "version": 3
   },
   "file_extension": ".py",
   "mimetype": "text/x-python",
   "name": "python",
   "nbconvert_exporter": "python",
   "pygments_lexer": "ipython3",
   "version": "3.8.8"
  }
 },
 "nbformat": 4,
 "nbformat_minor": 5
}
