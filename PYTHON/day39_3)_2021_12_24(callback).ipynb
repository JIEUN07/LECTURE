{
  "nbformat": 4,
  "nbformat_minor": 0,
  "metadata": {
    "colab": {
      "name": "day39_3) 2021-12-24(callback).ipynb",
      "provenance": []
    },
    "kernelspec": {
      "name": "python3",
      "display_name": "Python 3"
    },
    "language_info": {
      "name": "python"
    }
  },
  "cells": [
    {
      "cell_type": "markdown",
      "source": [
        "\n",
        "# CallBack\n",
        "학습하는 도중 로그 출력이나 모델저장 등 다양한 액션 가능"
      ],
      "metadata": {
        "id": "862rVyDDn9k-"
      }
    },
    {
      "cell_type": "code",
      "execution_count": null,
      "metadata": {
        "id": "IjUcqiw-n88H"
      },
      "outputs": [],
      "source": [
        "import numpy as np\n",
        "import pandas as pd\n",
        "import matplotlib.pyplot as plt\n",
        "\n",
        "import tensorflow as tf\n",
        "from tensorflow import keras\n",
        "\n",
        "import time\n",
        "\n",
        "from tensorflow.keras import optimizers\n",
        "from tensorflow.keras.layers import Dense\n",
        "from tensorflow.keras.callbacks import Callback"
      ]
    },
    {
      "cell_type": "code",
      "source": [
        "x = np.arange(-1,1,0.01)\n",
        "np.random.shuffle(x)\n",
        "y = x**2\n",
        "\n",
        "split_index = int(x.shape[0]*0.6)\n",
        "\n",
        "train_x, test_x = x[:split_index], x[split_index:]\n",
        "train_y, test_y = y[:split_index], y[split_index:]"
      ],
      "metadata": {
        "id": "fmr9DQZwoGLX"
      },
      "execution_count": null,
      "outputs": []
    },
    {
      "cell_type": "markdown",
      "source": [
        "## 로스 실시간 출력"
      ],
      "metadata": {
        "id": "y6T6Nf7LoSMV"
      }
    },
    {
      "cell_type": "code",
      "source": [
        "# copy from https://gist.github.com/stared/dfb4dfaf6d9a8501cd1cc8b8cb806d2e\n",
        "\n",
        "from IPython.display import clear_output\n",
        "from tensorflow.keras.callbacks import Callback\n",
        "\n",
        "\n",
        "class PlotLosses(Callback):\n",
        "\n",
        "  def on_train_begin(self, logs={}):\n",
        "\n",
        "    self.i = 0\n",
        "    self.x = []\n",
        "    self.losses = []\n",
        "    self.val_losses = []\n",
        "\n",
        "    self.fig = plt.figure()\n",
        "\n",
        "    self.logs = []\n",
        "\n",
        "\n",
        "  def on_epoch_end(self, epoch, logs={}):\n",
        "\n",
        "    self.logs.append(logs)\n",
        "    self.x.append(self.i)\n",
        "    self.losses.append(logs.get('loss'))\n",
        "    self.val_losses.append(logs.get('val_loss'))\n",
        "    self.i += 1\n",
        "\n",
        "    clear_output(wait=True)  # 출력된 화면 지우고 새로그리기 위함\n",
        "    plt.plot(self.x, self.losses, label=\"loss\")\n",
        "    plt.plot(self.x, self.val_losses, label=\"val_loss\")\n",
        "    plt.legend()\n",
        "    plt.show();\n",
        "    print(\"loss = \", self.losses[-1], \", val_loss = \", self.val_losses[-1])\n"
      ],
      "metadata": {
        "id": "IObcfiOHoGN_"
      },
      "execution_count": null,
      "outputs": []
    },
    {
      "cell_type": "code",
      "source": [
        "model = keras.Sequential()\n",
        "model.add(Dense(10, activation='tanh', input_shape=(1,)))\n",
        "model.add(Dense(10, activation='tanh'))\n",
        "model.add(Dense(1))\n",
        "\n",
        "model.compile(optimizer=\"SGD\", loss=\"mse\", metrics=[\"mse\"])\n",
        "\n",
        "plot_losses = PlotLosses()\n",
        "# model.fit(train_x, train_y, epochs=1000, verbose=0, batch_size=20, validation_split=0.1)\n",
        "model.fit(train_x, train_y, epochs=1000, verbose=0, batch_size=20, validation_split=0.1, \n",
        "          callbacks=[plot_losses])\n"
      ],
      "metadata": {
        "colab": {
          "base_uri": "https://localhost:8080/",
          "height": 302
        },
        "id": "O0by4gOCoGQY",
        "outputId": "4e79e981-9462-4c85-bc95-e99c1ee5337b"
      },
      "execution_count": null,
      "outputs": [
        {
          "output_type": "display_data",
          "data": {
            "image/png": "[encoded data removed]",
            "text/plain": [
              "<Figure size 432x288 with 1 Axes>"
            ]
          },
          "metadata": {
            "needs_background": "light"
          }
        },
        {
          "output_type": "stream",
          "name": "stdout",
          "text": [
            "loss =  0.0035549530293792486 , val_loss =  0.004405435174703598\n"
          ]
        },
        {
          "output_type": "execute_result",
          "data": {
            "text/plain": [
              "<keras.callbacks.History at 0x7f560fb27c10>"
            ]
          },
          "metadata": {},
          "execution_count": 4
        }
      ]
    },
    {
      "cell_type": "markdown",
      "source": [
        "## 모델 저장 - ModelCheckpoint"
      ],
      "metadata": {
        "id": "khtSmMAso9TZ"
      }
    },
    {
      "cell_type": "code",
      "source": [
        "model = keras.Sequential()\n",
        "model.add(Dense(10, activation='tanh', input_shape=(1,)))\n",
        "model.add(Dense(10, activation='tanh'))\n",
        "model.add(Dense(1))\n",
        "\n",
        "model.compile(optimizer=\"SGD\", loss=\"mse\", metrics=[\"mse\"])\n",
        "\n",
        "\n",
        "\n",
        "# 모델 선택. h5파일로 저장\n",
        "from tensorflow.keras.callbacks import ModelCheckpoint\n",
        "model_check_point = ModelCheckpoint('best_model.h5', monitor='val_loss', mode='min', save_best_only=True)\n",
        "\n",
        "# model.fit(train_x, train_y, epochs=1000, verbose=0, batch_size=20, validation_split=0.1)\n",
        "model.fit(train_x, train_y, epochs=1000, verbose=0, batch_size=20, validation_split=0.1, \n",
        "          callbacks=[model_check_point])"
      ],
      "metadata": {
        "colab": {
          "base_uri": "https://localhost:8080/"
        },
        "id": "3ZVghDfpoGS2",
        "outputId": "065ccf96-1f76-4713-a319-38cb332a0e32"
      },
      "execution_count": null,
      "outputs": [
        {
          "output_type": "execute_result",
          "data": {
            "text/plain": [
              "<keras.callbacks.History at 0x7f560966b3d0>"
            ]
          },
          "metadata": {},
          "execution_count": 5
        }
      ]
    },
    {
      "cell_type": "markdown",
      "source": [
        "## 학습율 조정 - ReduceLROnPlateau\n",
        "학습 과정을 모니터링 하면서 진척되지 않으면 학습율 조정\n",
        "\n",
        "0.2보다 떨어지지않으면 반복 (단, 0.00001보단 커야함)"
      ],
      "metadata": {
        "id": "en8MnJWqpdGL"
      }
    },
    {
      "cell_type": "code",
      "source": [
        "model = keras.Sequential()\n",
        "model.add(Dense(10, activation='tanh', input_shape=(1,)))\n",
        "model.add(Dense(10, activation='tanh'))\n",
        "model.add(Dense(1))\n",
        "\n",
        "model.compile(optimizer=\"SGD\", loss=\"mse\", metrics=[\"mse\"])\n",
        "\n",
        "\n",
        "\n",
        "from tensorflow.keras.callbacks import ReduceLROnPlateau\n",
        "\n",
        "\n",
        "reduce_lr = ReduceLROnPlateau(monitor='val_loss', # 모니터링 대상\n",
        "                              patience=25,        # 대상 기간동안 유지\n",
        "                              factor=0.2,         # 줄이는 양                              \n",
        "                              min_learning_rate=0.00001)     # 최소 학습율\n",
        "\n",
        "# model.fit(train_x, train_y, epochs=1000, verbose=0, batch_size=20, validation_split=0.1)\n",
        "model.fit(train_x, train_y, epochs=1000, verbose=0, batch_size=20, validation_split=0.1, \n",
        "          callbacks=[reduce_lr])"
      ],
      "metadata": {
        "colab": {
          "base_uri": "https://localhost:8080/"
        },
        "id": "vHHoVmG5o_BW",
        "outputId": "ba856e34-8b61-45f1-90da-68908facef15"
      },
      "execution_count": null,
      "outputs": [
        {
          "output_type": "execute_result",
          "data": {
            "text/plain": [
              "<keras.callbacks.History at 0x7f56091b2d10>"
            ]
          },
          "metadata": {},
          "execution_count": 6
        }
      ]
    },
    {
      "cell_type": "markdown",
      "source": [
        "## 학습율 조정 - LearningRateScheduler\n",
        "학습량이 100이되면 lr 줄임"
      ],
      "metadata": {
        "id": "uLm4dMOFpkts"
      }
    },
    {
      "cell_type": "code",
      "source": [
        "model = keras.Sequential()\n",
        "model.add(Dense(10, activation='tanh', input_shape=(1,)))\n",
        "model.add(Dense(10, activation='tanh'))\n",
        "model.add(Dense(1))\n",
        "\n",
        "model.compile(optimizer=\"SGD\", loss=\"mse\", metrics=[\"mse\"])\n",
        "\n",
        "\n",
        "def scheduler(epoch, lr):\n",
        "  if epoch == 100:\n",
        "    lr = lr*0.1\n",
        "    print(\"learning rate changed at epcoh {} as {}\".format(epoch, lr))\n",
        "  return lr\n",
        "\n",
        "from tensorflow.keras.callbacks import LearningRateScheduler\n",
        "\n",
        "lr_scheduler = LearningRateScheduler(scheduler)\n",
        "\n",
        "# model.fit(train_x, train_y, epochs=1000, verbose=0, batch_size=20, validation_split=0.1)\n",
        "model.fit(train_x, train_y, epochs=1000, verbose=0, batch_size=20, validation_split=0.1, \n",
        "          callbacks=[lr_scheduler])\n"
      ],
      "metadata": {
        "colab": {
          "base_uri": "https://localhost:8080/"
        },
        "id": "6XsI9z7Co_EA",
        "outputId": "6f35f609-a0ec-4bbe-b988-b193bfc905d1"
      },
      "execution_count": null,
      "outputs": [
        {
          "output_type": "stream",
          "name": "stdout",
          "text": [
            "learning rate changed at epcoh 100 as 0.0009999999776482583\n"
          ]
        },
        {
          "output_type": "execute_result",
          "data": {
            "text/plain": [
              "<keras.callbacks.History at 0x7f56095a0290>"
            ]
          },
          "metadata": {},
          "execution_count": 7
        }
      ]
    },
    {
      "cell_type": "markdown",
      "source": [
        "## 위의 방법 모두 적용"
      ],
      "metadata": {
        "id": "kuUO49Hjqapi"
      }
    },
    {
      "cell_type": "code",
      "source": [
        "from sklearn.datasets import make_moons\n",
        "from tensorflow.keras.layers import Dense\n",
        "from tensorflow.keras.models import Sequential\n",
        "from matplotlib import pyplot\n",
        "from pandas import DataFrame\n",
        "\n",
        "x, y = make_moons(n_samples=100, noise=0.2, random_state=1)\n",
        "\n",
        "df = DataFrame(dict(x=x[:,0], y=x[:,1], label=y))\n",
        "colors = {0:'red', 1:'blue'}\n",
        "fig, ax = pyplot.subplots()\n",
        "grouped = df.groupby('label')\n",
        "for key, group in grouped:\n",
        "    group.plot(ax=ax, kind='scatter', x='x', y='y', label=key, color=colors[key])\n",
        "pyplot.show()\n",
        "\n",
        "split_index = 30\n",
        "train_x, test_x = x[:split_index], x[split_index:]\n",
        "train_y, test_y = y[:split_index], y[split_index:]"
      ],
      "metadata": {
        "colab": {
          "base_uri": "https://localhost:8080/",
          "height": 279
        },
        "id": "pXFhfQC5o_G2",
        "outputId": "eef0fc15-e16b-4839-c764-408f98096389"
      },
      "execution_count": null,
      "outputs": [
        {
          "output_type": "display_data",
          "data": {
            "image/png": "[encoded data removed]",
            "text/plain": [
              "<Figure size 432x288 with 1 Axes>"
            ]
          },
          "metadata": {
            "needs_background": "light"
          }
        }
      ]
    },
    {
      "cell_type": "code",
      "source": [
        "# copy from https://machinelearningmastery.com/how-to-stop-training-deep-neural-networks-at-the-right-time-using-early-stopping/\n",
        "\n",
        "model = Sequential()\n",
        "model.add(Dense(500, input_shape=(2,), activation='relu'))\n",
        "model.add(Dense(1, activation='sigmoid'))\n",
        "model.compile(loss='binary_crossentropy', optimizer='adam', metrics=['accuracy'])\n",
        "\n",
        "history = model.fit(train_x, train_y, validation_data=(test_x, test_y), epochs=4000, verbose=0)\n",
        "\n",
        "pyplot.plot(history.history['loss'], label='train_loss')\n",
        "pyplot.plot(history.history['val_loss'], label='test_loss')\n",
        "pyplot.legend()\n",
        "pyplot.show()"
      ],
      "metadata": {
        "colab": {
          "base_uri": "https://localhost:8080/",
          "height": 265
        },
        "id": "NZquz4pho_JI",
        "outputId": "6b98361a-fa0f-4a04-cd06-05e8b000c269"
      },
      "execution_count": null,
      "outputs": [
        {
          "output_type": "display_data",
          "data": {
            "image/png": "[encoded data removed]",
            "text/plain": [
              "<Figure size 432x288 with 1 Axes>"
            ]
          },
          "metadata": {
            "needs_background": "light"
          }
        }
      ]
    },
    {
      "cell_type": "code",
      "source": [
        "from tensorflow.keras.callbacks import ModelCheckpoint, EarlyStopping, ReduceLROnPlateau\n",
        "\n",
        "model = Sequential()\n",
        "model.add(Dense(500, input_shape=(2,), activation='relu'))\n",
        "model.add(Dense(1, activation='sigmoid'))\n",
        "model.compile(loss='binary_crossentropy', optimizer='adam', metrics=['accuracy'])\n",
        "\n",
        "\n",
        "model_check_point = ModelCheckpoint('best_model.h5', monitor='val_loss', mode='min', save_best_only=True)\n",
        "plot_losses = PlotLosses()\n",
        "early_stopping = EarlyStopping(monitor='val_loss', mode='min', verbose=1, patience=50)\n",
        "reduce_lr = ReduceLROnPlateau(monitor='val_loss', factor=0.2, patience=5, min_learning_rate=0.001)\n",
        "\n",
        "callbacks = [model_check_point, plot_losses, early_stopping, reduce_lr]\n",
        "\n",
        "\n",
        "# history = model.fit(train_x, train_y, validation_data=(test_x, test_y), epochs=4000, verbose=0)\n",
        "history = model.fit(train_x, train_y, validation_data=(test_x, test_y), epochs=4000, verbose=0, callbacks=callbacks)\n",
        "\n",
        "\n",
        "pyplot.plot(history.history['loss'], label='train_loss')\n",
        "pyplot.plot(history.history['val_loss'], label='test_loss')\n",
        "pyplot.legend()\n",
        "pyplot.show()\n"
      ],
      "metadata": {
        "colab": {
          "base_uri": "https://localhost:8080/",
          "height": 558
        },
        "id": "cLedVqzEoGVL",
        "outputId": "33af6466-74bf-4459-c48e-95ddf0174253"
      },
      "execution_count": null,
      "outputs": [
        {
          "output_type": "display_data",
          "data": {
            "image/png": "[encoded data removed]",
            "text/plain": [
              "<Figure size 432x288 with 1 Axes>"
            ]
          },
          "metadata": {
            "needs_background": "light"
          }
        },
        {
          "output_type": "stream",
          "name": "stdout",
          "text": [
            "loss =  0.1423616111278534 , val_loss =  0.3715165853500366\n",
            "Epoch 00264: early stopping\n"
          ]
        },
        {
          "output_type": "display_data",
          "data": {
            "image/png": "[encoded data removed]",
            "text/plain": [
              "<Figure size 432x288 with 1 Axes>"
            ]
          },
          "metadata": {
            "needs_background": "light"
          }
        }
      ]
    },
    {
      "cell_type": "code",
      "source": [
        ""
      ],
      "metadata": {
        "id": "RCgSslBUoGXh"
      },
      "execution_count": null,
      "outputs": []
    }
  ]
}