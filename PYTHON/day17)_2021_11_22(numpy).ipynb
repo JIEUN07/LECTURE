{
  "nbformat": 4,
  "nbformat_minor": 0,
  "metadata": {
    "colab": {
      "name": "day17) 2021-11-22(numpy).ipynb",
      "provenance": [],
      "collapsed_sections": []
    },
    "kernelspec": {
      "name": "python3",
      "display_name": "Python 3"
    },
    "language_info": {
      "name": "python"
    }
  },
  "cells": [
    {
      "cell_type": "code",
      "metadata": {
        "colab": {
          "base_uri": "https://localhost:8080/"
        },
        "id": "-wEUOT5G27s1",
        "outputId": "69c75056-7e57-4813-f7c0-bf36a4b03a0e"
      },
      "source": [
        "!pip install numpy # 앞에 !는 리눅스 언어"
      ],
      "execution_count": 3,
      "outputs": [
        {
          "output_type": "stream",
          "name": "stdout",
          "text": [
            "Requirement already satisfied: numpy in /usr/local/lib/python3.7/dist-packages (1.19.5)\n"
          ]
        }
      ]
    },
    {
      "cell_type": "code",
      "metadata": {
        "id": "JD6lHEon4z06"
      },
      "source": [
        "import numpy as np"
      ],
      "execution_count": 4,
      "outputs": []
    },
    {
      "cell_type": "code",
      "metadata": {
        "colab": {
          "base_uri": "https://localhost:8080/"
        },
        "id": "f5YEjWw5CSlS",
        "outputId": "c6d4c7d7-0797-4735-db23-2db593bf65ed"
      },
      "source": [
        "!ls"
      ],
      "execution_count": 6,
      "outputs": [
        {
          "output_type": "stream",
          "name": "stdout",
          "text": [
            "sample_data\n"
          ]
        }
      ]
    },
    {
      "cell_type": "code",
      "metadata": {
        "colab": {
          "base_uri": "https://localhost:8080/"
        },
        "id": "kag-HMGUC4wS",
        "outputId": "21512849-ef28-4859-9b6c-00ed61d82705"
      },
      "source": [
        "!pip install pandas"
      ],
      "execution_count": 8,
      "outputs": [
        {
          "output_type": "stream",
          "name": "stdout",
          "text": [
            "Requirement already satisfied: pandas in /usr/local/lib/python3.7/dist-packages (1.1.5)\n",
            "Requirement already satisfied: numpy>=1.15.4 in /usr/local/lib/python3.7/dist-packages (from pandas) (1.19.5)\n",
            "Requirement already satisfied: python-dateutil>=2.7.3 in /usr/local/lib/python3.7/dist-packages (from pandas) (2.8.2)\n",
            "Requirement already satisfied: pytz>=2017.2 in /usr/local/lib/python3.7/dist-packages (from pandas) (2018.9)\n",
            "Requirement already satisfied: six>=1.5 in /usr/local/lib/python3.7/dist-packages (from python-dateutil>=2.7.3->pandas) (1.15.0)\n"
          ]
        }
      ]
    },
    {
      "cell_type": "code",
      "metadata": {
        "colab": {
          "base_uri": "https://localhost:8080/"
        },
        "id": "iF0F5u7IDXJZ",
        "outputId": "79240232-bbaf-49d3-8026-0b1a54e02920"
      },
      "source": [
        "l = [1,2,3,4,5]\n",
        "print(l)"
      ],
      "execution_count": 9,
      "outputs": [
        {
          "output_type": "stream",
          "name": "stdout",
          "text": [
            "[1, 2, 3, 4, 5]\n"
          ]
        }
      ]
    },
    {
      "cell_type": "code",
      "metadata": {
        "colab": {
          "base_uri": "https://localhost:8080/"
        },
        "id": "e-MZUdAuD8xU",
        "outputId": "f218f676-8abd-4292-e0e0-35ba4e385562"
      },
      "source": [
        "print(len(l))"
      ],
      "execution_count": 10,
      "outputs": [
        {
          "output_type": "stream",
          "name": "stdout",
          "text": [
            "5\n"
          ]
        }
      ]
    },
    {
      "cell_type": "code",
      "metadata": {
        "colab": {
          "base_uri": "https://localhost:8080/"
        },
        "id": "XAxySZBZEAAQ",
        "outputId": "181c6eb3-f562-4089-f423-8709031c07d5"
      },
      "source": [
        "print(l[2])"
      ],
      "execution_count": 11,
      "outputs": [
        {
          "output_type": "stream",
          "name": "stdout",
          "text": [
            "3\n"
          ]
        }
      ]
    },
    {
      "cell_type": "code",
      "metadata": {
        "id": "DNwvFoumEW6w"
      },
      "source": [
        "l2 = [[0,1],\n",
        "      [2,3],\n",
        "      [4,5]]"
      ],
      "execution_count": 12,
      "outputs": []
    },
    {
      "cell_type": "code",
      "metadata": {
        "colab": {
          "base_uri": "https://localhost:8080/"
        },
        "id": "lECfqbzjEgU7",
        "outputId": "2a40c690-ec47-45fc-8889-99db2453448c"
      },
      "source": [
        "print(l2[1])"
      ],
      "execution_count": 15,
      "outputs": [
        {
          "output_type": "stream",
          "name": "stdout",
          "text": [
            "[2, 3]\n"
          ]
        }
      ]
    },
    {
      "cell_type": "code",
      "metadata": {
        "colab": {
          "base_uri": "https://localhost:8080/"
        },
        "id": "FqD-5Ga7E9uX",
        "outputId": "48d50c6c-e7ba-43ee-b0c2-ca09967708f0"
      },
      "source": [
        "print(list(l2[1])[1])\n",
        "print(l2[1][1])"
      ],
      "execution_count": 18,
      "outputs": [
        {
          "output_type": "stream",
          "name": "stdout",
          "text": [
            "3\n",
            "3\n"
          ]
        }
      ]
    },
    {
      "cell_type": "code",
      "metadata": {
        "colab": {
          "base_uri": "https://localhost:8080/"
        },
        "id": "o-CeQIwrFUOD",
        "outputId": "8bccdfa6-333a-4f61-b99f-7a2693125be9"
      },
      "source": [
        "n = np.array(l)\n",
        "print(n)"
      ],
      "execution_count": 19,
      "outputs": [
        {
          "output_type": "stream",
          "name": "stdout",
          "text": [
            "[1 2 3 4 5]\n"
          ]
        }
      ]
    },
    {
      "cell_type": "code",
      "metadata": {
        "colab": {
          "base_uri": "https://localhost:8080/"
        },
        "id": "t8YIx9RZFr4T",
        "outputId": "f82fb85e-aa20-43ee-977a-cbe76692254a"
      },
      "source": [
        "n = np. array([1,2,3,4,5])\n",
        "print(n)"
      ],
      "execution_count": 20,
      "outputs": [
        {
          "output_type": "stream",
          "name": "stdout",
          "text": [
            "[1 2 3 4 5]\n"
          ]
        }
      ]
    },
    {
      "cell_type": "code",
      "metadata": {
        "colab": {
          "base_uri": "https://localhost:8080/"
        },
        "id": "RJFb_QFnF50B",
        "outputId": "1572e384-6224-4b85-c46d-906da164d87c"
      },
      "source": [
        "print(n[2])"
      ],
      "execution_count": 21,
      "outputs": [
        {
          "output_type": "stream",
          "name": "stdout",
          "text": [
            "3\n"
          ]
        }
      ]
    },
    {
      "cell_type": "code",
      "metadata": {
        "colab": {
          "base_uri": "https://localhost:8080/"
        },
        "id": "PqXZerCvGAR7",
        "outputId": "49d6948f-6684-4d0e-c13e-421790ee8d9f"
      },
      "source": [
        "n2 = np.array(l2)\n",
        "print(n2[1])\n",
        "print(n2[1][1])"
      ],
      "execution_count": 25,
      "outputs": [
        {
          "output_type": "stream",
          "name": "stdout",
          "text": [
            "[2 3]\n",
            "3\n"
          ]
        }
      ]
    },
    {
      "cell_type": "code",
      "metadata": {
        "colab": {
          "base_uri": "https://localhost:8080/"
        },
        "id": "GbFmpuGpGIUP",
        "outputId": "5151d582-f877-474b-941b-9dc68ecba3f1"
      },
      "source": [
        "print(n2[1,1])  # print(n2[1][1])과 동일"
      ],
      "execution_count": 26,
      "outputs": [
        {
          "output_type": "stream",
          "name": "stdout",
          "text": [
            "3\n"
          ]
        }
      ]
    },
    {
      "cell_type": "code",
      "metadata": {
        "colab": {
          "base_uri": "https://localhost:8080/"
        },
        "id": "12ZtOmDDGWYd",
        "outputId": "08c263a6-9f91-4f8d-931f-cedb234cce56"
      },
      "source": [
        "a = np.arange(12)  # 12 전까지 0~11(12개)\n",
        "print(a)"
      ],
      "execution_count": 30,
      "outputs": [
        {
          "output_type": "stream",
          "name": "stdout",
          "text": [
            "[ 0  1  2  3  4  5  6  7  8  9 10 11]\n"
          ]
        }
      ]
    },
    {
      "cell_type": "code",
      "metadata": {
        "colab": {
          "base_uri": "https://localhost:8080/"
        },
        "id": "tGrQxMn7GWhJ",
        "outputId": "80c0042b-b3af-4569-ee6e-540b45b32dc6"
      },
      "source": [
        "print(a[5])"
      ],
      "execution_count": 31,
      "outputs": [
        {
          "output_type": "stream",
          "name": "stdout",
          "text": [
            "5\n"
          ]
        }
      ]
    },
    {
      "cell_type": "code",
      "metadata": {
        "colab": {
          "base_uri": "https://localhost:8080/"
        },
        "id": "0oHUU9PDGWj4",
        "outputId": "adce6e04-ec2f-4674-da81-63849e31938f"
      },
      "source": [
        "print(a[3:7]) # 인덱스 3~6까지 (인덱스7 전까지)"
      ],
      "execution_count": 33,
      "outputs": [
        {
          "output_type": "stream",
          "name": "stdout",
          "text": [
            "[3 4 5 6]\n"
          ]
        }
      ]
    },
    {
      "cell_type": "code",
      "metadata": {
        "colab": {
          "base_uri": "https://localhost:8080/"
        },
        "id": "LrVNogybHGe2",
        "outputId": "b0ae0ab3-e7ce-4a49-fb4f-f286fe53064e"
      },
      "source": [
        "print(a[:7])"
      ],
      "execution_count": 35,
      "outputs": [
        {
          "output_type": "stream",
          "name": "stdout",
          "text": [
            "[0 1 2 3 4 5 6]\n"
          ]
        }
      ]
    },
    {
      "cell_type": "code",
      "metadata": {
        "colab": {
          "base_uri": "https://localhost:8080/"
        },
        "id": "jfEO-dpeHGq7",
        "outputId": "0baa5935-9553-4c5c-a66f-11b8baff3e26"
      },
      "source": [
        "print(a[3:])"
      ],
      "execution_count": 36,
      "outputs": [
        {
          "output_type": "stream",
          "name": "stdout",
          "text": [
            "[ 3  4  5  6  7  8  9 10 11]\n"
          ]
        }
      ]
    },
    {
      "cell_type": "code",
      "metadata": {
        "colab": {
          "base_uri": "https://localhost:8080/"
        },
        "id": "aZRAqyNYHGxi",
        "outputId": "420e6a03-c390-4dcf-c23d-eb71a32c6c70"
      },
      "source": [
        "print(a[:])"
      ],
      "execution_count": 38,
      "outputs": [
        {
          "output_type": "stream",
          "name": "stdout",
          "text": [
            "[ 0  1  2  3  4  5  6  7  8  9 10 11]\n"
          ]
        }
      ]
    },
    {
      "cell_type": "code",
      "metadata": {
        "colab": {
          "base_uri": "https://localhost:8080/"
        },
        "id": "tSsofNLrIJbU",
        "outputId": "10945b65-6c5d-4031-cff6-3fa1a3049083"
      },
      "source": [
        "print(a[3:9:2])"
      ],
      "execution_count": 39,
      "outputs": [
        {
          "output_type": "stream",
          "name": "stdout",
          "text": [
            "[3 5 7]\n"
          ]
        }
      ]
    },
    {
      "cell_type": "code",
      "metadata": {
        "colab": {
          "base_uri": "https://localhost:8080/"
        },
        "id": "Lew4sQNkIJd-",
        "outputId": "c28bc5ae-5862-4b02-cb09-77e7286b72bc"
      },
      "source": [
        "print(a[3:8:3])"
      ],
      "execution_count": 41,
      "outputs": [
        {
          "output_type": "stream",
          "name": "stdout",
          "text": [
            "[3 6]\n"
          ]
        }
      ]
    },
    {
      "cell_type": "code",
      "metadata": {
        "colab": {
          "base_uri": "https://localhost:8080/"
        },
        "id": "QIPaEaW6IJgb",
        "outputId": "b80ad789-f351-4a7c-f281-04e9f3f1caf5"
      },
      "source": [
        "print(a[3:8])"
      ],
      "execution_count": 42,
      "outputs": [
        {
          "output_type": "stream",
          "name": "stdout",
          "text": [
            "[3 4 5 6 7]\n"
          ]
        }
      ]
    },
    {
      "cell_type": "code",
      "metadata": {
        "colab": {
          "base_uri": "https://localhost:8080/"
        },
        "id": "_BfAJf6NI7mI",
        "outputId": "31aae0df-6cef-4e74-9010-685ac8b727fc"
      },
      "source": [
        "print(a[7:2:-1])"
      ],
      "execution_count": 45,
      "outputs": [
        {
          "output_type": "stream",
          "name": "stdout",
          "text": [
            "[7 6 5 4 3]\n"
          ]
        }
      ]
    },
    {
      "cell_type": "code",
      "metadata": {
        "colab": {
          "base_uri": "https://localhost:8080/"
        },
        "id": "qRHP32XoJQoe",
        "outputId": "ec27ff04-7956-4a02-cbc6-1c02a133bad0"
      },
      "source": [
        "print(a[::-1])"
      ],
      "execution_count": 48,
      "outputs": [
        {
          "output_type": "stream",
          "name": "stdout",
          "text": [
            "[11 10  9  8  7  6  5  4  3  2  1  0]\n"
          ]
        }
      ]
    },
    {
      "cell_type": "code",
      "metadata": {
        "colab": {
          "base_uri": "https://localhost:8080/"
        },
        "id": "hRCme7s3Jzz3",
        "outputId": "35546de2-261c-47f4-c743-35e596297410"
      },
      "source": [
        "# [ 0  2  4  6  8 10]\n",
        "print(a[::2])\n",
        "# [11  9  7  5  3  1]\n",
        "print(a[11::-2])\n",
        "# [ 1  3  5  7  9 11]\n",
        "print(a[1::2])\n",
        "# [10  8  6  4  2  0]\n",
        "print(a[10::-2])"
      ],
      "execution_count": 57,
      "outputs": [
        {
          "output_type": "stream",
          "name": "stdout",
          "text": [
            "[ 0  2  4  6  8 10]\n",
            "[11  9  7  5  3  1]\n",
            "[ 1  3  5  7  9 11]\n",
            "[10  8  6  4  2  0]\n"
          ]
        }
      ]
    },
    {
      "cell_type": "code",
      "metadata": {
        "colab": {
          "base_uri": "https://localhost:8080/"
        },
        "id": "mqDckkV-J0FS",
        "outputId": "0e2571d8-597c-4e91-ae1a-07791d70330a"
      },
      "source": [
        "# arange로 2차원 데이터 만들기\n",
        "a = np.arange(12).reshape((3,4))\n",
        "print(a)"
      ],
      "execution_count": 58,
      "outputs": [
        {
          "output_type": "stream",
          "name": "stdout",
          "text": [
            "[[ 0  1  2  3]\n",
            " [ 4  5  6  7]\n",
            " [ 8  9 10 11]]\n"
          ]
        }
      ]
    },
    {
      "cell_type": "code",
      "metadata": {
        "colab": {
          "base_uri": "https://localhost:8080/"
        },
        "id": "wNX6BEvuKCvJ",
        "outputId": "8f4ae837-d8e4-4f27-bc38-72543813feba"
      },
      "source": [
        "print(a.shape)"
      ],
      "execution_count": 59,
      "outputs": [
        {
          "output_type": "stream",
          "name": "stdout",
          "text": [
            "(3, 4)\n"
          ]
        }
      ]
    },
    {
      "cell_type": "code",
      "metadata": {
        "colab": {
          "base_uri": "https://localhost:8080/"
        },
        "id": "Kls5cwUUMHG7",
        "outputId": "bd85a844-c00a-403f-f065-efa43d12db4e"
      },
      "source": [
        "print(type(a.shape))"
      ],
      "execution_count": 62,
      "outputs": [
        {
          "output_type": "stream",
          "name": "stdout",
          "text": [
            "<class 'tuple'>\n"
          ]
        }
      ]
    },
    {
      "cell_type": "code",
      "metadata": {
        "colab": {
          "base_uri": "https://localhost:8080/"
        },
        "id": "FCugr9XaMHJo",
        "outputId": "5e66db7e-e946-4b3a-d977-2ee73aee3140"
      },
      "source": [
        "t = (0,1,2,3)\n",
        "print(len(t))\n",
        "print(t[2])"
      ],
      "execution_count": 63,
      "outputs": [
        {
          "output_type": "stream",
          "name": "stdout",
          "text": [
            "4\n",
            "2\n"
          ]
        }
      ]
    },
    {
      "cell_type": "markdown",
      "metadata": {
        "id": "l8p3n6MDP5Bk"
      },
      "source": [
        "(5,4,3)\n",
        "(5,4)\n",
        "(5,)"
      ]
    },
    {
      "cell_type": "code",
      "metadata": {
        "colab": {
          "base_uri": "https://localhost:8080/"
        },
        "id": "x5055di7MHMC",
        "outputId": "4fd1e356-aeb7-4b66-d5be-75f225cbbba5"
      },
      "source": [
        "a = np.arange(12)\n",
        "print(a.shape)"
      ],
      "execution_count": 64,
      "outputs": [
        {
          "output_type": "stream",
          "name": "stdout",
          "text": [
            "(12,)\n"
          ]
        }
      ]
    },
    {
      "cell_type": "code",
      "metadata": {
        "colab": {
          "base_uri": "https://localhost:8080/"
        },
        "id": "VWC3DlkJMHOh",
        "outputId": "2cf2934d-51c9-4403-ce68-aacdd845d4a1"
      },
      "source": [
        "# arange, reshape로 3차원 데이터 그리기\n",
        "# (r,n,m) n*m행렬 r개\n",
        "a = np. arange(24).reshape((2,3,4))\n",
        "print(a.shape)\n",
        "print(a)"
      ],
      "execution_count": 66,
      "outputs": [
        {
          "output_type": "stream",
          "name": "stdout",
          "text": [
            "(2, 3, 4)\n",
            "[[[ 0  1  2  3]\n",
            "  [ 4  5  6  7]\n",
            "  [ 8  9 10 11]]\n",
            "\n",
            " [[12 13 14 15]\n",
            "  [16 17 18 19]\n",
            "  [20 21 22 23]]]\n"
          ]
        }
      ]
    },
    {
      "cell_type": "code",
      "metadata": {
        "colab": {
          "base_uri": "https://localhost:8080/"
        },
        "id": "p1Z6rkGEMHRL",
        "outputId": "5be42e53-427b-41d3-e4a1-708ad3d42e5a"
      },
      "source": [
        "# 3차원 데이터\n",
        "# 2*4행렬 3개 그리기\n",
        "a2 = np.arange(24).reshape(3,2,4)\n",
        "print(a2)"
      ],
      "execution_count": 68,
      "outputs": [
        {
          "output_type": "stream",
          "name": "stdout",
          "text": [
            "[[[ 0  1  2  3]\n",
            "  [ 4  5  6  7]]\n",
            "\n",
            " [[ 8  9 10 11]\n",
            "  [12 13 14 15]]\n",
            "\n",
            " [[16 17 18 19]\n",
            "  [20 21 22 23]]]\n"
          ]
        }
      ]
    },
    {
      "cell_type": "code",
      "metadata": {
        "colab": {
          "base_uri": "https://localhost:8080/"
        },
        "id": "246QHXTFMHTT",
        "outputId": "4d9875bd-3151-4d34-a5ff-f396aaf98479"
      },
      "source": [
        "a2 = np.arange(24).reshape(-1,2,4)\n",
        "print(a2.shape)\n",
        "print(a2)"
      ],
      "execution_count": 70,
      "outputs": [
        {
          "output_type": "stream",
          "name": "stdout",
          "text": [
            "(3, 2, 4)\n",
            "[[[ 0  1  2  3]\n",
            "  [ 4  5  6  7]]\n",
            "\n",
            " [[ 8  9 10 11]\n",
            "  [12 13 14 15]]\n",
            "\n",
            " [[16 17 18 19]\n",
            "  [20 21 22 23]]]\n"
          ]
        }
      ]
    },
    {
      "cell_type": "code",
      "metadata": {
        "colab": {
          "base_uri": "https://localhost:8080/"
        },
        "id": "8XLZVZGfSRMu",
        "outputId": "71e88f44-bb82-4d9a-f0d5-cd17c858328f"
      },
      "source": [
        "a = np.zeros((3,4))\n",
        "print(a)"
      ],
      "execution_count": 72,
      "outputs": [
        {
          "output_type": "stream",
          "name": "stdout",
          "text": [
            "[[0. 0. 0. 0.]\n",
            " [0. 0. 0. 0.]\n",
            " [0. 0. 0. 0.]]\n"
          ]
        }
      ]
    },
    {
      "cell_type": "code",
      "metadata": {
        "colab": {
          "base_uri": "https://localhost:8080/"
        },
        "id": "K39YwsKpSorF",
        "outputId": "0705035b-6d58-4948-ed60-ed230528ae7a"
      },
      "source": [
        "a = np.ones((3,4))\n",
        "print(a)"
      ],
      "execution_count": 73,
      "outputs": [
        {
          "output_type": "stream",
          "name": "stdout",
          "text": [
            "[[1. 1. 1. 1.]\n",
            " [1. 1. 1. 1.]\n",
            " [1. 1. 1. 1.]]\n"
          ]
        }
      ]
    },
    {
      "cell_type": "code",
      "metadata": {
        "colab": {
          "base_uri": "https://localhost:8080/"
        },
        "id": "Be2IHvsiSu8W",
        "outputId": "6fcf01ef-ff18-4971-c833-2dcaed74f526"
      },
      "source": [
        "a = np.arange(12).reshape((3,4))\n",
        "b = np.ones_like(a)\n",
        "print(b)"
      ],
      "execution_count": 76,
      "outputs": [
        {
          "output_type": "stream",
          "name": "stdout",
          "text": [
            "[[1 1 1 1]\n",
            " [1 1 1 1]\n",
            " [1 1 1 1]]\n"
          ]
        }
      ]
    },
    {
      "cell_type": "code",
      "metadata": {
        "colab": {
          "base_uri": "https://localhost:8080/"
        },
        "id": "OIB7MCivTClk",
        "outputId": "a47bb420-e622-40d0-e543-2777192856de"
      },
      "source": [
        "a = np.arange(12).reshape((3,4))\n",
        "b = np.zeros_like(a)\n",
        "print(b)"
      ],
      "execution_count": 77,
      "outputs": [
        {
          "output_type": "stream",
          "name": "stdout",
          "text": [
            "[[0 0 0 0]\n",
            " [0 0 0 0]\n",
            " [0 0 0 0]]\n"
          ]
        }
      ]
    },
    {
      "cell_type": "code",
      "metadata": {
        "colab": {
          "base_uri": "https://localhost:8080/"
        },
        "id": "VIfrc7f_TCpZ",
        "outputId": "27e7d333-ef64-406a-9926-34107442a8dd"
      },
      "source": [
        "a = np.ones((3,4))\n",
        "a = a*2\n",
        "print(a)"
      ],
      "execution_count": 81,
      "outputs": [
        {
          "output_type": "stream",
          "name": "stdout",
          "text": [
            "[[2. 2. 2. 2.]\n",
            " [2. 2. 2. 2.]\n",
            " [2. 2. 2. 2.]]\n"
          ]
        }
      ]
    },
    {
      "cell_type": "code",
      "metadata": {
        "colab": {
          "base_uri": "https://localhost:8080/"
        },
        "id": "o8S-cihOTsI8",
        "outputId": "cbcbdbc8-c7b3-4978-9bee-af987b1c0952"
      },
      "source": [
        "a = np.arange(12)\n",
        "print(a)\n",
        "\n",
        "m = np.mean(a)\n",
        "print(a)\n",
        "\n",
        "sd = np.std(a)\n",
        "print(sd)"
      ],
      "execution_count": 88,
      "outputs": [
        {
          "output_type": "stream",
          "name": "stdout",
          "text": [
            "[ 0  1  2  3  4  5  6  7  8  9 10 11]\n",
            "[ 0  1  2  3  4  5  6  7  8  9 10 11]\n",
            "3.452052529534663\n"
          ]
        }
      ]
    },
    {
      "cell_type": "code",
      "metadata": {
        "colab": {
          "base_uri": "https://localhost:8080/"
        },
        "id": "Eqwk85B-TCud",
        "outputId": "5679d3c0-01dc-4054-ca37-369955588336"
      },
      "source": [
        "a = (a-m)/ sd\n",
        "print(a)"
      ],
      "execution_count": 86,
      "outputs": [
        {
          "output_type": "stream",
          "name": "stdout",
          "text": [
            "[-1.59325501 -1.30357228 -1.01388955 -0.72420682 -0.43452409 -0.14484136\n",
            "  0.14484136  0.43452409  0.72420682  1.01388955  1.30357228  1.59325501]\n"
          ]
        }
      ]
    },
    {
      "cell_type": "code",
      "metadata": {
        "colab": {
          "base_uri": "https://localhost:8080/"
        },
        "id": "3uv-BAm-V-3U",
        "outputId": "5c58d519-7dc5-4b4d-a3ee-67f6652ef5b9"
      },
      "source": [
        "a = np.arange(4)\n",
        "print(a)"
      ],
      "execution_count": 87,
      "outputs": [
        {
          "output_type": "stream",
          "name": "stdout",
          "text": [
            "[0 1 2 3]\n"
          ]
        }
      ]
    },
    {
      "cell_type": "code",
      "metadata": {
        "colab": {
          "base_uri": "https://localhost:8080/"
        },
        "id": "MxQlCBMvWcGG",
        "outputId": "cde17933-abfe-4dc0-8210-c90f25f0c09d"
      },
      "source": [
        "m = np.min(a)\n",
        "M = np.max(a)\n",
        "\n",
        "b= (a-m) / (M-n)\n",
        "print(b)"
      ],
      "execution_count": 89,
      "outputs": [
        {
          "output_type": "stream",
          "name": "stdout",
          "text": [
            "[0.         0.18181818 0.36363636 0.54545455 0.72727273 0.90909091\n",
            " 1.09090909 1.27272727 1.45454545 1.63636364 1.81818182 2.        ]\n"
          ]
        }
      ]
    },
    {
      "cell_type": "code",
      "metadata": {
        "colab": {
          "base_uri": "https://localhost:8080/"
        },
        "id": "u7-7HgevW0MV",
        "outputId": "01db878e-2c76-4656-ef5e-4040da2158b6"
      },
      "source": [
        "a = np.arange(4) + 2\n",
        "\n",
        "print(a)"
      ],
      "execution_count": 90,
      "outputs": [
        {
          "output_type": "stream",
          "name": "stdout",
          "text": [
            "[2 3 4 5]\n"
          ]
        }
      ]
    },
    {
      "cell_type": "code",
      "metadata": {
        "colab": {
          "base_uri": "https://localhost:8080/"
        },
        "id": "vYUZ9BpQXlHR",
        "outputId": "e412d383-8a6c-4513-dedc-79fe0f9d7e7e"
      },
      "source": [
        "# eye행렬\n",
        "a = np.eye(5)\n",
        "print(a)"
      ],
      "execution_count": 92,
      "outputs": [
        {
          "output_type": "stream",
          "name": "stdout",
          "text": [
            "[[1. 0. 0. 0. 0.]\n",
            " [0. 1. 0. 0. 0.]\n",
            " [0. 0. 1. 0. 0.]\n",
            " [0. 0. 0. 1. 0.]\n",
            " [0. 0. 0. 0. 1.]]\n"
          ]
        }
      ]
    },
    {
      "cell_type": "markdown",
      "metadata": {
        "id": "49scyU8-ZVcs"
      },
      "source": [
        "# random.rand() 균일분포"
      ]
    },
    {
      "cell_type": "code",
      "metadata": {
        "colab": {
          "base_uri": "https://localhost:8080/"
        },
        "id": "JC70z9DMXlJo",
        "outputId": "d9cc9929-f45e-4f84-d2ba-cb8a5993ebb2"
      },
      "source": [
        "# 10까지의 균일한 랜덤한수 생성\n",
        "a = np.random.rand(10)\n",
        "print(a)"
      ],
      "execution_count": 95,
      "outputs": [
        {
          "output_type": "stream",
          "name": "stdout",
          "text": [
            "[0.02477326 0.57618611 0.76286967 0.5947361  0.46492547 0.92989804\n",
            " 0.99292004 0.21258817 0.45973747 0.81904988]\n"
          ]
        }
      ]
    },
    {
      "cell_type": "code",
      "metadata": {
        "colab": {
          "base_uri": "https://localhost:8080/"
        },
        "id": "sjBtF2aQXlMS",
        "outputId": "c2ad810e-669a-4041-de06-3ba125e759a8"
      },
      "source": [
        "# 1~6까지의 랜덤수 10개\n",
        "a = np.random.randint(1,7, size=10)\n",
        "print(a)"
      ],
      "execution_count": 99,
      "outputs": [
        {
          "output_type": "stream",
          "name": "stdout",
          "text": [
            "[6 3 4 4 6 1 5 1 4 3]\n"
          ]
        }
      ]
    },
    {
      "cell_type": "code",
      "metadata": {
        "colab": {
          "base_uri": "https://localhost:8080/"
        },
        "id": "l3KjwrfsYZSJ",
        "outputId": "c9d94363-168c-45a3-ca86-b5b2eb91d0db"
      },
      "source": [
        "#  0~6까지의 랜덤수 10개\n",
        "a = np.random.randint(7, size=10)\n",
        "print(a)"
      ],
      "execution_count": 98,
      "outputs": [
        {
          "output_type": "stream",
          "name": "stdout",
          "text": [
            "[3 4 0 0 3 2 0 5 6 0]\n"
          ]
        }
      ]
    },
    {
      "cell_type": "code",
      "metadata": {
        "colab": {
          "base_uri": "https://localhost:8080/",
          "height": 265
        },
        "id": "P-J2_LQjYqE6",
        "outputId": "5ead51d8-8d72-482e-c2fe-f63ae38bf4fd"
      },
      "source": [
        "a = np.random.rand(10000)\n",
        "\n",
        "import matplotlib.pyplot as plt\n",
        "\n",
        "plt.hist(a, bins=1000)\n",
        "plt.show()"
      ],
      "execution_count": 101,
      "outputs": [
        {
          "output_type": "display_data",
          "data": {
            "image/png": "[encoded data removed]",
            "text/plain": [
              "<Figure size 432x288 with 1 Axes>"
            ]
          },
          "metadata": {
            "needs_background": "light"
          }
        }
      ]
    },
    {
      "cell_type": "code",
      "metadata": {
        "colab": {
          "base_uri": "https://localhost:8080/",
          "height": 265
        },
        "id": "W3bu1vuZZS1L",
        "outputId": "dfb129db-657d-46ae-84ec-8231d07fbe73"
      },
      "source": [
        "a = np.random.randn(10000)\n",
        "\n",
        "import matplotlib.pyplot as plt\n",
        "\n",
        "plt.hist(a, bins=1000)\n",
        "plt.show()"
      ],
      "execution_count": 102,
      "outputs": [
        {
          "output_type": "display_data",
          "data": {
            "image/png": "[encoded data removed]",
            "text/plain": [
              "<Figure size 432x288 with 1 Axes>"
            ]
          },
          "metadata": {
            "needs_background": "light"
          }
        }
      ]
    },
    {
      "cell_type": "markdown",
      "metadata": {
        "id": "pcY2gsPeZwA3"
      },
      "source": [
        "# 랜덤 a의 max, min, mean, std\n"
      ]
    },
    {
      "cell_type": "code",
      "metadata": {
        "colab": {
          "base_uri": "https://localhost:8080/"
        },
        "id": "Ju2ndhevZmo-",
        "outputId": "a648adfa-aa94-4d8b-8950-f258ab204417"
      },
      "source": [
        "print(np.max(a))\n",
        "print(np.min(a))\n",
        "print(np.mean(a))\n",
        "print(np.std(a))"
      ],
      "execution_count": 104,
      "outputs": [
        {
          "output_type": "stream",
          "name": "stdout",
          "text": [
            "3.681365771610553\n",
            "-4.395293616933786\n",
            "-0.017819546224340836\n",
            "0.998325409102498\n"
          ]
        }
      ]
    },
    {
      "cell_type": "code",
      "metadata": {
        "colab": {
          "base_uri": "https://localhost:8080/"
        },
        "id": "2GpFNE6cicQU",
        "outputId": "d023b414-2e24-4cc7-a30d-a108ff50c0ef"
      },
      "source": [
        "# 홀수번째만 -1로 바꾸기\n",
        "a = np.arange(12)\n",
        "print(a)\n",
        "\n",
        "a[::2] = -1\n",
        "print(a)"
      ],
      "execution_count": 107,
      "outputs": [
        {
          "output_type": "stream",
          "name": "stdout",
          "text": [
            "[-1  1 -1  3 -1  5 -1  7 -1  9 -1 11]\n"
          ]
        }
      ]
    },
    {
      "cell_type": "code",
      "metadata": {
        "colab": {
          "base_uri": "https://localhost:8080/"
        },
        "id": "IxeOlsLHiihR",
        "outputId": "b93ac327-56b5-4db3-e324-6e26edcf7b80"
      },
      "source": [
        "# 짝수번째만 -1로 바꾸기\n",
        "a = np.arange(12)\n",
        "print(a)\n",
        "\n",
        "a[1::2] = -1\n",
        "print(a)"
      ],
      "execution_count": 110,
      "outputs": [
        {
          "output_type": "stream",
          "name": "stdout",
          "text": [
            "[ 0  1  2  3  4  5  6  7  8  9 10 11]\n",
            "[ 0 -1  2 -1  4 -1  6 -1  8 -1 10 -1]\n"
          ]
        }
      ]
    },
    {
      "cell_type": "code",
      "metadata": {
        "colab": {
          "base_uri": "https://localhost:8080/"
        },
        "id": "T8eykkeLjV7y",
        "outputId": "7c4711d7-e94c-4db1-dc84-5c3f046d520e"
      },
      "source": [
        "# 2차원데이터 슬라이싱\n",
        "a = np.arange(24).reshape(4,6)\n",
        "print(a)\n",
        "print(a[:,1:3])"
      ],
      "execution_count": 111,
      "outputs": [
        {
          "output_type": "stream",
          "name": "stdout",
          "text": [
            "[[ 0  1  2  3  4  5]\n",
            " [ 6  7  8  9 10 11]\n",
            " [12 13 14 15 16 17]\n",
            " [18 19 20 21 22 23]]\n",
            "[[ 1  2]\n",
            " [ 7  8]\n",
            " [13 14]\n",
            " [19 20]]\n"
          ]
        }
      ]
    },
    {
      "cell_type": "code",
      "metadata": {
        "colab": {
          "base_uri": "https://localhost:8080/"
        },
        "id": "xew5DvrSjV-O",
        "outputId": "c7cf4f4e-a7ef-44b6-fc35-732ed238386a"
      },
      "source": [
        "# 아래 결과 나오게하기\n",
        "'''\n",
        "[[ 7  8  9 10 11]\n",
        "[13 14 15 16 17]]\n",
        "'''\n",
        "print(a[1:3, 1:])"
      ],
      "execution_count": 115,
      "outputs": [
        {
          "output_type": "stream",
          "name": "stdout",
          "text": [
            "[[ 7  8  9 10 11]\n",
            " [13 14 15 16 17]]\n"
          ]
        }
      ]
    },
    {
      "cell_type": "code",
      "metadata": {
        "colab": {
          "base_uri": "https://localhost:8080/"
        },
        "id": "79JZBpUGkjPi",
        "outputId": "03bc341b-07b2-4b65-c980-4615ccd5ec2a"
      },
      "source": [
        "# 아래결과 나오게하기\n",
        "'''\n",
        "[[ 7  8  9 10]\n",
        " [13 14 15 16]]\n",
        "'''\n",
        "print(a[1:3, 1:5])"
      ],
      "execution_count": 116,
      "outputs": [
        {
          "output_type": "stream",
          "name": "stdout",
          "text": [
            "[[ 7  8  9 10]\n",
            " [13 14 15 16]]\n"
          ]
        }
      ]
    },
    {
      "cell_type": "code",
      "metadata": {
        "colab": {
          "base_uri": "https://localhost:8080/"
        },
        "id": "uz32oTvylDsU",
        "outputId": "7ca959de-82f6-4fe2-ee56-633003b51c28"
      },
      "source": [
        "# 아래 결과 만들어보기\n",
        "'''\n",
        "[[1. 1. 1. 1. 1.]\n",
        " [1. 0. 0. 0. 1.]\n",
        " [1. 0. 0. 0. 1.]\n",
        " [1. 1. 1. 1. 1.]]\n",
        "'''\n",
        "a = np.ones(20).reshape(4,5)\n",
        "print(a)\n",
        "\n",
        "a[1:3, 1:4] = 0\n",
        "print(a)"
      ],
      "execution_count": 123,
      "outputs": [
        {
          "output_type": "stream",
          "name": "stdout",
          "text": [
            "[[1. 1. 1. 1. 1.]\n",
            " [1. 1. 1. 1. 1.]\n",
            " [1. 1. 1. 1. 1.]\n",
            " [1. 1. 1. 1. 1.]]\n",
            "[[1. 1. 1. 1. 1.]\n",
            " [1. 0. 0. 0. 1.]\n",
            " [1. 0. 0. 0. 1.]\n",
            " [1. 1. 1. 1. 1.]]\n"
          ]
        }
      ]
    },
    {
      "cell_type": "code",
      "metadata": {
        "colab": {
          "base_uri": "https://localhost:8080/"
        },
        "id": "GpAEHF2plERu",
        "outputId": "970de28f-816a-4e39-a0cc-bd134d5edbd2"
      },
      "source": [
        "# 아래결과 나오게하기\n",
        "'''\n",
        "[[1. 1. 1. 1. 1. 1. 1.]\n",
        " [1. 0. 1. 0. 1. 0. 1.]\n",
        " [1. 0. 1. 0. 1. 0. 1.]\n",
        " [1. 1. 1. 1. 1. 1. 1.]]\n",
        "'''\n",
        "a = np.ones(28).reshape(4,7)\n",
        "a[1:3,1::2] = 0\n",
        "print(a)"
      ],
      "execution_count": 126,
      "outputs": [
        {
          "output_type": "stream",
          "name": "stdout",
          "text": [
            "[[1. 1. 1. 1. 1. 1. 1.]\n",
            " [1. 0. 1. 0. 1. 0. 1.]\n",
            " [1. 0. 1. 0. 1. 0. 1.]\n",
            " [1. 1. 1. 1. 1. 1. 1.]]\n"
          ]
        }
      ]
    },
    {
      "cell_type": "code",
      "metadata": {
        "colab": {
          "base_uri": "https://localhost:8080/",
          "height": 146
        },
        "id": "-5zjALSnlEUc",
        "outputId": "45547611-995b-468e-836f-a8ab06b7445b"
      },
      "source": [
        "a = np.arange(12).reshape(3,4)\n",
        "b = np.arange(12).reshape(3,4) *2 \n",
        "\n",
        "print(a)\n",
        "print(b)\n",
        "\n",
        "'''\n",
        "print(a+b)\n",
        "print(a-b)\n",
        "print(a*b)\n",
        "print(a/b)\n",
        "'''\n",
        "# 0/0은 NaN, 10/0은 inf로 처리됨. (경고도 뜸)"
      ],
      "execution_count": 130,
      "outputs": [
        {
          "output_type": "stream",
          "name": "stdout",
          "text": [
            "[[ 0  1  2  3]\n",
            " [ 4  5  6  7]\n",
            " [ 8  9 10 11]]\n",
            "[[ 0  2  4  6]\n",
            " [ 8 10 12 14]\n",
            " [16 18 20 22]]\n"
          ]
        },
        {
          "output_type": "execute_result",
          "data": {
            "application/vnd.google.colaboratory.intrinsic+json": {
              "type": "string"
            },
            "text/plain": [
              "'\\nprint(a+b)\\nprint(a-b)\\nprint(a*b)\\nprint(a/b)\\n'"
            ]
          },
          "metadata": {},
          "execution_count": 130
        }
      ]
    },
    {
      "cell_type": "code",
      "metadata": {
        "colab": {
          "base_uri": "https://localhost:8080/"
        },
        "id": "rxhSOyrRlEXD",
        "outputId": "62eedb0c-957d-4def-d176-240eec832f7e"
      },
      "source": [
        "a = np.arange(12).reshape(3,4)\n",
        "b = np.arange(3).reshape(3,1) *2 +1\n",
        "\n",
        "print(a)\n",
        "print(b)\n",
        "\n",
        "print(a+b)\n",
        "print(a-b)\n",
        "print(a*b)\n",
        "print(a/b)"
      ],
      "execution_count": 132,
      "outputs": [
        {
          "output_type": "stream",
          "name": "stdout",
          "text": [
            "[[ 0  1  2  3]\n",
            " [ 4  5  6  7]\n",
            " [ 8  9 10 11]]\n",
            "[[1]\n",
            " [3]\n",
            " [5]]\n",
            "[[ 1  2  3  4]\n",
            " [ 7  8  9 10]\n",
            " [13 14 15 16]]\n",
            "[[-1  0  1  2]\n",
            " [ 1  2  3  4]\n",
            " [ 3  4  5  6]]\n",
            "[[ 0  1  2  3]\n",
            " [12 15 18 21]\n",
            " [40 45 50 55]]\n",
            "[[0.         1.         2.         3.        ]\n",
            " [1.33333333 1.66666667 2.         2.33333333]\n",
            " [1.6        1.8        2.         2.2       ]]\n"
          ]
        }
      ]
    },
    {
      "cell_type": "code",
      "metadata": {
        "colab": {
          "base_uri": "https://localhost:8080/"
        },
        "id": "5jFQ26qnsju6",
        "outputId": "7a5c1a8e-a4b9-447c-c75a-a3db9ea7fdf0"
      },
      "source": [
        "a = np.arange(12).reshape(3,4)\n",
        "b = np.arange(4).reshape(1,4) *2 +1\n",
        "\n",
        "print(a)\n",
        "print(b)\n",
        "\n",
        "print(a+b)\n",
        "print(a-b)\n",
        "print(a*b)\n",
        "print(a/b)"
      ],
      "execution_count": 134,
      "outputs": [
        {
          "output_type": "stream",
          "name": "stdout",
          "text": [
            "[[ 0  1  2  3]\n",
            " [ 4  5  6  7]\n",
            " [ 8  9 10 11]]\n",
            "[[1 3 5 7]]\n",
            "[[ 1  4  7 10]\n",
            " [ 5  8 11 14]\n",
            " [ 9 12 15 18]]\n",
            "[[-1 -2 -3 -4]\n",
            " [ 3  2  1  0]\n",
            " [ 7  6  5  4]]\n",
            "[[ 0  3 10 21]\n",
            " [ 4 15 30 49]\n",
            " [ 8 27 50 77]]\n",
            "[[0.         0.33333333 0.4        0.42857143]\n",
            " [4.         1.66666667 1.2        1.        ]\n",
            " [8.         3.         2.         1.57142857]]\n"
          ]
        }
      ]
    },
    {
      "cell_type": "code",
      "metadata": {
        "colab": {
          "base_uri": "https://localhost:8080/"
        },
        "id": "mSvDchFss0UE",
        "outputId": "278bf5bc-19d5-4095-ee7e-344501937f88"
      },
      "source": [
        "a = np.arange(6).reshape(2,3)\n",
        "b = np.arange(12).reshape(3,4)\n",
        "\n",
        "print(a)\n",
        "print(b)\n",
        "\n",
        "print(np.matmul(a,b))"
      ],
      "execution_count": 136,
      "outputs": [
        {
          "output_type": "stream",
          "name": "stdout",
          "text": [
            "[[0 1 2]\n",
            " [3 4 5]]\n",
            "[[ 0  1  2  3]\n",
            " [ 4  5  6  7]\n",
            " [ 8  9 10 11]]\n",
            "[[20 23 26 29]\n",
            " [56 68 80 92]]\n"
          ]
        }
      ]
    },
    {
      "cell_type": "code",
      "metadata": {
        "colab": {
          "base_uri": "https://localhost:8080/"
        },
        "id": "M-t12BoHs0be",
        "outputId": "9781bc74-8015-4ce5-fb15-519000a566fa"
      },
      "source": [
        "a = np.arange(12).reshape(3,4)\n",
        "print(a)\n",
        "print(a%2)\n",
        "print(a%2==0) # 짝수면 T"
      ],
      "execution_count": 139,
      "outputs": [
        {
          "output_type": "stream",
          "name": "stdout",
          "text": [
            "[[ 0  1  2  3]\n",
            " [ 4  5  6  7]\n",
            " [ 8  9 10 11]]\n",
            "[[0 1 0 1]\n",
            " [0 1 0 1]\n",
            " [0 1 0 1]]\n",
            "[[ True False  True False]\n",
            " [ True False  True False]\n",
            " [ True False  True False]]\n"
          ]
        }
      ]
    },
    {
      "cell_type": "code",
      "metadata": {
        "colab": {
          "base_uri": "https://localhost:8080/"
        },
        "id": "zkg0MqYru4mu",
        "outputId": "c48ff39f-ef11-445e-c21e-fe14f2fc32ac"
      },
      "source": [
        "# 짝수인 값들만 0으로 치환하라\n",
        "a[a%2==0] = 0\n",
        "print(a)"
      ],
      "execution_count": 140,
      "outputs": [
        {
          "output_type": "stream",
          "name": "stdout",
          "text": [
            "[[ 0  1  0  3]\n",
            " [ 0  5  0  7]\n",
            " [ 0  9  0 11]]\n"
          ]
        }
      ]
    },
    {
      "cell_type": "code",
      "metadata": {
        "colab": {
          "base_uri": "https://localhost:8080/"
        },
        "id": "8MidKliXs0Yr",
        "outputId": "d04b95ac-f344-459f-92f3-2e3554334ca4"
      },
      "source": [
        "# 계산식에서 for문은 속도가 느림\n",
        "# 계산식대신 numpy쓰기\n",
        "for i in range(10):\n",
        "  print(i, i%4)\n"
      ],
      "execution_count": 137,
      "outputs": [
        {
          "output_type": "stream",
          "name": "stdout",
          "text": [
            "0 0\n",
            "1 1\n",
            "2 2\n",
            "3 3\n",
            "4 0\n",
            "5 1\n",
            "6 2\n",
            "7 3\n",
            "8 0\n",
            "9 1\n"
          ]
        }
      ]
    },
    {
      "cell_type": "code",
      "metadata": {
        "colab": {
          "base_uri": "https://localhost:8080/"
        },
        "id": "nykA55OFs0d7",
        "outputId": "ef31add2-efc8-486e-f67a-0848ad270de0"
      },
      "source": [
        "# 홀수값만 찾아 합을 구하라\n",
        "a = np.arange(12).reshape(3,4)\n",
        "print(a)\n",
        "\n",
        "a[a%2==0]=0\n",
        "print(np.sum(a))"
      ],
      "execution_count": 146,
      "outputs": [
        {
          "output_type": "stream",
          "name": "stdout",
          "text": [
            "[[ 0  1  2  3]\n",
            " [ 4  5  6  7]\n",
            " [ 8  9 10 11]]\n",
            "36\n"
          ]
        }
      ]
    },
    {
      "cell_type": "code",
      "metadata": {
        "colab": {
          "base_uri": "https://localhost:8080/"
        },
        "id": "SxJsbeuwwLpD",
        "outputId": "fc6f8024-0630-4016-dfa4-1b5880b6fa70"
      },
      "source": [
        "# 짝수값만 찾아 합을 구하라\n",
        "a = np.arange(12).reshape(3,4)\n",
        "print(a)\n",
        "\n",
        "a[a%2==1]=0 # a[a%2!=0]=0\n",
        "print(np.sum(a))\n"
      ],
      "execution_count": 145,
      "outputs": [
        {
          "output_type": "stream",
          "name": "stdout",
          "text": [
            "[[ 0  1  2  3]\n",
            " [ 4  5  6  7]\n",
            " [ 8  9 10 11]]\n",
            "30\n"
          ]
        }
      ]
    },
    {
      "cell_type": "code",
      "metadata": {
        "colab": {
          "base_uri": "https://localhost:8080/"
        },
        "id": "uGW03OOkxZGs",
        "outputId": "450d15af-ba9b-479c-b739-dfe4c3d9a589"
      },
      "source": [
        "# 짝수값만 찾아 합을 구하라 (mask 사용)\n",
        "a = np.arange(12).reshape(3,4)\n",
        "print(a)\n",
        "mask = [a%2==0] # T/F 로 반환\n",
        "print(mask)\n",
        "print(a*mask)\n",
        "print(np.sum(a*mask))\n",
        "\n",
        "# 같은결과\n",
        "a = np.arange(12).reshape(3,4)\n",
        "print(np.sum(a*(a%2==0)))\n",
        "\n",
        "# 같은결과 (함수 정의)\n",
        "a = np.arange(12).reshape(3,4)\n",
        "def is_even_mask(a):\n",
        "  return a%2==0\n",
        "mask = is_even_mask(a)\n",
        "print(np.sum(a*mask))"
      ],
      "execution_count": 151,
      "outputs": [
        {
          "output_type": "stream",
          "name": "stdout",
          "text": [
            "[[ 0  1  2  3]\n",
            " [ 4  5  6  7]\n",
            " [ 8  9 10 11]]\n",
            "[array([[ True, False,  True, False],\n",
            "       [ True, False,  True, False],\n",
            "       [ True, False,  True, False]])]\n",
            "[[[ 0  0  2  0]\n",
            "  [ 4  0  6  0]\n",
            "  [ 8  0 10  0]]]\n",
            "30\n"
          ]
        }
      ]
    },
    {
      "cell_type": "code",
      "metadata": {
        "colab": {
          "base_uri": "https://localhost:8080/"
        },
        "id": "5fbbqZxgwo6V",
        "outputId": "b44a5281-fdd8-48b5-81fc-f286edf71f94"
      },
      "source": [
        "# 10보다 작은 값들의 합\n",
        "a = np.arange(12).reshape(3,4)\n",
        "print(a)\n",
        "\n",
        "a[a>=10] = 0\n",
        "print(np.sum(a))\n",
        "\n",
        "# 같은결과 (mask 사용)\n",
        "a = np.arange(12).reshape(3,4)\n",
        "print(a)\n",
        "mask = [a<10]\n",
        "print(mask)\n",
        "print(a*mask)\n",
        "print(np.sum(a*mask))"
      ],
      "execution_count": 160,
      "outputs": [
        {
          "output_type": "stream",
          "name": "stdout",
          "text": [
            "[[ 0  1  2  3]\n",
            " [ 4  5  6  7]\n",
            " [ 8  9 10 11]]\n",
            "45\n",
            "[[ 0  1  2  3]\n",
            " [ 4  5  6  7]\n",
            " [ 8  9 10 11]]\n",
            "[array([[ True,  True,  True,  True],\n",
            "       [ True,  True,  True,  True],\n",
            "       [ True,  True, False, False]])]\n",
            "[[[0 1 2 3]\n",
            "  [4 5 6 7]\n",
            "  [8 9 0 0]]]\n",
            "45\n"
          ]
        }
      ]
    },
    {
      "cell_type": "code",
      "metadata": {
        "colab": {
          "base_uri": "https://localhost:8080/"
        },
        "id": "M5OcDB7jxCk0",
        "outputId": "c8871199-2e95-4a0d-ed0c-e370f728f9b0"
      },
      "source": [
        "# 5보다 큰 짝수들의 합\n",
        "a = np.arange(12).reshape(3,4)\n",
        "print(a)\n",
        "\n",
        "mask = [a%2==0]\n",
        "a1 = a*mask\n",
        "a1[a1<=5] = 0\n",
        "print(np.sum(a1))\n",
        "\n",
        "# 같은결과 (mask 사용)\n",
        "a = np.arange(12).reshape(3,4)\n",
        "print(a)\n",
        "mask = (a>5) & (a%2==0)\n",
        "print(mask)\n",
        "print(a*mask)\n",
        "print(np.sum(a*mask))"
      ],
      "execution_count": 161,
      "outputs": [
        {
          "output_type": "stream",
          "name": "stdout",
          "text": [
            "[[ 0  1  2  3]\n",
            " [ 4  5  6  7]\n",
            " [ 8  9 10 11]]\n",
            "24\n",
            "[[ 0  1  2  3]\n",
            " [ 4  5  6  7]\n",
            " [ 8  9 10 11]]\n",
            "[[False False False False]\n",
            " [False False  True False]\n",
            " [ True False  True False]]\n",
            "[[ 0  0  0  0]\n",
            " [ 0  0  6  0]\n",
            " [ 8  0 10  0]]\n",
            "24\n"
          ]
        }
      ]
    },
    {
      "cell_type": "code",
      "metadata": {
        "colab": {
          "base_uri": "https://localhost:8080/"
        },
        "id": "YgMq9K4qyt9S",
        "outputId": "1df158d9-3db4-46cf-aa26-a29661bf5581"
      },
      "source": [
        "# 홀수값을 찾아 합을 구하라\n",
        "a = np.arange(12).reshape(3,4)\n",
        "print(a)\n",
        "mask = [a%2==1]\n",
        "print(mask)\n",
        "print(a*mask)\n",
        "print(np.sum(a*mask))"
      ],
      "execution_count": 155,
      "outputs": [
        {
          "output_type": "stream",
          "name": "stdout",
          "text": [
            "[[ 0  1  2  3]\n",
            " [ 4  5  6  7]\n",
            " [ 8  9 10 11]]\n",
            "[array([[False,  True, False,  True],\n",
            "       [False,  True, False,  True],\n",
            "       [False,  True, False,  True]])]\n",
            "[[[ 0  1  0  3]\n",
            "  [ 0  5  0  7]\n",
            "  [ 0  9  0 11]]]\n",
            "36\n"
          ]
        }
      ]
    },
    {
      "cell_type": "code",
      "metadata": {
        "colab": {
          "base_uri": "https://localhost:8080/"
        },
        "id": "IM-bDM90zVVu",
        "outputId": "3b62fca6-3002-4630-9ec8-897e43d5566c"
      },
      "source": [
        "a = np.arange(12).reshape(3,4)\n",
        "def is_even_mask(a):\n",
        "  return a%2==0\n",
        "mask = is_even_mask(a)\n",
        "print(np.sum(a*mask))"
      ],
      "execution_count": 162,
      "outputs": [
        {
          "output_type": "stream",
          "name": "stdout",
          "text": [
            "30\n"
          ]
        }
      ]
    },
    {
      "cell_type": "code",
      "metadata": {
        "id": "LFPkVW1j0ki_"
      },
      "source": [
        ""
      ],
      "execution_count": null,
      "outputs": []
    }
  ]
}