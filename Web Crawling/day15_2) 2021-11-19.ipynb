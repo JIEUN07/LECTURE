{
 "cells": [
  {
   "cell_type": "markdown",
   "id": "4211a82c",
   "metadata": {},
   "source": [
    "# Selenium을 이용한 동적 컨텐츠 수집\n",
    "원격으로 웹페이지 소스를 활용하기 위한 라이브러리\n",
    "동적컨텐츠 수집에 주로 사용\n",
    "작업환경 : 크롬 + 셀레니움용 웹드라이버 설치\n",
    "주의사항 : 크롬 버전과 웹드라이버 버전이 일치\n",
    "    \n",
    "설치 과정\n",
    "\n",
    "1) 크롬 웹브라우저 버전 확인 \n",
    " 1시방향 옵션 버튼 클릭 후 [도움말]-[Chrome 정보] 확인 \n",
    " 버전은? 예)94.0\n",
    "2) 크롬 웹브라우저에 맞는 드라이버 파일 다운로드 \n",
    " https://chromedriver.chromium.org/downloads\n",
    "\n",
    " 윈도우용인 경우 :   chromedriver_win32.zip\n",
    "\n",
    " 쥬피터노트북 파일이 있는 폴더에 압축해제한다. \n",
    " chromedriver.exe 파일이 있는지 확인 \n",
    "3) 셀레니움 설치 \n",
    " pip list 로 selenium 이 있는지 확인"
   ]
  },
  {
   "cell_type": "code",
   "execution_count": 5,
   "id": "89235567",
   "metadata": {},
   "outputs": [
    {
     "name": "stdout",
     "output_type": "stream",
     "text": [
      "Collecting selenium\n",
      "  Downloading selenium-4.0.0-py3-none-any.whl (954 kB)\n",
      "Collecting trio-websocket~=0.9\n",
      "  Downloading trio_websocket-0.9.2-py3-none-any.whl (16 kB)\n",
      "Collecting trio~=0.17\n",
      "  Downloading trio-0.19.0-py3-none-any.whl (356 kB)\n",
      "Requirement already satisfied: urllib3[secure]~=1.26 in c:\\programdata\\anaconda3\\lib\\site-packages (from selenium) (1.26.4)\n",
      "Requirement already satisfied: idna in c:\\programdata\\anaconda3\\lib\\site-packages (from trio~=0.17->selenium) (2.10)\n",
      "Requirement already satisfied: async-generator>=1.9 in c:\\programdata\\anaconda3\\lib\\site-packages (from trio~=0.17->selenium) (1.10)\n",
      "Requirement already satisfied: attrs>=19.2.0 in c:\\programdata\\anaconda3\\lib\\site-packages (from trio~=0.17->selenium) (20.3.0)\n",
      "Requirement already satisfied: cffi>=1.14 in c:\\programdata\\anaconda3\\lib\\site-packages (from trio~=0.17->selenium) (1.14.5)\n",
      "Requirement already satisfied: sortedcontainers in c:\\programdata\\anaconda3\\lib\\site-packages (from trio~=0.17->selenium) (2.3.0)\n",
      "Collecting outcome\n",
      "  Downloading outcome-1.1.0-py2.py3-none-any.whl (9.7 kB)\n",
      "Requirement already satisfied: sniffio in c:\\programdata\\anaconda3\\lib\\site-packages (from trio~=0.17->selenium) (1.2.0)\n",
      "Requirement already satisfied: pycparser in c:\\programdata\\anaconda3\\lib\\site-packages (from cffi>=1.14->trio~=0.17->selenium) (2.20)\n",
      "Collecting wsproto>=0.14\n",
      "  Downloading wsproto-1.0.0-py3-none-any.whl (24 kB)\n",
      "Requirement already satisfied: pyOpenSSL>=0.14 in c:\\programdata\\anaconda3\\lib\\site-packages (from urllib3[secure]~=1.26->selenium) (20.0.1)\n",
      "Requirement already satisfied: certifi in c:\\programdata\\anaconda3\\lib\\site-packages (from urllib3[secure]~=1.26->selenium) (2020.12.5)\n",
      "Requirement already satisfied: cryptography>=1.3.4 in c:\\programdata\\anaconda3\\lib\\site-packages (from urllib3[secure]~=1.26->selenium) (3.4.7)\n",
      "Requirement already satisfied: six>=1.5.2 in c:\\programdata\\anaconda3\\lib\\site-packages (from pyOpenSSL>=0.14->urllib3[secure]~=1.26->selenium) (1.15.0)\n",
      "Collecting h11<1,>=0.9.0\n",
      "  Downloading h11-0.12.0-py3-none-any.whl (54 kB)\n",
      "Installing collected packages: outcome, h11, wsproto, trio, trio-websocket, selenium\n",
      "Successfully installed h11-0.12.0 outcome-1.1.0 selenium-4.0.0 trio-0.19.0 trio-websocket-0.9.2 wsproto-1.0.0\n",
      "Note: you may need to restart the kernel to use updated packages.\n"
     ]
    }
   ],
   "source": [
    "pip install selenium"
   ]
  },
  {
   "cell_type": "code",
   "execution_count": 1,
   "id": "7788c37a",
   "metadata": {},
   "outputs": [],
   "source": [
    "from bs4 import BeautifulSoup\n",
    "import os\n",
    "import requests\n",
    "import pandas as pd\n",
    "import numpy as np\n",
    "from selenium import webdriver\n",
    "import time"
   ]
  },
  {
   "cell_type": "markdown",
   "id": "e55c7020",
   "metadata": {},
   "source": [
    "# 구글 검색엔진에서 검색어 결과 저장하기"
   ]
  },
  {
   "cell_type": "code",
   "execution_count": 2,
   "id": "05287f2c",
   "metadata": {},
   "outputs": [
    {
     "name": "stderr",
     "output_type": "stream",
     "text": [
      "<ipython-input-2-3a7f1eae1f60>:5: DeprecationWarning: executable_path has been deprecated, please pass in a Service object\n",
      "  driver = webdriver.Chrome('chromedriver.exe')\n"
     ]
    }
   ],
   "source": [
    "# 1) 셀레니움 드라이버 객체 생성 \n",
    "\n",
    "# 같은 폴더 안에 chromedriver.exe 있어야함\n",
    "# 윈도우용\n",
    "driver = webdriver.Chrome('chromedriver.exe')"
   ]
  },
  {
   "cell_type": "code",
   "execution_count": 3,
   "id": "ee0e69d7",
   "metadata": {},
   "outputs": [],
   "source": [
    "# 2) 지연시간 지정 후에 웹브라우저 주소로 이동 \n",
    "time.sleep(3)\n",
    "\n",
    "url = 'http://www.google.com'\n",
    "driver.get(url)\n",
    "\n",
    "# 결과적으로 크롬 웹브라우저가 자동으로 실행"
   ]
  },
  {
   "cell_type": "code",
   "execution_count": 4,
   "id": "c3050d06",
   "metadata": {},
   "outputs": [
    {
     "name": "stderr",
     "output_type": "stream",
     "text": [
      "<ipython-input-4-59ca489e9f4f>:11: DeprecationWarning: find_element_by_* commands are deprecated. Please use find_element() instead\n",
      "  driver.find_element_by_name('q').send_keys('파이썬')\n",
      "<ipython-input-4-59ca489e9f4f>:13: DeprecationWarning: find_element_by_* commands are deprecated. Please use find_element() instead\n",
      "  driver.find_element_by_name('q').submit()\n"
     ]
    }
   ],
   "source": [
    "# 4) 구글 검색창에 검색어를 입력하고 결과 페이지를 출력하기 \n",
    "# find_element_by_name(name속성값)\n",
    "# 동작은?\n",
    "# send_keys(키워드) : 텍스트필드에 값을 입력하는 이벤트 \n",
    "# click() => 선택자 요소 클릭 \n",
    "# submit() => 전송이벤트 \n",
    "\n",
    "time.sleep(2)\n",
    "\n",
    "# q 라는 이름을 가진 요소를 찾아서 글자 입력\n",
    "driver.find_element_by_name('q').send_keys('파이썬')\n",
    "# 정보전송\n",
    "driver.find_element_by_name('q').submit()"
   ]
  },
  {
   "cell_type": "markdown",
   "id": "6f2c8056",
   "metadata": {},
   "source": [
    "# 선택자로 찾기 \n",
    "- find_elements_by_css_selector(선택자) => 리스트로 반환\n",
    "- find_element_by_css_selector(선택자) => 첫번째 선택자에 해당하는 것만 반환\n",
    "- .text => 문자열 반환\n",
    "- .get_attribute(속성) => 속성에 해당하는 값이 반환\n"
   ]
  },
  {
   "cell_type": "code",
   "execution_count": 5,
   "id": "4aad7c8c",
   "metadata": {},
   "outputs": [
    {
     "ename": "SyntaxError",
     "evalue": "invalid syntax (<ipython-input-5-bbb181cca959>, line 1)",
     "output_type": "error",
     "traceback": [
      "\u001b[1;36m  File \u001b[1;32m\"<ipython-input-5-bbb181cca959>\"\u001b[1;36m, line \u001b[1;32m1\u001b[0m\n\u001b[1;33m    <div class=\"yuRUbf\">\u001b[0m\n\u001b[1;37m    ^\u001b[0m\n\u001b[1;31mSyntaxError\u001b[0m\u001b[1;31m:\u001b[0m invalid syntax\n"
     ]
    }
   ],
   "source": [
    "<div class=\"yuRUbf\">\n",
    "<a href=\"https://ko.wikipedia.org/wiki/%ED%8C%8C%EC%9D%B4%EC%8D%AC\" data-ved=\"2ahUKEwiY-q7Hq6P0AhU_wosBHRPCAccQFnoECAMQAQ\" ping=\"/url?sa=t&amp;source=web&amp;rct=j&amp;url=https://ko.wikipedia.org/wiki/%25ED%258C%258C%25EC%259D%25B4%25EC%258D%25AC&amp;ved=2ahUKEwiY-q7Hq6P0AhU_wosBHRPCAccQFnoECAMQAQ\"><br><h3 class=\"LC20lb MBeuO DKV0Md\">파이썬 - 위키백과, 우리 모두의 백과사전</h3><div class=\"TbwUpd NJjxre\"><cite class=\"iUh30 qLRx3b tjvcx\" role=\"text\">https://ko.wikipedia.org<span class=\"dyjrff qzEoUe\" role=\"text\"> › wiki › 파이썬</span></cite></div></a><div class=\"B6fmyf\"><div class=\"TbwUpd\"><cite class=\"iUh30 qLRx3b tjvcx\" role=\"text\">https://ko.wikipedia.org<span class=\"dyjrff qzEoUe\" role=\"text\"> › wiki › 파이썬</span></cite></div><div class=\"eFM0qc\"><span><div jscontroller=\"yGWMub\" class=\"action-menu\"><a href=\"#\" class=\"GHDvEf\" aria-label=\"검색결과 옵션\" aria-expanded=\"false\" aria-haspopup=\"true\" role=\"button\" jsaction=\"PZcoEd;keydown:wU6FVd;keypress:uWmNaf\" data-ved=\"2ahUKEwiY-q7Hq6P0AhU_wosBHRPCAccQ7B16BAgDEAQ\"><span class=\"gTl8xb\"></span></a><ol class=\"action-menu-panel wHYlTd zsYMMe\" role=\"menu\" tabindex=\"-1\" jsaction=\"keydown:Xiq7wd;mouseover:pKPowd;mouseout:O9bKS\" data-ved=\"2ahUKEwiY-q7Hq6P0AhU_wosBHRPCAccQqR96BAgDEAU\"><li class=\"action-menu-item OhScic zsYMMe\" role=\"menuitem\"><a class=\"fl\" href=\"https://webcache.googleusercontent.com/search?q=cache:OL25IRr7kSMJ:https://ko.wikipedia.org/wiki/%25ED%258C%258C%25EC%259D%25B4%25EC%258D%25AC+&amp;cd=1&amp;hl=ko&amp;ct=clnk&amp;gl=kr\" ping=\"/url?sa=t&amp;source=web&amp;rct=j&amp;url=https://webcache.googleusercontent.com/search%3Fq%3Dcache:OL25IRr7kSMJ:https://ko.wikipedia.org/wiki/%2525ED%25258C%25258C%2525EC%25259D%2525B4%2525EC%25258D%2525AC%2B%26cd%3D1%26hl%3Dko%26ct%3Dclnk%26gl%3Dkr&amp;ved=2ahUKEwiY-q7Hq6P0AhU_wosBHRPCAccQIHoECAMQBg\"><span>저장된&nbsp;페이지</span></a></li><li class=\"action-menu-item OhScic zsYMMe\" role=\"menuitem\"><a class=\"fl\" href=\"/search?q=related:https://ko.wikipedia.org/wiki/%25ED%258C%258C%25EC%259D%25B4%25EC%258D%25AC+%ED%8C%8C%EC%9D%B4%EC%8D%AC&amp;sa=X&amp;ved=2ahUKEwiY-q7Hq6P0AhU_wosBHRPCAccQH3oECAMQBw\"><span>유사한 페이지</span></a></li></ol></div></span></div></div></div>"
   ]
  },
  {
   "cell_type": "code",
   "execution_count": 6,
   "id": "941ee5eb",
   "metadata": {},
   "outputs": [
    {
     "name": "stdout",
     "output_type": "stream",
     "text": [
      "[<selenium.webdriver.remote.webelement.WebElement (session=\"470a1287d6ae5178776d015a4d9c1cce\", element=\"216ce397-5d68-4044-91bf-09498d6109a9\")>, <selenium.webdriver.remote.webelement.WebElement (session=\"470a1287d6ae5178776d015a4d9c1cce\", element=\"4eea7f11-2b93-43b7-8519-8fafa125b1f7\")>, <selenium.webdriver.remote.webelement.WebElement (session=\"470a1287d6ae5178776d015a4d9c1cce\", element=\"6c22675b-1386-4af0-bbee-9f1d585824b9\")>, <selenium.webdriver.remote.webelement.WebElement (session=\"470a1287d6ae5178776d015a4d9c1cce\", element=\"b0813290-2884-4d73-9cb8-4d9e78ff0453\")>, <selenium.webdriver.remote.webelement.WebElement (session=\"470a1287d6ae5178776d015a4d9c1cce\", element=\"fb859aaf-36c2-439f-bace-3b5174b0a46e\")>, <selenium.webdriver.remote.webelement.WebElement (session=\"470a1287d6ae5178776d015a4d9c1cce\", element=\"20a1de2e-fed2-4b52-8ad8-4bcc86168f8d\")>, <selenium.webdriver.remote.webelement.WebElement (session=\"470a1287d6ae5178776d015a4d9c1cce\", element=\"14bab4a1-37aa-40e3-8507-b7f4790aa645\")>, <selenium.webdriver.remote.webelement.WebElement (session=\"470a1287d6ae5178776d015a4d9c1cce\", element=\"e2c8eab7-3d8f-432b-9515-e47299f21742\")>]\n",
      "8\n"
     ]
    },
    {
     "name": "stderr",
     "output_type": "stream",
     "text": [
      "<ipython-input-6-8e86e51c1618>:3: DeprecationWarning: find_elements_by_* commands are deprecated. Please use find_elements() instead\n",
      "  temp_list = driver.find_elements_by_css_selector(target)\n"
     ]
    }
   ],
   "source": [
    "# 검색된 요소 블록을 선택자로 지정 => 리스트\n",
    "target = 'div.tF2Cxc > div.yuRUbf'\n",
    "temp_list = driver.find_elements_by_css_selector(target)\n",
    "print(temp_list)\n",
    "print(len(temp_list))"
   ]
  },
  {
   "cell_type": "code",
   "execution_count": 7,
   "id": "783f8358",
   "metadata": {
    "scrolled": true
   },
   "outputs": [
    {
     "name": "stdout",
     "output_type": "stream",
     "text": [
      "파이썬 - 위키백과, 우리 모두의 백과사전\n",
      "https://ko.wikipedia.org/wiki/%ED%8C%8C%EC%9D%B4%EC%8D%AC\n"
     ]
    },
    {
     "name": "stderr",
     "output_type": "stream",
     "text": [
      "C:\\ProgramData\\Anaconda3\\lib\\site-packages\\selenium\\webdriver\\remote\\webelement.py:483: UserWarning: find_element_by_* commands are deprecated. Please use find_element() instead\n",
      "  warnings.warn(\"find_element_by_* commands are deprecated. Please use find_element() instead\")\n"
     ]
    }
   ],
   "source": [
    "# 첫번째 요소에 대한 텍스와 하이퍼링크 속성값 확인 \n",
    "print(temp_list[0].find_element_by_css_selector('h3').text)\n",
    "print(temp_list[0].find_element_by_css_selector('a').get_attribute('href'))"
   ]
  },
  {
   "cell_type": "code",
   "execution_count": 8,
   "id": "ae7cb015",
   "metadata": {},
   "outputs": [],
   "source": [
    "# 2차원 리스트 생성\n",
    "temp_list2 = []\n",
    "for row in temp_list:\n",
    "    # 다시 a 요소의 href 속성값을 찾아서 저장 \n",
    "    # find_element_by_css_selector(태그).get_attribute(속성)\n",
    "    title = row.find_element_by_css_selector('h3').text    \n",
    "    link = row.find_element_by_css_selector('a').get_attribute('href')\n",
    "    temp_list2.append([title, link])\n",
    "   "
   ]
  },
  {
   "cell_type": "code",
   "execution_count": 9,
   "id": "57de2bef",
   "metadata": {},
   "outputs": [
    {
     "data": {
      "text/html": [
       "<div>\n",
       "<style scoped>\n",
       "    .dataframe tbody tr th:only-of-type {\n",
       "        vertical-align: middle;\n",
       "    }\n",
       "\n",
       "    .dataframe tbody tr th {\n",
       "        vertical-align: top;\n",
       "    }\n",
       "\n",
       "    .dataframe thead th {\n",
       "        text-align: right;\n",
       "    }\n",
       "</style>\n",
       "<table border=\"1\" class=\"dataframe\">\n",
       "  <thead>\n",
       "    <tr style=\"text-align: right;\">\n",
       "      <th></th>\n",
       "      <th>title</th>\n",
       "      <th>link</th>\n",
       "    </tr>\n",
       "  </thead>\n",
       "  <tbody>\n",
       "    <tr>\n",
       "      <th>0</th>\n",
       "      <td>파이썬 - 위키백과, 우리 모두의 백과사전</td>\n",
       "      <td>https://ko.wikipedia.org/wiki/%ED%8C%8C%EC%9D%...</td>\n",
       "    </tr>\n",
       "    <tr>\n",
       "      <th>1</th>\n",
       "      <td>Python - 나무위키:대문</td>\n",
       "      <td>https://namu.wiki/w/Python</td>\n",
       "    </tr>\n",
       "    <tr>\n",
       "      <th>2</th>\n",
       "      <td>Welcome to Python.org</td>\n",
       "      <td>https://www.python.org/</td>\n",
       "    </tr>\n",
       "    <tr>\n",
       "      <th>3</th>\n",
       "      <td>파이썬 자습서 — Python 3.10.0 문서</td>\n",
       "      <td>https://docs.python.org/ko/3/tutorial/index.html</td>\n",
       "    </tr>\n",
       "    <tr>\n",
       "      <th>4</th>\n",
       "      <td>1 파이썬 시작하기 - 왕초보를 위한 Python - 위키독스</td>\n",
       "      <td>https://wikidocs.net/43</td>\n",
       "    </tr>\n",
       "    <tr>\n",
       "      <th>5</th>\n",
       "      <td>01-4 파이썬 설치하기</td>\n",
       "      <td>https://wikidocs.net/8</td>\n",
       "    </tr>\n",
       "    <tr>\n",
       "      <th>6</th>\n",
       "      <td>누구나 코딩, 파이썬 시작하기(기초편) - 경기도 평생학습 포털 ...</td>\n",
       "      <td>https://www.gseek.kr/member/rl/courseInfo/onCo...</td>\n",
       "    </tr>\n",
       "    <tr>\n",
       "      <th>7</th>\n",
       "      <td>파이썬(Python) - 코딩의 시작, TCP School</td>\n",
       "      <td>http://tcpschool.com/python/intro</td>\n",
       "    </tr>\n",
       "  </tbody>\n",
       "</table>\n",
       "</div>"
      ],
      "text/plain": [
       "                                     title  \\\n",
       "0                  파이썬 - 위키백과, 우리 모두의 백과사전   \n",
       "1                         Python - 나무위키:대문   \n",
       "2                    Welcome to Python.org   \n",
       "3               파이썬 자습서 — Python 3.10.0 문서   \n",
       "4       1 파이썬 시작하기 - 왕초보를 위한 Python - 위키독스   \n",
       "5                            01-4 파이썬 설치하기   \n",
       "6  누구나 코딩, 파이썬 시작하기(기초편) - 경기도 평생학습 포털 ...   \n",
       "7         파이썬(Python) - 코딩의 시작, TCP School   \n",
       "\n",
       "                                                link  \n",
       "0  https://ko.wikipedia.org/wiki/%ED%8C%8C%EC%9D%...  \n",
       "1                         https://namu.wiki/w/Python  \n",
       "2                            https://www.python.org/  \n",
       "3   https://docs.python.org/ko/3/tutorial/index.html  \n",
       "4                            https://wikidocs.net/43  \n",
       "5                             https://wikidocs.net/8  \n",
       "6  https://www.gseek.kr/member/rl/courseInfo/onCo...  \n",
       "7                  http://tcpschool.com/python/intro  "
      ]
     },
     "execution_count": 9,
     "metadata": {},
     "output_type": "execute_result"
    }
   ],
   "source": [
    "# 데이터 프레임 저장\n",
    "df = pd.DataFrame(temp_list2, columns=['title', 'link'])\n",
    "df   "
   ]
  },
  {
   "cell_type": "code",
   "execution_count": 10,
   "id": "24968b67",
   "metadata": {},
   "outputs": [],
   "source": [
    "# 지연시간 후에 웹브라우저 닫기\n",
    "time.sleep(2)\n",
    "driver.close()"
   ]
  },
  {
   "cell_type": "code",
   "execution_count": 12,
   "id": "98f8b143",
   "metadata": {},
   "outputs": [
    {
     "name": "stderr",
     "output_type": "stream",
     "text": [
      "<ipython-input-12-9e52bccc8933>:5: DeprecationWarning: executable_path has been deprecated, please pass in a Service object\n",
      "  driver = webdriver.Chrome('chromedriver.exe')\n"
     ]
    },
    {
     "name": "stdout",
     "output_type": "stream",
     "text": [
      "검색할 단어 입력 => 메디치\n"
     ]
    },
    {
     "name": "stderr",
     "output_type": "stream",
     "text": [
      "<ipython-input-12-9e52bccc8933>:15: DeprecationWarning: find_element_by_* commands are deprecated. Please use find_element() instead\n",
      "  driver.find_element_by_name('q').send_keys(searchword)\n",
      "<ipython-input-12-9e52bccc8933>:16: DeprecationWarning: find_element_by_* commands are deprecated. Please use find_element() instead\n",
      "  driver.find_element_by_name('q').submit()\n"
     ]
    },
    {
     "name": "stdout",
     "output_type": "stream",
     "text": [
      "Page = 1\n"
     ]
    },
    {
     "name": "stderr",
     "output_type": "stream",
     "text": [
      "<ipython-input-12-9e52bccc8933>:30: DeprecationWarning: find_elements_by_* commands are deprecated. Please use find_elements() instead\n",
      "  temp_list = driver.find_elements_by_css_selector(target)\n",
      "<ipython-input-12-9e52bccc8933>:38: DeprecationWarning: find_elements_by_* commands are deprecated. Please use find_elements() instead\n",
      "  if driver.find_elements_by_css_selector('#pnnext'):\n",
      "<ipython-input-12-9e52bccc8933>:40: DeprecationWarning: find_element_by_* commands are deprecated. Please use find_element() instead\n",
      "  driver.find_element_by_css_selector('#pnnext').click()\n"
     ]
    },
    {
     "name": "stdout",
     "output_type": "stream",
     "text": [
      "Page = 2\n",
      "Page = 3\n",
      "Page = 4\n",
      "Page = 5\n",
      "Page = 6\n",
      "Page = 7\n",
      "Page = 8\n",
      "Page = 9\n",
      "Page = 10\n",
      "Page = 11\n",
      "Page = 12\n",
      "Page = 13\n",
      "Page = 14\n",
      "Page = 15\n"
     ]
    },
    {
     "ename": "NoSuchWindowException",
     "evalue": "Message: no such window: target window already closed\nfrom unknown error: web view not found\n  (Session info: chrome=96.0.4664.45)\nStacktrace:\nBacktrace:\n\tOrdinal0 [0x007B0C43+2493507]\n\tOrdinal0 [0x0074A4B1+2073777]\n\tOrdinal0 [0x00652608+1058312]\n\tOrdinal0 [0x0063C026+966694]\n\tOrdinal0 [0x00697DF9+1342969]\n\tOrdinal0 [0x006A4792+1394578]\n\tOrdinal0 [0x0069580B+1333259]\n\tOrdinal0 [0x00672314+1188628]\n\tOrdinal0 [0x0067316F+1192303]\n\tGetHandleVerifier [0x00937BF6+1548950]\n\tGetHandleVerifier [0x009E461C+2256060]\n\tGetHandleVerifier [0x0083C13B+518107]\n\tGetHandleVerifier [0x0083B1E0+514176]\n\tOrdinal0 [0x0074F53D+2094397]\n\tOrdinal0 [0x00753418+2110488]\n\tOrdinal0 [0x00753552+2110802]\n\tOrdinal0 [0x0075CE81+2150017]\n\tBaseThreadInitThunk [0x767AFA29+25]\n\tRtlGetAppContainerNamedObjectPath [0x77987A9E+286]\n\tRtlGetAppContainerNamedObjectPath [0x77987A6E+238]\n",
     "output_type": "error",
     "traceback": [
      "\u001b[1;31m---------------------------------------------------------------------------\u001b[0m",
      "\u001b[1;31mNoSuchWindowException\u001b[0m                     Traceback (most recent call last)",
      "\u001b[1;32m<ipython-input-12-9e52bccc8933>\u001b[0m in \u001b[0;36m<module>\u001b[1;34m\u001b[0m\n\u001b[0;32m     28\u001b[0m \u001b[1;33m\u001b[0m\u001b[0m\n\u001b[0;32m     29\u001b[0m     \u001b[1;31m# 추출 블록 요소 리스트 저장 => 셀레니움객체 요소\u001b[0m\u001b[1;33m\u001b[0m\u001b[1;33m\u001b[0m\u001b[1;33m\u001b[0m\u001b[0m\n\u001b[1;32m---> 30\u001b[1;33m     \u001b[0mtemp_list\u001b[0m \u001b[1;33m=\u001b[0m \u001b[0mdriver\u001b[0m\u001b[1;33m.\u001b[0m\u001b[0mfind_elements_by_css_selector\u001b[0m\u001b[1;33m(\u001b[0m\u001b[0mtarget\u001b[0m\u001b[1;33m)\u001b[0m\u001b[1;33m\u001b[0m\u001b[1;33m\u001b[0m\u001b[0m\n\u001b[0m\u001b[0;32m     31\u001b[0m \u001b[1;33m\u001b[0m\u001b[0m\n\u001b[0;32m     32\u001b[0m     \u001b[1;32mfor\u001b[0m \u001b[0mrow\u001b[0m \u001b[1;32min\u001b[0m \u001b[0mtemp_list\u001b[0m\u001b[1;33m:\u001b[0m\u001b[1;33m\u001b[0m\u001b[1;33m\u001b[0m\u001b[0m\n",
      "\u001b[1;32mC:\\ProgramData\\Anaconda3\\lib\\site-packages\\selenium\\webdriver\\remote\\webdriver.py\u001b[0m in \u001b[0;36mfind_elements_by_css_selector\u001b[1;34m(self, css_selector)\u001b[0m\n\u001b[0;32m    823\u001b[0m             \u001b[0mstacklevel\u001b[0m\u001b[1;33m=\u001b[0m\u001b[1;36m2\u001b[0m\u001b[1;33m,\u001b[0m\u001b[1;33m\u001b[0m\u001b[1;33m\u001b[0m\u001b[0m\n\u001b[0;32m    824\u001b[0m         )\n\u001b[1;32m--> 825\u001b[1;33m         \u001b[1;32mreturn\u001b[0m \u001b[0mself\u001b[0m\u001b[1;33m.\u001b[0m\u001b[0mfind_elements\u001b[0m\u001b[1;33m(\u001b[0m\u001b[0mby\u001b[0m\u001b[1;33m=\u001b[0m\u001b[0mBy\u001b[0m\u001b[1;33m.\u001b[0m\u001b[0mCSS_SELECTOR\u001b[0m\u001b[1;33m,\u001b[0m \u001b[0mvalue\u001b[0m\u001b[1;33m=\u001b[0m\u001b[0mcss_selector\u001b[0m\u001b[1;33m)\u001b[0m\u001b[1;33m\u001b[0m\u001b[1;33m\u001b[0m\u001b[0m\n\u001b[0m\u001b[0;32m    826\u001b[0m \u001b[1;33m\u001b[0m\u001b[0m\n\u001b[0;32m    827\u001b[0m     \u001b[1;32mdef\u001b[0m \u001b[0mpin_script\u001b[0m\u001b[1;33m(\u001b[0m\u001b[0mself\u001b[0m\u001b[1;33m,\u001b[0m \u001b[0mscript\u001b[0m\u001b[1;33m,\u001b[0m \u001b[0mscript_key\u001b[0m\u001b[1;33m=\u001b[0m\u001b[1;32mNone\u001b[0m\u001b[1;33m)\u001b[0m \u001b[1;33m->\u001b[0m \u001b[0mScriptKey\u001b[0m\u001b[1;33m:\u001b[0m\u001b[1;33m\u001b[0m\u001b[1;33m\u001b[0m\u001b[0m\n",
      "\u001b[1;32mC:\\ProgramData\\Anaconda3\\lib\\site-packages\\selenium\\webdriver\\remote\\webdriver.py\u001b[0m in \u001b[0;36mfind_elements\u001b[1;34m(self, by, value)\u001b[0m\n\u001b[0;32m   1271\u001b[0m         \u001b[1;31m# Return empty list if driver returns null\u001b[0m\u001b[1;33m\u001b[0m\u001b[1;33m\u001b[0m\u001b[1;33m\u001b[0m\u001b[0m\n\u001b[0;32m   1272\u001b[0m         \u001b[1;31m# See https://github.com/SeleniumHQ/selenium/issues/4555\u001b[0m\u001b[1;33m\u001b[0m\u001b[1;33m\u001b[0m\u001b[1;33m\u001b[0m\u001b[0m\n\u001b[1;32m-> 1273\u001b[1;33m         return self.execute(Command.FIND_ELEMENTS, {\n\u001b[0m\u001b[0;32m   1274\u001b[0m             \u001b[1;34m'using'\u001b[0m\u001b[1;33m:\u001b[0m \u001b[0mby\u001b[0m\u001b[1;33m,\u001b[0m\u001b[1;33m\u001b[0m\u001b[1;33m\u001b[0m\u001b[0m\n\u001b[0;32m   1275\u001b[0m             'value': value})['value'] or []\n",
      "\u001b[1;32mC:\\ProgramData\\Anaconda3\\lib\\site-packages\\selenium\\webdriver\\remote\\webdriver.py\u001b[0m in \u001b[0;36mexecute\u001b[1;34m(self, driver_command, params)\u001b[0m\n\u001b[0;32m    416\u001b[0m         \u001b[0mresponse\u001b[0m \u001b[1;33m=\u001b[0m \u001b[0mself\u001b[0m\u001b[1;33m.\u001b[0m\u001b[0mcommand_executor\u001b[0m\u001b[1;33m.\u001b[0m\u001b[0mexecute\u001b[0m\u001b[1;33m(\u001b[0m\u001b[0mdriver_command\u001b[0m\u001b[1;33m,\u001b[0m \u001b[0mparams\u001b[0m\u001b[1;33m)\u001b[0m\u001b[1;33m\u001b[0m\u001b[1;33m\u001b[0m\u001b[0m\n\u001b[0;32m    417\u001b[0m         \u001b[1;32mif\u001b[0m \u001b[0mresponse\u001b[0m\u001b[1;33m:\u001b[0m\u001b[1;33m\u001b[0m\u001b[1;33m\u001b[0m\u001b[0m\n\u001b[1;32m--> 418\u001b[1;33m             \u001b[0mself\u001b[0m\u001b[1;33m.\u001b[0m\u001b[0merror_handler\u001b[0m\u001b[1;33m.\u001b[0m\u001b[0mcheck_response\u001b[0m\u001b[1;33m(\u001b[0m\u001b[0mresponse\u001b[0m\u001b[1;33m)\u001b[0m\u001b[1;33m\u001b[0m\u001b[1;33m\u001b[0m\u001b[0m\n\u001b[0m\u001b[0;32m    419\u001b[0m             response['value'] = self._unwrap_value(\n\u001b[0;32m    420\u001b[0m                 response.get('value', None))\n",
      "\u001b[1;32mC:\\ProgramData\\Anaconda3\\lib\\site-packages\\selenium\\webdriver\\remote\\errorhandler.py\u001b[0m in \u001b[0;36mcheck_response\u001b[1;34m(self, response)\u001b[0m\n\u001b[0;32m    241\u001b[0m                 \u001b[0malert_text\u001b[0m \u001b[1;33m=\u001b[0m \u001b[0mvalue\u001b[0m\u001b[1;33m[\u001b[0m\u001b[1;34m'alert'\u001b[0m\u001b[1;33m]\u001b[0m\u001b[1;33m.\u001b[0m\u001b[0mget\u001b[0m\u001b[1;33m(\u001b[0m\u001b[1;34m'text'\u001b[0m\u001b[1;33m)\u001b[0m\u001b[1;33m\u001b[0m\u001b[1;33m\u001b[0m\u001b[0m\n\u001b[0;32m    242\u001b[0m             \u001b[1;32mraise\u001b[0m \u001b[0mexception_class\u001b[0m\u001b[1;33m(\u001b[0m\u001b[0mmessage\u001b[0m\u001b[1;33m,\u001b[0m \u001b[0mscreen\u001b[0m\u001b[1;33m,\u001b[0m \u001b[0mstacktrace\u001b[0m\u001b[1;33m,\u001b[0m \u001b[0malert_text\u001b[0m\u001b[1;33m)\u001b[0m  \u001b[1;31m# type: ignore[call-arg]  # mypy is not smart enough here\u001b[0m\u001b[1;33m\u001b[0m\u001b[1;33m\u001b[0m\u001b[0m\n\u001b[1;32m--> 243\u001b[1;33m         \u001b[1;32mraise\u001b[0m \u001b[0mexception_class\u001b[0m\u001b[1;33m(\u001b[0m\u001b[0mmessage\u001b[0m\u001b[1;33m,\u001b[0m \u001b[0mscreen\u001b[0m\u001b[1;33m,\u001b[0m \u001b[0mstacktrace\u001b[0m\u001b[1;33m)\u001b[0m\u001b[1;33m\u001b[0m\u001b[1;33m\u001b[0m\u001b[0m\n\u001b[0m\u001b[0;32m    244\u001b[0m \u001b[1;33m\u001b[0m\u001b[0m\n\u001b[0;32m    245\u001b[0m     \u001b[1;32mdef\u001b[0m \u001b[0m_value_or_default\u001b[0m\u001b[1;33m(\u001b[0m\u001b[0mself\u001b[0m\u001b[1;33m,\u001b[0m \u001b[0mobj\u001b[0m\u001b[1;33m:\u001b[0m \u001b[0mMapping\u001b[0m\u001b[1;33m[\u001b[0m\u001b[0m_KT\u001b[0m\u001b[1;33m,\u001b[0m \u001b[0m_VT\u001b[0m\u001b[1;33m]\u001b[0m\u001b[1;33m,\u001b[0m \u001b[0mkey\u001b[0m\u001b[1;33m:\u001b[0m \u001b[0m_KT\u001b[0m\u001b[1;33m,\u001b[0m \u001b[0mdefault\u001b[0m\u001b[1;33m:\u001b[0m \u001b[0m_VT\u001b[0m\u001b[1;33m)\u001b[0m \u001b[1;33m->\u001b[0m \u001b[0m_VT\u001b[0m\u001b[1;33m:\u001b[0m\u001b[1;33m\u001b[0m\u001b[1;33m\u001b[0m\u001b[0m\n",
      "\u001b[1;31mNoSuchWindowException\u001b[0m: Message: no such window: target window already closed\nfrom unknown error: web view not found\n  (Session info: chrome=96.0.4664.45)\nStacktrace:\nBacktrace:\n\tOrdinal0 [0x007B0C43+2493507]\n\tOrdinal0 [0x0074A4B1+2073777]\n\tOrdinal0 [0x00652608+1058312]\n\tOrdinal0 [0x0063C026+966694]\n\tOrdinal0 [0x00697DF9+1342969]\n\tOrdinal0 [0x006A4792+1394578]\n\tOrdinal0 [0x0069580B+1333259]\n\tOrdinal0 [0x00672314+1188628]\n\tOrdinal0 [0x0067316F+1192303]\n\tGetHandleVerifier [0x00937BF6+1548950]\n\tGetHandleVerifier [0x009E461C+2256060]\n\tGetHandleVerifier [0x0083C13B+518107]\n\tGetHandleVerifier [0x0083B1E0+514176]\n\tOrdinal0 [0x0074F53D+2094397]\n\tOrdinal0 [0x00753418+2110488]\n\tOrdinal0 [0x00753552+2110802]\n\tOrdinal0 [0x0075CE81+2150017]\n\tBaseThreadInitThunk [0x767AFA29+25]\n\tRtlGetAppContainerNamedObjectPath [0x77987A9E+286]\n\tRtlGetAppContainerNamedObjectPath [0x77987A6E+238]\n"
     ]
    }
   ],
   "source": [
    "# 1)\n",
    "# 크롬 웹브라우저 실행 => 구글 사이트로 이동 \n",
    "# 검색어 입력 => 검색어 결과 페이지 표시 \n",
    "\n",
    "driver = webdriver.Chrome('chromedriver.exe')\n",
    "time.sleep(3)\n",
    "\n",
    "url = 'http://www.google.com'\n",
    "driver.get(url)\n",
    "\n",
    "time.sleep(3)\n",
    "\n",
    "# (2) 검색키워드를 입력받아서 전달 \n",
    "searchword = input('검색할 단어 입력 => ').strip()\n",
    "driver.find_element_by_name('q').send_keys(searchword)\n",
    "driver.find_element_by_name('q').submit()\n",
    "\n",
    "# 3) 검색 결과 저장 \n",
    "search_list = []\n",
    "target = 'div.tF2Cxc > div.yuRUbf'\n",
    "\n",
    "# 페이지 번호 \n",
    "page = 0 \n",
    "\n",
    "while True:\n",
    "    # 현재 페이지 출력 \n",
    "    print(f'Page = {page+1}')\n",
    "    \n",
    "    # 추출 블록 요소 리스트 저장 => 셀레니움객체 요소\n",
    "    temp_list = driver.find_elements_by_css_selector(target)\n",
    "    \n",
    "    for row in temp_list:\n",
    "        title = row.find_element_by_css_selector('h3').text\n",
    "        url = row.find_element_by_css_selector('a').get_attribute('href')\n",
    "        search_list.append([title, url])\n",
    "    \n",
    "    # 다음버튼 의 css 선택자 => #pnnext\n",
    "    if driver.find_elements_by_css_selector('#pnnext'):\n",
    "        # 다음 버튼 요소 선택 후 클릭 => 다음 페이지로 이동 \n",
    "        driver.find_element_by_css_selector('#pnnext').click()\n",
    "        time.sleep(3)\n",
    "        page += 1\n",
    "    # 탈출 조건 \n",
    "    else:\n",
    "        break\n",
    "\n",
    " \n",
    "\n",
    "\n",
    "# 마지막 => 지연시간 후에 웹브라우저 닫기 \n",
    "time.sleep(3)\n",
    "driver.close()"
   ]
  },
  {
   "cell_type": "code",
   "execution_count": 13,
   "id": "930cf044",
   "metadata": {},
   "outputs": [
    {
     "data": {
      "text/html": [
       "<div>\n",
       "<style scoped>\n",
       "    .dataframe tbody tr th:only-of-type {\n",
       "        vertical-align: middle;\n",
       "    }\n",
       "\n",
       "    .dataframe tbody tr th {\n",
       "        vertical-align: top;\n",
       "    }\n",
       "\n",
       "    .dataframe thead th {\n",
       "        text-align: right;\n",
       "    }\n",
       "</style>\n",
       "<table border=\"1\" class=\"dataframe\">\n",
       "  <thead>\n",
       "    <tr style=\"text-align: right;\">\n",
       "      <th></th>\n",
       "      <th>title</th>\n",
       "      <th>link</th>\n",
       "    </tr>\n",
       "  </thead>\n",
       "  <tbody>\n",
       "    <tr>\n",
       "      <th>0</th>\n",
       "      <td>메디치가 - 위키백과, 우리 모두의 백과사전</td>\n",
       "      <td>https://ko.wikipedia.org/wiki/%EB%A9%94%EB%94%...</td>\n",
       "    </tr>\n",
       "    <tr>\n",
       "      <th>1</th>\n",
       "      <td>코시모 데 메디치 - 위키백과, 우리 모두의 백과사전</td>\n",
       "      <td>https://ko.wikipedia.org/wiki/%EC%BD%94%EC%8B%...</td>\n",
       "    </tr>\n",
       "    <tr>\n",
       "      <th>2</th>\n",
       "      <td>메디치 가문 - 나무위키:대문</td>\n",
       "      <td>https://namu.wiki/w/%EB%A9%94%EB%94%94%EC%B9%9...</td>\n",
       "    </tr>\n",
       "    <tr>\n",
       "      <th>3</th>\n",
       "      <td>메디치(드라마) - 나무위키:대문</td>\n",
       "      <td>https://namu.wiki/w/%EB%A9%94%EB%94%94%EC%B9%9...</td>\n",
       "    </tr>\n",
       "    <tr>\n",
       "      <th>4</th>\n",
       "      <td>메디치교육센터</td>\n",
       "      <td>https://www.medici-edu.co.kr:5000/</td>\n",
       "    </tr>\n",
       "    <tr>\n",
       "      <th>...</th>\n",
       "      <td>...</td>\n",
       "      <td>...</td>\n",
       "    </tr>\n",
       "    <tr>\n",
       "      <th>132</th>\n",
       "      <td>Inaugurato a Cattinara il nuovo “centro di add...</td>\n",
       "      <td>https://www.triesteprima.it/cronaca/inaugurato...</td>\n",
       "    </tr>\n",
       "    <tr>\n",
       "      <th>133</th>\n",
       "      <td>Dal primo dicembre partono le terze dosi a dom...</td>\n",
       "      <td>https://www.baritoday.it/attualita/bari-terza-...</td>\n",
       "    </tr>\n",
       "    <tr>\n",
       "      <th>134</th>\n",
       "      <td>Sessantacinque medici pronti a trasferirsi in ...</td>\n",
       "      <td>https://www.linkoristano.it/2021/11/19/sessant...</td>\n",
       "    </tr>\n",
       "    <tr>\n",
       "      <th>135</th>\n",
       "      <td>Medici, l'appello di Misericordia: riaprire su...</td>\n",
       "      <td>https://www.ilrestodelcarlino.it/fermo/cronaca...</td>\n",
       "    </tr>\n",
       "    <tr>\n",
       "      <th>136</th>\n",
       "      <td>Giro di certificati medici falsi: c'è anche ch...</td>\n",
       "      <td>https://www.forlitoday.it/cronaca/giro-di-cert...</td>\n",
       "    </tr>\n",
       "  </tbody>\n",
       "</table>\n",
       "<p>137 rows × 2 columns</p>\n",
       "</div>"
      ],
      "text/plain": [
       "                                                 title  \\\n",
       "0                             메디치가 - 위키백과, 우리 모두의 백과사전   \n",
       "1                        코시모 데 메디치 - 위키백과, 우리 모두의 백과사전   \n",
       "2                                     메디치 가문 - 나무위키:대문   \n",
       "3                                   메디치(드라마) - 나무위키:대문   \n",
       "4                                              메디치교육센터   \n",
       "..                                                 ...   \n",
       "132  Inaugurato a Cattinara il nuovo “centro di add...   \n",
       "133  Dal primo dicembre partono le terze dosi a dom...   \n",
       "134  Sessantacinque medici pronti a trasferirsi in ...   \n",
       "135  Medici, l'appello di Misericordia: riaprire su...   \n",
       "136  Giro di certificati medici falsi: c'è anche ch...   \n",
       "\n",
       "                                                  link  \n",
       "0    https://ko.wikipedia.org/wiki/%EB%A9%94%EB%94%...  \n",
       "1    https://ko.wikipedia.org/wiki/%EC%BD%94%EC%8B%...  \n",
       "2    https://namu.wiki/w/%EB%A9%94%EB%94%94%EC%B9%9...  \n",
       "3    https://namu.wiki/w/%EB%A9%94%EB%94%94%EC%B9%9...  \n",
       "4                   https://www.medici-edu.co.kr:5000/  \n",
       "..                                                 ...  \n",
       "132  https://www.triesteprima.it/cronaca/inaugurato...  \n",
       "133  https://www.baritoday.it/attualita/bari-terza-...  \n",
       "134  https://www.linkoristano.it/2021/11/19/sessant...  \n",
       "135  https://www.ilrestodelcarlino.it/fermo/cronaca...  \n",
       "136  https://www.forlitoday.it/cronaca/giro-di-cert...  \n",
       "\n",
       "[137 rows x 2 columns]"
      ]
     },
     "execution_count": 13,
     "metadata": {},
     "output_type": "execute_result"
    }
   ],
   "source": [
    " # 데이타프레임으로 저장 \n",
    "df = pd.DataFrame(search_list, columns=['title', 'link'])\n",
    "df "
   ]
  },
  {
   "cell_type": "code",
   "execution_count": null,
   "id": "de5d33fe",
   "metadata": {},
   "outputs": [],
   "source": []
  },
  {
   "cell_type": "code",
   "execution_count": null,
   "id": "181f5444",
   "metadata": {},
   "outputs": [],
   "source": []
  },
  {
   "cell_type": "code",
   "execution_count": null,
   "id": "189ab0f4",
   "metadata": {},
   "outputs": [],
   "source": []
  }
 ],
 "metadata": {
  "kernelspec": {
   "display_name": "Python 3",
   "language": "python",
   "name": "python3"
  },
  "language_info": {
   "codemirror_mode": {
    "name": "ipython",
    "version": 3
   },
   "file_extension": ".py",
   "mimetype": "text/x-python",
   "name": "python",
   "nbconvert_exporter": "python",
   "pygments_lexer": "ipython3",
   "version": "3.8.8"
  }
 },
 "nbformat": 4,
 "nbformat_minor": 5
}
